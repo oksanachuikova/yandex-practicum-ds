{
 "cells": [
  {
   "cell_type": "markdown",
   "metadata": {},
   "source": [
    "# Определение стоимости автомобилей"
   ]
  },
  {
   "cell_type": "markdown",
   "metadata": {},
   "source": [
    "Сервис по продаже автомобилей с пробегом «Не бит, не крашен» разрабатывает приложение для привлечения новых клиентов. В нём можно быстро узнать рыночную стоимость своего автомобиля. В вашем распоряжении исторические данные: технические характеристики, комплектации и цены автомобилей. Вам нужно построить модель для определения стоимости. \n",
    "\n",
    "Заказчику важны:\n",
    "\n",
    "- качество предсказания;\n",
    "- скорость предсказания;\n",
    "- время обучения.\n",
    "\n",
    "\n",
    "**Описание данных**\n",
    "\n",
    "Данные находятся в файле `/datasets/autos.csv`.\n",
    "\n",
    "**Признаки**\n",
    "* *DateCrawled* — дата скачивания анкеты из базы\n",
    "* *VehicleType* — тип автомобильного кузова\n",
    "* *RegistrationYear* — год регистрации автомобиля\n",
    "* *Gearbox* — тип коробки передач\n",
    "* *Power* — мощность (л. с.)\n",
    "* *Model* — модель автомобиля\n",
    "* *Kilometer* — пробег (км)\n",
    "* *RegistrationMonth* — месяц регистрации автомобиля\n",
    "* *FuelType* — тип топлива\n",
    "* *Brand* — марка автомобиля\n",
    "* *Repaired* — была машина в ремонте или нет\n",
    "* *DateCreated* — дата создания анкеты\n",
    "* *NumberOfPictures* — количество фотографий автомобиля\n",
    "* *PostalCode* — почтовый индекс владельца анкеты (пользователя)\n",
    "* *LastSeen* — дата последней активности пользователя\n",
    "\n",
    "**Целевой признак**\n",
    "\n",
    "*Price* — цена (евро)\n",
    "\n",
    "**Этапы работы:**\n",
    "\n",
    "1. Загрузить данные.\n",
    "2. Изучить данные. Заполнить пропущенные значения и обработать аномалии в столбцах. Если среди признаков имеются неинформативные, удалить их.\n",
    "3. Подготовить выборки для обучения моделей.\n",
    "4. Обучить разные модели, одна из которых — LightGBM, как минимум одна — не бустинг. Для каждой модели попробовать разные гиперпараметры.\n",
    "5. Проанализировать время обучения, время предсказания и качество моделей.\n",
    "6. Опираясь на критерии заказчика, выбрать лучшую модель, проверить её качество на тестовой выборке.\n",
    "\n"
   ]
  },
  {
   "cell_type": "markdown",
   "metadata": {},
   "source": [
    "## Подготовка данных"
   ]
  },
  {
   "cell_type": "markdown",
   "metadata": {},
   "source": [
    "### Загрузка и изучение данных"
   ]
  },
  {
   "cell_type": "markdown",
   "metadata": {},
   "source": [
    "Импортируем библиотеки и модули, которые потребуются для выполнения проекта"
   ]
  },
  {
   "cell_type": "code",
   "execution_count": 1,
   "metadata": {},
   "outputs": [],
   "source": [
    "import time\n",
    "import warnings\n",
    "warnings.filterwarnings('ignore')\n",
    "\n",
    "import pandas as pd\n",
    "import numpy as np\n",
    "import matplotlib.pyplot as plt\n",
    "\n",
    "from sklearn.metrics import mean_squared_error\n",
    "from sklearn.preprocessing import StandardScaler, OrdinalEncoder, OneHotEncoder\n",
    "from sklearn.model_selection import train_test_split, cross_val_score\n",
    "from sklearn.linear_model import LinearRegression\n",
    "from sklearn import preprocessing\n",
    "from sklearn.model_selection import RandomizedSearchCV\n",
    "from sklearn.tree import DecisionTreeRegressor\n",
    "from sklearn.ensemble import RandomForestRegressor\n",
    "from sklearn.model_selection import GridSearchCV\n",
    "\n",
    "from catboost import CatBoostRegressor\n",
    "from lightgbm import LGBMRegressor"
   ]
  },
  {
   "cell_type": "markdown",
   "metadata": {},
   "source": [
    "Загрузим и изучим данные"
   ]
  },
  {
   "cell_type": "code",
   "execution_count": 2,
   "metadata": {},
   "outputs": [],
   "source": [
    "try:\n",
    "    data = pd.read_csv('datasets/autos.csv')\n",
    "except:\n",
    "    data = pd.read_csv('https://code.s3.yandex.net/datasets/autos.csv')"
   ]
  },
  {
   "cell_type": "markdown",
   "metadata": {},
   "source": [
    "Для знакомства с данными выведем первые 5 строк датасета, информацию о данных и описательную статистику для количественных данных."
   ]
  },
  {
   "cell_type": "code",
   "execution_count": 3,
   "metadata": {},
   "outputs": [
    {
     "data": {
      "text/html": [
       "<div>\n",
       "<style scoped>\n",
       "    .dataframe tbody tr th:only-of-type {\n",
       "        vertical-align: middle;\n",
       "    }\n",
       "\n",
       "    .dataframe tbody tr th {\n",
       "        vertical-align: top;\n",
       "    }\n",
       "\n",
       "    .dataframe thead th {\n",
       "        text-align: right;\n",
       "    }\n",
       "</style>\n",
       "<table border=\"1\" class=\"dataframe\">\n",
       "  <thead>\n",
       "    <tr style=\"text-align: right;\">\n",
       "      <th></th>\n",
       "      <th>DateCrawled</th>\n",
       "      <th>Price</th>\n",
       "      <th>VehicleType</th>\n",
       "      <th>RegistrationYear</th>\n",
       "      <th>Gearbox</th>\n",
       "      <th>Power</th>\n",
       "      <th>Model</th>\n",
       "      <th>Kilometer</th>\n",
       "      <th>RegistrationMonth</th>\n",
       "      <th>FuelType</th>\n",
       "      <th>Brand</th>\n",
       "      <th>Repaired</th>\n",
       "      <th>DateCreated</th>\n",
       "      <th>NumberOfPictures</th>\n",
       "      <th>PostalCode</th>\n",
       "      <th>LastSeen</th>\n",
       "    </tr>\n",
       "  </thead>\n",
       "  <tbody>\n",
       "    <tr>\n",
       "      <th>0</th>\n",
       "      <td>2016-03-24 11:52:17</td>\n",
       "      <td>480</td>\n",
       "      <td>NaN</td>\n",
       "      <td>1993</td>\n",
       "      <td>manual</td>\n",
       "      <td>0</td>\n",
       "      <td>golf</td>\n",
       "      <td>150000</td>\n",
       "      <td>0</td>\n",
       "      <td>petrol</td>\n",
       "      <td>volkswagen</td>\n",
       "      <td>NaN</td>\n",
       "      <td>2016-03-24 00:00:00</td>\n",
       "      <td>0</td>\n",
       "      <td>70435</td>\n",
       "      <td>2016-04-07 03:16:57</td>\n",
       "    </tr>\n",
       "    <tr>\n",
       "      <th>1</th>\n",
       "      <td>2016-03-24 10:58:45</td>\n",
       "      <td>18300</td>\n",
       "      <td>coupe</td>\n",
       "      <td>2011</td>\n",
       "      <td>manual</td>\n",
       "      <td>190</td>\n",
       "      <td>NaN</td>\n",
       "      <td>125000</td>\n",
       "      <td>5</td>\n",
       "      <td>gasoline</td>\n",
       "      <td>audi</td>\n",
       "      <td>yes</td>\n",
       "      <td>2016-03-24 00:00:00</td>\n",
       "      <td>0</td>\n",
       "      <td>66954</td>\n",
       "      <td>2016-04-07 01:46:50</td>\n",
       "    </tr>\n",
       "    <tr>\n",
       "      <th>2</th>\n",
       "      <td>2016-03-14 12:52:21</td>\n",
       "      <td>9800</td>\n",
       "      <td>suv</td>\n",
       "      <td>2004</td>\n",
       "      <td>auto</td>\n",
       "      <td>163</td>\n",
       "      <td>grand</td>\n",
       "      <td>125000</td>\n",
       "      <td>8</td>\n",
       "      <td>gasoline</td>\n",
       "      <td>jeep</td>\n",
       "      <td>NaN</td>\n",
       "      <td>2016-03-14 00:00:00</td>\n",
       "      <td>0</td>\n",
       "      <td>90480</td>\n",
       "      <td>2016-04-05 12:47:46</td>\n",
       "    </tr>\n",
       "    <tr>\n",
       "      <th>3</th>\n",
       "      <td>2016-03-17 16:54:04</td>\n",
       "      <td>1500</td>\n",
       "      <td>small</td>\n",
       "      <td>2001</td>\n",
       "      <td>manual</td>\n",
       "      <td>75</td>\n",
       "      <td>golf</td>\n",
       "      <td>150000</td>\n",
       "      <td>6</td>\n",
       "      <td>petrol</td>\n",
       "      <td>volkswagen</td>\n",
       "      <td>no</td>\n",
       "      <td>2016-03-17 00:00:00</td>\n",
       "      <td>0</td>\n",
       "      <td>91074</td>\n",
       "      <td>2016-03-17 17:40:17</td>\n",
       "    </tr>\n",
       "    <tr>\n",
       "      <th>4</th>\n",
       "      <td>2016-03-31 17:25:20</td>\n",
       "      <td>3600</td>\n",
       "      <td>small</td>\n",
       "      <td>2008</td>\n",
       "      <td>manual</td>\n",
       "      <td>69</td>\n",
       "      <td>fabia</td>\n",
       "      <td>90000</td>\n",
       "      <td>7</td>\n",
       "      <td>gasoline</td>\n",
       "      <td>skoda</td>\n",
       "      <td>no</td>\n",
       "      <td>2016-03-31 00:00:00</td>\n",
       "      <td>0</td>\n",
       "      <td>60437</td>\n",
       "      <td>2016-04-06 10:17:21</td>\n",
       "    </tr>\n",
       "  </tbody>\n",
       "</table>\n",
       "</div>"
      ],
      "text/plain": [
       "           DateCrawled  Price VehicleType  RegistrationYear Gearbox  Power  \\\n",
       "0  2016-03-24 11:52:17    480         NaN              1993  manual      0   \n",
       "1  2016-03-24 10:58:45  18300       coupe              2011  manual    190   \n",
       "2  2016-03-14 12:52:21   9800         suv              2004    auto    163   \n",
       "3  2016-03-17 16:54:04   1500       small              2001  manual     75   \n",
       "4  2016-03-31 17:25:20   3600       small              2008  manual     69   \n",
       "\n",
       "   Model  Kilometer  RegistrationMonth  FuelType       Brand Repaired  \\\n",
       "0   golf     150000                  0    petrol  volkswagen      NaN   \n",
       "1    NaN     125000                  5  gasoline        audi      yes   \n",
       "2  grand     125000                  8  gasoline        jeep      NaN   \n",
       "3   golf     150000                  6    petrol  volkswagen       no   \n",
       "4  fabia      90000                  7  gasoline       skoda       no   \n",
       "\n",
       "           DateCreated  NumberOfPictures  PostalCode             LastSeen  \n",
       "0  2016-03-24 00:00:00                 0       70435  2016-04-07 03:16:57  \n",
       "1  2016-03-24 00:00:00                 0       66954  2016-04-07 01:46:50  \n",
       "2  2016-03-14 00:00:00                 0       90480  2016-04-05 12:47:46  \n",
       "3  2016-03-17 00:00:00                 0       91074  2016-03-17 17:40:17  \n",
       "4  2016-03-31 00:00:00                 0       60437  2016-04-06 10:17:21  "
      ]
     },
     "execution_count": 3,
     "metadata": {},
     "output_type": "execute_result"
    }
   ],
   "source": [
    "data.head()"
   ]
  },
  {
   "cell_type": "code",
   "execution_count": 4,
   "metadata": {},
   "outputs": [
    {
     "name": "stdout",
     "output_type": "stream",
     "text": [
      "<class 'pandas.core.frame.DataFrame'>\n",
      "RangeIndex: 354369 entries, 0 to 354368\n",
      "Data columns (total 16 columns):\n",
      " #   Column             Non-Null Count   Dtype \n",
      "---  ------             --------------   ----- \n",
      " 0   DateCrawled        354369 non-null  object\n",
      " 1   Price              354369 non-null  int64 \n",
      " 2   VehicleType        316879 non-null  object\n",
      " 3   RegistrationYear   354369 non-null  int64 \n",
      " 4   Gearbox            334536 non-null  object\n",
      " 5   Power              354369 non-null  int64 \n",
      " 6   Model              334664 non-null  object\n",
      " 7   Kilometer          354369 non-null  int64 \n",
      " 8   RegistrationMonth  354369 non-null  int64 \n",
      " 9   FuelType           321474 non-null  object\n",
      " 10  Brand              354369 non-null  object\n",
      " 11  Repaired           283215 non-null  object\n",
      " 12  DateCreated        354369 non-null  object\n",
      " 13  NumberOfPictures   354369 non-null  int64 \n",
      " 14  PostalCode         354369 non-null  int64 \n",
      " 15  LastSeen           354369 non-null  object\n",
      "dtypes: int64(7), object(9)\n",
      "memory usage: 43.3+ MB\n"
     ]
    }
   ],
   "source": [
    "data.info()"
   ]
  },
  {
   "cell_type": "code",
   "execution_count": 5,
   "metadata": {},
   "outputs": [
    {
     "name": "stdout",
     "output_type": "stream",
     "text": [
      "<class 'pandas.core.frame.DataFrame'>\n",
      "RangeIndex: 354369 entries, 0 to 354368\n",
      "Data columns (total 16 columns):\n",
      " #   Column             Non-Null Count   Dtype \n",
      "---  ------             --------------   ----- \n",
      " 0   DateCrawled        354369 non-null  object\n",
      " 1   Price              354369 non-null  int64 \n",
      " 2   VehicleType        316879 non-null  object\n",
      " 3   RegistrationYear   354369 non-null  int64 \n",
      " 4   Gearbox            334536 non-null  object\n",
      " 5   Power              354369 non-null  int64 \n",
      " 6   Model              334664 non-null  object\n",
      " 7   Kilometer          354369 non-null  int64 \n",
      " 8   RegistrationMonth  354369 non-null  int64 \n",
      " 9   FuelType           321474 non-null  object\n",
      " 10  Brand              354369 non-null  object\n",
      " 11  Repaired           283215 non-null  object\n",
      " 12  DateCreated        354369 non-null  object\n",
      " 13  NumberOfPictures   354369 non-null  int64 \n",
      " 14  PostalCode         354369 non-null  int64 \n",
      " 15  LastSeen           354369 non-null  object\n",
      "dtypes: int64(7), object(9)\n",
      "memory usage: 43.3+ MB\n"
     ]
    }
   ],
   "source": [
    "data.info()"
   ]
  },
  {
   "cell_type": "markdown",
   "metadata": {},
   "source": [
    "В датасете всего 16 столбцов и 354369 строк, формат данных – `object` (категориальные данные) или `int`(целочисленный). В данных присутствуют пропуски. Переведем значения столбцов  `'DateCrawled'`, `'DateCreated'`, `'LastSeen'` в формат `datetime`."
   ]
  },
  {
   "cell_type": "code",
   "execution_count": 6,
   "metadata": {},
   "outputs": [],
   "source": [
    "data[['DateCrawled', 'DateCreated', 'LastSeen']] = data[['DateCrawled', \n",
    "                                                       'DateCreated', \n",
    "                                                       'LastSeen']].apply(pd.to_datetime)"
   ]
  },
  {
   "cell_type": "code",
   "execution_count": 7,
   "metadata": {},
   "outputs": [
    {
     "name": "stdout",
     "output_type": "stream",
     "text": [
      "<class 'pandas.core.frame.DataFrame'>\n",
      "RangeIndex: 354369 entries, 0 to 354368\n",
      "Data columns (total 16 columns):\n",
      " #   Column             Non-Null Count   Dtype         \n",
      "---  ------             --------------   -----         \n",
      " 0   DateCrawled        354369 non-null  datetime64[ns]\n",
      " 1   Price              354369 non-null  int64         \n",
      " 2   VehicleType        316879 non-null  object        \n",
      " 3   RegistrationYear   354369 non-null  int64         \n",
      " 4   Gearbox            334536 non-null  object        \n",
      " 5   Power              354369 non-null  int64         \n",
      " 6   Model              334664 non-null  object        \n",
      " 7   Kilometer          354369 non-null  int64         \n",
      " 8   RegistrationMonth  354369 non-null  int64         \n",
      " 9   FuelType           321474 non-null  object        \n",
      " 10  Brand              354369 non-null  object        \n",
      " 11  Repaired           283215 non-null  object        \n",
      " 12  DateCreated        354369 non-null  datetime64[ns]\n",
      " 13  NumberOfPictures   354369 non-null  int64         \n",
      " 14  PostalCode         354369 non-null  int64         \n",
      " 15  LastSeen           354369 non-null  datetime64[ns]\n",
      "dtypes: datetime64[ns](3), int64(7), object(6)\n",
      "memory usage: 43.3+ MB\n"
     ]
    }
   ],
   "source": [
    "data.info()"
   ]
  },
  {
   "cell_type": "code",
   "execution_count": 8,
   "metadata": {},
   "outputs": [
    {
     "data": {
      "text/html": [
       "<div>\n",
       "<style scoped>\n",
       "    .dataframe tbody tr th:only-of-type {\n",
       "        vertical-align: middle;\n",
       "    }\n",
       "\n",
       "    .dataframe tbody tr th {\n",
       "        vertical-align: top;\n",
       "    }\n",
       "\n",
       "    .dataframe thead th {\n",
       "        text-align: right;\n",
       "    }\n",
       "</style>\n",
       "<table border=\"1\" class=\"dataframe\">\n",
       "  <thead>\n",
       "    <tr style=\"text-align: right;\">\n",
       "      <th></th>\n",
       "      <th>Price</th>\n",
       "      <th>RegistrationYear</th>\n",
       "      <th>Power</th>\n",
       "      <th>Kilometer</th>\n",
       "      <th>RegistrationMonth</th>\n",
       "      <th>NumberOfPictures</th>\n",
       "      <th>PostalCode</th>\n",
       "    </tr>\n",
       "  </thead>\n",
       "  <tbody>\n",
       "    <tr>\n",
       "      <th>count</th>\n",
       "      <td>354369.000000</td>\n",
       "      <td>354369.000000</td>\n",
       "      <td>354369.000000</td>\n",
       "      <td>354369.000000</td>\n",
       "      <td>354369.000000</td>\n",
       "      <td>354369.0</td>\n",
       "      <td>354369.000000</td>\n",
       "    </tr>\n",
       "    <tr>\n",
       "      <th>mean</th>\n",
       "      <td>4416.656776</td>\n",
       "      <td>2004.234448</td>\n",
       "      <td>110.094337</td>\n",
       "      <td>128211.172535</td>\n",
       "      <td>5.714645</td>\n",
       "      <td>0.0</td>\n",
       "      <td>50508.689087</td>\n",
       "    </tr>\n",
       "    <tr>\n",
       "      <th>std</th>\n",
       "      <td>4514.158514</td>\n",
       "      <td>90.227958</td>\n",
       "      <td>189.850405</td>\n",
       "      <td>37905.341530</td>\n",
       "      <td>3.726421</td>\n",
       "      <td>0.0</td>\n",
       "      <td>25783.096248</td>\n",
       "    </tr>\n",
       "    <tr>\n",
       "      <th>min</th>\n",
       "      <td>0.000000</td>\n",
       "      <td>1000.000000</td>\n",
       "      <td>0.000000</td>\n",
       "      <td>5000.000000</td>\n",
       "      <td>0.000000</td>\n",
       "      <td>0.0</td>\n",
       "      <td>1067.000000</td>\n",
       "    </tr>\n",
       "    <tr>\n",
       "      <th>25%</th>\n",
       "      <td>1050.000000</td>\n",
       "      <td>1999.000000</td>\n",
       "      <td>69.000000</td>\n",
       "      <td>125000.000000</td>\n",
       "      <td>3.000000</td>\n",
       "      <td>0.0</td>\n",
       "      <td>30165.000000</td>\n",
       "    </tr>\n",
       "    <tr>\n",
       "      <th>50%</th>\n",
       "      <td>2700.000000</td>\n",
       "      <td>2003.000000</td>\n",
       "      <td>105.000000</td>\n",
       "      <td>150000.000000</td>\n",
       "      <td>6.000000</td>\n",
       "      <td>0.0</td>\n",
       "      <td>49413.000000</td>\n",
       "    </tr>\n",
       "    <tr>\n",
       "      <th>75%</th>\n",
       "      <td>6400.000000</td>\n",
       "      <td>2008.000000</td>\n",
       "      <td>143.000000</td>\n",
       "      <td>150000.000000</td>\n",
       "      <td>9.000000</td>\n",
       "      <td>0.0</td>\n",
       "      <td>71083.000000</td>\n",
       "    </tr>\n",
       "    <tr>\n",
       "      <th>max</th>\n",
       "      <td>20000.000000</td>\n",
       "      <td>9999.000000</td>\n",
       "      <td>20000.000000</td>\n",
       "      <td>150000.000000</td>\n",
       "      <td>12.000000</td>\n",
       "      <td>0.0</td>\n",
       "      <td>99998.000000</td>\n",
       "    </tr>\n",
       "  </tbody>\n",
       "</table>\n",
       "</div>"
      ],
      "text/plain": [
       "               Price  RegistrationYear          Power      Kilometer  \\\n",
       "count  354369.000000     354369.000000  354369.000000  354369.000000   \n",
       "mean     4416.656776       2004.234448     110.094337  128211.172535   \n",
       "std      4514.158514         90.227958     189.850405   37905.341530   \n",
       "min         0.000000       1000.000000       0.000000    5000.000000   \n",
       "25%      1050.000000       1999.000000      69.000000  125000.000000   \n",
       "50%      2700.000000       2003.000000     105.000000  150000.000000   \n",
       "75%      6400.000000       2008.000000     143.000000  150000.000000   \n",
       "max     20000.000000       9999.000000   20000.000000  150000.000000   \n",
       "\n",
       "       RegistrationMonth  NumberOfPictures     PostalCode  \n",
       "count      354369.000000          354369.0  354369.000000  \n",
       "mean            5.714645               0.0   50508.689087  \n",
       "std             3.726421               0.0   25783.096248  \n",
       "min             0.000000               0.0    1067.000000  \n",
       "25%             3.000000               0.0   30165.000000  \n",
       "50%             6.000000               0.0   49413.000000  \n",
       "75%             9.000000               0.0   71083.000000  \n",
       "max            12.000000               0.0   99998.000000  "
      ]
     },
     "execution_count": 8,
     "metadata": {},
     "output_type": "execute_result"
    }
   ],
   "source": [
    "data.describe()"
   ]
  },
  {
   "cell_type": "markdown",
   "metadata": {},
   "source": [
    "Описательная статистика показывает проблемы с данными. Например, минимальная цена - 0, минимальная мощность – 0, максимальная мощность – 20000, самый ранний год регистрации – 1000, самый поздний - 9999, есть нулевые значения в столбце `'Month'`, в столбце `'NumberOfPictures'` присутствуют только нулевые значения (что делает его бесполезным). "
   ]
  },
  {
   "cell_type": "markdown",
   "metadata": {},
   "source": [
    "Далее проведем **предобработку** данных. Для этого:\n",
    "   *  удалим дубликаты;\n",
    "   * обработаем выбросы и аномалии;\n",
    "   * обработаем аномалии;\n",
    "   * удалим неинформатиные столбцы."
   ]
  },
  {
   "cell_type": "markdown",
   "metadata": {},
   "source": [
    "### Предобработка данных"
   ]
  },
  {
   "cell_type": "markdown",
   "metadata": {},
   "source": [
    "#### Устранение дубликатов"
   ]
  },
  {
   "cell_type": "markdown",
   "metadata": {},
   "source": [
    "Посмотрим, есть ли полные дубликаты"
   ]
  },
  {
   "cell_type": "code",
   "execution_count": 9,
   "metadata": {},
   "outputs": [
    {
     "data": {
      "text/plain": [
       "4"
      ]
     },
     "execution_count": 9,
     "metadata": {},
     "output_type": "execute_result"
    }
   ],
   "source": [
    "data.duplicated().sum()"
   ]
  },
  {
   "cell_type": "markdown",
   "metadata": {},
   "source": [
    "Всего 4 дубликата. Удалим их."
   ]
  },
  {
   "cell_type": "code",
   "execution_count": 10,
   "metadata": {},
   "outputs": [],
   "source": [
    "data = data.drop_duplicates().reset_index(drop=True)"
   ]
  },
  {
   "cell_type": "code",
   "execution_count": 11,
   "metadata": {},
   "outputs": [
    {
     "name": "stdout",
     "output_type": "stream",
     "text": [
      "<class 'pandas.core.frame.DataFrame'>\n",
      "RangeIndex: 354365 entries, 0 to 354364\n",
      "Data columns (total 16 columns):\n",
      " #   Column             Non-Null Count   Dtype         \n",
      "---  ------             --------------   -----         \n",
      " 0   DateCrawled        354365 non-null  datetime64[ns]\n",
      " 1   Price              354365 non-null  int64         \n",
      " 2   VehicleType        316875 non-null  object        \n",
      " 3   RegistrationYear   354365 non-null  int64         \n",
      " 4   Gearbox            334532 non-null  object        \n",
      " 5   Power              354365 non-null  int64         \n",
      " 6   Model              334660 non-null  object        \n",
      " 7   Kilometer          354365 non-null  int64         \n",
      " 8   RegistrationMonth  354365 non-null  int64         \n",
      " 9   FuelType           321470 non-null  object        \n",
      " 10  Brand              354365 non-null  object        \n",
      " 11  Repaired           283211 non-null  object        \n",
      " 12  DateCreated        354365 non-null  datetime64[ns]\n",
      " 13  NumberOfPictures   354365 non-null  int64         \n",
      " 14  PostalCode         354365 non-null  int64         \n",
      " 15  LastSeen           354365 non-null  datetime64[ns]\n",
      "dtypes: datetime64[ns](3), int64(7), object(6)\n",
      "memory usage: 43.3+ MB\n"
     ]
    }
   ],
   "source": [
    "data.info()"
   ]
  },
  {
   "cell_type": "markdown",
   "metadata": {},
   "source": [
    "Дубликаты удалены."
   ]
  },
  {
   "cell_type": "markdown",
   "metadata": {},
   "source": [
    "#### Обработка выбросов и аномальных значений"
   ]
  },
  {
   "cell_type": "markdown",
   "metadata": {},
   "source": [
    "Выше было отмечено, что данные содержат неправдоподобные значения. Рассмотрим распределение значений в столбцах и удалим аномалии. Будем рассматривать аномальные значения только в тех столбцах, которые потребуются для обучения (остальные столбцы удалим в конце подготовки данных)."
   ]
  },
  {
   "cell_type": "markdown",
   "metadata": {},
   "source": [
    "**Столбец `'Price'`**"
   ]
  },
  {
   "cell_type": "code",
   "execution_count": 12,
   "metadata": {},
   "outputs": [
    {
     "data": {
      "text/plain": [
       "<AxesSubplot:>"
      ]
     },
     "execution_count": 12,
     "metadata": {},
     "output_type": "execute_result"
    },
    {
     "data": {
      "image/png": "[encoded data removed]",
      "text/plain": [
       "<Figure size 432x288 with 1 Axes>"
      ]
     },
     "metadata": {
      "needs_background": "light"
     },
     "output_type": "display_data"
    }
   ],
   "source": [
    "data['Price'].hist(bins=100)"
   ]
  },
  {
   "cell_type": "markdown",
   "metadata": {},
   "source": [
    "В столбце `'Price'` присутствуют нулевые значения. Чтобы избавиться от аномальных значений цены, отсечем 1% наиболее низких значений."
   ]
  },
  {
   "cell_type": "code",
   "execution_count": 13,
   "metadata": {},
   "outputs": [
    {
     "data": {
      "text/plain": [
       "0.0"
      ]
     },
     "execution_count": 13,
     "metadata": {},
     "output_type": "execute_result"
    }
   ],
   "source": [
    "np.percentile(data['Price'], 1)"
   ]
  },
  {
   "cell_type": "code",
   "execution_count": 14,
   "metadata": {},
   "outputs": [],
   "source": [
    "data = data.query('0 < Price')"
   ]
  },
  {
   "cell_type": "markdown",
   "metadata": {},
   "source": [
    "Дальше увеличивать минимальный порог цены не будем. Можно было бы взять пороговое значение в 100, 300 или 500 евро, но это значение будет произвольным, в то время как мы не знаем обстоятельств и условий продажи: возможно, автомобиль продается на запчасти или утилизацию. При этом на гистограмме нет явных отклонений."
   ]
  },
  {
   "cell_type": "markdown",
   "metadata": {},
   "source": [
    "**Столбец `'VehicleType'`**"
   ]
  },
  {
   "cell_type": "code",
   "execution_count": 15,
   "metadata": {},
   "outputs": [
    {
     "data": {
      "image/png": "[encoded data removed]",
      "text/plain": [
       "<Figure size 432x288 with 1 Axes>"
      ]
     },
     "metadata": {
      "needs_background": "light"
     },
     "output_type": "display_data"
    }
   ],
   "source": [
    "data['VehicleType'].value_counts().plot(kind='bar', xlabel='Тип кузова', ylabel='Количество объявлений');"
   ]
  },
  {
   "cell_type": "markdown",
   "metadata": {},
   "source": [
    "Седан – наиболее распространенный тип кузова в мире (https://www.autoopt.ru/articles/products/3225024), что согласуется с данными рассматриваемой базы объявлений."
   ]
  },
  {
   "cell_type": "markdown",
   "metadata": {},
   "source": [
    "**Столбец `'RegistrationYear'`**"
   ]
  },
  {
   "cell_type": "code",
   "execution_count": 16,
   "metadata": {},
   "outputs": [
    {
     "data": {
      "image/png": "[encoded data removed]",
      "text/plain": [
       "<Figure size 1440x720 with 1 Axes>"
      ]
     },
     "metadata": {
      "needs_background": "light"
     },
     "output_type": "display_data"
    }
   ],
   "source": [
    "data.pivot_table(index='RegistrationYear',\n",
    "                          values='Price', \n",
    "                          aggfunc='count').plot(kind='bar',\n",
    "                                                figsize=(20, 10),\n",
    "                                                xlabel='Год первой регистрации',\n",
    "                                                ylabel='Количество объявлений')\n",
    "plt.show()"
   ]
  },
  {
   "cell_type": "markdown",
   "metadata": {},
   "source": [
    "Минимальный адекватный год регистрации – 1960. Таких объявлений немного, но попадание в базу объявлений старых и раритетных автомобилей с таким годом регистрации не кажется нереалистичным. "
   ]
  },
  {
   "cell_type": "code",
   "execution_count": 17,
   "metadata": {},
   "outputs": [],
   "source": [
    "data = data.query('1960 <= RegistrationYear')"
   ]
  },
  {
   "cell_type": "markdown",
   "metadata": {},
   "source": [
    "Максимальное значение года регистрации не должно быть позже даты создания объявления. "
   ]
  },
  {
   "cell_type": "code",
   "execution_count": 18,
   "metadata": {},
   "outputs": [
    {
     "data": {
      "text/plain": [
       "Timestamp('2014-03-10 00:00:00')"
      ]
     },
     "metadata": {},
     "output_type": "display_data"
    },
    {
     "data": {
      "text/plain": [
       "Timestamp('2016-04-07 00:00:00')"
      ]
     },
     "execution_count": 18,
     "metadata": {},
     "output_type": "execute_result"
    }
   ],
   "source": [
    "display(data['DateCreated'].min())\n",
    "data['DateCreated'].max()"
   ]
  },
  {
   "cell_type": "markdown",
   "metadata": {},
   "source": [
    "Обьявления созданы в период с марта 2014 года по апрель 2016 года. Добавим в датасет столбцы 'MonthCreated' и 'YearCreated'. Год регистрации не может быть позже года создания объявления. Если год регистрации и год создания объявления совпадают, месяц регистрации не может быть больше месяца создания объявления."
   ]
  },
  {
   "cell_type": "code",
   "execution_count": 19,
   "metadata": {},
   "outputs": [],
   "source": [
    "data['YearCreated'] = data['DateCreated'].dt.year\n",
    "data['MonthCreated'] = data['DateCreated'].dt.month"
   ]
  },
  {
   "cell_type": "code",
   "execution_count": 20,
   "metadata": {},
   "outputs": [
    {
     "data": {
      "image/png": "[encoded data removed]",
      "text/plain": [
       "<Figure size 1440x720 with 1 Axes>"
      ]
     },
     "metadata": {
      "needs_background": "light"
     },
     "output_type": "display_data"
    }
   ],
   "source": [
    "data.pivot_table(index='RegistrationYear',\n",
    "                          values='Price', \n",
    "                          aggfunc='count').plot(kind='bar',\n",
    "                                                figsize=(20, 10),\n",
    "                                                xlabel='Год первой регистрации',\n",
    "                                                ylabel='Количество объявлений')\n",
    "plt.show()"
   ]
  },
  {
   "cell_type": "code",
   "execution_count": 21,
   "metadata": {},
   "outputs": [],
   "source": [
    "data = data[(data['RegistrationYear'] < data['YearCreated']) |\n",
    "                  ((data['RegistrationYear'] == data['YearCreated']) &\n",
    "                  (data['MonthCreated'] > data['RegistrationMonth']))]"
   ]
  },
  {
   "cell_type": "code",
   "execution_count": 22,
   "metadata": {},
   "outputs": [
    {
     "name": "stdout",
     "output_type": "stream",
     "text": [
      "<class 'pandas.core.frame.DataFrame'>\n",
      "Int64Index: 323856 entries, 0 to 354364\n",
      "Data columns (total 18 columns):\n",
      " #   Column             Non-Null Count   Dtype         \n",
      "---  ------             --------------   -----         \n",
      " 0   DateCrawled        323856 non-null  datetime64[ns]\n",
      " 1   Price              323856 non-null  int64         \n",
      " 2   VehicleType        309487 non-null  object        \n",
      " 3   RegistrationYear   323856 non-null  int64         \n",
      " 4   Gearbox            308834 non-null  object        \n",
      " 5   Power              323856 non-null  int64         \n",
      " 6   Model              309036 non-null  object        \n",
      " 7   Kilometer          323856 non-null  int64         \n",
      " 8   RegistrationMonth  323856 non-null  int64         \n",
      " 9   FuelType           301943 non-null  object        \n",
      " 10  Brand              323856 non-null  object        \n",
      " 11  Repaired           266393 non-null  object        \n",
      " 12  DateCreated        323856 non-null  datetime64[ns]\n",
      " 13  NumberOfPictures   323856 non-null  int64         \n",
      " 14  PostalCode         323856 non-null  int64         \n",
      " 15  LastSeen           323856 non-null  datetime64[ns]\n",
      " 16  YearCreated        323856 non-null  int64         \n",
      " 17  MonthCreated       323856 non-null  int64         \n",
      "dtypes: datetime64[ns](3), int64(9), object(6)\n",
      "memory usage: 46.9+ MB\n"
     ]
    }
   ],
   "source": [
    "data.info()"
   ]
  },
  {
   "cell_type": "code",
   "execution_count": 23,
   "metadata": {},
   "outputs": [
    {
     "data": {
      "image/png": "[encoded data removed]",
      "text/plain": [
       "<Figure size 1080x720 with 1 Axes>"
      ]
     },
     "metadata": {
      "needs_background": "light"
     },
     "output_type": "display_data"
    }
   ],
   "source": [
    "data.pivot_table(index='RegistrationYear',\n",
    "                          values='Price', \n",
    "                          aggfunc='count').plot(kind='bar',\n",
    "                                                figsize=(15, 10),\n",
    "                                                xlabel='Год первой регистрации',\n",
    "                                                ylabel='Количество объявлений')\n",
    "plt.show()"
   ]
  },
  {
   "cell_type": "markdown",
   "metadata": {},
   "source": [
    "**Столбец `'Gearbox'`**"
   ]
  },
  {
   "cell_type": "code",
   "execution_count": 24,
   "metadata": {},
   "outputs": [
    {
     "data": {
      "image/png": "[encoded data removed]",
      "text/plain": [
       "<Figure size 432x288 with 1 Axes>"
      ]
     },
     "metadata": {
      "needs_background": "light"
     },
     "output_type": "display_data"
    }
   ],
   "source": [
    "data['Gearbox'].value_counts().plot(kind='bar', xlabel='Коробка передач', ylabel='Количество объявлений');"
   ]
  },
  {
   "cell_type": "markdown",
   "metadata": {},
   "source": [
    "Количество автомобилей с механической коробкой передач значительно выше, чем с автоматической. Учитывая, что речь идет о подержанных автомобилях, зарегистрированных с 1960 года, данные выглядят правдоподобно. "
   ]
  },
  {
   "cell_type": "markdown",
   "metadata": {},
   "source": [
    "**Столбец `'Power'`**"
   ]
  },
  {
   "cell_type": "markdown",
   "metadata": {},
   "source": [
    "В столбце `'Power'` присутствуют некорректные значения."
   ]
  },
  {
   "cell_type": "code",
   "execution_count": 25,
   "metadata": {},
   "outputs": [
    {
     "data": {
      "image/png": "[encoded data removed]",
      "text/plain": [
       "<Figure size 432x288 with 1 Axes>"
      ]
     },
     "metadata": {
      "needs_background": "light"
     },
     "output_type": "display_data"
    },
    {
     "data": {
      "image/png": "[encoded data removed]",
      "text/plain": [
       "<Figure size 432x288 with 1 Axes>"
      ]
     },
     "metadata": {
      "needs_background": "light"
     },
     "output_type": "display_data"
    }
   ],
   "source": [
    "data['Power'].hist(bins=100)\n",
    "plt.show()\n",
    "\n",
    "data[(data['Power']<1000)]['Power'].hist(bins=100)\n",
    "plt.show()"
   ]
  },
  {
   "cell_type": "markdown",
   "metadata": {},
   "source": [
    "Мощность не может быть нулевой (однако автомобили с очень низкой мощностью существуют: https://automdb.com/min_power). Нулевых значений много, будем считать это ошибкой и удалим соответствующие строки. Также гистограммы показывают, что значения выше 400 л.с. также могут считаться выбросами."
   ]
  },
  {
   "cell_type": "code",
   "execution_count": 26,
   "metadata": {},
   "outputs": [],
   "source": [
    "data = data.query('1 <= Power <= 400')"
   ]
  },
  {
   "cell_type": "code",
   "execution_count": 27,
   "metadata": {},
   "outputs": [
    {
     "data": {
      "image/png": "[encoded data removed]",
      "text/plain": [
       "<Figure size 432x288 with 1 Axes>"
      ]
     },
     "metadata": {
      "needs_background": "light"
     },
     "output_type": "display_data"
    }
   ],
   "source": [
    "data.boxplot('Power');"
   ]
  },
  {
   "cell_type": "markdown",
   "metadata": {},
   "source": [
    "**Столбец `'Kilometer'`**"
   ]
  },
  {
   "cell_type": "code",
   "execution_count": 28,
   "metadata": {},
   "outputs": [
    {
     "data": {
      "image/png": "[encoded data removed]",
      "text/plain": [
       "<Figure size 432x288 with 1 Axes>"
      ]
     },
     "metadata": {
      "needs_background": "light"
     },
     "output_type": "display_data"
    }
   ],
   "source": [
    "data.pivot_table(index='Kilometer',\n",
    "                          values='Price', \n",
    "                          aggfunc='count').plot(kind='bar',\n",
    "                                                xlabel='Пробег',\n",
    "                                                ylabel='Количество объявлений');"
   ]
  },
  {
   "cell_type": "markdown",
   "metadata": {},
   "source": [
    "Больше всего автомобилей с пробегом 150000 км. Удивительно, что нет объявлений, превышающих данное значение. "
   ]
  },
  {
   "cell_type": "markdown",
   "metadata": {},
   "source": [
    "**Столбец `'FuelType'`**"
   ]
  },
  {
   "cell_type": "code",
   "execution_count": 29,
   "metadata": {},
   "outputs": [
    {
     "data": {
      "image/png": "[encoded data removed]",
      "text/plain": [
       "<Figure size 432x288 with 1 Axes>"
      ]
     },
     "metadata": {
      "needs_background": "light"
     },
     "output_type": "display_data"
    }
   ],
   "source": [
    "data['FuelType'].value_counts().plot(kind='bar', xlabel='Тип топлива', ylabel='Количество объявлений');"
   ]
  },
  {
   "cell_type": "markdown",
   "metadata": {},
   "source": [
    "Больше всего автомобилей с типами топлива 'petrol' и 'gasoline'. Интересно, что оба обозначают бензин: 'gasoline' - североамериканский вариант английского языка, 'petrol' - международный вариант (https://en.wikipedia.org/wiki/Gasoline). Объединим эти варианты под названием 'petrol' как более распространенного."
   ]
  },
  {
   "cell_type": "code",
   "execution_count": 30,
   "metadata": {},
   "outputs": [],
   "source": [
    "data['FuelType'] = data['FuelType'].replace('gasoline', 'petrol')"
   ]
  },
  {
   "cell_type": "code",
   "execution_count": 31,
   "metadata": {},
   "outputs": [
    {
     "data": {
      "image/png": "[encoded data removed]",
      "text/plain": [
       "<Figure size 432x288 with 1 Axes>"
      ]
     },
     "metadata": {
      "needs_background": "light"
     },
     "output_type": "display_data"
    }
   ],
   "source": [
    "data['FuelType'].value_counts().plot(kind='bar', xlabel='Тип топлива', ylabel='Количество объявлений');"
   ]
  },
  {
   "cell_type": "markdown",
   "metadata": {},
   "source": [
    "**Столбец `'Brand'`**"
   ]
  },
  {
   "cell_type": "code",
   "execution_count": 32,
   "metadata": {},
   "outputs": [
    {
     "data": {
      "image/png": "[encoded data removed]",
      "text/plain": [
       "<Figure size 432x288 with 1 Axes>"
      ]
     },
     "metadata": {
      "needs_background": "light"
     },
     "output_type": "display_data"
    }
   ],
   "source": [
    "data['Brand'].value_counts().plot(kind='bar', xlabel='Марка', ylabel='Количество объявлений');"
   ]
  },
  {
   "cell_type": "markdown",
   "metadata": {},
   "source": [
    "Больше всего автомобилей марки \"Volkswagen\". Это согласуется, например, с историческими данными о продажах автомобилей в Европе, где \"Volkswagen Golf\" почти каждый год занимает первое место по продажам (https://clck.ru/FgQEq)"
   ]
  },
  {
   "cell_type": "markdown",
   "metadata": {},
   "source": [
    "Значения остальных столбцов либо нерелевантны, либо не подлежат обработке на предмет аномалий."
   ]
  },
  {
   "cell_type": "markdown",
   "metadata": {},
   "source": [
    "#### Обработка пропусков"
   ]
  },
  {
   "cell_type": "markdown",
   "metadata": {},
   "source": [
    "Определим доли пропусков в разных столбцах."
   ]
  },
  {
   "cell_type": "code",
   "execution_count": 33,
   "metadata": {},
   "outputs": [
    {
     "data": {
      "text/plain": [
       "DateCrawled          0.000000\n",
       "Price                0.000000\n",
       "VehicleType          0.023460\n",
       "RegistrationYear     0.000000\n",
       "Gearbox              0.017627\n",
       "Power                0.000000\n",
       "Model                0.036386\n",
       "Kilometer            0.000000\n",
       "RegistrationMonth    0.000000\n",
       "FuelType             0.047039\n",
       "Brand                0.000000\n",
       "Repaired             0.141255\n",
       "DateCreated          0.000000\n",
       "NumberOfPictures     0.000000\n",
       "PostalCode           0.000000\n",
       "LastSeen             0.000000\n",
       "YearCreated          0.000000\n",
       "MonthCreated         0.000000\n",
       "dtype: float64"
      ]
     },
     "execution_count": 33,
     "metadata": {},
     "output_type": "execute_result"
    }
   ],
   "source": [
    "data.isna().mean()"
   ]
  },
  {
   "cell_type": "markdown",
   "metadata": {},
   "source": [
    "Пять столбцов содержат пропуски: `'VehicleType'`, `'Gearbox'`, `'Model'`, `'FuelType'`, `'Repaired'`."
   ]
  },
  {
   "cell_type": "markdown",
   "metadata": {},
   "source": [
    "Доли пропусков в столбцах `'VehicleType'`, `'Gearbox'`, `'Model'`, `'FuelType'` невелики. Их можно безболезненно удалить."
   ]
  },
  {
   "cell_type": "code",
   "execution_count": 34,
   "metadata": {},
   "outputs": [],
   "source": [
    "data = data.dropna(subset=['VehicleType', \n",
    "                           'Gearbox', \n",
    "                           'Model', \n",
    "                           'FuelType'])"
   ]
  },
  {
   "cell_type": "markdown",
   "metadata": {},
   "source": [
    "Пропуски в столбце `'Repaired'` заменим на `'unknown'`."
   ]
  },
  {
   "cell_type": "code",
   "execution_count": 35,
   "metadata": {
    "scrolled": true
   },
   "outputs": [],
   "source": [
    "data['Repaired'] = data['Repaired'].fillna('unknown')"
   ]
  },
  {
   "cell_type": "code",
   "execution_count": 36,
   "metadata": {},
   "outputs": [
    {
     "data": {
      "text/plain": [
       "DateCrawled          0.0\n",
       "Price                0.0\n",
       "VehicleType          0.0\n",
       "RegistrationYear     0.0\n",
       "Gearbox              0.0\n",
       "Power                0.0\n",
       "Model                0.0\n",
       "Kilometer            0.0\n",
       "RegistrationMonth    0.0\n",
       "FuelType             0.0\n",
       "Brand                0.0\n",
       "Repaired             0.0\n",
       "DateCreated          0.0\n",
       "NumberOfPictures     0.0\n",
       "PostalCode           0.0\n",
       "LastSeen             0.0\n",
       "YearCreated          0.0\n",
       "MonthCreated         0.0\n",
       "dtype: float64"
      ]
     },
     "execution_count": 36,
     "metadata": {},
     "output_type": "execute_result"
    }
   ],
   "source": [
    "data.isna().mean()"
   ]
  },
  {
   "cell_type": "markdown",
   "metadata": {},
   "source": [
    "Пропуски устранены."
   ]
  },
  {
   "cell_type": "markdown",
   "metadata": {},
   "source": [
    "### Удаление лишних столбцов"
   ]
  },
  {
   "cell_type": "markdown",
   "metadata": {},
   "source": [
    "Данные в столбцах `'DateCreated'`, `'DateCrawled'`, `'LastSeen'` отображают дату создания анкеты, дату скачивания анкеты из базы и дату последней активности пользователя. Столбец `'PostalCode'` показывает почтовый индекс пользователя. Эти данные не являются признаками и не потребуются при обучении. Также сложно придумать, как месяц первой регистрации (`'RegistrationMonth'`) может влиять на стоимость подержанного автомобиля. В столбце `'NumberOfPictures'` присутствуют только нулевые значения, это делает его неинформативным. Столбцы `'MonthCreated'` и `'YearCreated'` были добавлены для текущих задач и также нерелевантны для обучения. Удалим указанные столбцы."
   ]
  },
  {
   "cell_type": "code",
   "execution_count": 37,
   "metadata": {},
   "outputs": [],
   "source": [
    "data_relevant = data[['Price',\n",
    "                      'VehicleType', \n",
    "                      'RegistrationYear',\n",
    "                      'Gearbox', \n",
    "                      'Power',\n",
    "                      'Model',\n",
    "                      'Kilometer',\n",
    "                      'FuelType',\n",
    "                      'Brand',\n",
    "                      'Repaired']]"
   ]
  },
  {
   "cell_type": "code",
   "execution_count": 38,
   "metadata": {},
   "outputs": [
    {
     "name": "stdout",
     "output_type": "stream",
     "text": [
      "<class 'pandas.core.frame.DataFrame'>\n",
      "RangeIndex: 263166 entries, 0 to 263165\n",
      "Data columns (total 10 columns):\n",
      " #   Column            Non-Null Count   Dtype \n",
      "---  ------            --------------   ----- \n",
      " 0   Price             263166 non-null  int64 \n",
      " 1   VehicleType       263166 non-null  object\n",
      " 2   RegistrationYear  263166 non-null  int64 \n",
      " 3   Gearbox           263166 non-null  object\n",
      " 4   Power             263166 non-null  int64 \n",
      " 5   Model             263166 non-null  object\n",
      " 6   Kilometer         263166 non-null  int64 \n",
      " 7   FuelType          263166 non-null  object\n",
      " 8   Brand             263166 non-null  object\n",
      " 9   Repaired          263166 non-null  object\n",
      "dtypes: int64(4), object(6)\n",
      "memory usage: 20.1+ MB\n"
     ]
    }
   ],
   "source": [
    "data_relevant = data_relevant.reset_index(drop=True)\n",
    "data_relevant.info()"
   ]
  },
  {
   "cell_type": "markdown",
   "metadata": {},
   "source": [
    "**Выводы по шагу 1**\n",
    "\n",
    "* Данные загружены и изучены.\n",
    "* Обработаны аномальные значения и выбросы в столбцах `'Price'`, `'RegistrationYear'`, `'Power'`, `'FuelType'`. \n",
    "* Обработаны пропуски в столбцах `'VehicleType'`, `'Gearbox'`, `'Model'`, `'FuelType'`, `'Repaired'`.\n",
    "* Определены релевантные для обучения признаки."
   ]
  },
  {
   "cell_type": "markdown",
   "metadata": {},
   "source": [
    "## Обучение  и анализ моделей"
   ]
  },
  {
   "cell_type": "markdown",
   "metadata": {},
   "source": [
    "Ниже проанилизаруем показатели следующих моделей:\n",
    "\n",
    "* Дерево решений (DecisionTreeRegressor)\n",
    "* Случайный лес (RandomForestRegressor)\n",
    "* CatBoostRerressor\n",
    "* LGBMRegressor\n",
    "* Линейная регрессия (LinearRegression)\n",
    "\n",
    "При выборе модели нас интересуют следующие параметры: \n",
    "* качество предсказания (используемая метрика – RMSE);\n",
    "* время обучения модели;\n",
    "* время предсказания модели.\n",
    "\n",
    "Модель с наилучшими параметрами следует проверить на тестовой выборке\n",
    "\n",
    "Определим значения интересующих нас параметров на кросс-валидации. При помощи `GridSearchCV` можно определить гипермараметры лучшей модели, лучшее значение метрики, среднее время обучения и предсказания модели);"
   ]
  },
  {
   "cell_type": "markdown",
   "metadata": {},
   "source": [
    "### Подготовка выборок"
   ]
  },
  {
   "cell_type": "markdown",
   "metadata": {},
   "source": [
    "#### Разделение на выборки"
   ]
  },
  {
   "cell_type": "markdown",
   "metadata": {},
   "source": [
    "Разделим данные на признаки и целевой признак."
   ]
  },
  {
   "cell_type": "code",
   "execution_count": 39,
   "metadata": {},
   "outputs": [],
   "source": [
    "target = data_relevant['Price']\n",
    "features = data_relevant.drop('Price', axis=1)"
   ]
  },
  {
   "cell_type": "markdown",
   "metadata": {},
   "source": [
    "Разделим данные на обучающую и тестовую выборки в соотношении 3:1."
   ]
  },
  {
   "cell_type": "code",
   "execution_count": 40,
   "metadata": {},
   "outputs": [],
   "source": [
    "features_train, features_test, target_train, target_test = train_test_split(\n",
    "    features, target, test_size=0.25, random_state=12345)"
   ]
  },
  {
   "cell_type": "code",
   "execution_count": 41,
   "metadata": {},
   "outputs": [
    {
     "data": {
      "text/plain": [
       "(197374, 9)"
      ]
     },
     "metadata": {},
     "output_type": "display_data"
    },
    {
     "data": {
      "text/plain": [
       "(197374,)"
      ]
     },
     "metadata": {},
     "output_type": "display_data"
    },
    {
     "data": {
      "text/plain": [
       "(65792, 9)"
      ]
     },
     "metadata": {},
     "output_type": "display_data"
    },
    {
     "data": {
      "text/plain": [
       "(65792,)"
      ]
     },
     "execution_count": 41,
     "metadata": {},
     "output_type": "execute_result"
    }
   ],
   "source": [
    "display(features_train.shape)\n",
    "display(target_train.shape)\n",
    "display(features_test.shape)\n",
    "target_test.shape"
   ]
  },
  {
   "cell_type": "markdown",
   "metadata": {},
   "source": [
    "Для экономии памяти удалим переменные `data`, `features` и `target` которая нам далее не потребуется."
   ]
  },
  {
   "cell_type": "code",
   "execution_count": 42,
   "metadata": {},
   "outputs": [],
   "source": [
    "del data"
   ]
  },
  {
   "cell_type": "code",
   "execution_count": 43,
   "metadata": {},
   "outputs": [],
   "source": [
    "del features\n",
    "del target"
   ]
  },
  {
   "cell_type": "markdown",
   "metadata": {},
   "source": [
    "#### Преобразование признаков"
   ]
  },
  {
   "cell_type": "markdown",
   "metadata": {},
   "source": [
    "Признаки в столбцах `'VehicleType'`, `'Gearbox'`, `'Model'`, `'FuelType'`, `'Brand'`, `'Repaired'` – категориальные.\n",
    "Преобразуем данные при помощи техники прямого кодирования (`One-Hot Encoding`) и порядкового кодирования (`OrdinalEncoder()`). Первое лучше подходит для линейных моделей, второе – для деревьев и бустингов."
   ]
  },
  {
   "cell_type": "markdown",
   "metadata": {},
   "source": [
    "##### Порядковое кодирование"
   ]
  },
  {
   "cell_type": "code",
   "execution_count": 44,
   "metadata": {},
   "outputs": [],
   "source": [
    "categorical = ['VehicleType', 'Gearbox', 'Model', 'FuelType', 'Brand', 'Repaired']\n",
    "encoder = OrdinalEncoder(handle_unknown='use_encoded_value', unknown_value=1000)\n",
    "oe_features_train = features_train.copy()\n",
    "oe_features_test = features_test.copy()\n",
    "oe_features_train[categorical] = encoder.fit_transform(features_train[categorical])\n",
    "oe_features_test[categorical] = encoder.transform(features_test[categorical])"
   ]
  },
  {
   "cell_type": "code",
   "execution_count": 45,
   "metadata": {
    "scrolled": true
   },
   "outputs": [
    {
     "data": {
      "text/plain": [
       "(197374, 9)"
      ]
     },
     "metadata": {},
     "output_type": "display_data"
    },
    {
     "data": {
      "text/plain": [
       "(65792, 9)"
      ]
     },
     "execution_count": 45,
     "metadata": {},
     "output_type": "execute_result"
    }
   ],
   "source": [
    "display(oe_features_train.shape)\n",
    "oe_features_test.shape"
   ]
  },
  {
   "cell_type": "code",
   "execution_count": 46,
   "metadata": {},
   "outputs": [
    {
     "data": {
      "text/html": [
       "<div>\n",
       "<style scoped>\n",
       "    .dataframe tbody tr th:only-of-type {\n",
       "        vertical-align: middle;\n",
       "    }\n",
       "\n",
       "    .dataframe tbody tr th {\n",
       "        vertical-align: top;\n",
       "    }\n",
       "\n",
       "    .dataframe thead th {\n",
       "        text-align: right;\n",
       "    }\n",
       "</style>\n",
       "<table border=\"1\" class=\"dataframe\">\n",
       "  <thead>\n",
       "    <tr style=\"text-align: right;\">\n",
       "      <th></th>\n",
       "      <th>VehicleType</th>\n",
       "      <th>RegistrationYear</th>\n",
       "      <th>Gearbox</th>\n",
       "      <th>Power</th>\n",
       "      <th>Model</th>\n",
       "      <th>Kilometer</th>\n",
       "      <th>FuelType</th>\n",
       "      <th>Brand</th>\n",
       "      <th>Repaired</th>\n",
       "    </tr>\n",
       "  </thead>\n",
       "  <tbody>\n",
       "    <tr>\n",
       "      <th>169921</th>\n",
       "      <td>0.0</td>\n",
       "      <td>2005</td>\n",
       "      <td>1.0</td>\n",
       "      <td>145</td>\n",
       "      <td>14.0</td>\n",
       "      <td>150000</td>\n",
       "      <td>5.0</td>\n",
       "      <td>19.0</td>\n",
       "      <td>0.0</td>\n",
       "    </tr>\n",
       "    <tr>\n",
       "      <th>90884</th>\n",
       "      <td>4.0</td>\n",
       "      <td>2011</td>\n",
       "      <td>0.0</td>\n",
       "      <td>90</td>\n",
       "      <td>26.0</td>\n",
       "      <td>60000</td>\n",
       "      <td>5.0</td>\n",
       "      <td>1.0</td>\n",
       "      <td>0.0</td>\n",
       "    </tr>\n",
       "    <tr>\n",
       "      <th>128733</th>\n",
       "      <td>5.0</td>\n",
       "      <td>2008</td>\n",
       "      <td>1.0</td>\n",
       "      <td>100</td>\n",
       "      <td>150.0</td>\n",
       "      <td>80000</td>\n",
       "      <td>5.0</td>\n",
       "      <td>24.0</td>\n",
       "      <td>0.0</td>\n",
       "    </tr>\n",
       "    <tr>\n",
       "      <th>55517</th>\n",
       "      <td>7.0</td>\n",
       "      <td>2007</td>\n",
       "      <td>1.0</td>\n",
       "      <td>150</td>\n",
       "      <td>11.0</td>\n",
       "      <td>150000</td>\n",
       "      <td>5.0</td>\n",
       "      <td>2.0</td>\n",
       "      <td>0.0</td>\n",
       "    </tr>\n",
       "    <tr>\n",
       "      <th>164272</th>\n",
       "      <td>4.0</td>\n",
       "      <td>2009</td>\n",
       "      <td>1.0</td>\n",
       "      <td>69</td>\n",
       "      <td>173.0</td>\n",
       "      <td>90000</td>\n",
       "      <td>5.0</td>\n",
       "      <td>37.0</td>\n",
       "      <td>0.0</td>\n",
       "    </tr>\n",
       "  </tbody>\n",
       "</table>\n",
       "</div>"
      ],
      "text/plain": [
       "        VehicleType  RegistrationYear  Gearbox  Power  Model  Kilometer  \\\n",
       "169921          0.0              2005      1.0    145   14.0     150000   \n",
       "90884           4.0              2011      0.0     90   26.0      60000   \n",
       "128733          5.0              2008      1.0    100  150.0      80000   \n",
       "55517           7.0              2007      1.0    150   11.0     150000   \n",
       "164272          4.0              2009      1.0     69  173.0      90000   \n",
       "\n",
       "        FuelType  Brand  Repaired  \n",
       "169921       5.0   19.0       0.0  \n",
       "90884        5.0    1.0       0.0  \n",
       "128733       5.0   24.0       0.0  \n",
       "55517        5.0    2.0       0.0  \n",
       "164272       5.0   37.0       0.0  "
      ]
     },
     "metadata": {},
     "output_type": "display_data"
    },
    {
     "data": {
      "text/html": [
       "<div>\n",
       "<style scoped>\n",
       "    .dataframe tbody tr th:only-of-type {\n",
       "        vertical-align: middle;\n",
       "    }\n",
       "\n",
       "    .dataframe tbody tr th {\n",
       "        vertical-align: top;\n",
       "    }\n",
       "\n",
       "    .dataframe thead th {\n",
       "        text-align: right;\n",
       "    }\n",
       "</style>\n",
       "<table border=\"1\" class=\"dataframe\">\n",
       "  <thead>\n",
       "    <tr style=\"text-align: right;\">\n",
       "      <th></th>\n",
       "      <th>VehicleType</th>\n",
       "      <th>RegistrationYear</th>\n",
       "      <th>Gearbox</th>\n",
       "      <th>Power</th>\n",
       "      <th>Model</th>\n",
       "      <th>Kilometer</th>\n",
       "      <th>FuelType</th>\n",
       "      <th>Brand</th>\n",
       "      <th>Repaired</th>\n",
       "    </tr>\n",
       "  </thead>\n",
       "  <tbody>\n",
       "    <tr>\n",
       "      <th>184291</th>\n",
       "      <td>5.0</td>\n",
       "      <td>2001</td>\n",
       "      <td>1.0</td>\n",
       "      <td>50</td>\n",
       "      <td>41.0</td>\n",
       "      <td>90000</td>\n",
       "      <td>5.0</td>\n",
       "      <td>30.0</td>\n",
       "      <td>0.0</td>\n",
       "    </tr>\n",
       "    <tr>\n",
       "      <th>229950</th>\n",
       "      <td>4.0</td>\n",
       "      <td>2006</td>\n",
       "      <td>1.0</td>\n",
       "      <td>129</td>\n",
       "      <td>11.0</td>\n",
       "      <td>80000</td>\n",
       "      <td>5.0</td>\n",
       "      <td>2.0</td>\n",
       "      <td>0.0</td>\n",
       "    </tr>\n",
       "    <tr>\n",
       "      <th>170946</th>\n",
       "      <td>4.0</td>\n",
       "      <td>2008</td>\n",
       "      <td>1.0</td>\n",
       "      <td>143</td>\n",
       "      <td>137.0</td>\n",
       "      <td>150000</td>\n",
       "      <td>5.0</td>\n",
       "      <td>22.0</td>\n",
       "      <td>0.0</td>\n",
       "    </tr>\n",
       "    <tr>\n",
       "      <th>174086</th>\n",
       "      <td>0.0</td>\n",
       "      <td>2011</td>\n",
       "      <td>1.0</td>\n",
       "      <td>101</td>\n",
       "      <td>150.0</td>\n",
       "      <td>10000</td>\n",
       "      <td>5.0</td>\n",
       "      <td>24.0</td>\n",
       "      <td>0.0</td>\n",
       "    </tr>\n",
       "    <tr>\n",
       "      <th>89916</th>\n",
       "      <td>5.0</td>\n",
       "      <td>2002</td>\n",
       "      <td>1.0</td>\n",
       "      <td>60</td>\n",
       "      <td>128.0</td>\n",
       "      <td>20000</td>\n",
       "      <td>5.0</td>\n",
       "      <td>10.0</td>\n",
       "      <td>0.0</td>\n",
       "    </tr>\n",
       "  </tbody>\n",
       "</table>\n",
       "</div>"
      ],
      "text/plain": [
       "        VehicleType  RegistrationYear  Gearbox  Power  Model  Kilometer  \\\n",
       "184291          5.0              2001      1.0     50   41.0      90000   \n",
       "229950          4.0              2006      1.0    129   11.0      80000   \n",
       "170946          4.0              2008      1.0    143  137.0     150000   \n",
       "174086          0.0              2011      1.0    101  150.0      10000   \n",
       "89916           5.0              2002      1.0     60  128.0      20000   \n",
       "\n",
       "        FuelType  Brand  Repaired  \n",
       "184291       5.0   30.0       0.0  \n",
       "229950       5.0    2.0       0.0  \n",
       "170946       5.0   22.0       0.0  \n",
       "174086       5.0   24.0       0.0  \n",
       "89916        5.0   10.0       0.0  "
      ]
     },
     "execution_count": 46,
     "metadata": {},
     "output_type": "execute_result"
    }
   ],
   "source": [
    "display(oe_features_train.head())\n",
    "oe_features_test.head()"
   ]
  },
  {
   "cell_type": "markdown",
   "metadata": {},
   "source": [
    "##### Прямое кодирование"
   ]
  },
  {
   "cell_type": "code",
   "execution_count": 47,
   "metadata": {},
   "outputs": [],
   "source": [
    "def get_ohe(data):\n",
    "    temp_data = pd.DataFrame(data=encoder_ohe.transform(data[['VehicleType', 'Gearbox', 'Model', \n",
    "                                                              'FuelType', 'Brand', 'Repaired']]), \n",
    "                             columns=encoder_ohe.get_feature_names_out()) # либо get_feature_names\n",
    "    data.drop(columns=['VehicleType', 'Gearbox', 'Model', 'FuelType', 'Brand', 'Repaired'], axis=1, inplace=True)\n",
    "    data = pd.concat([data.reset_index(drop=True), temp_data], axis=1)\n",
    "    return data"
   ]
  },
  {
   "cell_type": "code",
   "execution_count": 48,
   "metadata": {},
   "outputs": [],
   "source": [
    "categorical = ['VehicleType', 'Gearbox', 'Model', 'FuelType', 'Brand', 'Repaired']\n",
    "encoder_ohe = OneHotEncoder(handle_unknown='ignore', sparse=False)\n",
    "encoder_ohe.fit(features_train[categorical])\n",
    "\n",
    "ohe_features_train = get_ohe(features_train)\n",
    "ohe_features_test = get_ohe(features_test)"
   ]
  },
  {
   "cell_type": "code",
   "execution_count": 49,
   "metadata": {},
   "outputs": [
    {
     "data": {
      "text/plain": [
       "(197374, 310)"
      ]
     },
     "metadata": {},
     "output_type": "display_data"
    },
    {
     "data": {
      "text/plain": [
       "(65792, 310)"
      ]
     },
     "execution_count": 49,
     "metadata": {},
     "output_type": "execute_result"
    }
   ],
   "source": [
    "display(ohe_features_train.shape)\n",
    "ohe_features_test.shape"
   ]
  },
  {
   "cell_type": "markdown",
   "metadata": {},
   "source": [
    "Масштабируем преобразованные признаки методом стандартизации данных (только числовые, преобразованные OHE оставляем как есть)."
   ]
  },
  {
   "cell_type": "code",
   "execution_count": 50,
   "metadata": {},
   "outputs": [],
   "source": [
    "numeric = ['RegistrationYear', 'Kilometer', 'Power']\n",
    "scaler = StandardScaler()\n",
    "ohe_features_train[numeric] = scaler.fit_transform(ohe_features_train[numeric])\n",
    "ohe_features_test[numeric] = scaler.transform(ohe_features_test[numeric])"
   ]
  },
  {
   "cell_type": "markdown",
   "metadata": {},
   "source": [
    "Исходная тренировочная выборка нам далее не потребуется."
   ]
  },
  {
   "cell_type": "code",
   "execution_count": 51,
   "metadata": {},
   "outputs": [],
   "source": [
    "del features_train"
   ]
  },
  {
   "cell_type": "markdown",
   "metadata": {},
   "source": [
    "### Обучение моделей"
   ]
  },
  {
   "cell_type": "markdown",
   "metadata": {},
   "source": [
    "Создадим пустые списки, куда будем добавлять значения для будущей сравнительной таблицы."
   ]
  },
  {
   "cell_type": "code",
   "execution_count": 52,
   "metadata": {},
   "outputs": [],
   "source": [
    "best_model = []\n",
    "best_rmse = []\n",
    "best_model_fit_time = []\n",
    "best_model_score_time = []"
   ]
  },
  {
   "cell_type": "markdown",
   "metadata": {},
   "source": [
    "Напишем функцию, которая вернет результат обучения `GridSearchCV`"
   ]
  },
  {
   "cell_type": "code",
   "execution_count": 53,
   "metadata": {},
   "outputs": [],
   "source": [
    "def cv_estimator(model, params, features_train, target_train):\n",
    "    model = model\n",
    "    params = params\n",
    "    grid = GridSearchCV(model, params, scoring='neg_root_mean_squared_error', n_jobs=-1)\n",
    "    grid.fit(features_train, target_train)\n",
    "    best_model.append(grid.best_params_)\n",
    "    best_rmse.append(grid.best_score_ *- 1)\n",
    "    best_model_fit_time.append(grid.cv_results_['mean_fit_time'][grid.best_index_])\n",
    "    best_model_score_time.append(grid.cv_results_['mean_score_time'][grid.best_index_])\n",
    "    return grid"
   ]
  },
  {
   "cell_type": "markdown",
   "metadata": {},
   "source": [
    "#### Дерево решений"
   ]
  },
  {
   "cell_type": "code",
   "execution_count": 54,
   "metadata": {},
   "outputs": [],
   "source": [
    "grid_dt = cv_estimator(DecisionTreeRegressor(random_state=12345),\n",
    "                      {'max_depth': range(1,20), 'min_samples_leaf': range(1,20)},\n",
    "                      oe_features_train, target_train)"
   ]
  },
  {
   "cell_type": "code",
   "execution_count": 55,
   "metadata": {},
   "outputs": [
    {
     "name": "stdout",
     "output_type": "stream",
     "text": [
      "best_score: 1729.4181665521314\n",
      "Время обучения лучшей модели: 0.34016947746276854\n",
      "Время предсказания лучшей модели: 0.009393405914306641\n"
     ]
    }
   ],
   "source": [
    "print(f'best_score: {grid_dt.best_score_ *- 1}')\n",
    "print(f\"Время обучения лучшей модели: {grid_dt.cv_results_['mean_fit_time'][grid_dt.best_index_]}\")\n",
    "print(f\"Время предсказания лучшей модели: {grid_dt.cv_results_['mean_score_time'][grid_dt.best_index_]}\")"
   ]
  },
  {
   "cell_type": "code",
   "execution_count": 56,
   "metadata": {},
   "outputs": [
    {
     "data": {
      "text/plain": [
       "{'max_depth': 19, 'min_samples_leaf': 7}"
      ]
     },
     "execution_count": 56,
     "metadata": {},
     "output_type": "execute_result"
    }
   ],
   "source": [
    "grid_dt.best_params_"
   ]
  },
  {
   "cell_type": "markdown",
   "metadata": {},
   "source": [
    "#### Случайный лес"
   ]
  },
  {
   "cell_type": "code",
   "execution_count": 57,
   "metadata": {},
   "outputs": [],
   "source": [
    "grid_rf = cv_estimator(RandomForestRegressor(random_state=12345),\n",
    "                      {'max_depth': range(1, 21, 5),'n_estimators': range(10, 101, 10)},\n",
    "                      oe_features_train, target_train)"
   ]
  },
  {
   "cell_type": "code",
   "execution_count": 58,
   "metadata": {},
   "outputs": [
    {
     "name": "stdout",
     "output_type": "stream",
     "text": [
      "best_score: 1581.6552672514567\n",
      "Время обучения лучшей модели: 33.23853578567505\n",
      "Время предсказания лучшей модели: 0.8366421222686767\n"
     ]
    }
   ],
   "source": [
    "print(f'best_score: {grid_rf.best_score_ *- 1}')\n",
    "print(f\"Время обучения лучшей модели: {grid_rf.cv_results_['mean_fit_time'][grid_rf.best_index_]}\")\n",
    "print(f\"Время предсказания лучшей модели: {grid_rf.cv_results_['mean_score_time'][grid_rf.best_index_]}\")"
   ]
  },
  {
   "cell_type": "code",
   "execution_count": 59,
   "metadata": {},
   "outputs": [
    {
     "data": {
      "text/plain": [
       "{'max_depth': 16, 'n_estimators': 100}"
      ]
     },
     "execution_count": 59,
     "metadata": {},
     "output_type": "execute_result"
    }
   ],
   "source": [
    "grid_rf.best_params_"
   ]
  },
  {
   "cell_type": "markdown",
   "metadata": {},
   "source": [
    "#### CatBoostRegressor"
   ]
  },
  {
   "cell_type": "code",
   "execution_count": 60,
   "metadata": {},
   "outputs": [],
   "source": [
    "grid_cb = cv_estimator(CatBoostRegressor(random_state=12345, verbose=False),\n",
    "                      {'depth': range(1,5), 'learning_rate':[.1, .3, .5], 'iterations':range(10, 101, 10)},\n",
    "                      oe_features_train, target_train)"
   ]
  },
  {
   "cell_type": "code",
   "execution_count": 61,
   "metadata": {},
   "outputs": [
    {
     "name": "stdout",
     "output_type": "stream",
     "text": [
      "best_score: 1700.5907340371734\n",
      "Время обучения лучшей модели: 2.171298360824585\n",
      "Время предсказания лучшей модели: 0.008271026611328124\n"
     ]
    }
   ],
   "source": [
    "print(f'best_score: {grid_cb.best_score_ *- 1}')\n",
    "print(f\"Время обучения лучшей модели: {grid_cb.cv_results_['mean_fit_time'][grid_cb.best_index_]}\")\n",
    "print(f\"Время предсказания лучшей модели: {grid_cb.cv_results_['mean_score_time'][grid_cb.best_index_]}\")"
   ]
  },
  {
   "cell_type": "code",
   "execution_count": 62,
   "metadata": {},
   "outputs": [
    {
     "data": {
      "text/plain": [
       "{'depth': 4, 'iterations': 100, 'learning_rate': 0.5}"
      ]
     },
     "execution_count": 62,
     "metadata": {},
     "output_type": "execute_result"
    }
   ],
   "source": [
    "grid_cb.best_params_"
   ]
  },
  {
   "cell_type": "markdown",
   "metadata": {},
   "source": [
    "#### LGBMRegressor"
   ]
  },
  {
   "cell_type": "code",
   "execution_count": 63,
   "metadata": {},
   "outputs": [],
   "source": [
    "grid_gbm = cv_estimator(LGBMRegressor(random_state=12345),\n",
    "                      {'max_depth': range(1,5), 'learning_rate':[.1, .3, .5], 'n_estimators': range(10, 101, 10)},\n",
    "                      oe_features_train, target_train)"
   ]
  },
  {
   "cell_type": "code",
   "execution_count": 64,
   "metadata": {
    "scrolled": true
   },
   "outputs": [
    {
     "name": "stdout",
     "output_type": "stream",
     "text": [
      "best_score: 1655.9894158436423\n",
      "Время обучения лучшей модели: 0.7667516708374024\n",
      "Время предсказания лучшей модели: 0.11495308876037598\n"
     ]
    }
   ],
   "source": [
    "print(f'best_score: {grid_gbm.best_score_ *- 1}')\n",
    "print(f\"Время обучения лучшей модели: {grid_gbm.cv_results_['mean_fit_time'][grid_gbm.best_index_]}\")\n",
    "print(f\"Время предсказания лучшей модели: {grid_gbm.cv_results_['mean_score_time'][grid_gbm.best_index_]}\")"
   ]
  },
  {
   "cell_type": "code",
   "execution_count": 65,
   "metadata": {},
   "outputs": [
    {
     "data": {
      "text/plain": [
       "{'learning_rate': 0.5, 'max_depth': 4, 'n_estimators': 100}"
      ]
     },
     "execution_count": 65,
     "metadata": {},
     "output_type": "execute_result"
    }
   ],
   "source": [
    "grid_gbm.best_params_"
   ]
  },
  {
   "cell_type": "markdown",
   "metadata": {},
   "source": [
    "#### Линейная регрессия"
   ]
  },
  {
   "cell_type": "code",
   "execution_count": 66,
   "metadata": {},
   "outputs": [],
   "source": [
    "grid_lr = cv_estimator(LinearRegression(),\n",
    "                      {'fit_intercept': [True, False], 'copy_X': [True, False]},\n",
    "                      ohe_features_train, target_train)"
   ]
  },
  {
   "cell_type": "code",
   "execution_count": 67,
   "metadata": {},
   "outputs": [
    {
     "name": "stdout",
     "output_type": "stream",
     "text": [
      "best_score: 2513.83629689436\n",
      "Время обучения лучшей модели: 142.7390263080597\n",
      "Время предсказания лучшей модели: 0.6956876754760742\n"
     ]
    }
   ],
   "source": [
    "print(f'best_score: {grid_lr.best_score_ *- 1}')\n",
    "print(f\"Время обучения лучшей модели: {grid_lr.cv_results_['mean_fit_time'][grid_lr.best_index_]}\")\n",
    "print(f\"Время предсказания лучшей модели: {grid_lr.cv_results_['mean_score_time'][grid_lr.best_index_]}\")"
   ]
  },
  {
   "cell_type": "code",
   "execution_count": 68,
   "metadata": {},
   "outputs": [
    {
     "data": {
      "text/plain": [
       "{'copy_X': True, 'fit_intercept': False}"
      ]
     },
     "execution_count": 68,
     "metadata": {},
     "output_type": "execute_result"
    }
   ],
   "source": [
    "grid_lr.best_params_"
   ]
  },
  {
   "cell_type": "markdown",
   "metadata": {},
   "source": [
    "### Анализ результатов"
   ]
  },
  {
   "cell_type": "markdown",
   "metadata": {},
   "source": [
    "Обобщим результаты в таблице"
   ]
  },
  {
   "cell_type": "code",
   "execution_count": 69,
   "metadata": {},
   "outputs": [
    {
     "data": {
      "text/html": [
       "<div>\n",
       "<style scoped>\n",
       "    .dataframe tbody tr th:only-of-type {\n",
       "        vertical-align: middle;\n",
       "    }\n",
       "\n",
       "    .dataframe tbody tr th {\n",
       "        vertical-align: top;\n",
       "    }\n",
       "\n",
       "    .dataframe thead th {\n",
       "        text-align: right;\n",
       "    }\n",
       "</style>\n",
       "<table border=\"1\" class=\"dataframe\">\n",
       "  <thead>\n",
       "    <tr style=\"text-align: right;\">\n",
       "      <th></th>\n",
       "      <th>модель</th>\n",
       "      <th>гиперпараметры лучшей модели</th>\n",
       "      <th>лучшая RMSE</th>\n",
       "      <th>время обучения лучшей модели</th>\n",
       "      <th>время предсказания лучшей модели</th>\n",
       "    </tr>\n",
       "  </thead>\n",
       "  <tbody>\n",
       "    <tr>\n",
       "      <th>0</th>\n",
       "      <td>DecisionTreeRegressor</td>\n",
       "      <td>{'max_depth': 19, 'min_samples_leaf': 7}</td>\n",
       "      <td>1729.418167</td>\n",
       "      <td>0.340169</td>\n",
       "      <td>0.009393</td>\n",
       "    </tr>\n",
       "    <tr>\n",
       "      <th>1</th>\n",
       "      <td>RandomForestRegressor</td>\n",
       "      <td>{'max_depth': 16, 'n_estimators': 100}</td>\n",
       "      <td>1581.655267</td>\n",
       "      <td>33.238536</td>\n",
       "      <td>0.836642</td>\n",
       "    </tr>\n",
       "    <tr>\n",
       "      <th>2</th>\n",
       "      <td>CatBoostRegressor</td>\n",
       "      <td>{'depth': 4, 'iterations': 100, 'learning_rate...</td>\n",
       "      <td>1700.590734</td>\n",
       "      <td>2.171298</td>\n",
       "      <td>0.008271</td>\n",
       "    </tr>\n",
       "    <tr>\n",
       "      <th>3</th>\n",
       "      <td>LGBMRegressor</td>\n",
       "      <td>{'learning_rate': 0.5, 'max_depth': 4, 'n_esti...</td>\n",
       "      <td>1655.989416</td>\n",
       "      <td>0.766752</td>\n",
       "      <td>0.114953</td>\n",
       "    </tr>\n",
       "    <tr>\n",
       "      <th>4</th>\n",
       "      <td>LinearRegression</td>\n",
       "      <td>{'copy_X': True, 'fit_intercept': False}</td>\n",
       "      <td>2513.836297</td>\n",
       "      <td>142.739026</td>\n",
       "      <td>0.695688</td>\n",
       "    </tr>\n",
       "  </tbody>\n",
       "</table>\n",
       "</div>"
      ],
      "text/plain": [
       "                  модель                       гиперпараметры лучшей модели  \\\n",
       "0  DecisionTreeRegressor           {'max_depth': 19, 'min_samples_leaf': 7}   \n",
       "1  RandomForestRegressor             {'max_depth': 16, 'n_estimators': 100}   \n",
       "2      CatBoostRegressor  {'depth': 4, 'iterations': 100, 'learning_rate...   \n",
       "3          LGBMRegressor  {'learning_rate': 0.5, 'max_depth': 4, 'n_esti...   \n",
       "4       LinearRegression           {'copy_X': True, 'fit_intercept': False}   \n",
       "\n",
       "   лучшая RMSE  время обучения лучшей модели  время предсказания лучшей модели  \n",
       "0  1729.418167                      0.340169                          0.009393  \n",
       "1  1581.655267                     33.238536                          0.836642  \n",
       "2  1700.590734                      2.171298                          0.008271  \n",
       "3  1655.989416                      0.766752                          0.114953  \n",
       "4  2513.836297                    142.739026                          0.695688  "
      ]
     },
     "execution_count": 69,
     "metadata": {},
     "output_type": "execute_result"
    }
   ],
   "source": [
    "models_compared = pd.DataFrame(\n",
    "    {\n",
    "        'модель':['DecisionTreeRegressor',\n",
    "                  'RandomForestRegressor',\n",
    "                  'CatBoostRegressor',\n",
    "                  'LGBMRegressor', \n",
    "                  'LinearRegression'],\n",
    "        'гиперпараметры лучшей модели': best_model, \n",
    "        'лучшая RMSE': best_rmse,\n",
    "        'время обучения лучшей модели': best_model_fit_time,\n",
    "        'время предсказания лучшей модели': best_model_score_time\n",
    "    }\n",
    ")\n",
    "\n",
    "models_compared"
   ]
  },
  {
   "cell_type": "markdown",
   "metadata": {},
   "source": [
    "Худший результат на кросс-валидации как по качеству, так и по скорости, показывает линейная регрессия, обученная на признаках, преобразованных OHE. Наилучшее значение RMSE показывает случайный лес, однако эта модель проказывает невысокую скорость. Быстрее всего обучается и предсказывает дерево решений, но его качество ниже, чем у ансамблевых моделей. Лучший результат по совокупности качества и средней скорости показывает `LGBMRegressor`."
   ]
  },
  {
   "cell_type": "markdown",
   "metadata": {},
   "source": [
    "### Проверка лучшей модели на тестовой выборке"
   ]
  },
  {
   "cell_type": "markdown",
   "metadata": {},
   "source": [
    "При `refit=True` модель обучается на лучших параметрах на всем датасете. Таким образом, модель уже обучена (метод `.predict()` у грида автоматически вызывает его у атрибута `.best_estimator_`). Сделаем предсказания на тестовой выборке и определим значение метрики RMSE."
   ]
  },
  {
   "cell_type": "code",
   "execution_count": 70,
   "metadata": {
    "scrolled": true
   },
   "outputs": [
    {
     "name": "stdout",
     "output_type": "stream",
     "text": [
      "CPU times: user 297 ms, sys: 270 ms, total: 567 ms\n",
      "Wall time: 102 ms\n"
     ]
    }
   ],
   "source": [
    "%%time\n",
    "predictions_grid_test = grid_gbm.predict(oe_features_test)"
   ]
  },
  {
   "cell_type": "code",
   "execution_count": 71,
   "metadata": {},
   "outputs": [
    {
     "name": "stdout",
     "output_type": "stream",
     "text": [
      "RMSE = 1655.780462167465\n"
     ]
    }
   ],
   "source": [
    "mse = mean_squared_error(target_test, predictions_grid_test)\n",
    "print(\"RMSE =\", mse ** 0.5)"
   ]
  },
  {
   "cell_type": "markdown",
   "metadata": {},
   "source": [
    "Проверим результаты, обучив модель с лучшими параметрами."
   ]
  },
  {
   "cell_type": "code",
   "execution_count": 72,
   "metadata": {},
   "outputs": [
    {
     "data": {
      "text/html": [
       "<style>#sk-container-id-1 {color: black;background-color: white;}#sk-container-id-1 pre{padding: 0;}#sk-container-id-1 div.sk-toggleable {background-color: white;}#sk-container-id-1 label.sk-toggleable__label {cursor: pointer;display: block;width: 100%;margin-bottom: 0;padding: 0.3em;box-sizing: border-box;text-align: center;}#sk-container-id-1 label.sk-toggleable__label-arrow:before {content: \"▸\";float: left;margin-right: 0.25em;color: #696969;}#sk-container-id-1 label.sk-toggleable__label-arrow:hover:before {color: black;}#sk-container-id-1 div.sk-estimator:hover label.sk-toggleable__label-arrow:before {color: black;}#sk-container-id-1 div.sk-toggleable__content {max-height: 0;max-width: 0;overflow: hidden;text-align: left;background-color: #f0f8ff;}#sk-container-id-1 div.sk-toggleable__content pre {margin: 0.2em;color: black;border-radius: 0.25em;background-color: #f0f8ff;}#sk-container-id-1 input.sk-toggleable__control:checked~div.sk-toggleable__content {max-height: 200px;max-width: 100%;overflow: auto;}#sk-container-id-1 input.sk-toggleable__control:checked~label.sk-toggleable__label-arrow:before {content: \"▾\";}#sk-container-id-1 div.sk-estimator input.sk-toggleable__control:checked~label.sk-toggleable__label {background-color: #d4ebff;}#sk-container-id-1 div.sk-label input.sk-toggleable__control:checked~label.sk-toggleable__label {background-color: #d4ebff;}#sk-container-id-1 input.sk-hidden--visually {border: 0;clip: rect(1px 1px 1px 1px);clip: rect(1px, 1px, 1px, 1px);height: 1px;margin: -1px;overflow: hidden;padding: 0;position: absolute;width: 1px;}#sk-container-id-1 div.sk-estimator {font-family: monospace;background-color: #f0f8ff;border: 1px dotted black;border-radius: 0.25em;box-sizing: border-box;margin-bottom: 0.5em;}#sk-container-id-1 div.sk-estimator:hover {background-color: #d4ebff;}#sk-container-id-1 div.sk-parallel-item::after {content: \"\";width: 100%;border-bottom: 1px solid gray;flex-grow: 1;}#sk-container-id-1 div.sk-label:hover label.sk-toggleable__label {background-color: #d4ebff;}#sk-container-id-1 div.sk-serial::before {content: \"\";position: absolute;border-left: 1px solid gray;box-sizing: border-box;top: 0;bottom: 0;left: 50%;z-index: 0;}#sk-container-id-1 div.sk-serial {display: flex;flex-direction: column;align-items: center;background-color: white;padding-right: 0.2em;padding-left: 0.2em;position: relative;}#sk-container-id-1 div.sk-item {position: relative;z-index: 1;}#sk-container-id-1 div.sk-parallel {display: flex;align-items: stretch;justify-content: center;background-color: white;position: relative;}#sk-container-id-1 div.sk-item::before, #sk-container-id-1 div.sk-parallel-item::before {content: \"\";position: absolute;border-left: 1px solid gray;box-sizing: border-box;top: 0;bottom: 0;left: 50%;z-index: -1;}#sk-container-id-1 div.sk-parallel-item {display: flex;flex-direction: column;z-index: 1;position: relative;background-color: white;}#sk-container-id-1 div.sk-parallel-item:first-child::after {align-self: flex-end;width: 50%;}#sk-container-id-1 div.sk-parallel-item:last-child::after {align-self: flex-start;width: 50%;}#sk-container-id-1 div.sk-parallel-item:only-child::after {width: 0;}#sk-container-id-1 div.sk-dashed-wrapped {border: 1px dashed gray;margin: 0 0.4em 0.5em 0.4em;box-sizing: border-box;padding-bottom: 0.4em;background-color: white;}#sk-container-id-1 div.sk-label label {font-family: monospace;font-weight: bold;display: inline-block;line-height: 1.2em;}#sk-container-id-1 div.sk-label-container {text-align: center;}#sk-container-id-1 div.sk-container {/* jupyter's `normalize.less` sets `[hidden] { display: none; }` but bootstrap.min.css set `[hidden] { display: none !important; }` so we also need the `!important` here to be able to override the default hidden behavior on the sphinx rendered scikit-learn.org. See: https://github.com/scikit-learn/scikit-learn/issues/21755 */display: inline-block !important;position: relative;}#sk-container-id-1 div.sk-text-repr-fallback {display: none;}</style><div id=\"sk-container-id-1\" class=\"sk-top-container\"><div class=\"sk-text-repr-fallback\"><pre>LGBMRegressor(learning_rate=0.5, max_depth=4, random_state=12345)</pre><b>In a Jupyter environment, please rerun this cell to show the HTML representation or trust the notebook. <br />On GitHub, the HTML representation is unable to render, please try loading this page with nbviewer.org.</b></div><div class=\"sk-container\" hidden><div class=\"sk-item\"><div class=\"sk-estimator sk-toggleable\"><input class=\"sk-toggleable__control sk-hidden--visually\" id=\"sk-estimator-id-1\" type=\"checkbox\" checked><label for=\"sk-estimator-id-1\" class=\"sk-toggleable__label sk-toggleable__label-arrow\">LGBMRegressor</label><div class=\"sk-toggleable__content\"><pre>LGBMRegressor(learning_rate=0.5, max_depth=4, random_state=12345)</pre></div></div></div></div></div>"
      ],
      "text/plain": [
       "LGBMRegressor(learning_rate=0.5, max_depth=4, random_state=12345)"
      ]
     },
     "execution_count": 72,
     "metadata": {},
     "output_type": "execute_result"
    }
   ],
   "source": [
    "grid_gbm.best_estimator_"
   ]
  },
  {
   "cell_type": "code",
   "execution_count": 73,
   "metadata": {
    "scrolled": true
   },
   "outputs": [
    {
     "name": "stdout",
     "output_type": "stream",
     "text": [
      "CPU times: user 2.6 s, sys: 666 ms, total: 3.26 s\n",
      "Wall time: 527 ms\n"
     ]
    },
    {
     "data": {
      "text/html": [
       "<style>#sk-container-id-2 {color: black;background-color: white;}#sk-container-id-2 pre{padding: 0;}#sk-container-id-2 div.sk-toggleable {background-color: white;}#sk-container-id-2 label.sk-toggleable__label {cursor: pointer;display: block;width: 100%;margin-bottom: 0;padding: 0.3em;box-sizing: border-box;text-align: center;}#sk-container-id-2 label.sk-toggleable__label-arrow:before {content: \"▸\";float: left;margin-right: 0.25em;color: #696969;}#sk-container-id-2 label.sk-toggleable__label-arrow:hover:before {color: black;}#sk-container-id-2 div.sk-estimator:hover label.sk-toggleable__label-arrow:before {color: black;}#sk-container-id-2 div.sk-toggleable__content {max-height: 0;max-width: 0;overflow: hidden;text-align: left;background-color: #f0f8ff;}#sk-container-id-2 div.sk-toggleable__content pre {margin: 0.2em;color: black;border-radius: 0.25em;background-color: #f0f8ff;}#sk-container-id-2 input.sk-toggleable__control:checked~div.sk-toggleable__content {max-height: 200px;max-width: 100%;overflow: auto;}#sk-container-id-2 input.sk-toggleable__control:checked~label.sk-toggleable__label-arrow:before {content: \"▾\";}#sk-container-id-2 div.sk-estimator input.sk-toggleable__control:checked~label.sk-toggleable__label {background-color: #d4ebff;}#sk-container-id-2 div.sk-label input.sk-toggleable__control:checked~label.sk-toggleable__label {background-color: #d4ebff;}#sk-container-id-2 input.sk-hidden--visually {border: 0;clip: rect(1px 1px 1px 1px);clip: rect(1px, 1px, 1px, 1px);height: 1px;margin: -1px;overflow: hidden;padding: 0;position: absolute;width: 1px;}#sk-container-id-2 div.sk-estimator {font-family: monospace;background-color: #f0f8ff;border: 1px dotted black;border-radius: 0.25em;box-sizing: border-box;margin-bottom: 0.5em;}#sk-container-id-2 div.sk-estimator:hover {background-color: #d4ebff;}#sk-container-id-2 div.sk-parallel-item::after {content: \"\";width: 100%;border-bottom: 1px solid gray;flex-grow: 1;}#sk-container-id-2 div.sk-label:hover label.sk-toggleable__label {background-color: #d4ebff;}#sk-container-id-2 div.sk-serial::before {content: \"\";position: absolute;border-left: 1px solid gray;box-sizing: border-box;top: 0;bottom: 0;left: 50%;z-index: 0;}#sk-container-id-2 div.sk-serial {display: flex;flex-direction: column;align-items: center;background-color: white;padding-right: 0.2em;padding-left: 0.2em;position: relative;}#sk-container-id-2 div.sk-item {position: relative;z-index: 1;}#sk-container-id-2 div.sk-parallel {display: flex;align-items: stretch;justify-content: center;background-color: white;position: relative;}#sk-container-id-2 div.sk-item::before, #sk-container-id-2 div.sk-parallel-item::before {content: \"\";position: absolute;border-left: 1px solid gray;box-sizing: border-box;top: 0;bottom: 0;left: 50%;z-index: -1;}#sk-container-id-2 div.sk-parallel-item {display: flex;flex-direction: column;z-index: 1;position: relative;background-color: white;}#sk-container-id-2 div.sk-parallel-item:first-child::after {align-self: flex-end;width: 50%;}#sk-container-id-2 div.sk-parallel-item:last-child::after {align-self: flex-start;width: 50%;}#sk-container-id-2 div.sk-parallel-item:only-child::after {width: 0;}#sk-container-id-2 div.sk-dashed-wrapped {border: 1px dashed gray;margin: 0 0.4em 0.5em 0.4em;box-sizing: border-box;padding-bottom: 0.4em;background-color: white;}#sk-container-id-2 div.sk-label label {font-family: monospace;font-weight: bold;display: inline-block;line-height: 1.2em;}#sk-container-id-2 div.sk-label-container {text-align: center;}#sk-container-id-2 div.sk-container {/* jupyter's `normalize.less` sets `[hidden] { display: none; }` but bootstrap.min.css set `[hidden] { display: none !important; }` so we also need the `!important` here to be able to override the default hidden behavior on the sphinx rendered scikit-learn.org. See: https://github.com/scikit-learn/scikit-learn/issues/21755 */display: inline-block !important;position: relative;}#sk-container-id-2 div.sk-text-repr-fallback {display: none;}</style><div id=\"sk-container-id-2\" class=\"sk-top-container\"><div class=\"sk-text-repr-fallback\"><pre>LGBMRegressor(learning_rate=0.5, max_depth=4, random_state=12345)</pre><b>In a Jupyter environment, please rerun this cell to show the HTML representation or trust the notebook. <br />On GitHub, the HTML representation is unable to render, please try loading this page with nbviewer.org.</b></div><div class=\"sk-container\" hidden><div class=\"sk-item\"><div class=\"sk-estimator sk-toggleable\"><input class=\"sk-toggleable__control sk-hidden--visually\" id=\"sk-estimator-id-2\" type=\"checkbox\" checked><label for=\"sk-estimator-id-2\" class=\"sk-toggleable__label sk-toggleable__label-arrow\">LGBMRegressor</label><div class=\"sk-toggleable__content\"><pre>LGBMRegressor(learning_rate=0.5, max_depth=4, random_state=12345)</pre></div></div></div></div></div>"
      ],
      "text/plain": [
       "LGBMRegressor(learning_rate=0.5, max_depth=4, random_state=12345)"
      ]
     },
     "execution_count": 73,
     "metadata": {},
     "output_type": "execute_result"
    }
   ],
   "source": [
    "%%time\n",
    "model_gbm = LGBMRegressor(learning_rate=0.5, max_depth=4, random_state=12345)\n",
    "model_gbm.fit(oe_features_train, target_train)"
   ]
  },
  {
   "cell_type": "code",
   "execution_count": 74,
   "metadata": {},
   "outputs": [
    {
     "name": "stdout",
     "output_type": "stream",
     "text": [
      "CPU times: user 321 ms, sys: 27.4 ms, total: 348 ms\n",
      "Wall time: 50.4 ms\n"
     ]
    }
   ],
   "source": [
    "%%time\n",
    "predictions_model_test = model_gbm.predict(oe_features_test)"
   ]
  },
  {
   "cell_type": "code",
   "execution_count": 75,
   "metadata": {},
   "outputs": [
    {
     "name": "stdout",
     "output_type": "stream",
     "text": [
      "RMSE = 1655.780462167465\n"
     ]
    }
   ],
   "source": [
    "mse = mean_squared_error(target_test, predictions_model_test)\n",
    "print(\"RMSE =\", mse ** 0.5)"
   ]
  },
  {
   "cell_type": "markdown",
   "metadata": {},
   "source": [
    "**Вывод:** \n",
    "\n",
    "Лучшие результаты на кросс-валидации показывает модель `LGBMRegressor` c гиперпараметрами: `learning_rate=0.5, max_depth=4`. Качество модели проверено на тестовой выборке: значение метрики RMSE не сильно отличается от полученного на кросс-валидации, скорость обучения и предсказания также остаются высокими (и того же порядка)."
   ]
  },
  {
   "cell_type": "markdown",
   "metadata": {},
   "source": [
    "## Итоги"
   ]
  },
  {
   "cell_type": "markdown",
   "metadata": {},
   "source": [
    "На основании имеющихся в рапоряжении данных о технических характеристиках, комплектациях и ценах для сервиса по продаже автомобилей с пробегом «Не бит, не крашен» была построена модель для определения стоимости. В ходе работы были выполнены следующие действия:\n",
    "\n",
    "* данные загружены;\n",
    "* данные изучены, проведена предобработка данных (обработаны пропуски и аномальные значения, удалены неинформативные столбцы);\n",
    "* подготовлены выборки для обучения моделей: данные разделены на выборки, категориальные признаки закодированы.\n",
    "* обучены модели: `DecisionTreeRegressor`, `RandomForestRegressor`, `CatBoostRegressor`, `LGBMRegressor`, `LinearRegression`, для каждой подобраны гиперпараметры для определения лучшей модели;\n",
    "* проанализированы время обучения, время предсказания и качество моделей.\n",
    "* в соответствии с критериями заказчика выбрана лучшая модель, проверено её качество на тестовой выборке.\n",
    "\n",
    "**Общий вывод**: \n",
    "Наилучший результат по совокупности качества (метрика RMSE) и скорости обучения и предсказания показывает модель `LGBMRegressor` c гиперпараметрами: `learning_rate=0.5, max_depth=4`. Качество модели проверено на тестовой выборке."
   ]
  }
 ],
 "metadata": {
  "ExecuteTimeLog": [
   {
    "duration": 1194,
    "start_time": "2023-06-04T10:55:05.260Z"
   },
   {
    "duration": 529,
    "start_time": "2023-06-04T11:00:39.207Z"
   },
   {
    "duration": 4,
    "start_time": "2023-06-04T11:07:04.214Z"
   },
   {
    "duration": 1570,
    "start_time": "2023-06-04T19:44:35.571Z"
   },
   {
    "duration": 1890,
    "start_time": "2023-06-04T19:44:56.790Z"
   },
   {
    "duration": 26,
    "start_time": "2023-06-04T19:45:51.579Z"
   },
   {
    "duration": 138,
    "start_time": "2023-06-04T19:46:02.131Z"
   },
   {
    "duration": 2421,
    "start_time": "2023-06-05T23:13:50.636Z"
   },
   {
    "duration": 2806,
    "start_time": "2023-06-05T23:13:54.395Z"
   },
   {
    "duration": 19,
    "start_time": "2023-06-05T23:13:57.742Z"
   },
   {
    "duration": 120,
    "start_time": "2023-06-05T23:13:59.263Z"
   },
   {
    "duration": 6,
    "start_time": "2023-06-05T23:14:17.857Z"
   },
   {
    "duration": 123,
    "start_time": "2023-06-05T23:15:06.089Z"
   },
   {
    "duration": 9,
    "start_time": "2023-06-05T23:15:46.800Z"
   },
   {
    "duration": 10,
    "start_time": "2023-06-05T23:15:55.003Z"
   },
   {
    "duration": 734,
    "start_time": "2023-06-05T23:17:32.156Z"
   },
   {
    "duration": 1446,
    "start_time": "2023-06-06T10:57:30.695Z"
   },
   {
    "duration": 1591,
    "start_time": "2023-06-06T10:57:33.031Z"
   },
   {
    "duration": 17,
    "start_time": "2023-06-06T10:57:35.053Z"
   },
   {
    "duration": 96,
    "start_time": "2023-06-06T10:57:35.940Z"
   },
   {
    "duration": 585,
    "start_time": "2023-06-06T10:57:36.557Z"
   },
   {
    "duration": 29471,
    "start_time": "2023-06-06T10:57:41.753Z"
   },
   {
    "duration": 41,
    "start_time": "2023-06-06T11:01:36.049Z"
   },
   {
    "duration": 1336,
    "start_time": "2023-06-06T11:01:45.109Z"
   },
   {
    "duration": 4,
    "start_time": "2023-06-06T11:01:51.816Z"
   },
   {
    "duration": 1623,
    "start_time": "2023-06-06T11:01:52.825Z"
   },
   {
    "duration": 16,
    "start_time": "2023-06-06T11:01:54.450Z"
   },
   {
    "duration": 114,
    "start_time": "2023-06-06T11:01:54.468Z"
   },
   {
    "duration": 569,
    "start_time": "2023-06-06T11:01:54.669Z"
   },
   {
    "duration": 38795,
    "start_time": "2023-06-06T11:01:56.882Z"
   },
   {
    "duration": 1843,
    "start_time": "2023-06-07T12:50:11.291Z"
   },
   {
    "duration": 1973,
    "start_time": "2023-06-07T12:50:13.136Z"
   },
   {
    "duration": 35,
    "start_time": "2023-06-07T12:50:15.111Z"
   },
   {
    "duration": 190,
    "start_time": "2023-06-07T12:50:15.147Z"
   },
   {
    "duration": 599,
    "start_time": "2023-06-07T12:50:15.339Z"
   },
   {
    "duration": 128,
    "start_time": "2023-06-07T12:50:23.194Z"
   },
   {
    "duration": 101231,
    "start_time": "2023-06-07T12:50:33.748Z"
   },
   {
    "duration": 18629,
    "start_time": "2023-06-07T12:55:27.949Z"
   },
   {
    "duration": 63,
    "start_time": "2023-06-07T20:16:19.252Z"
   },
   {
    "duration": 1540,
    "start_time": "2023-06-07T20:16:25.011Z"
   },
   {
    "duration": 1374,
    "start_time": "2023-06-07T20:16:26.553Z"
   },
   {
    "duration": 18,
    "start_time": "2023-06-07T20:16:27.928Z"
   },
   {
    "duration": 150,
    "start_time": "2023-06-07T20:16:27.947Z"
   },
   {
    "duration": 687,
    "start_time": "2023-06-07T20:16:28.100Z"
   },
   {
    "duration": 8,
    "start_time": "2023-06-07T20:16:28.788Z"
   },
   {
    "duration": 8,
    "start_time": "2023-06-07T20:16:38.396Z"
   },
   {
    "duration": 1901,
    "start_time": "2023-06-08T14:35:53.714Z"
   },
   {
    "duration": 1778,
    "start_time": "2023-06-08T14:36:13.777Z"
   },
   {
    "duration": 16,
    "start_time": "2023-06-08T14:36:49.769Z"
   },
   {
    "duration": 135,
    "start_time": "2023-06-08T14:37:26.135Z"
   },
   {
    "duration": 361,
    "start_time": "2023-06-08T14:38:29.690Z"
   },
   {
    "duration": 85,
    "start_time": "2023-06-08T14:38:49.648Z"
   },
   {
    "duration": 111,
    "start_time": "2023-06-08T14:39:27.846Z"
   },
   {
    "duration": 284,
    "start_time": "2023-06-08T14:42:05.994Z"
   },
   {
    "duration": 341,
    "start_time": "2023-06-08T14:42:45.025Z"
   },
   {
    "duration": 102,
    "start_time": "2023-06-08T14:43:04.552Z"
   },
   {
    "duration": 258,
    "start_time": "2023-06-08T15:10:48.846Z"
   },
   {
    "duration": 173,
    "start_time": "2023-06-08T15:11:19.990Z"
   },
   {
    "duration": 9,
    "start_time": "2023-06-08T15:11:27.897Z"
   },
   {
    "duration": 53,
    "start_time": "2023-06-08T15:40:57.339Z"
   },
   {
    "duration": 181,
    "start_time": "2023-06-08T15:41:27.364Z"
   },
   {
    "duration": 1833,
    "start_time": "2023-06-08T15:42:05.492Z"
   },
   {
    "duration": 48,
    "start_time": "2023-06-08T15:42:48.831Z"
   },
   {
    "duration": 8,
    "start_time": "2023-06-08T15:43:22.159Z"
   },
   {
    "duration": 27,
    "start_time": "2023-06-08T15:44:10.950Z"
   },
   {
    "duration": 1192,
    "start_time": "2023-06-08T15:44:23.542Z"
   },
   {
    "duration": 34,
    "start_time": "2023-06-08T15:44:44.769Z"
   },
   {
    "duration": 80,
    "start_time": "2023-06-08T15:44:54.791Z"
   },
   {
    "duration": 776,
    "start_time": "2023-06-08T15:45:05.404Z"
   },
   {
    "duration": 149,
    "start_time": "2023-06-08T15:45:35.254Z"
   },
   {
    "duration": 575,
    "start_time": "2023-06-08T15:46:35.363Z"
   },
   {
    "duration": 41,
    "start_time": "2023-06-08T15:47:07.887Z"
   },
   {
    "duration": 299,
    "start_time": "2023-06-08T15:47:19.535Z"
   },
   {
    "duration": 207,
    "start_time": "2023-06-08T15:47:48.251Z"
   },
   {
    "duration": 173,
    "start_time": "2023-06-08T15:48:47.411Z"
   },
   {
    "duration": 14,
    "start_time": "2023-06-08T15:49:14.189Z"
   },
   {
    "duration": 146,
    "start_time": "2023-06-08T15:49:27.644Z"
   },
   {
    "duration": 321,
    "start_time": "2023-06-08T15:49:51.345Z"
   },
   {
    "duration": 149,
    "start_time": "2023-06-08T15:50:08.247Z"
   },
   {
    "duration": 59,
    "start_time": "2023-06-08T15:51:32.446Z"
   },
   {
    "duration": 69,
    "start_time": "2023-06-08T15:53:43.814Z"
   },
   {
    "duration": 17,
    "start_time": "2023-06-08T15:54:13.927Z"
   },
   {
    "duration": 57,
    "start_time": "2023-06-08T15:54:22.554Z"
   },
   {
    "duration": 12,
    "start_time": "2023-06-08T15:55:44.035Z"
   },
   {
    "duration": 75,
    "start_time": "2023-06-08T15:56:55.153Z"
   },
   {
    "duration": 105,
    "start_time": "2023-06-08T15:58:58.170Z"
   },
   {
    "duration": 3,
    "start_time": "2023-06-08T15:59:21.229Z"
   },
   {
    "duration": 590,
    "start_time": "2023-06-08T16:00:21.736Z"
   },
   {
    "duration": 580,
    "start_time": "2023-06-08T16:00:46.069Z"
   },
   {
    "duration": 4,
    "start_time": "2023-06-08T16:02:33.643Z"
   },
   {
    "duration": 223,
    "start_time": "2023-06-08T16:03:35.308Z"
   },
   {
    "duration": 35,
    "start_time": "2023-06-08T16:04:04.690Z"
   },
   {
    "duration": 3,
    "start_time": "2023-06-08T16:23:16.805Z"
   },
   {
    "duration": 13581,
    "start_time": "2023-06-08T16:27:36.087Z"
   },
   {
    "duration": 89,
    "start_time": "2023-06-08T16:28:27.955Z"
   },
   {
    "duration": 673467,
    "start_time": "2023-06-08T16:46:41.620Z"
   },
   {
    "duration": 32117,
    "start_time": "2023-06-08T16:59:35.146Z"
   },
   {
    "duration": 12,
    "start_time": "2023-06-08T17:00:09.203Z"
   },
   {
    "duration": 11,
    "start_time": "2023-06-08T17:00:12.577Z"
   },
   {
    "duration": 704959,
    "start_time": "2023-06-08T17:00:47.059Z"
   },
   {
    "duration": 711785,
    "start_time": "2023-06-08T17:14:12.509Z"
   },
   {
    "duration": 737658,
    "start_time": "2023-06-08T17:26:27.987Z"
   },
   {
    "duration": 13920,
    "start_time": "2023-06-08T17:58:47.267Z"
   },
   {
    "duration": 773049,
    "start_time": "2023-06-08T17:59:02.852Z"
   },
   {
    "duration": 1883,
    "start_time": "2023-06-09T23:56:08.633Z"
   },
   {
    "duration": 1088,
    "start_time": "2023-06-09T23:56:10.518Z"
   },
   {
    "duration": 15,
    "start_time": "2023-06-09T23:56:33.841Z"
   },
   {
    "duration": 110,
    "start_time": "2023-06-09T23:56:34.169Z"
   },
   {
    "duration": 103,
    "start_time": "2023-06-09T23:56:35.817Z"
   },
   {
    "duration": 294,
    "start_time": "2023-06-09T23:56:46.918Z"
   },
   {
    "duration": 75,
    "start_time": "2023-06-09T23:56:47.507Z"
   },
   {
    "duration": 93,
    "start_time": "2023-06-09T23:56:50.180Z"
   },
   {
    "duration": 247,
    "start_time": "2023-06-09T23:58:23.650Z"
   },
   {
    "duration": 310,
    "start_time": "2023-06-09T23:58:24.262Z"
   },
   {
    "duration": 71,
    "start_time": "2023-06-09T23:58:34.388Z"
   },
   {
    "duration": 297,
    "start_time": "2023-06-09T23:58:43.777Z"
   },
   {
    "duration": 7,
    "start_time": "2023-06-09T23:58:46.822Z"
   },
   {
    "duration": 33,
    "start_time": "2023-06-09T23:58:47.687Z"
   },
   {
    "duration": 136,
    "start_time": "2023-06-09T23:59:08.941Z"
   },
   {
    "duration": 1661,
    "start_time": "2023-06-09T23:59:26.317Z"
   },
   {
    "duration": 43,
    "start_time": "2023-06-09T23:59:36.763Z"
   },
   {
    "duration": 10,
    "start_time": "2023-06-09T23:59:40.410Z"
   },
   {
    "duration": 54,
    "start_time": "2023-06-10T00:00:07.066Z"
   },
   {
    "duration": 1272,
    "start_time": "2023-06-10T00:00:10.728Z"
   },
   {
    "duration": 35,
    "start_time": "2023-06-10T00:00:46.587Z"
   },
   {
    "duration": 67,
    "start_time": "2023-06-10T00:00:58.251Z"
   },
   {
    "duration": 754,
    "start_time": "2023-06-10T00:01:01.437Z"
   },
   {
    "duration": 124,
    "start_time": "2023-06-10T00:01:09.843Z"
   },
   {
    "duration": 567,
    "start_time": "2023-06-10T00:01:15.891Z"
   },
   {
    "duration": 31,
    "start_time": "2023-06-10T00:01:30.973Z"
   },
   {
    "duration": 253,
    "start_time": "2023-06-10T00:01:47.496Z"
   },
   {
    "duration": 195,
    "start_time": "2023-06-10T00:01:50.932Z"
   },
   {
    "duration": 154,
    "start_time": "2023-06-10T00:01:59.163Z"
   },
   {
    "duration": 13,
    "start_time": "2023-06-10T00:02:20.763Z"
   },
   {
    "duration": 128,
    "start_time": "2023-06-10T00:02:23.936Z"
   },
   {
    "duration": 307,
    "start_time": "2023-06-10T00:02:26.509Z"
   },
   {
    "duration": 58,
    "start_time": "2023-06-10T00:02:36.788Z"
   },
   {
    "duration": 61,
    "start_time": "2023-06-10T00:02:48.969Z"
   },
   {
    "duration": 2511,
    "start_time": "2023-06-10T00:02:50.167Z"
   },
   {
    "duration": 5,
    "start_time": "2023-06-10T00:03:27.239Z"
   },
   {
    "duration": 975,
    "start_time": "2023-06-10T00:03:27.246Z"
   },
   {
    "duration": 13,
    "start_time": "2023-06-10T00:03:28.223Z"
   },
   {
    "duration": 108,
    "start_time": "2023-06-10T00:03:28.237Z"
   },
   {
    "duration": 104,
    "start_time": "2023-06-10T00:03:28.346Z"
   },
   {
    "duration": 239,
    "start_time": "2023-06-10T00:03:28.452Z"
   },
   {
    "duration": 79,
    "start_time": "2023-06-10T00:03:28.693Z"
   },
   {
    "duration": 87,
    "start_time": "2023-06-10T00:03:28.773Z"
   },
   {
    "duration": 251,
    "start_time": "2023-06-10T00:03:28.861Z"
   },
   {
    "duration": 287,
    "start_time": "2023-06-10T00:03:29.114Z"
   },
   {
    "duration": 75,
    "start_time": "2023-06-10T00:03:29.403Z"
   },
   {
    "duration": 249,
    "start_time": "2023-06-10T00:03:29.479Z"
   },
   {
    "duration": 6,
    "start_time": "2023-06-10T00:03:29.730Z"
   },
   {
    "duration": 47,
    "start_time": "2023-06-10T00:03:29.737Z"
   },
   {
    "duration": 263,
    "start_time": "2023-06-10T00:03:29.786Z"
   },
   {
    "duration": 1843,
    "start_time": "2023-06-10T00:03:30.051Z"
   },
   {
    "duration": 29,
    "start_time": "2023-06-10T00:03:31.896Z"
   },
   {
    "duration": 8,
    "start_time": "2023-06-10T00:03:31.926Z"
   },
   {
    "duration": 73,
    "start_time": "2023-06-10T00:03:31.935Z"
   },
   {
    "duration": 1189,
    "start_time": "2023-06-10T00:03:32.010Z"
   },
   {
    "duration": 31,
    "start_time": "2023-06-10T00:03:33.200Z"
   },
   {
    "duration": 84,
    "start_time": "2023-06-10T00:03:33.233Z"
   },
   {
    "duration": 802,
    "start_time": "2023-06-10T00:03:33.319Z"
   },
   {
    "duration": 132,
    "start_time": "2023-06-10T00:03:34.123Z"
   },
   {
    "duration": 612,
    "start_time": "2023-06-10T00:03:34.256Z"
   },
   {
    "duration": 27,
    "start_time": "2023-06-10T00:03:34.871Z"
   },
   {
    "duration": 255,
    "start_time": "2023-06-10T00:03:34.900Z"
   },
   {
    "duration": 195,
    "start_time": "2023-06-10T00:03:35.157Z"
   },
   {
    "duration": 151,
    "start_time": "2023-06-10T00:03:35.355Z"
   },
   {
    "duration": 14,
    "start_time": "2023-06-10T00:03:35.508Z"
   },
   {
    "duration": 150,
    "start_time": "2023-06-10T00:03:35.524Z"
   },
   {
    "duration": 324,
    "start_time": "2023-06-10T00:03:35.676Z"
   },
   {
    "duration": 58,
    "start_time": "2023-06-10T00:03:36.001Z"
   },
   {
    "duration": 79,
    "start_time": "2023-06-10T00:03:36.060Z"
   },
   {
    "duration": 31,
    "start_time": "2023-06-10T00:03:36.141Z"
   },
   {
    "duration": 51,
    "start_time": "2023-06-10T00:04:08.781Z"
   },
   {
    "duration": 13,
    "start_time": "2023-06-10T00:04:36.040Z"
   },
   {
    "duration": 63,
    "start_time": "2023-06-10T00:04:40.012Z"
   },
   {
    "duration": 464,
    "start_time": "2023-06-10T00:05:21.198Z"
   },
   {
    "duration": 408,
    "start_time": "2023-06-10T00:05:41.502Z"
   },
   {
    "duration": 408,
    "start_time": "2023-06-10T00:05:48.652Z"
   },
   {
    "duration": 429,
    "start_time": "2023-06-10T00:05:56.748Z"
   },
   {
    "duration": 402,
    "start_time": "2023-06-10T00:06:05.540Z"
   },
   {
    "duration": 447,
    "start_time": "2023-06-10T00:06:15.608Z"
   },
   {
    "duration": 118,
    "start_time": "2023-06-10T00:06:39.994Z"
   },
   {
    "duration": 804,
    "start_time": "2023-06-10T00:06:44.277Z"
   },
   {
    "duration": 762,
    "start_time": "2023-06-10T00:06:50.778Z"
   },
   {
    "duration": 13,
    "start_time": "2023-06-10T00:10:34.310Z"
   },
   {
    "duration": 54,
    "start_time": "2023-06-10T00:10:40.039Z"
   },
   {
    "duration": 8,
    "start_time": "2023-06-10T00:10:40.809Z"
   },
   {
    "duration": 7,
    "start_time": "2023-06-10T00:14:59.094Z"
   },
   {
    "duration": 4,
    "start_time": "2023-06-10T00:15:02.381Z"
   },
   {
    "duration": 4,
    "start_time": "2023-06-10T00:15:02.601Z"
   },
   {
    "duration": 16,
    "start_time": "2023-06-10T00:15:13.688Z"
   },
   {
    "duration": 359,
    "start_time": "2023-06-10T00:15:16.508Z"
   },
   {
    "duration": 4,
    "start_time": "2023-06-10T00:15:18.288Z"
   },
   {
    "duration": 4,
    "start_time": "2023-06-10T00:15:23.862Z"
   },
   {
    "duration": 6,
    "start_time": "2023-06-10T00:16:12.983Z"
   },
   {
    "duration": 5,
    "start_time": "2023-06-10T00:16:22.890Z"
   },
   {
    "duration": 778,
    "start_time": "2023-06-10T00:16:26.002Z"
   },
   {
    "duration": 1584,
    "start_time": "2023-06-10T01:25:25.274Z"
   },
   {
    "duration": 1556,
    "start_time": "2023-06-10T01:25:29.526Z"
   },
   {
    "duration": 16,
    "start_time": "2023-06-10T01:25:32.687Z"
   },
   {
    "duration": 108,
    "start_time": "2023-06-10T01:25:33.446Z"
   },
   {
    "duration": 111,
    "start_time": "2023-06-10T01:25:33.771Z"
   },
   {
    "duration": 276,
    "start_time": "2023-06-10T01:25:34.697Z"
   },
   {
    "duration": 74,
    "start_time": "2023-06-10T01:25:35.172Z"
   },
   {
    "duration": 96,
    "start_time": "2023-06-10T01:25:35.550Z"
   },
   {
    "duration": 291,
    "start_time": "2023-06-10T01:25:38.481Z"
   },
   {
    "duration": 334,
    "start_time": "2023-06-10T01:25:39.681Z"
   },
   {
    "duration": 86,
    "start_time": "2023-06-10T01:25:40.519Z"
   },
   {
    "duration": 271,
    "start_time": "2023-06-10T01:26:59.104Z"
   },
   {
    "duration": 7,
    "start_time": "2023-06-10T01:27:01.698Z"
   },
   {
    "duration": 34,
    "start_time": "2023-06-10T01:27:01.976Z"
   },
   {
    "duration": 145,
    "start_time": "2023-06-10T01:27:02.971Z"
   },
   {
    "duration": 1831,
    "start_time": "2023-06-10T01:27:03.723Z"
   },
   {
    "duration": 52,
    "start_time": "2023-06-10T01:27:05.556Z"
   },
   {
    "duration": 8,
    "start_time": "2023-06-10T01:27:06.283Z"
   },
   {
    "duration": 58,
    "start_time": "2023-06-10T01:27:07.242Z"
   },
   {
    "duration": 1233,
    "start_time": "2023-06-10T01:27:07.761Z"
   },
   {
    "duration": 36,
    "start_time": "2023-06-10T01:27:08.996Z"
   },
   {
    "duration": 68,
    "start_time": "2023-06-10T01:27:09.509Z"
   },
   {
    "duration": 826,
    "start_time": "2023-06-10T01:27:10.279Z"
   },
   {
    "duration": 128,
    "start_time": "2023-06-10T01:27:11.579Z"
   },
   {
    "duration": 586,
    "start_time": "2023-06-10T01:27:13.378Z"
   },
   {
    "duration": 29,
    "start_time": "2023-06-10T01:27:15.700Z"
   },
   {
    "duration": 239,
    "start_time": "2023-06-10T01:32:35.879Z"
   },
   {
    "duration": 166,
    "start_time": "2023-06-10T01:32:37.284Z"
   },
   {
    "duration": 142,
    "start_time": "2023-06-10T01:32:39.133Z"
   },
   {
    "duration": 12,
    "start_time": "2023-06-10T01:32:40.034Z"
   },
   {
    "duration": 143,
    "start_time": "2023-06-10T01:32:40.591Z"
   },
   {
    "duration": 295,
    "start_time": "2023-06-10T01:32:41.886Z"
   },
   {
    "duration": 67,
    "start_time": "2023-06-10T01:32:46.851Z"
   },
   {
    "duration": 69,
    "start_time": "2023-06-10T01:32:48.944Z"
   },
   {
    "duration": 13,
    "start_time": "2023-06-10T01:32:50.634Z"
   },
   {
    "duration": 51,
    "start_time": "2023-06-10T01:32:52.184Z"
   },
   {
    "duration": 13,
    "start_time": "2023-06-10T01:32:54.518Z"
   },
   {
    "duration": 59,
    "start_time": "2023-06-10T01:32:55.052Z"
   },
   {
    "duration": 13,
    "start_time": "2023-06-10T01:33:03.006Z"
   },
   {
    "duration": 52,
    "start_time": "2023-06-10T01:33:04.339Z"
   },
   {
    "duration": 8,
    "start_time": "2023-06-10T01:33:08.681Z"
   },
   {
    "duration": 5,
    "start_time": "2023-06-10T01:33:21.516Z"
   },
   {
    "duration": 5,
    "start_time": "2023-06-10T01:33:21.889Z"
   },
   {
    "duration": 3,
    "start_time": "2023-06-10T02:05:42.610Z"
   },
   {
    "duration": 194,
    "start_time": "2023-06-10T02:11:00.459Z"
   },
   {
    "duration": 57,
    "start_time": "2023-06-10T02:11:34.906Z"
   },
   {
    "duration": 4,
    "start_time": "2023-06-10T02:11:43.015Z"
   },
   {
    "duration": 260,
    "start_time": "2023-06-10T02:11:44.734Z"
   },
   {
    "duration": 292,
    "start_time": "2023-06-10T02:22:52.756Z"
   },
   {
    "duration": 534,
    "start_time": "2023-06-10T02:23:36.873Z"
   },
   {
    "duration": 701,
    "start_time": "2023-06-10T02:24:39.699Z"
   },
   {
    "duration": 748,
    "start_time": "2023-06-10T02:25:11.991Z"
   },
   {
    "duration": 5,
    "start_time": "2023-06-10T02:26:09.217Z"
   },
   {
    "duration": 20,
    "start_time": "2023-06-10T02:28:30.147Z"
   },
   {
    "duration": 4,
    "start_time": "2023-06-10T02:29:01.169Z"
   },
   {
    "duration": 768,
    "start_time": "2023-06-10T02:29:05.126Z"
   },
   {
    "duration": 4,
    "start_time": "2023-06-10T02:30:11.298Z"
   },
   {
    "duration": 1732,
    "start_time": "2023-06-10T02:30:11.304Z"
   },
   {
    "duration": 12,
    "start_time": "2023-06-10T02:30:13.038Z"
   },
   {
    "duration": 109,
    "start_time": "2023-06-10T02:30:13.051Z"
   },
   {
    "duration": 106,
    "start_time": "2023-06-10T02:30:13.162Z"
   },
   {
    "duration": 237,
    "start_time": "2023-06-10T02:30:13.272Z"
   },
   {
    "duration": 81,
    "start_time": "2023-06-10T02:30:13.511Z"
   },
   {
    "duration": 103,
    "start_time": "2023-06-10T02:30:13.594Z"
   },
   {
    "duration": 274,
    "start_time": "2023-06-10T02:30:13.699Z"
   },
   {
    "duration": 306,
    "start_time": "2023-06-10T02:30:13.975Z"
   },
   {
    "duration": 68,
    "start_time": "2023-06-10T02:30:14.282Z"
   },
   {
    "duration": 239,
    "start_time": "2023-06-10T02:30:14.351Z"
   },
   {
    "duration": 7,
    "start_time": "2023-06-10T02:30:14.591Z"
   },
   {
    "duration": 36,
    "start_time": "2023-06-10T02:30:14.600Z"
   },
   {
    "duration": 253,
    "start_time": "2023-06-10T02:30:14.637Z"
   },
   {
    "duration": 1623,
    "start_time": "2023-06-10T02:30:14.892Z"
   },
   {
    "duration": 36,
    "start_time": "2023-06-10T02:30:16.516Z"
   },
   {
    "duration": 21,
    "start_time": "2023-06-10T02:30:16.554Z"
   },
   {
    "duration": 62,
    "start_time": "2023-06-10T02:30:16.577Z"
   },
   {
    "duration": 1143,
    "start_time": "2023-06-10T02:30:16.640Z"
   },
   {
    "duration": 28,
    "start_time": "2023-06-10T02:30:17.784Z"
   },
   {
    "duration": 79,
    "start_time": "2023-06-10T02:30:17.814Z"
   },
   {
    "duration": 738,
    "start_time": "2023-06-10T02:30:17.895Z"
   },
   {
    "duration": 120,
    "start_time": "2023-06-10T02:30:18.634Z"
   },
   {
    "duration": 554,
    "start_time": "2023-06-10T02:30:18.756Z"
   },
   {
    "duration": 27,
    "start_time": "2023-06-10T02:30:19.312Z"
   },
   {
    "duration": 243,
    "start_time": "2023-06-10T02:30:19.340Z"
   },
   {
    "duration": 172,
    "start_time": "2023-06-10T02:30:19.585Z"
   },
   {
    "duration": 153,
    "start_time": "2023-06-10T02:30:19.759Z"
   },
   {
    "duration": 13,
    "start_time": "2023-06-10T02:30:19.913Z"
   },
   {
    "duration": 147,
    "start_time": "2023-06-10T02:30:19.928Z"
   },
   {
    "duration": 296,
    "start_time": "2023-06-10T02:30:20.077Z"
   },
   {
    "duration": 66,
    "start_time": "2023-06-10T02:30:20.375Z"
   },
   {
    "duration": 88,
    "start_time": "2023-06-10T02:30:20.443Z"
   },
   {
    "duration": 14,
    "start_time": "2023-06-10T02:30:20.533Z"
   },
   {
    "duration": 65,
    "start_time": "2023-06-10T02:30:20.550Z"
   },
   {
    "duration": 14,
    "start_time": "2023-06-10T02:30:20.616Z"
   },
   {
    "duration": 77,
    "start_time": "2023-06-10T02:30:20.632Z"
   },
   {
    "duration": 12,
    "start_time": "2023-06-10T02:30:20.710Z"
   },
   {
    "duration": 58,
    "start_time": "2023-06-10T02:30:20.724Z"
   },
   {
    "duration": 8,
    "start_time": "2023-06-10T02:30:20.786Z"
   },
   {
    "duration": 5,
    "start_time": "2023-06-10T02:30:20.796Z"
   },
   {
    "duration": 10,
    "start_time": "2023-06-10T02:30:20.802Z"
   },
   {
    "duration": 672,
    "start_time": "2023-06-10T02:30:20.814Z"
   },
   {
    "duration": 4,
    "start_time": "2023-06-10T02:30:21.489Z"
   },
   {
    "duration": 23,
    "start_time": "2023-06-10T02:30:21.495Z"
   },
   {
    "duration": 3,
    "start_time": "2023-06-10T02:30:21.520Z"
   },
   {
    "duration": 4,
    "start_time": "2023-06-10T02:30:24.276Z"
   },
   {
    "duration": 768,
    "start_time": "2023-06-10T02:30:25.176Z"
   },
   {
    "duration": 752,
    "start_time": "2023-06-10T02:32:35.471Z"
   },
   {
    "duration": 3,
    "start_time": "2023-06-10T02:38:13.970Z"
   },
   {
    "duration": 822,
    "start_time": "2023-06-10T02:38:14.598Z"
   },
   {
    "duration": 4,
    "start_time": "2023-06-10T02:39:26.389Z"
   },
   {
    "duration": 1198,
    "start_time": "2023-06-10T02:39:27.123Z"
   },
   {
    "duration": 12,
    "start_time": "2023-06-10T02:39:28.323Z"
   },
   {
    "duration": 96,
    "start_time": "2023-06-10T02:39:28.617Z"
   },
   {
    "duration": 98,
    "start_time": "2023-06-10T02:39:29.282Z"
   },
   {
    "duration": 229,
    "start_time": "2023-06-10T02:39:30.927Z"
   },
   {
    "duration": 68,
    "start_time": "2023-06-10T02:39:31.401Z"
   },
   {
    "duration": 88,
    "start_time": "2023-06-10T02:39:31.795Z"
   },
   {
    "duration": 242,
    "start_time": "2023-06-10T02:39:34.949Z"
   },
   {
    "duration": 297,
    "start_time": "2023-06-10T02:39:36.037Z"
   },
   {
    "duration": 82,
    "start_time": "2023-06-10T02:39:37.032Z"
   },
   {
    "duration": 395,
    "start_time": "2023-06-10T02:39:39.117Z"
   },
   {
    "duration": 7,
    "start_time": "2023-06-10T02:39:40.342Z"
   },
   {
    "duration": 35,
    "start_time": "2023-06-10T02:39:40.734Z"
   },
   {
    "duration": 157,
    "start_time": "2023-06-10T02:39:42.856Z"
   },
   {
    "duration": 1933,
    "start_time": "2023-06-10T02:39:44.018Z"
   },
   {
    "duration": 49,
    "start_time": "2023-06-10T02:39:45.952Z"
   },
   {
    "duration": 7,
    "start_time": "2023-06-10T02:39:46.841Z"
   },
   {
    "duration": 51,
    "start_time": "2023-06-10T02:39:47.993Z"
   },
   {
    "duration": 1161,
    "start_time": "2023-06-10T02:39:48.586Z"
   },
   {
    "duration": 38,
    "start_time": "2023-06-10T02:39:49.749Z"
   },
   {
    "duration": 79,
    "start_time": "2023-06-10T02:39:50.404Z"
   },
   {
    "duration": 857,
    "start_time": "2023-06-10T02:39:51.518Z"
   },
   {
    "duration": 249,
    "start_time": "2023-06-10T02:39:52.724Z"
   },
   {
    "duration": 508,
    "start_time": "2023-06-10T02:39:53.836Z"
   },
   {
    "duration": 31,
    "start_time": "2023-06-10T02:39:54.686Z"
   },
   {
    "duration": 273,
    "start_time": "2023-06-10T02:39:55.660Z"
   },
   {
    "duration": 199,
    "start_time": "2023-06-10T02:39:56.172Z"
   },
   {
    "duration": 130,
    "start_time": "2023-06-10T02:39:57.304Z"
   },
   {
    "duration": 13,
    "start_time": "2023-06-10T02:39:58.126Z"
   },
   {
    "duration": 118,
    "start_time": "2023-06-10T02:39:58.497Z"
   },
   {
    "duration": 298,
    "start_time": "2023-06-10T02:39:59.250Z"
   },
   {
    "duration": 58,
    "start_time": "2023-06-10T02:40:01.015Z"
   },
   {
    "duration": 68,
    "start_time": "2023-06-10T02:40:02.182Z"
   },
   {
    "duration": 13,
    "start_time": "2023-06-10T02:40:02.743Z"
   },
   {
    "duration": 50,
    "start_time": "2023-06-10T02:40:03.745Z"
   },
   {
    "duration": 15,
    "start_time": "2023-06-10T02:40:05.619Z"
   },
   {
    "duration": 60,
    "start_time": "2023-06-10T02:40:06.275Z"
   },
   {
    "duration": 13,
    "start_time": "2023-06-10T02:40:12.564Z"
   },
   {
    "duration": 50,
    "start_time": "2023-06-10T02:40:13.206Z"
   },
   {
    "duration": 6,
    "start_time": "2023-06-10T02:40:20.117Z"
   },
   {
    "duration": 5,
    "start_time": "2023-06-10T02:40:21.929Z"
   },
   {
    "duration": 5,
    "start_time": "2023-06-10T02:40:22.244Z"
   },
   {
    "duration": 652,
    "start_time": "2023-06-10T02:40:24.902Z"
   },
   {
    "duration": 5,
    "start_time": "2023-06-10T02:40:27.305Z"
   },
   {
    "duration": 20,
    "start_time": "2023-06-10T02:40:28.680Z"
   },
   {
    "duration": 5,
    "start_time": "2023-06-10T02:40:30.506Z"
   },
   {
    "duration": 782,
    "start_time": "2023-06-10T02:40:31.590Z"
   },
   {
    "duration": 4,
    "start_time": "2023-06-10T02:42:20.909Z"
   },
   {
    "duration": 2889,
    "start_time": "2023-06-10T02:42:22.319Z"
   },
   {
    "duration": 4,
    "start_time": "2023-06-10T02:42:37.332Z"
   },
   {
    "duration": 105,
    "start_time": "2023-06-10T02:49:46.414Z"
   },
   {
    "duration": 135,
    "start_time": "2023-06-10T02:50:31.174Z"
   },
   {
    "duration": 3,
    "start_time": "2023-06-10T02:52:32.460Z"
   },
   {
    "duration": 3,
    "start_time": "2023-06-10T02:52:39.292Z"
   },
   {
    "duration": 3,
    "start_time": "2023-06-10T03:08:34.858Z"
   },
   {
    "duration": 4,
    "start_time": "2023-06-10T03:08:39.431Z"
   },
   {
    "duration": 4,
    "start_time": "2023-06-10T03:09:14.255Z"
   },
   {
    "duration": 4,
    "start_time": "2023-06-10T03:21:26.895Z"
   },
   {
    "duration": 452975,
    "start_time": "2023-06-10T03:21:46.439Z"
   },
   {
    "duration": 5,
    "start_time": "2023-06-10T03:29:33.897Z"
   },
   {
    "duration": 4,
    "start_time": "2023-06-10T03:29:35.603Z"
   },
   {
    "duration": 1582382,
    "start_time": "2023-06-10T03:30:01.019Z"
   },
   {
    "duration": 307,
    "start_time": "2023-06-10T03:56:23.403Z"
   },
   {
    "duration": 4,
    "start_time": "2023-06-10T03:57:10.953Z"
   },
   {
    "duration": 5,
    "start_time": "2023-06-10T03:57:13.533Z"
   },
   {
    "duration": 1030270,
    "start_time": "2023-06-10T03:57:22.034Z"
   },
   {
    "duration": 4,
    "start_time": "2023-06-10T04:14:45.315Z"
   },
   {
    "duration": 5,
    "start_time": "2023-06-10T04:14:47.217Z"
   },
   {
    "duration": 1144742,
    "start_time": "2023-06-10T04:15:17.336Z"
   },
   {
    "duration": 4,
    "start_time": "2023-06-10T04:34:59.170Z"
   },
   {
    "duration": 4,
    "start_time": "2023-06-10T04:35:00.097Z"
   },
   {
    "duration": 1983,
    "start_time": "2023-06-10T16:41:27.530Z"
   },
   {
    "duration": 1652,
    "start_time": "2023-06-10T16:41:29.515Z"
   },
   {
    "duration": 17,
    "start_time": "2023-06-10T16:41:31.169Z"
   },
   {
    "duration": 205,
    "start_time": "2023-06-10T16:41:31.187Z"
   },
   {
    "duration": 153,
    "start_time": "2023-06-10T16:41:31.394Z"
   },
   {
    "duration": 346,
    "start_time": "2023-06-10T16:41:31.549Z"
   },
   {
    "duration": 117,
    "start_time": "2023-06-10T16:41:31.897Z"
   },
   {
    "duration": 116,
    "start_time": "2023-06-10T16:41:32.015Z"
   },
   {
    "duration": 313,
    "start_time": "2023-06-10T16:41:32.133Z"
   },
   {
    "duration": 395,
    "start_time": "2023-06-10T16:41:32.448Z"
   },
   {
    "duration": 93,
    "start_time": "2023-06-10T16:41:32.845Z"
   },
   {
    "duration": 303,
    "start_time": "2023-06-10T16:41:32.945Z"
   },
   {
    "duration": 8,
    "start_time": "2023-06-10T16:41:33.249Z"
   },
   {
    "duration": 30,
    "start_time": "2023-06-10T16:41:33.261Z"
   },
   {
    "duration": 179,
    "start_time": "2023-06-10T16:41:33.293Z"
   },
   {
    "duration": 1966,
    "start_time": "2023-06-10T16:41:33.473Z"
   },
   {
    "duration": 45,
    "start_time": "2023-06-10T16:41:35.440Z"
   },
   {
    "duration": 8,
    "start_time": "2023-06-10T16:41:35.487Z"
   },
   {
    "duration": 82,
    "start_time": "2023-06-10T16:41:35.497Z"
   },
   {
    "duration": 1378,
    "start_time": "2023-06-10T16:41:35.581Z"
   },
   {
    "duration": 34,
    "start_time": "2023-06-10T16:41:36.961Z"
   },
   {
    "duration": 136,
    "start_time": "2023-06-10T16:41:36.997Z"
   },
   {
    "duration": 925,
    "start_time": "2023-06-10T16:41:37.135Z"
   },
   {
    "duration": 144,
    "start_time": "2023-06-10T16:41:38.062Z"
   },
   {
    "duration": 621,
    "start_time": "2023-06-10T16:41:38.208Z"
   },
   {
    "duration": 38,
    "start_time": "2023-06-10T16:41:38.831Z"
   },
   {
    "duration": 309,
    "start_time": "2023-06-10T16:41:38.871Z"
   },
   {
    "duration": 216,
    "start_time": "2023-06-10T16:41:39.182Z"
   },
   {
    "duration": 170,
    "start_time": "2023-06-10T16:41:39.400Z"
   },
   {
    "duration": 13,
    "start_time": "2023-06-10T16:41:39.572Z"
   },
   {
    "duration": 165,
    "start_time": "2023-06-10T16:41:39.587Z"
   },
   {
    "duration": 342,
    "start_time": "2023-06-10T16:41:39.753Z"
   },
   {
    "duration": 82,
    "start_time": "2023-06-10T16:41:40.097Z"
   },
   {
    "duration": 75,
    "start_time": "2023-06-10T16:41:40.183Z"
   },
   {
    "duration": 16,
    "start_time": "2023-06-10T16:41:40.260Z"
   },
   {
    "duration": 99,
    "start_time": "2023-06-10T16:41:40.278Z"
   },
   {
    "duration": 15,
    "start_time": "2023-06-10T16:41:40.378Z"
   },
   {
    "duration": 106,
    "start_time": "2023-06-10T16:41:40.395Z"
   },
   {
    "duration": 12,
    "start_time": "2023-06-10T16:41:40.503Z"
   },
   {
    "duration": 88,
    "start_time": "2023-06-10T16:41:40.516Z"
   },
   {
    "duration": 16,
    "start_time": "2023-06-10T16:41:40.608Z"
   },
   {
    "duration": 73,
    "start_time": "2023-06-10T16:41:40.626Z"
   },
   {
    "duration": 38,
    "start_time": "2023-06-10T16:41:40.700Z"
   },
   {
    "duration": 733,
    "start_time": "2023-06-10T16:41:40.740Z"
   },
   {
    "duration": 32,
    "start_time": "2023-06-10T16:41:42.578Z"
   }
  ],
  "kernelspec": {
   "display_name": "Python 3 (ipykernel)",
   "language": "python",
   "name": "python3"
  },
  "language_info": {
   "codemirror_mode": {
    "name": "ipython",
    "version": 3
   },
   "file_extension": ".py",
   "mimetype": "text/x-python",
   "name": "python",
   "nbconvert_exporter": "python",
   "pygments_lexer": "ipython3",
   "version": "3.9.15"
  },
  "toc": {
   "base_numbering": 1,
   "nav_menu": {
    "height": "385px",
    "width": "250px"
   },
   "number_sections": true,
   "sideBar": true,
   "skip_h1_title": true,
   "title_cell": "Table of Contents",
   "title_sidebar": "Contents",
   "toc_cell": false,
   "toc_position": {
    "height": "calc(100% - 180px)",
    "left": "10px",
    "top": "150px",
    "width": "181px"
   },
   "toc_section_display": true,
   "toc_window_display": true
  }
 },
 "nbformat": 4,
 "nbformat_minor": 2
}
