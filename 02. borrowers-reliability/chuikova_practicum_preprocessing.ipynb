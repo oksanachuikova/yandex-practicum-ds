{
 "cells": [
  {
   "cell_type": "markdown",
   "id": "a0b9f37c",
   "metadata": {
    "toc": true
   },
   "source": [
    "<h1>Оглавление<span class=\"tocSkip\"></span></h1>\n",
    "<div class=\"toc\"><ul class=\"toc-item\"><li><span><a href=\"#Загрузка-и-обзор-данных\" data-toc-modified-id=\"Загрузка-и-обзор-данных-1\"><span class=\"toc-item-num\">1&nbsp;&nbsp;</span>Загрузка и обзор данных</a></span></li><li><span><a href=\"#Предобработка-данных\" data-toc-modified-id=\"Предобработка-данных-2\"><span class=\"toc-item-num\">2&nbsp;&nbsp;</span>Предобработка данных</a></span><ul class=\"toc-item\"><li><span><a href=\"#Удаление-пропусков\" data-toc-modified-id=\"Удаление-пропусков-2.1\"><span class=\"toc-item-num\">2.1&nbsp;&nbsp;</span>Удаление пропусков</a></span></li><li><span><a href=\"#Обработка-аномальных-значений\" data-toc-modified-id=\"Обработка-аномальных-значений-2.2\"><span class=\"toc-item-num\">2.2&nbsp;&nbsp;</span>Обработка аномальных значений</a></span></li><li><span><a href=\"#Удаление-пропусков-(продолжение)\" data-toc-modified-id=\"Удаление-пропусков-(продолжение)-2.3\"><span class=\"toc-item-num\">2.3&nbsp;&nbsp;</span>Удаление пропусков (продолжение)</a></span></li><li><span><a href=\"#Изменение-типов-данных\" data-toc-modified-id=\"Изменение-типов-данных-2.4\"><span class=\"toc-item-num\">2.4&nbsp;&nbsp;</span>Изменение типов данных</a></span></li><li><span><a href=\"#Обработка-дубликатов\" data-toc-modified-id=\"Обработка-дубликатов-2.5\"><span class=\"toc-item-num\">2.5&nbsp;&nbsp;</span>Обработка дубликатов</a></span></li><li><span><a href=\"#Категоризация-данных\" data-toc-modified-id=\"Категоризация-данных-2.6\"><span class=\"toc-item-num\">2.6&nbsp;&nbsp;</span>Категоризация данных</a></span></li></ul></li><li><span><a href=\"#Исследуем-данные-и-ответим-на-вопросы\" data-toc-modified-id=\"Исследуем-данные-и-ответим-на-вопросы-3\"><span class=\"toc-item-num\">3&nbsp;&nbsp;</span>Исследуем данные и ответим на вопросы</a></span><ul class=\"toc-item\"><li><span><a href=\"#Есть-ли-зависимость-между-количеством-детей-и-возвратом-кредита-в-срок?\" data-toc-modified-id=\"Есть-ли-зависимость-между-количеством-детей-и-возвратом-кредита-в-срок?-3.1\"><span class=\"toc-item-num\">3.1&nbsp;&nbsp;</span>Есть ли зависимость между количеством детей и возвратом кредита в срок?</a></span></li><li><span><a href=\"#Есть-ли-зависимость-между-семейным-положением-и-возвратом-кредита-в-срок?\" data-toc-modified-id=\"Есть-ли-зависимость-между-семейным-положением-и-возвратом-кредита-в-срок?-3.2\"><span class=\"toc-item-num\">3.2&nbsp;&nbsp;</span>Есть ли зависимость между семейным положением и возвратом кредита в срок?</a></span></li><li><span><a href=\"#Есть-ли-зависимость-между-уровнем-дохода-и-возвратом-кредита-в-срок?\" data-toc-modified-id=\"Есть-ли-зависимость-между-уровнем-дохода-и-возвратом-кредита-в-срок?-3.3\"><span class=\"toc-item-num\">3.3&nbsp;&nbsp;</span>Есть ли зависимость между уровнем дохода и возвратом кредита в срок?</a></span></li><li><span><a href=\"#Как-разные-цели-кредита-влияют-на-его-возврат-в-срок?\" data-toc-modified-id=\"Как-разные-цели-кредита-влияют-на-его-возврат-в-срок?-3.4\"><span class=\"toc-item-num\">3.4&nbsp;&nbsp;</span>Как разные цели кредита влияют на его возврат в срок?</a></span></li><li><span><a href=\"#Приведите-возможные-причины-появления-пропусков-в-исходных-данных.\" data-toc-modified-id=\"Приведите-возможные-причины-появления-пропусков-в-исходных-данных.-3.5\"><span class=\"toc-item-num\">3.5&nbsp;&nbsp;</span>Приведите возможные причины появления пропусков в исходных данных.</a></span></li><li><span><a href=\"#Объясните,-почему-заполнить-пропуски-медианным-значением-—-лучшее-решение-для-количественных-переменных.\" data-toc-modified-id=\"Объясните,-почему-заполнить-пропуски-медианным-значением-—-лучшее-решение-для-количественных-переменных.-3.6\"><span class=\"toc-item-num\">3.6&nbsp;&nbsp;</span>Объясните, почему заполнить пропуски медианным значением — лучшее решение для количественных переменных.</a></span></li></ul></li><li><span><a href=\"#Общий-вывод\" data-toc-modified-id=\"Общий-вывод-4\"><span class=\"toc-item-num\">4&nbsp;&nbsp;</span>Общий вывод</a></span></li></ul></div>"
   ]
  },
  {
   "cell_type": "markdown",
   "id": "2fd72200",
   "metadata": {},
   "source": [
    "# Исследование надежности заемщиков"
   ]
  },
  {
   "cell_type": "markdown",
   "id": "6e1d0442",
   "metadata": {},
   "source": [
    "Заказчик — кредитный отдел банка. Нужно разобраться, влияет ли семейное положение и количество детей клиента на факт погашения кредита в срок. Входные данные от банка — статистика о платёжеспособности клиентов.\n",
    "Результаты исследования будут учтены при построении модели кредитного скоринга — специальной системы, которая оценивает способность потенциального заёмщика вернуть кредит банку.\n",
    "\n",
    "**Цель проекта:** На основе статистики о платёжеспособности клиентов исследовать влияет ли семейное положение и количество детей клиента на факт возврата кредита в срок.\n",
    "\n",
    "**Этапы исследования:**\n",
    "1. Загрузка и обзор данных\n",
    "2. Предобработка данных (удаление пропусков, обработка аномальных значений, изменение типов данных, обработка дубликатов, категоризация данных)\n",
    "3. Анализ зависимости между фактом возврата кредита в срок и такими параметрами как количество детей, семейное положение, уровень дохода, цель кредита.\n",
    "\n",
    "**Описание данных**\n",
    "* `children` — количество детей в семье\n",
    "* `days_employed` — общий трудовой стаж в днях\n",
    "* `dob_years` — возраст клиента в годах\n",
    "* `education` — уровень образования клиента\n",
    "* `education_id` — идентификатор уровня образования\n",
    "* `family_status` — семейное положение\n",
    "* `family_status_id` — идентификатор семейного положения\n",
    "* `gender` — пол клиента\n",
    "* `income_type` — тип занятости\n",
    "* `debt` — имел ли задолженность по возврату кредитов\n",
    "* `total_income` — ежемесячный доход\n",
    "* `purpose` — цель получения кредита"
   ]
  },
  {
   "cell_type": "markdown",
   "id": "c814131c",
   "metadata": {},
   "source": [
    "## Загрузка и обзор данных"
   ]
  },
  {
   "cell_type": "markdown",
   "id": "1bedb1e0",
   "metadata": {},
   "source": [
    "Импортируем необходимые библиотеки.  "
   ]
  },
  {
   "cell_type": "code",
   "execution_count": 1,
   "id": "0661d8d1",
   "metadata": {},
   "outputs": [],
   "source": [
    "import pandas as pd\n",
    "import numpy as np\n",
    "import scipy.stats as stats"
   ]
  },
  {
   "cell_type": "markdown",
   "id": "76118f3f",
   "metadata": {},
   "source": [
    "Считаем данные из csv-файла в датафрейм и сохраните в переменную `data`."
   ]
  },
  {
   "cell_type": "code",
   "execution_count": 2,
   "id": "65c67c83",
   "metadata": {},
   "outputs": [],
   "source": [
    "try:\n",
    "    data = pd.read_csv('/datasets/data.csv')\n",
    "except:\n",
    "    data = pd.read_csv('https://code.s3.yandex.net/datasets/data.csv')"
   ]
  },
  {
   "cell_type": "markdown",
   "id": "eb50523b",
   "metadata": {},
   "source": [
    "Выведем первые 20 строк датафрейма `data` на экран."
   ]
  },
  {
   "cell_type": "code",
   "execution_count": 3,
   "id": "c08fcc12",
   "metadata": {},
   "outputs": [
    {
     "data": {
      "text/html": [
       "<div>\n",
       "<style scoped>\n",
       "    .dataframe tbody tr th:only-of-type {\n",
       "        vertical-align: middle;\n",
       "    }\n",
       "\n",
       "    .dataframe tbody tr th {\n",
       "        vertical-align: top;\n",
       "    }\n",
       "\n",
       "    .dataframe thead th {\n",
       "        text-align: right;\n",
       "    }\n",
       "</style>\n",
       "<table border=\"1\" class=\"dataframe\">\n",
       "  <thead>\n",
       "    <tr style=\"text-align: right;\">\n",
       "      <th></th>\n",
       "      <th>children</th>\n",
       "      <th>days_employed</th>\n",
       "      <th>dob_years</th>\n",
       "      <th>education</th>\n",
       "      <th>education_id</th>\n",
       "      <th>family_status</th>\n",
       "      <th>family_status_id</th>\n",
       "      <th>gender</th>\n",
       "      <th>income_type</th>\n",
       "      <th>debt</th>\n",
       "      <th>total_income</th>\n",
       "      <th>purpose</th>\n",
       "    </tr>\n",
       "  </thead>\n",
       "  <tbody>\n",
       "    <tr>\n",
       "      <th>0</th>\n",
       "      <td>1</td>\n",
       "      <td>-8437.673028</td>\n",
       "      <td>42</td>\n",
       "      <td>высшее</td>\n",
       "      <td>0</td>\n",
       "      <td>женат / замужем</td>\n",
       "      <td>0</td>\n",
       "      <td>F</td>\n",
       "      <td>сотрудник</td>\n",
       "      <td>0</td>\n",
       "      <td>253875.639453</td>\n",
       "      <td>покупка жилья</td>\n",
       "    </tr>\n",
       "    <tr>\n",
       "      <th>1</th>\n",
       "      <td>1</td>\n",
       "      <td>-4024.803754</td>\n",
       "      <td>36</td>\n",
       "      <td>среднее</td>\n",
       "      <td>1</td>\n",
       "      <td>женат / замужем</td>\n",
       "      <td>0</td>\n",
       "      <td>F</td>\n",
       "      <td>сотрудник</td>\n",
       "      <td>0</td>\n",
       "      <td>112080.014102</td>\n",
       "      <td>приобретение автомобиля</td>\n",
       "    </tr>\n",
       "    <tr>\n",
       "      <th>2</th>\n",
       "      <td>0</td>\n",
       "      <td>-5623.422610</td>\n",
       "      <td>33</td>\n",
       "      <td>Среднее</td>\n",
       "      <td>1</td>\n",
       "      <td>женат / замужем</td>\n",
       "      <td>0</td>\n",
       "      <td>M</td>\n",
       "      <td>сотрудник</td>\n",
       "      <td>0</td>\n",
       "      <td>145885.952297</td>\n",
       "      <td>покупка жилья</td>\n",
       "    </tr>\n",
       "    <tr>\n",
       "      <th>3</th>\n",
       "      <td>3</td>\n",
       "      <td>-4124.747207</td>\n",
       "      <td>32</td>\n",
       "      <td>среднее</td>\n",
       "      <td>1</td>\n",
       "      <td>женат / замужем</td>\n",
       "      <td>0</td>\n",
       "      <td>M</td>\n",
       "      <td>сотрудник</td>\n",
       "      <td>0</td>\n",
       "      <td>267628.550329</td>\n",
       "      <td>дополнительное образование</td>\n",
       "    </tr>\n",
       "    <tr>\n",
       "      <th>4</th>\n",
       "      <td>0</td>\n",
       "      <td>340266.072047</td>\n",
       "      <td>53</td>\n",
       "      <td>среднее</td>\n",
       "      <td>1</td>\n",
       "      <td>гражданский брак</td>\n",
       "      <td>1</td>\n",
       "      <td>F</td>\n",
       "      <td>пенсионер</td>\n",
       "      <td>0</td>\n",
       "      <td>158616.077870</td>\n",
       "      <td>сыграть свадьбу</td>\n",
       "    </tr>\n",
       "    <tr>\n",
       "      <th>5</th>\n",
       "      <td>0</td>\n",
       "      <td>-926.185831</td>\n",
       "      <td>27</td>\n",
       "      <td>высшее</td>\n",
       "      <td>0</td>\n",
       "      <td>гражданский брак</td>\n",
       "      <td>1</td>\n",
       "      <td>M</td>\n",
       "      <td>компаньон</td>\n",
       "      <td>0</td>\n",
       "      <td>255763.565419</td>\n",
       "      <td>покупка жилья</td>\n",
       "    </tr>\n",
       "    <tr>\n",
       "      <th>6</th>\n",
       "      <td>0</td>\n",
       "      <td>-2879.202052</td>\n",
       "      <td>43</td>\n",
       "      <td>высшее</td>\n",
       "      <td>0</td>\n",
       "      <td>женат / замужем</td>\n",
       "      <td>0</td>\n",
       "      <td>F</td>\n",
       "      <td>компаньон</td>\n",
       "      <td>0</td>\n",
       "      <td>240525.971920</td>\n",
       "      <td>операции с жильем</td>\n",
       "    </tr>\n",
       "    <tr>\n",
       "      <th>7</th>\n",
       "      <td>0</td>\n",
       "      <td>-152.779569</td>\n",
       "      <td>50</td>\n",
       "      <td>СРЕДНЕЕ</td>\n",
       "      <td>1</td>\n",
       "      <td>женат / замужем</td>\n",
       "      <td>0</td>\n",
       "      <td>M</td>\n",
       "      <td>сотрудник</td>\n",
       "      <td>0</td>\n",
       "      <td>135823.934197</td>\n",
       "      <td>образование</td>\n",
       "    </tr>\n",
       "    <tr>\n",
       "      <th>8</th>\n",
       "      <td>2</td>\n",
       "      <td>-6929.865299</td>\n",
       "      <td>35</td>\n",
       "      <td>ВЫСШЕЕ</td>\n",
       "      <td>0</td>\n",
       "      <td>гражданский брак</td>\n",
       "      <td>1</td>\n",
       "      <td>F</td>\n",
       "      <td>сотрудник</td>\n",
       "      <td>0</td>\n",
       "      <td>95856.832424</td>\n",
       "      <td>на проведение свадьбы</td>\n",
       "    </tr>\n",
       "    <tr>\n",
       "      <th>9</th>\n",
       "      <td>0</td>\n",
       "      <td>-2188.756445</td>\n",
       "      <td>41</td>\n",
       "      <td>среднее</td>\n",
       "      <td>1</td>\n",
       "      <td>женат / замужем</td>\n",
       "      <td>0</td>\n",
       "      <td>M</td>\n",
       "      <td>сотрудник</td>\n",
       "      <td>0</td>\n",
       "      <td>144425.938277</td>\n",
       "      <td>покупка жилья для семьи</td>\n",
       "    </tr>\n",
       "    <tr>\n",
       "      <th>10</th>\n",
       "      <td>2</td>\n",
       "      <td>-4171.483647</td>\n",
       "      <td>36</td>\n",
       "      <td>высшее</td>\n",
       "      <td>0</td>\n",
       "      <td>женат / замужем</td>\n",
       "      <td>0</td>\n",
       "      <td>M</td>\n",
       "      <td>компаньон</td>\n",
       "      <td>0</td>\n",
       "      <td>113943.491460</td>\n",
       "      <td>покупка недвижимости</td>\n",
       "    </tr>\n",
       "    <tr>\n",
       "      <th>11</th>\n",
       "      <td>0</td>\n",
       "      <td>-792.701887</td>\n",
       "      <td>40</td>\n",
       "      <td>среднее</td>\n",
       "      <td>1</td>\n",
       "      <td>женат / замужем</td>\n",
       "      <td>0</td>\n",
       "      <td>F</td>\n",
       "      <td>сотрудник</td>\n",
       "      <td>0</td>\n",
       "      <td>77069.234271</td>\n",
       "      <td>покупка коммерческой недвижимости</td>\n",
       "    </tr>\n",
       "    <tr>\n",
       "      <th>12</th>\n",
       "      <td>0</td>\n",
       "      <td>NaN</td>\n",
       "      <td>65</td>\n",
       "      <td>среднее</td>\n",
       "      <td>1</td>\n",
       "      <td>гражданский брак</td>\n",
       "      <td>1</td>\n",
       "      <td>M</td>\n",
       "      <td>пенсионер</td>\n",
       "      <td>0</td>\n",
       "      <td>NaN</td>\n",
       "      <td>сыграть свадьбу</td>\n",
       "    </tr>\n",
       "    <tr>\n",
       "      <th>13</th>\n",
       "      <td>0</td>\n",
       "      <td>-1846.641941</td>\n",
       "      <td>54</td>\n",
       "      <td>неоконченное высшее</td>\n",
       "      <td>2</td>\n",
       "      <td>женат / замужем</td>\n",
       "      <td>0</td>\n",
       "      <td>F</td>\n",
       "      <td>сотрудник</td>\n",
       "      <td>0</td>\n",
       "      <td>130458.228857</td>\n",
       "      <td>приобретение автомобиля</td>\n",
       "    </tr>\n",
       "    <tr>\n",
       "      <th>14</th>\n",
       "      <td>0</td>\n",
       "      <td>-1844.956182</td>\n",
       "      <td>56</td>\n",
       "      <td>высшее</td>\n",
       "      <td>0</td>\n",
       "      <td>гражданский брак</td>\n",
       "      <td>1</td>\n",
       "      <td>F</td>\n",
       "      <td>компаньон</td>\n",
       "      <td>1</td>\n",
       "      <td>165127.911772</td>\n",
       "      <td>покупка жилой недвижимости</td>\n",
       "    </tr>\n",
       "    <tr>\n",
       "      <th>15</th>\n",
       "      <td>1</td>\n",
       "      <td>-972.364419</td>\n",
       "      <td>26</td>\n",
       "      <td>среднее</td>\n",
       "      <td>1</td>\n",
       "      <td>женат / замужем</td>\n",
       "      <td>0</td>\n",
       "      <td>F</td>\n",
       "      <td>сотрудник</td>\n",
       "      <td>0</td>\n",
       "      <td>116820.904450</td>\n",
       "      <td>строительство собственной недвижимости</td>\n",
       "    </tr>\n",
       "    <tr>\n",
       "      <th>16</th>\n",
       "      <td>0</td>\n",
       "      <td>-1719.934226</td>\n",
       "      <td>35</td>\n",
       "      <td>среднее</td>\n",
       "      <td>1</td>\n",
       "      <td>женат / замужем</td>\n",
       "      <td>0</td>\n",
       "      <td>F</td>\n",
       "      <td>сотрудник</td>\n",
       "      <td>0</td>\n",
       "      <td>289202.704229</td>\n",
       "      <td>недвижимость</td>\n",
       "    </tr>\n",
       "    <tr>\n",
       "      <th>17</th>\n",
       "      <td>0</td>\n",
       "      <td>-2369.999720</td>\n",
       "      <td>33</td>\n",
       "      <td>высшее</td>\n",
       "      <td>0</td>\n",
       "      <td>гражданский брак</td>\n",
       "      <td>1</td>\n",
       "      <td>M</td>\n",
       "      <td>сотрудник</td>\n",
       "      <td>0</td>\n",
       "      <td>90410.586745</td>\n",
       "      <td>строительство недвижимости</td>\n",
       "    </tr>\n",
       "    <tr>\n",
       "      <th>18</th>\n",
       "      <td>0</td>\n",
       "      <td>400281.136913</td>\n",
       "      <td>53</td>\n",
       "      <td>среднее</td>\n",
       "      <td>1</td>\n",
       "      <td>вдовец / вдова</td>\n",
       "      <td>2</td>\n",
       "      <td>F</td>\n",
       "      <td>пенсионер</td>\n",
       "      <td>0</td>\n",
       "      <td>56823.777243</td>\n",
       "      <td>на покупку подержанного автомобиля</td>\n",
       "    </tr>\n",
       "    <tr>\n",
       "      <th>19</th>\n",
       "      <td>0</td>\n",
       "      <td>-10038.818549</td>\n",
       "      <td>48</td>\n",
       "      <td>СРЕДНЕЕ</td>\n",
       "      <td>1</td>\n",
       "      <td>в разводе</td>\n",
       "      <td>3</td>\n",
       "      <td>F</td>\n",
       "      <td>сотрудник</td>\n",
       "      <td>0</td>\n",
       "      <td>242831.107982</td>\n",
       "      <td>на покупку своего автомобиля</td>\n",
       "    </tr>\n",
       "  </tbody>\n",
       "</table>\n",
       "</div>"
      ],
      "text/plain": [
       "    children  days_employed  dob_years            education  education_id  \\\n",
       "0          1   -8437.673028         42               высшее             0   \n",
       "1          1   -4024.803754         36              среднее             1   \n",
       "2          0   -5623.422610         33              Среднее             1   \n",
       "3          3   -4124.747207         32              среднее             1   \n",
       "4          0  340266.072047         53              среднее             1   \n",
       "5          0    -926.185831         27               высшее             0   \n",
       "6          0   -2879.202052         43               высшее             0   \n",
       "7          0    -152.779569         50              СРЕДНЕЕ             1   \n",
       "8          2   -6929.865299         35               ВЫСШЕЕ             0   \n",
       "9          0   -2188.756445         41              среднее             1   \n",
       "10         2   -4171.483647         36               высшее             0   \n",
       "11         0    -792.701887         40              среднее             1   \n",
       "12         0            NaN         65              среднее             1   \n",
       "13         0   -1846.641941         54  неоконченное высшее             2   \n",
       "14         0   -1844.956182         56               высшее             0   \n",
       "15         1    -972.364419         26              среднее             1   \n",
       "16         0   -1719.934226         35              среднее             1   \n",
       "17         0   -2369.999720         33               высшее             0   \n",
       "18         0  400281.136913         53              среднее             1   \n",
       "19         0  -10038.818549         48              СРЕДНЕЕ             1   \n",
       "\n",
       "       family_status  family_status_id gender income_type  debt  \\\n",
       "0    женат / замужем                 0      F   сотрудник     0   \n",
       "1    женат / замужем                 0      F   сотрудник     0   \n",
       "2    женат / замужем                 0      M   сотрудник     0   \n",
       "3    женат / замужем                 0      M   сотрудник     0   \n",
       "4   гражданский брак                 1      F   пенсионер     0   \n",
       "5   гражданский брак                 1      M   компаньон     0   \n",
       "6    женат / замужем                 0      F   компаньон     0   \n",
       "7    женат / замужем                 0      M   сотрудник     0   \n",
       "8   гражданский брак                 1      F   сотрудник     0   \n",
       "9    женат / замужем                 0      M   сотрудник     0   \n",
       "10   женат / замужем                 0      M   компаньон     0   \n",
       "11   женат / замужем                 0      F   сотрудник     0   \n",
       "12  гражданский брак                 1      M   пенсионер     0   \n",
       "13   женат / замужем                 0      F   сотрудник     0   \n",
       "14  гражданский брак                 1      F   компаньон     1   \n",
       "15   женат / замужем                 0      F   сотрудник     0   \n",
       "16   женат / замужем                 0      F   сотрудник     0   \n",
       "17  гражданский брак                 1      M   сотрудник     0   \n",
       "18    вдовец / вдова                 2      F   пенсионер     0   \n",
       "19         в разводе                 3      F   сотрудник     0   \n",
       "\n",
       "     total_income                                 purpose  \n",
       "0   253875.639453                           покупка жилья  \n",
       "1   112080.014102                 приобретение автомобиля  \n",
       "2   145885.952297                           покупка жилья  \n",
       "3   267628.550329              дополнительное образование  \n",
       "4   158616.077870                         сыграть свадьбу  \n",
       "5   255763.565419                           покупка жилья  \n",
       "6   240525.971920                       операции с жильем  \n",
       "7   135823.934197                             образование  \n",
       "8    95856.832424                   на проведение свадьбы  \n",
       "9   144425.938277                 покупка жилья для семьи  \n",
       "10  113943.491460                    покупка недвижимости  \n",
       "11   77069.234271       покупка коммерческой недвижимости  \n",
       "12            NaN                         сыграть свадьбу  \n",
       "13  130458.228857                 приобретение автомобиля  \n",
       "14  165127.911772              покупка жилой недвижимости  \n",
       "15  116820.904450  строительство собственной недвижимости  \n",
       "16  289202.704229                            недвижимость  \n",
       "17   90410.586745              строительство недвижимости  \n",
       "18   56823.777243      на покупку подержанного автомобиля  \n",
       "19  242831.107982            на покупку своего автомобиля  "
      ]
     },
     "execution_count": 3,
     "metadata": {},
     "output_type": "execute_result"
    }
   ],
   "source": [
    "data.head(20)"
   ]
  },
  {
   "cell_type": "markdown",
   "id": "e8e26012",
   "metadata": {},
   "source": [
    "Выведем основную информацию о датафрейме с помощью метода `info()`."
   ]
  },
  {
   "cell_type": "code",
   "execution_count": 4,
   "id": "020b63d1",
   "metadata": {},
   "outputs": [
    {
     "name": "stdout",
     "output_type": "stream",
     "text": [
      "<class 'pandas.core.frame.DataFrame'>\n",
      "RangeIndex: 21525 entries, 0 to 21524\n",
      "Data columns (total 12 columns):\n",
      " #   Column            Non-Null Count  Dtype  \n",
      "---  ------            --------------  -----  \n",
      " 0   children          21525 non-null  int64  \n",
      " 1   days_employed     19351 non-null  float64\n",
      " 2   dob_years         21525 non-null  int64  \n",
      " 3   education         21525 non-null  object \n",
      " 4   education_id      21525 non-null  int64  \n",
      " 5   family_status     21525 non-null  object \n",
      " 6   family_status_id  21525 non-null  int64  \n",
      " 7   gender            21525 non-null  object \n",
      " 8   income_type       21525 non-null  object \n",
      " 9   debt              21525 non-null  int64  \n",
      " 10  total_income      19351 non-null  float64\n",
      " 11  purpose           21525 non-null  object \n",
      "dtypes: float64(2), int64(5), object(5)\n",
      "memory usage: 2.0+ MB\n"
     ]
    }
   ],
   "source": [
    "data.info()"
   ]
  },
  {
   "cell_type": "markdown",
   "id": "4ddf6075",
   "metadata": {},
   "source": [
    "**Вывод по шагу 1**\n",
    "\n",
    "Данные загружены. Осуществлен первичный обзор данных."
   ]
  },
  {
   "cell_type": "markdown",
   "id": "5aa8c466",
   "metadata": {},
   "source": [
    "## Предобработка данных"
   ]
  },
  {
   "cell_type": "markdown",
   "id": "5d5cc370",
   "metadata": {},
   "source": [
    "### Удаление пропусков"
   ]
  },
  {
   "cell_type": "markdown",
   "id": "4714df72",
   "metadata": {},
   "source": [
    "Выведем количество пропущенных значений для каждого столбца, используя комбинацию  методов `isna()` и `sum()`."
   ]
  },
  {
   "cell_type": "code",
   "execution_count": 5,
   "id": "4d494e2e",
   "metadata": {},
   "outputs": [
    {
     "data": {
      "text/plain": [
       "children               0\n",
       "days_employed       2174\n",
       "dob_years              0\n",
       "education              0\n",
       "education_id           0\n",
       "family_status          0\n",
       "family_status_id       0\n",
       "gender                 0\n",
       "income_type            0\n",
       "debt                   0\n",
       "total_income        2174\n",
       "purpose                0\n",
       "dtype: int64"
      ]
     },
     "execution_count": 5,
     "metadata": {},
     "output_type": "execute_result"
    }
   ],
   "source": [
    "data.isna().sum()"
   ]
  },
  {
   "cell_type": "markdown",
   "id": "e2a8effc",
   "metadata": {},
   "source": [
    "В двух столбцах есть пропущенные значения. Один из них — `days_employed`. Пропуски в этом столбце обработаем на следующем этапе. Другой столбец с пропущенными значениями — `total_income` — хранит данные о доходах. На сумму дохода сильнее всего влияет тип занятости, поэтому заполнить пропуски в этом столбце нужно медианным значением по каждому типу из столбца `income_type`. Например, у человека с типом занятости `сотрудник` пропуск в столбце `total_income` должен быть заполнен медианным доходом среди всех записей с тем же типом."
   ]
  },
  {
   "cell_type": "code",
   "execution_count": 6,
   "id": "b7152739",
   "metadata": {},
   "outputs": [],
   "source": [
    "for t in data['income_type'].unique(): \n",
    "    data.loc[(data['income_type'] == t) & (data['total_income'].isna()), 'total_income'] = \\\n",
    "    data.loc[(data['income_type'] == t), 'total_income'].median()"
   ]
  },
  {
   "cell_type": "markdown",
   "id": "6b3dda06",
   "metadata": {},
   "source": [
    "### Обработка аномальных значений"
   ]
  },
  {
   "cell_type": "markdown",
   "id": "f0976b99",
   "metadata": {},
   "source": [
    "В данных могут встречаться артефакты (аномалии) — значения, которые не отражают действительность и появились по какой-то ошибке. таким артефактом будет отрицательное количество дней трудового стажа в столбце `days_employed`. Для реальных данных это нормально. Обработаем значения в этом столбце, заменив все отрицательные значения положительными с помощью метода `abs()`."
   ]
  },
  {
   "cell_type": "code",
   "execution_count": 7,
   "id": "2c7fa72a",
   "metadata": {},
   "outputs": [],
   "source": [
    "data['days_employed'] = data['days_employed'].abs()"
   ]
  },
  {
   "cell_type": "markdown",
   "id": "4cb12ff5",
   "metadata": {},
   "source": [
    "Для каждого типа занятости выведите медианное значение трудового стажа `days_employed` в днях."
   ]
  },
  {
   "cell_type": "code",
   "execution_count": 8,
   "id": "bcf403e8",
   "metadata": {},
   "outputs": [
    {
     "data": {
      "text/plain": [
       "income_type\n",
       "безработный        366413.652744\n",
       "в декрете            3296.759962\n",
       "госслужащий          2689.368353\n",
       "компаньон            1547.382223\n",
       "пенсионер          365213.306266\n",
       "предприниматель       520.848083\n",
       "сотрудник            1574.202821\n",
       "студент               578.751554\n",
       "Name: days_employed, dtype: float64"
      ]
     },
     "execution_count": 8,
     "metadata": {},
     "output_type": "execute_result"
    }
   ],
   "source": [
    "data.groupby('income_type')['days_employed'].median()"
   ]
  },
  {
   "cell_type": "markdown",
   "id": "d3cad8bc",
   "metadata": {},
   "source": [
    "У двух типов (безработные и пенсионеры) получатся аномально большие значения. Исправить такие значения сложно, поэтому оставим их как есть. Этот столбец не понадобится для исследования."
   ]
  },
  {
   "cell_type": "markdown",
   "id": "57902267",
   "metadata": {},
   "source": [
    "Выведем перечень уникальных значений столбца `children`."
   ]
  },
  {
   "cell_type": "code",
   "execution_count": 9,
   "id": "f5ba9e93",
   "metadata": {},
   "outputs": [
    {
     "data": {
      "text/plain": [
       "array([ 1,  0,  3,  2, -1,  4, 20,  5])"
      ]
     },
     "execution_count": 9,
     "metadata": {},
     "output_type": "execute_result"
    }
   ],
   "source": [
    "data['children'].unique()"
   ]
  },
  {
   "cell_type": "markdown",
   "id": "37953e39",
   "metadata": {},
   "source": [
    "В столбце `children` есть два аномальных значения. Удалим строки, в которых встречаются такие аномальные значения из датафрейма `data`."
   ]
  },
  {
   "cell_type": "code",
   "execution_count": 10,
   "id": "47191ef2",
   "metadata": {},
   "outputs": [],
   "source": [
    "data = data[(data['children'] != -1) & (data['children'] != 20)]"
   ]
  },
  {
   "cell_type": "markdown",
   "id": "1d617a0f",
   "metadata": {},
   "source": [
    "Ещё раз выведем перечень уникальных значений столбца `children`, чтобы убедиться, что артефакты удалены."
   ]
  },
  {
   "cell_type": "code",
   "execution_count": 11,
   "id": "38241e13",
   "metadata": {},
   "outputs": [
    {
     "data": {
      "text/plain": [
       "array([1, 0, 3, 2, 4, 5])"
      ]
     },
     "execution_count": 11,
     "metadata": {},
     "output_type": "execute_result"
    }
   ],
   "source": [
    "data['children'].unique()"
   ]
  },
  {
   "cell_type": "markdown",
   "id": "de35d553",
   "metadata": {},
   "source": [
    "### Удаление пропусков (продолжение)"
   ]
  },
  {
   "cell_type": "markdown",
   "id": "cf1c9ce6",
   "metadata": {},
   "source": [
    "Заполним пропуски в столбце `days_employed` медианными значениями для каждого типа занятости `income_type`."
   ]
  },
  {
   "cell_type": "code",
   "execution_count": 12,
   "id": "8a499dfd",
   "metadata": {},
   "outputs": [],
   "source": [
    "for t in data['income_type'].unique():\n",
    "    data.loc[(data['income_type'] == t) & (data['days_employed'].isna()), 'days_employed'] = \\\n",
    "    data.loc[(data['income_type'] == t), 'days_employed'].median()"
   ]
  },
  {
   "cell_type": "markdown",
   "id": "7ecdf9c1",
   "metadata": {},
   "source": [
    "Убедимся, что все пропуски заполнены. Ещё раз выведем количество пропущенных значений для каждого столбца с помощью методов `isna()` и `sum()`."
   ]
  },
  {
   "cell_type": "code",
   "execution_count": 13,
   "id": "cc57c09f",
   "metadata": {},
   "outputs": [
    {
     "data": {
      "text/plain": [
       "children            0\n",
       "days_employed       0\n",
       "dob_years           0\n",
       "education           0\n",
       "education_id        0\n",
       "family_status       0\n",
       "family_status_id    0\n",
       "gender              0\n",
       "income_type         0\n",
       "debt                0\n",
       "total_income        0\n",
       "purpose             0\n",
       "dtype: int64"
      ]
     },
     "execution_count": 13,
     "metadata": {},
     "output_type": "execute_result"
    }
   ],
   "source": [
    "data.isna().sum()"
   ]
  },
  {
   "cell_type": "markdown",
   "id": "fa14191e",
   "metadata": {},
   "source": [
    "### Изменение типов данных"
   ]
  },
  {
   "cell_type": "markdown",
   "id": "5419b913",
   "metadata": {},
   "source": [
    "Заменим вещественный тип данных в столбце `total_income` на целочисленный с помощью метода `astype()`"
   ]
  },
  {
   "cell_type": "code",
   "execution_count": 14,
   "id": "d460b6f0",
   "metadata": {},
   "outputs": [],
   "source": [
    "data['total_income'] = data['total_income'].astype('int')"
   ]
  },
  {
   "cell_type": "markdown",
   "id": "559bdad7",
   "metadata": {},
   "source": [
    "### Обработка дубликатов"
   ]
  },
  {
   "cell_type": "markdown",
   "id": "7fead95f",
   "metadata": {},
   "source": [
    "Обработаем неявные дубликаты в столбце `education`. В этом столбце есть одни и те же значения, но записанные по-разному: с использованием заглавных и строчных букв. Приведем их к нижнему регистру."
   ]
  },
  {
   "cell_type": "code",
   "execution_count": 15,
   "id": "8b7ff46d",
   "metadata": {},
   "outputs": [],
   "source": [
    "data['education'] = data['education'].str.lower()"
   ]
  },
  {
   "cell_type": "markdown",
   "id": "bfc605c5",
   "metadata": {},
   "source": [
    "Выведем на экран количество строк-дубликатов в данных. При наличии таких строк удалим их."
   ]
  },
  {
   "cell_type": "code",
   "execution_count": 16,
   "id": "0455894f",
   "metadata": {},
   "outputs": [
    {
     "data": {
      "text/plain": [
       "71"
      ]
     },
     "execution_count": 16,
     "metadata": {},
     "output_type": "execute_result"
    }
   ],
   "source": [
    "data.duplicated().sum()"
   ]
  },
  {
   "cell_type": "code",
   "execution_count": 17,
   "id": "c7e7eda6",
   "metadata": {},
   "outputs": [],
   "source": [
    "data = data.drop_duplicates()"
   ]
  },
  {
   "cell_type": "markdown",
   "id": "04e8c982",
   "metadata": {},
   "source": [
    "### Категоризация данных"
   ]
  },
  {
   "cell_type": "markdown",
   "id": "754a77ae",
   "metadata": {},
   "source": [
    "На основании диапазонов, указанных ниже, создадим в датафрейме `data` столбец `total_income_category` с категориями:\n",
    "\n",
    "- 0–30000 — `'E'`;\n",
    "- 30001–50000 — `'D'`;\n",
    "- 50001–200000 — `'C'`;\n",
    "- 200001–1000000 — `'B'`;\n",
    "- 1000001 и выше — `'A'`.\n",
    "\n",
    "\n",
    "Например, кредитополучателю с доходом 25000 нужно назначить категорию `'E'`, а клиенту, получающему 235000, — `'B'`. Используем собственную функцию с именем `categorize_income()` и метод `apply()`."
   ]
  },
  {
   "cell_type": "code",
   "execution_count": 18,
   "id": "e980a22a",
   "metadata": {},
   "outputs": [],
   "source": [
    "def categorize_income(income): \n",
    "    if income <= 30000:\n",
    "        return 'E'\n",
    "    if income >= 30001 and income <= 50000:\n",
    "        return 'D'\n",
    "    if income >= 50001 and income <= 200000:\n",
    "        return 'C'\n",
    "    if income >= 200001 and income <= 1000000:\n",
    "        return 'B'\n",
    "    if income >= 1000001:\n",
    "        return 'A'"
   ]
  },
  {
   "cell_type": "code",
   "execution_count": 19,
   "id": "821530c0",
   "metadata": {},
   "outputs": [],
   "source": [
    "data['total_income_category'] = data['total_income'].apply(categorize_income)"
   ]
  },
  {
   "cell_type": "markdown",
   "id": "f6b2f94f",
   "metadata": {},
   "source": [
    "Выведем на экран первые строки датасета для проверки."
   ]
  },
  {
   "cell_type": "code",
   "execution_count": 20,
   "id": "5bd2a981",
   "metadata": {},
   "outputs": [
    {
     "data": {
      "text/html": [
       "<div>\n",
       "<style scoped>\n",
       "    .dataframe tbody tr th:only-of-type {\n",
       "        vertical-align: middle;\n",
       "    }\n",
       "\n",
       "    .dataframe tbody tr th {\n",
       "        vertical-align: top;\n",
       "    }\n",
       "\n",
       "    .dataframe thead th {\n",
       "        text-align: right;\n",
       "    }\n",
       "</style>\n",
       "<table border=\"1\" class=\"dataframe\">\n",
       "  <thead>\n",
       "    <tr style=\"text-align: right;\">\n",
       "      <th></th>\n",
       "      <th>children</th>\n",
       "      <th>days_employed</th>\n",
       "      <th>dob_years</th>\n",
       "      <th>education</th>\n",
       "      <th>education_id</th>\n",
       "      <th>family_status</th>\n",
       "      <th>family_status_id</th>\n",
       "      <th>gender</th>\n",
       "      <th>income_type</th>\n",
       "      <th>debt</th>\n",
       "      <th>total_income</th>\n",
       "      <th>purpose</th>\n",
       "      <th>total_income_category</th>\n",
       "    </tr>\n",
       "  </thead>\n",
       "  <tbody>\n",
       "    <tr>\n",
       "      <th>0</th>\n",
       "      <td>1</td>\n",
       "      <td>8437.673028</td>\n",
       "      <td>42</td>\n",
       "      <td>высшее</td>\n",
       "      <td>0</td>\n",
       "      <td>женат / замужем</td>\n",
       "      <td>0</td>\n",
       "      <td>F</td>\n",
       "      <td>сотрудник</td>\n",
       "      <td>0</td>\n",
       "      <td>253875</td>\n",
       "      <td>покупка жилья</td>\n",
       "      <td>B</td>\n",
       "    </tr>\n",
       "    <tr>\n",
       "      <th>1</th>\n",
       "      <td>1</td>\n",
       "      <td>4024.803754</td>\n",
       "      <td>36</td>\n",
       "      <td>среднее</td>\n",
       "      <td>1</td>\n",
       "      <td>женат / замужем</td>\n",
       "      <td>0</td>\n",
       "      <td>F</td>\n",
       "      <td>сотрудник</td>\n",
       "      <td>0</td>\n",
       "      <td>112080</td>\n",
       "      <td>приобретение автомобиля</td>\n",
       "      <td>C</td>\n",
       "    </tr>\n",
       "    <tr>\n",
       "      <th>2</th>\n",
       "      <td>0</td>\n",
       "      <td>5623.422610</td>\n",
       "      <td>33</td>\n",
       "      <td>среднее</td>\n",
       "      <td>1</td>\n",
       "      <td>женат / замужем</td>\n",
       "      <td>0</td>\n",
       "      <td>M</td>\n",
       "      <td>сотрудник</td>\n",
       "      <td>0</td>\n",
       "      <td>145885</td>\n",
       "      <td>покупка жилья</td>\n",
       "      <td>C</td>\n",
       "    </tr>\n",
       "    <tr>\n",
       "      <th>3</th>\n",
       "      <td>3</td>\n",
       "      <td>4124.747207</td>\n",
       "      <td>32</td>\n",
       "      <td>среднее</td>\n",
       "      <td>1</td>\n",
       "      <td>женат / замужем</td>\n",
       "      <td>0</td>\n",
       "      <td>M</td>\n",
       "      <td>сотрудник</td>\n",
       "      <td>0</td>\n",
       "      <td>267628</td>\n",
       "      <td>дополнительное образование</td>\n",
       "      <td>B</td>\n",
       "    </tr>\n",
       "    <tr>\n",
       "      <th>4</th>\n",
       "      <td>0</td>\n",
       "      <td>340266.072047</td>\n",
       "      <td>53</td>\n",
       "      <td>среднее</td>\n",
       "      <td>1</td>\n",
       "      <td>гражданский брак</td>\n",
       "      <td>1</td>\n",
       "      <td>F</td>\n",
       "      <td>пенсионер</td>\n",
       "      <td>0</td>\n",
       "      <td>158616</td>\n",
       "      <td>сыграть свадьбу</td>\n",
       "      <td>C</td>\n",
       "    </tr>\n",
       "  </tbody>\n",
       "</table>\n",
       "</div>"
      ],
      "text/plain": [
       "   children  days_employed  dob_years education  education_id  \\\n",
       "0         1    8437.673028         42    высшее             0   \n",
       "1         1    4024.803754         36   среднее             1   \n",
       "2         0    5623.422610         33   среднее             1   \n",
       "3         3    4124.747207         32   среднее             1   \n",
       "4         0  340266.072047         53   среднее             1   \n",
       "\n",
       "      family_status  family_status_id gender income_type  debt  total_income  \\\n",
       "0   женат / замужем                 0      F   сотрудник     0        253875   \n",
       "1   женат / замужем                 0      F   сотрудник     0        112080   \n",
       "2   женат / замужем                 0      M   сотрудник     0        145885   \n",
       "3   женат / замужем                 0      M   сотрудник     0        267628   \n",
       "4  гражданский брак                 1      F   пенсионер     0        158616   \n",
       "\n",
       "                      purpose total_income_category  \n",
       "0               покупка жилья                     B  \n",
       "1     приобретение автомобиля                     C  \n",
       "2               покупка жилья                     C  \n",
       "3  дополнительное образование                     B  \n",
       "4             сыграть свадьбу                     C  "
      ]
     },
     "execution_count": 20,
     "metadata": {},
     "output_type": "execute_result"
    }
   ],
   "source": [
    "data.head()"
   ]
  },
  {
   "cell_type": "markdown",
   "id": "108a7de5",
   "metadata": {},
   "source": [
    "Выведите на экран перечень уникальных целей взятия кредита из столбца `purpose`."
   ]
  },
  {
   "cell_type": "code",
   "execution_count": 21,
   "id": "ff416859",
   "metadata": {},
   "outputs": [
    {
     "data": {
      "text/plain": [
       "array(['покупка жилья', 'приобретение автомобиля',\n",
       "       'дополнительное образование', 'сыграть свадьбу',\n",
       "       'операции с жильем', 'образование', 'на проведение свадьбы',\n",
       "       'покупка жилья для семьи', 'покупка недвижимости',\n",
       "       'покупка коммерческой недвижимости', 'покупка жилой недвижимости',\n",
       "       'строительство собственной недвижимости', 'недвижимость',\n",
       "       'строительство недвижимости', 'на покупку подержанного автомобиля',\n",
       "       'на покупку своего автомобиля',\n",
       "       'операции с коммерческой недвижимостью',\n",
       "       'строительство жилой недвижимости', 'жилье',\n",
       "       'операции со своей недвижимостью', 'автомобили',\n",
       "       'заняться образованием', 'сделка с подержанным автомобилем',\n",
       "       'получение образования', 'автомобиль', 'свадьба',\n",
       "       'получение дополнительного образования', 'покупка своего жилья',\n",
       "       'операции с недвижимостью', 'получение высшего образования',\n",
       "       'свой автомобиль', 'сделка с автомобилем',\n",
       "       'профильное образование', 'высшее образование',\n",
       "       'покупка жилья для сдачи', 'на покупку автомобиля', 'ремонт жилью',\n",
       "       'заняться высшим образованием'], dtype=object)"
      ]
     },
     "execution_count": 21,
     "metadata": {},
     "output_type": "execute_result"
    }
   ],
   "source": [
    "data['purpose'].unique()"
   ]
  },
  {
   "cell_type": "markdown",
   "id": "12136f77",
   "metadata": {},
   "source": [
    "Создадим функцию, которая на основании данных из столбца `purpose` сформирует новый столбец `purpose_category`, в который войдут следующие категории:\n",
    "\n",
    "- `'операции с автомобилем'`,\n",
    "- `'операции с недвижимостью'`,\n",
    "- `'проведение свадьбы'`,\n",
    "- `'получение образования'`.\n",
    "\n",
    "Например, если в столбце `purpose` находится подстрока `'на покупку автомобиля'`, то в столбце `purpose_category` должна появиться строка `'операции с автомобилем'`.\n",
    "\n",
    "Используем собственную функцию с именем `categorize_purpose()` и метод `apply()`. Изучим данные в столбце `purpose` и определим, какие подстроки помогут  правильно определить категорию."
   ]
  },
  {
   "cell_type": "code",
   "execution_count": 22,
   "id": "1ba75ff2",
   "metadata": {},
   "outputs": [],
   "source": [
    "def categorize_purpose(purpose):\n",
    "    if 'автомоб' in purpose:\n",
    "        return 'операции с автомобилем' \n",
    "    if 'недвиж' in purpose or 'жиль' in purpose:\n",
    "        return 'операции с недвижимостью'\n",
    "    if 'свад' in purpose:\n",
    "        return 'проведение свадьбы'\n",
    "    if 'образов' in purpose:\n",
    "        return 'получение образования'"
   ]
  },
  {
   "cell_type": "code",
   "execution_count": 23,
   "id": "31ffab20",
   "metadata": {},
   "outputs": [],
   "source": [
    "data['purpose_category'] = data['purpose'].apply(categorize_purpose)"
   ]
  },
  {
   "cell_type": "markdown",
   "id": "7d48ee2c",
   "metadata": {},
   "source": [
    "Выведем первые 5 строк датасета, чтобы посмотреть результат."
   ]
  },
  {
   "cell_type": "code",
   "execution_count": 24,
   "id": "656eba18",
   "metadata": {},
   "outputs": [
    {
     "data": {
      "text/html": [
       "<div>\n",
       "<style scoped>\n",
       "    .dataframe tbody tr th:only-of-type {\n",
       "        vertical-align: middle;\n",
       "    }\n",
       "\n",
       "    .dataframe tbody tr th {\n",
       "        vertical-align: top;\n",
       "    }\n",
       "\n",
       "    .dataframe thead th {\n",
       "        text-align: right;\n",
       "    }\n",
       "</style>\n",
       "<table border=\"1\" class=\"dataframe\">\n",
       "  <thead>\n",
       "    <tr style=\"text-align: right;\">\n",
       "      <th></th>\n",
       "      <th>children</th>\n",
       "      <th>days_employed</th>\n",
       "      <th>dob_years</th>\n",
       "      <th>education</th>\n",
       "      <th>education_id</th>\n",
       "      <th>family_status</th>\n",
       "      <th>family_status_id</th>\n",
       "      <th>gender</th>\n",
       "      <th>income_type</th>\n",
       "      <th>debt</th>\n",
       "      <th>total_income</th>\n",
       "      <th>purpose</th>\n",
       "      <th>total_income_category</th>\n",
       "      <th>purpose_category</th>\n",
       "    </tr>\n",
       "  </thead>\n",
       "  <tbody>\n",
       "    <tr>\n",
       "      <th>0</th>\n",
       "      <td>1</td>\n",
       "      <td>8437.673028</td>\n",
       "      <td>42</td>\n",
       "      <td>высшее</td>\n",
       "      <td>0</td>\n",
       "      <td>женат / замужем</td>\n",
       "      <td>0</td>\n",
       "      <td>F</td>\n",
       "      <td>сотрудник</td>\n",
       "      <td>0</td>\n",
       "      <td>253875</td>\n",
       "      <td>покупка жилья</td>\n",
       "      <td>B</td>\n",
       "      <td>операции с недвижимостью</td>\n",
       "    </tr>\n",
       "    <tr>\n",
       "      <th>1</th>\n",
       "      <td>1</td>\n",
       "      <td>4024.803754</td>\n",
       "      <td>36</td>\n",
       "      <td>среднее</td>\n",
       "      <td>1</td>\n",
       "      <td>женат / замужем</td>\n",
       "      <td>0</td>\n",
       "      <td>F</td>\n",
       "      <td>сотрудник</td>\n",
       "      <td>0</td>\n",
       "      <td>112080</td>\n",
       "      <td>приобретение автомобиля</td>\n",
       "      <td>C</td>\n",
       "      <td>операции с автомобилем</td>\n",
       "    </tr>\n",
       "    <tr>\n",
       "      <th>2</th>\n",
       "      <td>0</td>\n",
       "      <td>5623.422610</td>\n",
       "      <td>33</td>\n",
       "      <td>среднее</td>\n",
       "      <td>1</td>\n",
       "      <td>женат / замужем</td>\n",
       "      <td>0</td>\n",
       "      <td>M</td>\n",
       "      <td>сотрудник</td>\n",
       "      <td>0</td>\n",
       "      <td>145885</td>\n",
       "      <td>покупка жилья</td>\n",
       "      <td>C</td>\n",
       "      <td>операции с недвижимостью</td>\n",
       "    </tr>\n",
       "    <tr>\n",
       "      <th>3</th>\n",
       "      <td>3</td>\n",
       "      <td>4124.747207</td>\n",
       "      <td>32</td>\n",
       "      <td>среднее</td>\n",
       "      <td>1</td>\n",
       "      <td>женат / замужем</td>\n",
       "      <td>0</td>\n",
       "      <td>M</td>\n",
       "      <td>сотрудник</td>\n",
       "      <td>0</td>\n",
       "      <td>267628</td>\n",
       "      <td>дополнительное образование</td>\n",
       "      <td>B</td>\n",
       "      <td>получение образования</td>\n",
       "    </tr>\n",
       "    <tr>\n",
       "      <th>4</th>\n",
       "      <td>0</td>\n",
       "      <td>340266.072047</td>\n",
       "      <td>53</td>\n",
       "      <td>среднее</td>\n",
       "      <td>1</td>\n",
       "      <td>гражданский брак</td>\n",
       "      <td>1</td>\n",
       "      <td>F</td>\n",
       "      <td>пенсионер</td>\n",
       "      <td>0</td>\n",
       "      <td>158616</td>\n",
       "      <td>сыграть свадьбу</td>\n",
       "      <td>C</td>\n",
       "      <td>проведение свадьбы</td>\n",
       "    </tr>\n",
       "  </tbody>\n",
       "</table>\n",
       "</div>"
      ],
      "text/plain": [
       "   children  days_employed  dob_years education  education_id  \\\n",
       "0         1    8437.673028         42    высшее             0   \n",
       "1         1    4024.803754         36   среднее             1   \n",
       "2         0    5623.422610         33   среднее             1   \n",
       "3         3    4124.747207         32   среднее             1   \n",
       "4         0  340266.072047         53   среднее             1   \n",
       "\n",
       "      family_status  family_status_id gender income_type  debt  total_income  \\\n",
       "0   женат / замужем                 0      F   сотрудник     0        253875   \n",
       "1   женат / замужем                 0      F   сотрудник     0        112080   \n",
       "2   женат / замужем                 0      M   сотрудник     0        145885   \n",
       "3   женат / замужем                 0      M   сотрудник     0        267628   \n",
       "4  гражданский брак                 1      F   пенсионер     0        158616   \n",
       "\n",
       "                      purpose total_income_category          purpose_category  \n",
       "0               покупка жилья                     B  операции с недвижимостью  \n",
       "1     приобретение автомобиля                     C    операции с автомобилем  \n",
       "2               покупка жилья                     C  операции с недвижимостью  \n",
       "3  дополнительное образование                     B     получение образования  \n",
       "4             сыграть свадьбу                     C        проведение свадьбы  "
      ]
     },
     "execution_count": 24,
     "metadata": {},
     "output_type": "execute_result"
    }
   ],
   "source": [
    "data.head()"
   ]
  },
  {
   "cell_type": "markdown",
   "id": "e0320b31",
   "metadata": {},
   "source": [
    "**Выводы по шагу 2**\n",
    "\n",
    "Осуществлена предобработка данных:\n",
    "* заполнены пропуски: пропуски в столбцах `total_income` и `days_employed` заполнены медианными значениями по каждому типу занятости из столбца `income_type`;\n",
    "* обработаны аномальные значения: отрицательные значения в столбце `days_employed` преобразованы в положительные, строки с аномальными значениями в столбце `children` удалены;\n",
    "* тип данных в столбце `total_income` изменен на целочисленный;\n",
    "* созданы новые столбцы `total_income_category` и `purpose_category` с категориальными данными о доходе и целях кредита."
   ]
  },
  {
   "cell_type": "markdown",
   "id": "cdc71f16",
   "metadata": {},
   "source": [
    "## Исследуем данные и ответим на вопросы"
   ]
  },
  {
   "cell_type": "markdown",
   "id": "4445343a",
   "metadata": {},
   "source": [
    "Вызовем актуальную информацию о данных в таблице `data`. Теперь в таблице 21331 строка. Пропущенных значений нет."
   ]
  },
  {
   "cell_type": "code",
   "execution_count": 25,
   "id": "6c6f4e17",
   "metadata": {
    "scrolled": true
   },
   "outputs": [
    {
     "name": "stdout",
     "output_type": "stream",
     "text": [
      "<class 'pandas.core.frame.DataFrame'>\n",
      "Int64Index: 21331 entries, 0 to 21524\n",
      "Data columns (total 14 columns):\n",
      " #   Column                 Non-Null Count  Dtype  \n",
      "---  ------                 --------------  -----  \n",
      " 0   children               21331 non-null  int64  \n",
      " 1   days_employed          21331 non-null  float64\n",
      " 2   dob_years              21331 non-null  int64  \n",
      " 3   education              21331 non-null  object \n",
      " 4   education_id           21331 non-null  int64  \n",
      " 5   family_status          21331 non-null  object \n",
      " 6   family_status_id       21331 non-null  int64  \n",
      " 7   gender                 21331 non-null  object \n",
      " 8   income_type            21331 non-null  object \n",
      " 9   debt                   21331 non-null  int64  \n",
      " 10  total_income           21331 non-null  int64  \n",
      " 11  purpose                21331 non-null  object \n",
      " 12  total_income_category  21331 non-null  object \n",
      " 13  purpose_category       21331 non-null  object \n",
      "dtypes: float64(1), int64(6), object(7)\n",
      "memory usage: 2.4+ MB\n"
     ]
    }
   ],
   "source": [
    "data.info()"
   ]
  },
  {
   "cell_type": "markdown",
   "id": "706155f4",
   "metadata": {},
   "source": [
    "### Есть ли зависимость между количеством детей и возвратом кредита в срок?"
   ]
  },
  {
   "cell_type": "markdown",
   "id": "ed476461",
   "metadata": {},
   "source": [
    "Построим сводную таблицу, показывающую соотношение случаев возврата и невозврата в срок кредита по группам клиентов с разным количеством детей. \n",
    "Как было установлено ранее, столбец `'children'` содержит значения от 0 (нет детей) до 5. Значения в столбце `'debt'`: 1 - наличие задолженности, 0 - отсутствие задолженности. \n",
    "В качестве значения аргумента `values` можно принять любой столбец (кроме `'children'` и `'debt'`).\n",
    "В качестве значения аргумента `aggfunc` принимаем `'count'` - подсчитываем количество строк с каждым из значений в столбце `'debt'`."
   ]
  },
  {
   "cell_type": "code",
   "execution_count": 26,
   "id": "7d3a94bd",
   "metadata": {},
   "outputs": [
    {
     "data": {
      "text/html": [
       "<div>\n",
       "<style scoped>\n",
       "    .dataframe tbody tr th:only-of-type {\n",
       "        vertical-align: middle;\n",
       "    }\n",
       "\n",
       "    .dataframe tbody tr th {\n",
       "        vertical-align: top;\n",
       "    }\n",
       "\n",
       "    .dataframe thead th {\n",
       "        text-align: right;\n",
       "    }\n",
       "</style>\n",
       "<table border=\"1\" class=\"dataframe\">\n",
       "  <thead>\n",
       "    <tr style=\"text-align: right;\">\n",
       "      <th>debt</th>\n",
       "      <th>0</th>\n",
       "      <th>1</th>\n",
       "    </tr>\n",
       "    <tr>\n",
       "      <th>children</th>\n",
       "      <th></th>\n",
       "      <th></th>\n",
       "    </tr>\n",
       "  </thead>\n",
       "  <tbody>\n",
       "    <tr>\n",
       "      <th>0</th>\n",
       "      <td>13028.0</td>\n",
       "      <td>1063.0</td>\n",
       "    </tr>\n",
       "    <tr>\n",
       "      <th>1</th>\n",
       "      <td>4364.0</td>\n",
       "      <td>444.0</td>\n",
       "    </tr>\n",
       "    <tr>\n",
       "      <th>2</th>\n",
       "      <td>1858.0</td>\n",
       "      <td>194.0</td>\n",
       "    </tr>\n",
       "    <tr>\n",
       "      <th>3</th>\n",
       "      <td>303.0</td>\n",
       "      <td>27.0</td>\n",
       "    </tr>\n",
       "    <tr>\n",
       "      <th>4</th>\n",
       "      <td>37.0</td>\n",
       "      <td>4.0</td>\n",
       "    </tr>\n",
       "    <tr>\n",
       "      <th>5</th>\n",
       "      <td>9.0</td>\n",
       "      <td>NaN</td>\n",
       "    </tr>\n",
       "  </tbody>\n",
       "</table>\n",
       "</div>"
      ],
      "text/plain": [
       "debt            0       1\n",
       "children                 \n",
       "0         13028.0  1063.0\n",
       "1          4364.0   444.0\n",
       "2          1858.0   194.0\n",
       "3           303.0    27.0\n",
       "4            37.0     4.0\n",
       "5             9.0     NaN"
      ]
     },
     "execution_count": 26,
     "metadata": {},
     "output_type": "execute_result"
    }
   ],
   "source": [
    "children_debt_pivot = data.pivot_table(index=['children'], columns='debt', values='education', aggfunc='count')\n",
    "children_debt_pivot"
   ]
  },
  {
   "cell_type": "markdown",
   "id": "7159548a",
   "metadata": {},
   "source": [
    "Заменим пропуск (NaN) на 0"
   ]
  },
  {
   "cell_type": "code",
   "execution_count": 27,
   "id": "b84ed680",
   "metadata": {},
   "outputs": [
    {
     "data": {
      "text/html": [
       "<div>\n",
       "<style scoped>\n",
       "    .dataframe tbody tr th:only-of-type {\n",
       "        vertical-align: middle;\n",
       "    }\n",
       "\n",
       "    .dataframe tbody tr th {\n",
       "        vertical-align: top;\n",
       "    }\n",
       "\n",
       "    .dataframe thead th {\n",
       "        text-align: right;\n",
       "    }\n",
       "</style>\n",
       "<table border=\"1\" class=\"dataframe\">\n",
       "  <thead>\n",
       "    <tr style=\"text-align: right;\">\n",
       "      <th>debt</th>\n",
       "      <th>0</th>\n",
       "      <th>1</th>\n",
       "    </tr>\n",
       "    <tr>\n",
       "      <th>children</th>\n",
       "      <th></th>\n",
       "      <th></th>\n",
       "    </tr>\n",
       "  </thead>\n",
       "  <tbody>\n",
       "    <tr>\n",
       "      <th>0</th>\n",
       "      <td>13028.0</td>\n",
       "      <td>1063.0</td>\n",
       "    </tr>\n",
       "    <tr>\n",
       "      <th>1</th>\n",
       "      <td>4364.0</td>\n",
       "      <td>444.0</td>\n",
       "    </tr>\n",
       "    <tr>\n",
       "      <th>2</th>\n",
       "      <td>1858.0</td>\n",
       "      <td>194.0</td>\n",
       "    </tr>\n",
       "    <tr>\n",
       "      <th>3</th>\n",
       "      <td>303.0</td>\n",
       "      <td>27.0</td>\n",
       "    </tr>\n",
       "    <tr>\n",
       "      <th>4</th>\n",
       "      <td>37.0</td>\n",
       "      <td>4.0</td>\n",
       "    </tr>\n",
       "    <tr>\n",
       "      <th>5</th>\n",
       "      <td>9.0</td>\n",
       "      <td>0.0</td>\n",
       "    </tr>\n",
       "  </tbody>\n",
       "</table>\n",
       "</div>"
      ],
      "text/plain": [
       "debt            0       1\n",
       "children                 \n",
       "0         13028.0  1063.0\n",
       "1          4364.0   444.0\n",
       "2          1858.0   194.0\n",
       "3           303.0    27.0\n",
       "4            37.0     4.0\n",
       "5             9.0     0.0"
      ]
     },
     "execution_count": 27,
     "metadata": {},
     "output_type": "execute_result"
    }
   ],
   "source": [
    "children_debt_pivot =  children_debt_pivot.fillna(0)\n",
    "children_debt_pivot"
   ]
  },
  {
   "cell_type": "markdown",
   "id": "ea698ca3",
   "metadata": {},
   "source": [
    "Убедимся, что сумма значений в `children_debt_pivot` совпадает с количеством строк таблицы `data` - 21331."
   ]
  },
  {
   "cell_type": "code",
   "execution_count": 28,
   "id": "e65767de",
   "metadata": {},
   "outputs": [
    {
     "data": {
      "text/plain": [
       "21331.0"
      ]
     },
     "execution_count": 28,
     "metadata": {},
     "output_type": "execute_result"
    }
   ],
   "source": [
    "sum(children_debt_pivot[0])+sum(children_debt_pivot[1])"
   ]
  },
  {
   "cell_type": "markdown",
   "id": "494fc7fc",
   "metadata": {},
   "source": [
    "Добавим в таблицу `children_debt_pivot` столбец `'debt_percentage'`, показывающий долю случаев несвоевременного возврата кредита в каждой группе клиентов по количеству детей, и отсортируем таблицу по убыванию значений в добавленном столбце `'debt_percentage'`."
   ]
  },
  {
   "cell_type": "code",
   "execution_count": 29,
   "id": "9fb6eb4a",
   "metadata": {
    "scrolled": true
   },
   "outputs": [
    {
     "data": {
      "text/html": [
       "<div>\n",
       "<style scoped>\n",
       "    .dataframe tbody tr th:only-of-type {\n",
       "        vertical-align: middle;\n",
       "    }\n",
       "\n",
       "    .dataframe tbody tr th {\n",
       "        vertical-align: top;\n",
       "    }\n",
       "\n",
       "    .dataframe thead th {\n",
       "        text-align: right;\n",
       "    }\n",
       "</style>\n",
       "<table border=\"1\" class=\"dataframe\">\n",
       "  <thead>\n",
       "    <tr style=\"text-align: right;\">\n",
       "      <th>debt</th>\n",
       "      <th>0</th>\n",
       "      <th>1</th>\n",
       "      <th>debt_percentage</th>\n",
       "    </tr>\n",
       "    <tr>\n",
       "      <th>children</th>\n",
       "      <th></th>\n",
       "      <th></th>\n",
       "      <th></th>\n",
       "    </tr>\n",
       "  </thead>\n",
       "  <tbody>\n",
       "    <tr>\n",
       "      <th>4</th>\n",
       "      <td>37</td>\n",
       "      <td>4</td>\n",
       "      <td>9.756098</td>\n",
       "    </tr>\n",
       "    <tr>\n",
       "      <th>2</th>\n",
       "      <td>1858</td>\n",
       "      <td>194</td>\n",
       "      <td>9.454191</td>\n",
       "    </tr>\n",
       "    <tr>\n",
       "      <th>1</th>\n",
       "      <td>4364</td>\n",
       "      <td>444</td>\n",
       "      <td>9.234609</td>\n",
       "    </tr>\n",
       "    <tr>\n",
       "      <th>3</th>\n",
       "      <td>303</td>\n",
       "      <td>27</td>\n",
       "      <td>8.181818</td>\n",
       "    </tr>\n",
       "    <tr>\n",
       "      <th>0</th>\n",
       "      <td>13028</td>\n",
       "      <td>1063</td>\n",
       "      <td>7.543822</td>\n",
       "    </tr>\n",
       "    <tr>\n",
       "      <th>5</th>\n",
       "      <td>9</td>\n",
       "      <td>0</td>\n",
       "      <td>0.000000</td>\n",
       "    </tr>\n",
       "  </tbody>\n",
       "</table>\n",
       "</div>"
      ],
      "text/plain": [
       "debt          0     1  debt_percentage\n",
       "children                              \n",
       "4            37     4         9.756098\n",
       "2          1858   194         9.454191\n",
       "1          4364   444         9.234609\n",
       "3           303    27         8.181818\n",
       "0         13028  1063         7.543822\n",
       "5             9     0         0.000000"
      ]
     },
     "execution_count": 29,
     "metadata": {},
     "output_type": "execute_result"
    }
   ],
   "source": [
    "children_debt_pivot['debt_percentage'] = children_debt_pivot[1]/(children_debt_pivot[0]+children_debt_pivot[1])*100\n",
    "children_debt_pivot[1] = children_debt_pivot[1].astype(int)\n",
    "children_debt_pivot[0] = children_debt_pivot[0].astype(int)\n",
    "children_debt_pivot.sort_values(by='debt_percentage', ascending=False)"
   ]
  },
  {
   "cell_type": "markdown",
   "id": "441aadcf",
   "metadata": {},
   "source": [
    "**Вывод:** Можно с осторожностью говорить о наличии зависимости между количеством детей и возвратом кредита в срок.\n",
    "Наименьший процент просрочек (7.54%) наблюдается в группе бездетных клиентов. \n",
    "Среди клиентов, имеющих детей, наименьшая доля просрочек наблюдается в группе заемщиков, имеющих троих детей.\n",
    "В группе заемщиков, имеющих 5 детей, не наблюдается ни одного случая просрочки возврата кредита. Поскольку данных по этой группе мало (всего 9 записей), полученные результаты могут быть нерепрезентативны. "
   ]
  },
  {
   "cell_type": "markdown",
   "id": "9107a57f",
   "metadata": {},
   "source": [
    "* *(дополнительные рассуждения: экспериментальные)* Следует отметить, что разница в 1-2% может иметь разный уровень значимости на разных объемах выборок. Попробуем применить критерий согласия хи-квадрат (либо точный критерий Фишера, если хотя бы одно из значений в таблице сопряженности менее 5) для сравнения распределения случаев возврата/невозврата кредита в срок для каджой группы по количеству детей с суммарными данными по остальным группам (порог значимости – 0.05). Добавим в таблицу `children_debt_pivot` столбец `'p_value'`, показывающий значение p для каждой группы по количеству детей, и столбец `'significance'`, показывающий наличие/отсутствия статистически значимого различия.\n",
    "* Это можно сделать при помощи цикла или функций. Поэкспериментируем с обоими вариантами. Функции можно использовать и в других разделах"
   ]
  },
  {
   "cell_type": "code",
   "execution_count": 30,
   "id": "f33da424",
   "metadata": {},
   "outputs": [
    {
     "data": {
      "text/html": [
       "<div>\n",
       "<style scoped>\n",
       "    .dataframe tbody tr th:only-of-type {\n",
       "        vertical-align: middle;\n",
       "    }\n",
       "\n",
       "    .dataframe tbody tr th {\n",
       "        vertical-align: top;\n",
       "    }\n",
       "\n",
       "    .dataframe thead th {\n",
       "        text-align: right;\n",
       "    }\n",
       "</style>\n",
       "<table border=\"1\" class=\"dataframe\">\n",
       "  <thead>\n",
       "    <tr style=\"text-align: right;\">\n",
       "      <th>debt</th>\n",
       "      <th>0</th>\n",
       "      <th>1</th>\n",
       "      <th>debt_percentage</th>\n",
       "      <th>p_value</th>\n",
       "      <th>significance</th>\n",
       "    </tr>\n",
       "    <tr>\n",
       "      <th>children</th>\n",
       "      <th></th>\n",
       "      <th></th>\n",
       "      <th></th>\n",
       "      <th></th>\n",
       "      <th></th>\n",
       "    </tr>\n",
       "  </thead>\n",
       "  <tbody>\n",
       "    <tr>\n",
       "      <th>0</th>\n",
       "      <td>13028</td>\n",
       "      <td>1063</td>\n",
       "      <td>7.543822</td>\n",
       "      <td>0.000020</td>\n",
       "      <td>1</td>\n",
       "    </tr>\n",
       "    <tr>\n",
       "      <th>1</th>\n",
       "      <td>4364</td>\n",
       "      <td>444</td>\n",
       "      <td>9.234609</td>\n",
       "      <td>0.001442</td>\n",
       "      <td>1</td>\n",
       "    </tr>\n",
       "    <tr>\n",
       "      <th>2</th>\n",
       "      <td>1858</td>\n",
       "      <td>194</td>\n",
       "      <td>9.454191</td>\n",
       "      <td>0.022276</td>\n",
       "      <td>1</td>\n",
       "    </tr>\n",
       "    <tr>\n",
       "      <th>3</th>\n",
       "      <td>303</td>\n",
       "      <td>27</td>\n",
       "      <td>8.181818</td>\n",
       "      <td>1.000000</td>\n",
       "      <td>0</td>\n",
       "    </tr>\n",
       "    <tr>\n",
       "      <th>4</th>\n",
       "      <td>37</td>\n",
       "      <td>4</td>\n",
       "      <td>9.756098</td>\n",
       "      <td>0.572455</td>\n",
       "      <td>0</td>\n",
       "    </tr>\n",
       "    <tr>\n",
       "      <th>5</th>\n",
       "      <td>9</td>\n",
       "      <td>0</td>\n",
       "      <td>0.000000</td>\n",
       "      <td>1.000000</td>\n",
       "      <td>0</td>\n",
       "    </tr>\n",
       "  </tbody>\n",
       "</table>\n",
       "</div>"
      ],
      "text/plain": [
       "debt          0     1  debt_percentage   p_value  significance\n",
       "children                                                      \n",
       "0         13028  1063         7.543822  0.000020             1\n",
       "1          4364   444         9.234609  0.001442             1\n",
       "2          1858   194         9.454191  0.022276             1\n",
       "3           303    27         8.181818  1.000000             0\n",
       "4            37     4         9.756098  0.572455             0\n",
       "5             9     0         0.000000  1.000000             0"
      ]
     },
     "execution_count": 30,
     "metadata": {},
     "output_type": "execute_result"
    }
   ],
   "source": [
    "children_debt_0 = children_debt_pivot[0]\n",
    "children_debt_1 = children_debt_pivot[1]\n",
    "sum_debt_0 = sum(children_debt_0) # суммарные данные по случаям возврата кредита в срок\n",
    "sum_debt_1 = sum(children_debt_1) # суммарные данные по случаям невозврата кредита в срок\n",
    "\n",
    "children_p_value = []\n",
    "children_significance = []\n",
    "\n",
    "for i in range(len(children_debt_0)): \n",
    "    if (children_debt_0[i]<=5 or\n",
    "        children_debt_1[i]<=5):\n",
    "        oddsratio, pvalue = stats.fisher_exact([[children_debt_0[i], children_debt_1[i]], [sum_debt_0-children_debt_0[i], sum_debt_1-children_debt_1[i]]])\n",
    "        children_p_value.append(pvalue)\n",
    "        if pvalue<0.05:\n",
    "            children_significance.append(1)\n",
    "        else:\n",
    "            children_significance.append(0)   \n",
    "    else:\n",
    "        obs = np.array([[children_debt_0[i], children_debt_1[i]], [sum_debt_0-children_debt_0[i], sum_debt_1-children_debt_1[i]]])\n",
    "        chi_square, pvalue = stats.chi2_contingency(obs)[:2]\n",
    "        children_p_value.append(pvalue)\n",
    "        if pvalue<0.05:\n",
    "            children_significance.append(1)\n",
    "        else:\n",
    "            children_significance.append(0)\n",
    "\n",
    "children_debt_pivot['p_value'] = children_p_value\n",
    "children_debt_pivot['significance'] = children_significance\n",
    "\n",
    "children_debt_pivot"
   ]
  },
  {
   "cell_type": "code",
   "execution_count": 31,
   "id": "f61345bf",
   "metadata": {
    "scrolled": false
   },
   "outputs": [
    {
     "data": {
      "text/html": [
       "<div>\n",
       "<style scoped>\n",
       "    .dataframe tbody tr th:only-of-type {\n",
       "        vertical-align: middle;\n",
       "    }\n",
       "\n",
       "    .dataframe tbody tr th {\n",
       "        vertical-align: top;\n",
       "    }\n",
       "\n",
       "    .dataframe thead th {\n",
       "        text-align: right;\n",
       "    }\n",
       "</style>\n",
       "<table border=\"1\" class=\"dataframe\">\n",
       "  <thead>\n",
       "    <tr style=\"text-align: right;\">\n",
       "      <th>debt</th>\n",
       "      <th>0</th>\n",
       "      <th>1</th>\n",
       "      <th>debt_percentage</th>\n",
       "      <th>p_value</th>\n",
       "      <th>significance</th>\n",
       "    </tr>\n",
       "    <tr>\n",
       "      <th>children</th>\n",
       "      <th></th>\n",
       "      <th></th>\n",
       "      <th></th>\n",
       "      <th></th>\n",
       "      <th></th>\n",
       "    </tr>\n",
       "  </thead>\n",
       "  <tbody>\n",
       "    <tr>\n",
       "      <th>0</th>\n",
       "      <td>13028</td>\n",
       "      <td>1063</td>\n",
       "      <td>7.543822</td>\n",
       "      <td>0.000020</td>\n",
       "      <td>1</td>\n",
       "    </tr>\n",
       "    <tr>\n",
       "      <th>1</th>\n",
       "      <td>4364</td>\n",
       "      <td>444</td>\n",
       "      <td>9.234609</td>\n",
       "      <td>0.001442</td>\n",
       "      <td>1</td>\n",
       "    </tr>\n",
       "    <tr>\n",
       "      <th>2</th>\n",
       "      <td>1858</td>\n",
       "      <td>194</td>\n",
       "      <td>9.454191</td>\n",
       "      <td>0.022276</td>\n",
       "      <td>1</td>\n",
       "    </tr>\n",
       "    <tr>\n",
       "      <th>3</th>\n",
       "      <td>303</td>\n",
       "      <td>27</td>\n",
       "      <td>8.181818</td>\n",
       "      <td>1.000000</td>\n",
       "      <td>0</td>\n",
       "    </tr>\n",
       "    <tr>\n",
       "      <th>4</th>\n",
       "      <td>37</td>\n",
       "      <td>4</td>\n",
       "      <td>9.756098</td>\n",
       "      <td>0.572455</td>\n",
       "      <td>0</td>\n",
       "    </tr>\n",
       "    <tr>\n",
       "      <th>5</th>\n",
       "      <td>9</td>\n",
       "      <td>0</td>\n",
       "      <td>0.000000</td>\n",
       "      <td>1.000000</td>\n",
       "      <td>0</td>\n",
       "    </tr>\n",
       "  </tbody>\n",
       "</table>\n",
       "</div>"
      ],
      "text/plain": [
       "debt          0     1  debt_percentage   p_value  significance\n",
       "children                                                      \n",
       "0         13028  1063         7.543822  0.000020             1\n",
       "1          4364   444         9.234609  0.001442             1\n",
       "2          1858   194         9.454191  0.022276             1\n",
       "3           303    27         8.181818  1.000000             0\n",
       "4            37     4         9.756098  0.572455             0\n",
       "5             9     0         0.000000  1.000000             0"
      ]
     },
     "execution_count": 31,
     "metadata": {},
     "output_type": "execute_result"
    }
   ],
   "source": [
    "def count_p_value(row): # функция для добавления столбца 'p_value'\n",
    "    debt_0 = row[0]\n",
    "    debt_1 = row[1]\n",
    "    if debt_0<=5 or  debt_1<=5:\n",
    "        oddsratio, pvalue = stats.fisher_exact([[debt_0, debt_1], [sum_debt_0-debt_0, sum_debt_1-debt_1]])\n",
    "        return pvalue\n",
    "    else:\n",
    "        obs = np.array([[debt_0, debt_1], [sum_debt_0-debt_0, sum_debt_1-debt_1]])\n",
    "        chi_square, pvalue = stats.chi2_contingency(obs)[:2]\n",
    "        return pvalue\n",
    "\n",
    "children_debt_pivot['p_value'] = children_debt_pivot.apply(count_p_value, axis=1)\n",
    "\n",
    "def significance(row): # функция для добавления столбца 'significance'\n",
    "    p_value = row['p_value']\n",
    "    if p_value<0.05:\n",
    "        return 1\n",
    "    else:\n",
    "        return 0\n",
    "\n",
    "children_debt_pivot['significance'] = children_debt_pivot.apply(significance, axis=1)\n",
    "\n",
    "children_debt_pivot"
   ]
  },
  {
   "cell_type": "markdown",
   "id": "7ab3d3a9",
   "metadata": {},
   "source": [
    "* *Вывод дополнительный:* Статистически значимое различие в распределении случаев возврата/невозврата кредита в срок по отношению к суммарным данным по остальным групам наблюдается для групп заемщиков, не имеющих детей, и имеющих одного и двоих детей (Нулевую гипотезу можно  сформулировать следующим образом: *H0: Распределение случаев возврата/невозврата кредита в срок не связано с принадлежностью заемщика к определенной группе по количеству детей /не отличается существенно от \"дефолтного\" по всем группам заемщиков*). При этом, если учесть, что общая доля просрочек составляет около 8%, можно сделать вывод, что в группе бездетных заемщиков процент задолженностей по кредиту ниже, а в группе заемщиков с 1 и 2 детьми выше, чем в целом по выборке."
   ]
  },
  {
   "cell_type": "code",
   "execution_count": 32,
   "id": "1772cab4",
   "metadata": {
    "scrolled": true
   },
   "outputs": [
    {
     "data": {
      "text/plain": [
       "8.119638085415593"
      ]
     },
     "execution_count": 32,
     "metadata": {},
     "output_type": "execute_result"
    }
   ],
   "source": [
    "sum_debt_1/(sum_debt_0 + sum_debt_1)*100"
   ]
  },
  {
   "cell_type": "markdown",
   "id": "a6cb178f",
   "metadata": {},
   "source": [
    "### Есть ли зависимость между семейным положением и возвратом кредита в срок?"
   ]
  },
  {
   "cell_type": "markdown",
   "id": "66b8a271",
   "metadata": {},
   "source": [
    "Построим сводную таблицу, показывающую соотношение случаев возврата и невозврата в срок кредита по группам клиентов с разным семейным положением. В данном разделе нам могут понадобиться данные столбцов `'family_status'` и `'family_status_id'`.\n",
    "Cтолбец `'family_status'` содержит следующие значения: `'женат / замужем'`, `'гражданский брак'`, `'Не женат / не замужем'`,  `'в разводе'`, `'вдовец / вдова'`.\n",
    "Cтолбец `'family_status_id'` содержит значения от 0 до 4.\n",
    "Соответствия между значениями столбцов `'family_status'` и `'family_status_id'` можно установить, например, путем вызова метода `value_counts()` для этих столбцов: \n",
    "\n",
    "* 0 – `'женат / замужем'`\n",
    "* 1 – `'гражданский брак'`,\n",
    "* 2 – `'Не женат / не замужем'`, \n",
    "* 3 – `'в разводе'`, \n",
    "* 4 – `'вдовец / вдова'`.\n",
    "\n",
    "\n",
    "Значения в столбце `'debt'`: 1 - наличие задолженности, 0 - отсутствие задолженности. \n",
    "В качестве значения аргумента `aggfunc` принимаем `'count'` - подсчитываем количество строк с каждым из значений в столбце `'debt'`.\n"
   ]
  },
  {
   "cell_type": "code",
   "execution_count": 33,
   "id": "2f2c41d9",
   "metadata": {},
   "outputs": [
    {
     "data": {
      "text/plain": [
       "женат / замужем          12261\n",
       "гражданский брак          4134\n",
       "Не женат / не замужем     2796\n",
       "в разводе                 1189\n",
       "вдовец / вдова             951\n",
       "Name: family_status, dtype: int64"
      ]
     },
     "execution_count": 33,
     "metadata": {},
     "output_type": "execute_result"
    }
   ],
   "source": [
    "data['family_status'].value_counts()"
   ]
  },
  {
   "cell_type": "code",
   "execution_count": 34,
   "id": "9b779c0a",
   "metadata": {
    "scrolled": true
   },
   "outputs": [
    {
     "data": {
      "text/plain": [
       "0    12261\n",
       "1     4134\n",
       "4     2796\n",
       "3     1189\n",
       "2      951\n",
       "Name: family_status_id, dtype: int64"
      ]
     },
     "execution_count": 34,
     "metadata": {},
     "output_type": "execute_result"
    }
   ],
   "source": [
    "data['family_status_id'].value_counts()"
   ]
  },
  {
   "cell_type": "code",
   "execution_count": 35,
   "id": "3e135ece",
   "metadata": {},
   "outputs": [
    {
     "data": {
      "text/html": [
       "<div>\n",
       "<style scoped>\n",
       "    .dataframe tbody tr th:only-of-type {\n",
       "        vertical-align: middle;\n",
       "    }\n",
       "\n",
       "    .dataframe tbody tr th {\n",
       "        vertical-align: top;\n",
       "    }\n",
       "\n",
       "    .dataframe thead th {\n",
       "        text-align: right;\n",
       "    }\n",
       "</style>\n",
       "<table border=\"1\" class=\"dataframe\">\n",
       "  <thead>\n",
       "    <tr style=\"text-align: right;\">\n",
       "      <th></th>\n",
       "      <th>debt</th>\n",
       "      <th>0</th>\n",
       "      <th>1</th>\n",
       "    </tr>\n",
       "    <tr>\n",
       "      <th>family_status_id</th>\n",
       "      <th>family_status</th>\n",
       "      <th></th>\n",
       "      <th></th>\n",
       "    </tr>\n",
       "  </thead>\n",
       "  <tbody>\n",
       "    <tr>\n",
       "      <th>0</th>\n",
       "      <th>женат / замужем</th>\n",
       "      <td>11334</td>\n",
       "      <td>927</td>\n",
       "    </tr>\n",
       "    <tr>\n",
       "      <th>1</th>\n",
       "      <th>гражданский брак</th>\n",
       "      <td>3749</td>\n",
       "      <td>385</td>\n",
       "    </tr>\n",
       "    <tr>\n",
       "      <th>2</th>\n",
       "      <th>вдовец / вдова</th>\n",
       "      <td>888</td>\n",
       "      <td>63</td>\n",
       "    </tr>\n",
       "    <tr>\n",
       "      <th>3</th>\n",
       "      <th>в разводе</th>\n",
       "      <td>1105</td>\n",
       "      <td>84</td>\n",
       "    </tr>\n",
       "    <tr>\n",
       "      <th>4</th>\n",
       "      <th>Не женат / не замужем</th>\n",
       "      <td>2523</td>\n",
       "      <td>273</td>\n",
       "    </tr>\n",
       "  </tbody>\n",
       "</table>\n",
       "</div>"
      ],
      "text/plain": [
       "debt                                        0    1\n",
       "family_status_id family_status                    \n",
       "0                женат / замужем        11334  927\n",
       "1                гражданский брак        3749  385\n",
       "2                вдовец / вдова           888   63\n",
       "3                в разводе               1105   84\n",
       "4                Не женат / не замужем   2523  273"
      ]
     },
     "execution_count": 35,
     "metadata": {},
     "output_type": "execute_result"
    }
   ],
   "source": [
    "family_debt_pivot = data.pivot_table(index=['family_status_id', 'family_status'], columns='debt', values='education', aggfunc='count')\n",
    "family_debt_pivot"
   ]
  },
  {
   "cell_type": "code",
   "execution_count": 36,
   "id": "0359767f",
   "metadata": {},
   "outputs": [
    {
     "data": {
      "text/plain": [
       "21331"
      ]
     },
     "execution_count": 36,
     "metadata": {},
     "output_type": "execute_result"
    }
   ],
   "source": [
    "sum(family_debt_pivot[0])+sum(family_debt_pivot[1])"
   ]
  },
  {
   "cell_type": "markdown",
   "id": "755849d1",
   "metadata": {},
   "source": [
    "Добавим в таблицу `family_debt_pivot` столбец `'debt_percentage'`, показывающий долю долю случаев несвоевременного возврата кредита в каждой группе клиентов в соответствии с семейным положением, и отсортируем таблицу по убыванию значений в добавленном столбце `'debt_percentage'`."
   ]
  },
  {
   "cell_type": "code",
   "execution_count": 37,
   "id": "9796fa49",
   "metadata": {},
   "outputs": [
    {
     "data": {
      "text/html": [
       "<div>\n",
       "<style scoped>\n",
       "    .dataframe tbody tr th:only-of-type {\n",
       "        vertical-align: middle;\n",
       "    }\n",
       "\n",
       "    .dataframe tbody tr th {\n",
       "        vertical-align: top;\n",
       "    }\n",
       "\n",
       "    .dataframe thead th {\n",
       "        text-align: right;\n",
       "    }\n",
       "</style>\n",
       "<table border=\"1\" class=\"dataframe\">\n",
       "  <thead>\n",
       "    <tr style=\"text-align: right;\">\n",
       "      <th></th>\n",
       "      <th>debt</th>\n",
       "      <th>0</th>\n",
       "      <th>1</th>\n",
       "      <th>debt_percentage</th>\n",
       "    </tr>\n",
       "    <tr>\n",
       "      <th>family_status_id</th>\n",
       "      <th>family_status</th>\n",
       "      <th></th>\n",
       "      <th></th>\n",
       "      <th></th>\n",
       "    </tr>\n",
       "  </thead>\n",
       "  <tbody>\n",
       "    <tr>\n",
       "      <th>4</th>\n",
       "      <th>Не женат / не замужем</th>\n",
       "      <td>2523</td>\n",
       "      <td>273</td>\n",
       "      <td>9.763948</td>\n",
       "    </tr>\n",
       "    <tr>\n",
       "      <th>1</th>\n",
       "      <th>гражданский брак</th>\n",
       "      <td>3749</td>\n",
       "      <td>385</td>\n",
       "      <td>9.313014</td>\n",
       "    </tr>\n",
       "    <tr>\n",
       "      <th>0</th>\n",
       "      <th>женат / замужем</th>\n",
       "      <td>11334</td>\n",
       "      <td>927</td>\n",
       "      <td>7.560558</td>\n",
       "    </tr>\n",
       "    <tr>\n",
       "      <th>3</th>\n",
       "      <th>в разводе</th>\n",
       "      <td>1105</td>\n",
       "      <td>84</td>\n",
       "      <td>7.064760</td>\n",
       "    </tr>\n",
       "    <tr>\n",
       "      <th>2</th>\n",
       "      <th>вдовец / вдова</th>\n",
       "      <td>888</td>\n",
       "      <td>63</td>\n",
       "      <td>6.624606</td>\n",
       "    </tr>\n",
       "  </tbody>\n",
       "</table>\n",
       "</div>"
      ],
      "text/plain": [
       "debt                                        0    1  debt_percentage\n",
       "family_status_id family_status                                     \n",
       "4                Не женат / не замужем   2523  273         9.763948\n",
       "1                гражданский брак        3749  385         9.313014\n",
       "0                женат / замужем        11334  927         7.560558\n",
       "3                в разводе               1105   84         7.064760\n",
       "2                вдовец / вдова           888   63         6.624606"
      ]
     },
     "execution_count": 37,
     "metadata": {},
     "output_type": "execute_result"
    }
   ],
   "source": [
    "family_debt_pivot['debt_percentage'] = family_debt_pivot[1]/(family_debt_pivot[0]+family_debt_pivot[1])*100\n",
    "family_debt_pivot.sort_values(by='debt_percentage', ascending=False)"
   ]
  },
  {
   "cell_type": "markdown",
   "id": "389db3af",
   "metadata": {},
   "source": [
    "**Вывод:** Процент несвоевременных выплат по кредиту выше в группах `'гражданский брак'` и `'Не женат / не замужем'`, в то время как заемщики с семейным статусом `'женат / замужем'`, `'в разводе'`, `'вдовец / вдова'` чаще возвращают кредиты в срок. Обобщая данные, можно предположить, что клиенты с опытом официально зарегистрированного брака реже имеют просрочки по кредитам, чем клиенты, не имеющие такого опыта."
   ]
  },
  {
   "cell_type": "markdown",
   "id": "7f0c2e43",
   "metadata": {},
   "source": [
    "* *(дополнительные рассуждения: экспериментальные)*\n",
    "\n",
    "*Идея 1.* Здесь также можно попробовать применить критерий согласия хи-квадрат (*H0: Распределение случаев возврата/невозврата кредита в срок не связано с определенным семейным положением заемщика / для каждого семейного положения не отличается существенно от \"дефолтного\" по всем группам заемщиков*). Добавляем в таблицу `family_debt_pivot` столбцы, применяя уже готовые функции `count_p_value` и `significance`. \n",
    "\n",
    "На всякий случай проверим, что суммарные показатели совпадают с хранящимися в переменных `sum_debt_0` и `sum_debt_1`"
   ]
  },
  {
   "cell_type": "code",
   "execution_count": 38,
   "id": "ad3e94bd",
   "metadata": {},
   "outputs": [
    {
     "name": "stdout",
     "output_type": "stream",
     "text": [
      "19599 1732 21331\n",
      "19599 1732 21331\n"
     ]
    }
   ],
   "source": [
    "print(sum_debt_0, sum_debt_1, sum_debt_0+sum_debt_1)\n",
    "print(sum(family_debt_pivot[0]), sum(family_debt_pivot[1]), sum(family_debt_pivot[0])+sum(family_debt_pivot[1]))"
   ]
  },
  {
   "cell_type": "code",
   "execution_count": 39,
   "id": "2d7f84cb",
   "metadata": {
    "scrolled": true
   },
   "outputs": [
    {
     "data": {
      "text/html": [
       "<div>\n",
       "<style scoped>\n",
       "    .dataframe tbody tr th:only-of-type {\n",
       "        vertical-align: middle;\n",
       "    }\n",
       "\n",
       "    .dataframe tbody tr th {\n",
       "        vertical-align: top;\n",
       "    }\n",
       "\n",
       "    .dataframe thead th {\n",
       "        text-align: right;\n",
       "    }\n",
       "</style>\n",
       "<table border=\"1\" class=\"dataframe\">\n",
       "  <thead>\n",
       "    <tr style=\"text-align: right;\">\n",
       "      <th></th>\n",
       "      <th>debt</th>\n",
       "      <th>0</th>\n",
       "      <th>1</th>\n",
       "      <th>debt_percentage</th>\n",
       "      <th>p_value</th>\n",
       "      <th>significance</th>\n",
       "    </tr>\n",
       "    <tr>\n",
       "      <th>family_status_id</th>\n",
       "      <th>family_status</th>\n",
       "      <th></th>\n",
       "      <th></th>\n",
       "      <th></th>\n",
       "      <th></th>\n",
       "      <th></th>\n",
       "    </tr>\n",
       "  </thead>\n",
       "  <tbody>\n",
       "    <tr>\n",
       "      <th>0</th>\n",
       "      <th>женат / замужем</th>\n",
       "      <td>11334</td>\n",
       "      <td>927</td>\n",
       "      <td>7.560558</td>\n",
       "      <td>0.000560</td>\n",
       "      <td>1</td>\n",
       "    </tr>\n",
       "    <tr>\n",
       "      <th>1</th>\n",
       "      <th>гражданский брак</th>\n",
       "      <td>3749</td>\n",
       "      <td>385</td>\n",
       "      <td>9.313014</td>\n",
       "      <td>0.001955</td>\n",
       "      <td>1</td>\n",
       "    </tr>\n",
       "    <tr>\n",
       "      <th>2</th>\n",
       "      <th>вдовец / вдова</th>\n",
       "      <td>888</td>\n",
       "      <td>63</td>\n",
       "      <td>6.624606</td>\n",
       "      <td>0.095682</td>\n",
       "      <td>0</td>\n",
       "    </tr>\n",
       "    <tr>\n",
       "      <th>3</th>\n",
       "      <th>в разводе</th>\n",
       "      <td>1105</td>\n",
       "      <td>84</td>\n",
       "      <td>7.064760</td>\n",
       "      <td>0.188231</td>\n",
       "      <td>0</td>\n",
       "    </tr>\n",
       "    <tr>\n",
       "      <th>4</th>\n",
       "      <th>Не женат / не замужем</th>\n",
       "      <td>2523</td>\n",
       "      <td>273</td>\n",
       "      <td>9.763948</td>\n",
       "      <td>0.000731</td>\n",
       "      <td>1</td>\n",
       "    </tr>\n",
       "  </tbody>\n",
       "</table>\n",
       "</div>"
      ],
      "text/plain": [
       "debt                                        0    1  debt_percentage   p_value  \\\n",
       "family_status_id family_status                                                  \n",
       "0                женат / замужем        11334  927         7.560558  0.000560   \n",
       "1                гражданский брак        3749  385         9.313014  0.001955   \n",
       "2                вдовец / вдова           888   63         6.624606  0.095682   \n",
       "3                в разводе               1105   84         7.064760  0.188231   \n",
       "4                Не женат / не замужем   2523  273         9.763948  0.000731   \n",
       "\n",
       "debt                                    significance  \n",
       "family_status_id family_status                        \n",
       "0                женат / замужем                   1  \n",
       "1                гражданский брак                  1  \n",
       "2                вдовец / вдова                    0  \n",
       "3                в разводе                         0  \n",
       "4                Не женат / не замужем             1  "
      ]
     },
     "execution_count": 39,
     "metadata": {},
     "output_type": "execute_result"
    }
   ],
   "source": [
    "family_debt_pivot['p_value'] = family_debt_pivot.apply(count_p_value, axis=1)\n",
    "family_debt_pivot['significance'] = family_debt_pivot.apply(significance, axis=1)\n",
    "\n",
    "family_debt_pivot"
   ]
  },
  {
   "cell_type": "markdown",
   "id": "1864c9a3",
   "metadata": {},
   "source": [
    "*Вывод дополнительный 1:* Можно констатировать наличие статистически значимого различия в распределении случаев возврата/невозврата кредита в срок для каждой из групп заемщиков со статусом `'женат / замужем'`, `'гражданский брак'`, `'Не женат / не замужем'` по отношению к суммарным данным по остальным групам. Для групп `'в разводе'`, `'вдовец / вдова'` статистически значимого различия не наблюдается. Возможно, это объясняется тем, что они меньше по объему."
   ]
  },
  {
   "cell_type": "markdown",
   "id": "a4cb3539",
   "metadata": {},
   "source": [
    "*Идея 2.* Выше было высказано предположение о существовании зависимости между опытом официальной регистрации брака и возвратом кредита в срок. Можно попробовать объединить данные в две группы в зависимости от того, регистрировали ли заемщики брак (категория 'A') или нет (категория 'В'). Построим сводную таблицу, которая будет иметь вид таблицы сопряженности 2 * 2 и применим к значениям в ней критерий согласия хи-квадрат (выведем только значения хи-квадрит и p). "
   ]
  },
  {
   "cell_type": "code",
   "execution_count": 40,
   "id": "0f4a47df",
   "metadata": {},
   "outputs": [
    {
     "data": {
      "text/html": [
       "<div>\n",
       "<style scoped>\n",
       "    .dataframe tbody tr th:only-of-type {\n",
       "        vertical-align: middle;\n",
       "    }\n",
       "\n",
       "    .dataframe tbody tr th {\n",
       "        vertical-align: top;\n",
       "    }\n",
       "\n",
       "    .dataframe thead th {\n",
       "        text-align: right;\n",
       "    }\n",
       "</style>\n",
       "<table border=\"1\" class=\"dataframe\">\n",
       "  <thead>\n",
       "    <tr style=\"text-align: right;\">\n",
       "      <th>debt</th>\n",
       "      <th>0</th>\n",
       "      <th>1</th>\n",
       "      <th>debt_percentage</th>\n",
       "    </tr>\n",
       "    <tr>\n",
       "      <th>family_status_category</th>\n",
       "      <th></th>\n",
       "      <th></th>\n",
       "      <th></th>\n",
       "    </tr>\n",
       "  </thead>\n",
       "  <tbody>\n",
       "    <tr>\n",
       "      <th>A</th>\n",
       "      <td>13327</td>\n",
       "      <td>1074</td>\n",
       "      <td>7.457815</td>\n",
       "    </tr>\n",
       "    <tr>\n",
       "      <th>B</th>\n",
       "      <td>6272</td>\n",
       "      <td>658</td>\n",
       "      <td>9.494949</td>\n",
       "    </tr>\n",
       "  </tbody>\n",
       "</table>\n",
       "</div>"
      ],
      "text/plain": [
       "debt                        0     1  debt_percentage\n",
       "family_status_category                              \n",
       "A                       13327  1074         7.457815\n",
       "B                        6272   658         9.494949"
      ]
     },
     "metadata": {},
     "output_type": "display_data"
    },
    {
     "data": {
      "text/plain": [
       "(25.752881674877585, 3.880471871323918e-07)"
      ]
     },
     "execution_count": 40,
     "metadata": {},
     "output_type": "execute_result"
    }
   ],
   "source": [
    "def categirize_family_status(row):\n",
    "    if 'женат / замужем' in row or 'вдовец / вдова' in row or 'в разводе' in row:\n",
    "        return 'A'\n",
    "    elif 'Не женат / не замужем' in row or 'гражданский брак' in row:\n",
    "        return 'B'\n",
    "\n",
    "data['family_status_category'] = data['family_status'].apply(categirize_family_status)\n",
    "family_category_debt_pivot = data.pivot_table(index=['family_status_category'], columns='debt', values='education', aggfunc='count')\n",
    "family_category_debt_pivot['debt_percentage'] = family_category_debt_pivot[1]/(family_category_debt_pivot[0]+family_category_debt_pivot[1])*100\n",
    "\n",
    "display(family_category_debt_pivot)\n",
    "stats.chi2_contingency([[family_category_debt_pivot.loc['A', 0], family_category_debt_pivot.loc['A', 1]], \n",
    "                        [family_category_debt_pivot.loc['B', 0], family_category_debt_pivot.loc['B', 1]]])[:2]"
   ]
  },
  {
   "cell_type": "markdown",
   "id": "5b555507",
   "metadata": {},
   "source": [
    "*Вывод дополнительный 2:* Заемщики, которые заключали официальный брак, чаще возвращают кредит в срок, чем заемщики, которые не оформляли отношения. Это различие статистически значимо."
   ]
  },
  {
   "cell_type": "markdown",
   "id": "e3300561",
   "metadata": {},
   "source": [
    "### Есть ли зависимость между уровнем дохода и возвратом кредита в срок?"
   ]
  },
  {
   "cell_type": "markdown",
   "id": "cc61ecce",
   "metadata": {},
   "source": [
    "Построим сводную таблицу, показывающую соотношение случаев возврата и невозврата в срок кредита по группам клиентов с разным уровнем дохода. В данном разделе нам потребуются данные столбца `'total_income_category'`. Напомним, что уровень дохода в данном столбце определяется при помощи букв A-E.\n",
    "Значения в столбце `'debt'`: 1 - наличие задолженности, 0 - отсутствие задолженности. \n",
    "В качестве значения аргумента `aggfunc` принимаем `'count'` - подсчитываем количество строк с каждым из значений в столбце `'debt'`."
   ]
  },
  {
   "cell_type": "code",
   "execution_count": 41,
   "id": "63b0a397",
   "metadata": {},
   "outputs": [
    {
     "data": {
      "text/html": [
       "<div>\n",
       "<style scoped>\n",
       "    .dataframe tbody tr th:only-of-type {\n",
       "        vertical-align: middle;\n",
       "    }\n",
       "\n",
       "    .dataframe tbody tr th {\n",
       "        vertical-align: top;\n",
       "    }\n",
       "\n",
       "    .dataframe thead th {\n",
       "        text-align: right;\n",
       "    }\n",
       "</style>\n",
       "<table border=\"1\" class=\"dataframe\">\n",
       "  <thead>\n",
       "    <tr style=\"text-align: right;\">\n",
       "      <th>debt</th>\n",
       "      <th>0</th>\n",
       "      <th>1</th>\n",
       "    </tr>\n",
       "    <tr>\n",
       "      <th>total_income_category</th>\n",
       "      <th></th>\n",
       "      <th></th>\n",
       "    </tr>\n",
       "  </thead>\n",
       "  <tbody>\n",
       "    <tr>\n",
       "      <th>A</th>\n",
       "      <td>23</td>\n",
       "      <td>2</td>\n",
       "    </tr>\n",
       "    <tr>\n",
       "      <th>B</th>\n",
       "      <td>4660</td>\n",
       "      <td>354</td>\n",
       "    </tr>\n",
       "    <tr>\n",
       "      <th>C</th>\n",
       "      <td>14568</td>\n",
       "      <td>1353</td>\n",
       "    </tr>\n",
       "    <tr>\n",
       "      <th>D</th>\n",
       "      <td>328</td>\n",
       "      <td>21</td>\n",
       "    </tr>\n",
       "    <tr>\n",
       "      <th>E</th>\n",
       "      <td>20</td>\n",
       "      <td>2</td>\n",
       "    </tr>\n",
       "  </tbody>\n",
       "</table>\n",
       "</div>"
      ],
      "text/plain": [
       "debt                       0     1\n",
       "total_income_category             \n",
       "A                         23     2\n",
       "B                       4660   354\n",
       "C                      14568  1353\n",
       "D                        328    21\n",
       "E                         20     2"
      ]
     },
     "execution_count": 41,
     "metadata": {},
     "output_type": "execute_result"
    }
   ],
   "source": [
    "income_debt_pivot = data.pivot_table(index=['total_income_category'], columns='debt', \n",
    "                                     values='education', aggfunc='count')\n",
    "income_debt_pivot"
   ]
  },
  {
   "cell_type": "markdown",
   "id": "7ce7fe79",
   "metadata": {},
   "source": [
    "Добавим в таблицу `income_debt_pivot` столбец `'debt_percentage'`, показывающий долю долю случаев несвоевременного возврата кредита в каждой группе клиентов в соответствии с семейным положением, и отсортирует таблицу по убыванию значений в добавленном столбце `'debt_percentage'`."
   ]
  },
  {
   "cell_type": "code",
   "execution_count": 42,
   "id": "5ab3db5f",
   "metadata": {},
   "outputs": [
    {
     "data": {
      "text/html": [
       "<div>\n",
       "<style scoped>\n",
       "    .dataframe tbody tr th:only-of-type {\n",
       "        vertical-align: middle;\n",
       "    }\n",
       "\n",
       "    .dataframe tbody tr th {\n",
       "        vertical-align: top;\n",
       "    }\n",
       "\n",
       "    .dataframe thead th {\n",
       "        text-align: right;\n",
       "    }\n",
       "</style>\n",
       "<table border=\"1\" class=\"dataframe\">\n",
       "  <thead>\n",
       "    <tr style=\"text-align: right;\">\n",
       "      <th>debt</th>\n",
       "      <th>0</th>\n",
       "      <th>1</th>\n",
       "      <th>debt_percentage</th>\n",
       "    </tr>\n",
       "    <tr>\n",
       "      <th>total_income_category</th>\n",
       "      <th></th>\n",
       "      <th></th>\n",
       "      <th></th>\n",
       "    </tr>\n",
       "  </thead>\n",
       "  <tbody>\n",
       "    <tr>\n",
       "      <th>E</th>\n",
       "      <td>20</td>\n",
       "      <td>2</td>\n",
       "      <td>9.090909</td>\n",
       "    </tr>\n",
       "    <tr>\n",
       "      <th>C</th>\n",
       "      <td>14568</td>\n",
       "      <td>1353</td>\n",
       "      <td>8.498210</td>\n",
       "    </tr>\n",
       "    <tr>\n",
       "      <th>A</th>\n",
       "      <td>23</td>\n",
       "      <td>2</td>\n",
       "      <td>8.000000</td>\n",
       "    </tr>\n",
       "    <tr>\n",
       "      <th>B</th>\n",
       "      <td>4660</td>\n",
       "      <td>354</td>\n",
       "      <td>7.060231</td>\n",
       "    </tr>\n",
       "    <tr>\n",
       "      <th>D</th>\n",
       "      <td>328</td>\n",
       "      <td>21</td>\n",
       "      <td>6.017192</td>\n",
       "    </tr>\n",
       "  </tbody>\n",
       "</table>\n",
       "</div>"
      ],
      "text/plain": [
       "debt                       0     1  debt_percentage\n",
       "total_income_category                              \n",
       "E                         20     2         9.090909\n",
       "C                      14568  1353         8.498210\n",
       "A                         23     2         8.000000\n",
       "B                       4660   354         7.060231\n",
       "D                        328    21         6.017192"
      ]
     },
     "execution_count": 42,
     "metadata": {},
     "output_type": "execute_result"
    }
   ],
   "source": [
    "income_debt_pivot['debt_percentage'] = income_debt_pivot[1]/(income_debt_pivot[0]+income_debt_pivot[1])*100\n",
    "income_debt_pivot.sort_values(by='debt_percentage', ascending=False)"
   ]
  },
  {
   "cell_type": "markdown",
   "id": "29e959d4",
   "metadata": {},
   "source": [
    "**Вывод:** Наименьшее количество заемщиков представлено в группах с наиболее высоким (категория `'А'`) и наиболее низким (категория `'Е'`) уровнем дохода. На основании таких небольших выборок выводы следует делать с осторожностью, результаты могут быть недостаточно репрезентативны.\n",
    "В целом, сложно сделать однозначный вывод о наличии зависимости между уровнем дохода и возвратом кредита в срок. \n",
    "Наименьший процент несвоевременных выплат отмечается в категории `'D'` (средний уровень дохода, 30001–50000). \n",
    "Наиболее многочисленными являются группы заемщиков с доходом выше среднего (категория `'С'`, 50001–200000) и высоким уровнем дохода (категория `'В'`, 200001–1000000). При этом процент просрочек выше в категории `'С'` (уровень дохода выше среднего, 50001–200000), т.е. можно сделать вывод, что клиенты с высоким доходом чаще отдают кредит в срок, чем клиенты с дохоом выше среднего."
   ]
  },
  {
   "cell_type": "markdown",
   "id": "de161c22",
   "metadata": {},
   "source": [
    "* *(дополнительные рассуждения: экспериментальные)* \n",
    "Здесь также можно попробовать применить критерий согласия хи-квадрат (*H0: Распределение случаев возврата/невозврата кредита в срок не связано с категорией дохода заемщика / для каждой категории не отличается существенно от \"дефолтного\" по всем группам заемщиков*). Добавляем в таблицу `income_debt_pivot` столбцы, применяя уже готовые функции `count_p_value` и `significance`."
   ]
  },
  {
   "cell_type": "code",
   "execution_count": 43,
   "id": "1a9f2dd5",
   "metadata": {},
   "outputs": [
    {
     "data": {
      "text/html": [
       "<div>\n",
       "<style scoped>\n",
       "    .dataframe tbody tr th:only-of-type {\n",
       "        vertical-align: middle;\n",
       "    }\n",
       "\n",
       "    .dataframe tbody tr th {\n",
       "        vertical-align: top;\n",
       "    }\n",
       "\n",
       "    .dataframe thead th {\n",
       "        text-align: right;\n",
       "    }\n",
       "</style>\n",
       "<table border=\"1\" class=\"dataframe\">\n",
       "  <thead>\n",
       "    <tr style=\"text-align: right;\">\n",
       "      <th>debt</th>\n",
       "      <th>0</th>\n",
       "      <th>1</th>\n",
       "      <th>debt_percentage</th>\n",
       "      <th>p_value</th>\n",
       "      <th>significance</th>\n",
       "    </tr>\n",
       "    <tr>\n",
       "      <th>total_income_category</th>\n",
       "      <th></th>\n",
       "      <th></th>\n",
       "      <th></th>\n",
       "      <th></th>\n",
       "      <th></th>\n",
       "    </tr>\n",
       "  </thead>\n",
       "  <tbody>\n",
       "    <tr>\n",
       "      <th>A</th>\n",
       "      <td>23</td>\n",
       "      <td>2</td>\n",
       "      <td>8.000000</td>\n",
       "      <td>1.000000</td>\n",
       "      <td>0</td>\n",
       "    </tr>\n",
       "    <tr>\n",
       "      <th>B</th>\n",
       "      <td>4660</td>\n",
       "      <td>354</td>\n",
       "      <td>7.060231</td>\n",
       "      <td>0.001867</td>\n",
       "      <td>1</td>\n",
       "    </tr>\n",
       "    <tr>\n",
       "      <th>C</th>\n",
       "      <td>14568</td>\n",
       "      <td>1353</td>\n",
       "      <td>8.498210</td>\n",
       "      <td>0.000574</td>\n",
       "      <td>1</td>\n",
       "    </tr>\n",
       "    <tr>\n",
       "      <th>D</th>\n",
       "      <td>328</td>\n",
       "      <td>21</td>\n",
       "      <td>6.017192</td>\n",
       "      <td>0.176661</td>\n",
       "      <td>0</td>\n",
       "    </tr>\n",
       "    <tr>\n",
       "      <th>E</th>\n",
       "      <td>20</td>\n",
       "      <td>2</td>\n",
       "      <td>9.090909</td>\n",
       "      <td>0.698223</td>\n",
       "      <td>0</td>\n",
       "    </tr>\n",
       "  </tbody>\n",
       "</table>\n",
       "</div>"
      ],
      "text/plain": [
       "debt                       0     1  debt_percentage   p_value  significance\n",
       "total_income_category                                                      \n",
       "A                         23     2         8.000000  1.000000             0\n",
       "B                       4660   354         7.060231  0.001867             1\n",
       "C                      14568  1353         8.498210  0.000574             1\n",
       "D                        328    21         6.017192  0.176661             0\n",
       "E                         20     2         9.090909  0.698223             0"
      ]
     },
     "execution_count": 43,
     "metadata": {},
     "output_type": "execute_result"
    }
   ],
   "source": [
    "income_debt_pivot['p_value'] = income_debt_pivot.apply(count_p_value, axis=1)\n",
    "income_debt_pivot['significance'] = income_debt_pivot.apply(significance, axis=1)\n",
    "\n",
    "income_debt_pivot"
   ]
  },
  {
   "cell_type": "markdown",
   "id": "ca3bdf70",
   "metadata": {},
   "source": [
    "*Вывод дополнительный 2:* о существенных различиях в распределении случаев возврата/невозврата кредита в срок можно говорить только применительно к группам `'B'` - высокий доход и `'С'` - доход выше среднего. При высоком доходе доля случаев несвоевременного выполнения кредитных обязательств ниже."
   ]
  },
  {
   "cell_type": "markdown",
   "id": "674bde93",
   "metadata": {},
   "source": [
    "### Как разные цели кредита влияют на его возврат в срок?"
   ]
  },
  {
   "cell_type": "markdown",
   "id": "ef239f28",
   "metadata": {},
   "source": [
    "Построим сводную таблицу, показывающую соотношение случаев возврата и невозврата в срок кредита в зависимости от цели кредита. В данном разделе нам потребуются данные столбца `'purpose_category'`. Напомним, что в столбце `'purpose_category'` имеются следующие категории: `'операции с автомобилем'`, `'операции с недвижимостью'`, `'проведение свадьбы'`, `'получение образования'`.\n",
    "Значения в столбце `'debt'`: 1 - наличие задолженности, 0 - отсутствие задолженности. \n",
    "В качестве значения аргумента `aggfunc` принимаем `'count'` - подсчитываем количество строк с каждым из значений в столбце `'debt'`."
   ]
  },
  {
   "cell_type": "code",
   "execution_count": 44,
   "id": "d287d944",
   "metadata": {},
   "outputs": [
    {
     "data": {
      "text/html": [
       "<div>\n",
       "<style scoped>\n",
       "    .dataframe tbody tr th:only-of-type {\n",
       "        vertical-align: middle;\n",
       "    }\n",
       "\n",
       "    .dataframe tbody tr th {\n",
       "        vertical-align: top;\n",
       "    }\n",
       "\n",
       "    .dataframe thead th {\n",
       "        text-align: right;\n",
       "    }\n",
       "</style>\n",
       "<table border=\"1\" class=\"dataframe\">\n",
       "  <thead>\n",
       "    <tr style=\"text-align: right;\">\n",
       "      <th>debt</th>\n",
       "      <th>0</th>\n",
       "      <th>1</th>\n",
       "    </tr>\n",
       "    <tr>\n",
       "      <th>purpose_category</th>\n",
       "      <th></th>\n",
       "      <th></th>\n",
       "    </tr>\n",
       "  </thead>\n",
       "  <tbody>\n",
       "    <tr>\n",
       "      <th>операции с автомобилем</th>\n",
       "      <td>3879</td>\n",
       "      <td>400</td>\n",
       "    </tr>\n",
       "    <tr>\n",
       "      <th>операции с недвижимостью</th>\n",
       "      <td>9971</td>\n",
       "      <td>780</td>\n",
       "    </tr>\n",
       "    <tr>\n",
       "      <th>получение образования</th>\n",
       "      <td>3619</td>\n",
       "      <td>369</td>\n",
       "    </tr>\n",
       "    <tr>\n",
       "      <th>проведение свадьбы</th>\n",
       "      <td>2130</td>\n",
       "      <td>183</td>\n",
       "    </tr>\n",
       "  </tbody>\n",
       "</table>\n",
       "</div>"
      ],
      "text/plain": [
       "debt                         0    1\n",
       "purpose_category                   \n",
       "операции с автомобилем    3879  400\n",
       "операции с недвижимостью  9971  780\n",
       "получение образования     3619  369\n",
       "проведение свадьбы        2130  183"
      ]
     },
     "execution_count": 44,
     "metadata": {},
     "output_type": "execute_result"
    }
   ],
   "source": [
    "purpose_debt_pivot = data.pivot_table(index=['purpose_category'], columns='debt', \n",
    "                                      values='education', aggfunc='count')\n",
    "purpose_debt_pivot"
   ]
  },
  {
   "cell_type": "markdown",
   "id": "40e7fda3",
   "metadata": {},
   "source": [
    "Добавим в таблицу `purpose_debt_pivot` столбец `'debt_percentage'`, показывающий долю долю случаев несвоевременного возврата кредита в каждой группе клиентов в соответствии с семейным положением, и отсортирует таблицу по убыванию значений в добавленном столбце `'debt_percentage'`."
   ]
  },
  {
   "cell_type": "code",
   "execution_count": 45,
   "id": "900e373b",
   "metadata": {},
   "outputs": [
    {
     "data": {
      "text/html": [
       "<div>\n",
       "<style scoped>\n",
       "    .dataframe tbody tr th:only-of-type {\n",
       "        vertical-align: middle;\n",
       "    }\n",
       "\n",
       "    .dataframe tbody tr th {\n",
       "        vertical-align: top;\n",
       "    }\n",
       "\n",
       "    .dataframe thead th {\n",
       "        text-align: right;\n",
       "    }\n",
       "</style>\n",
       "<table border=\"1\" class=\"dataframe\">\n",
       "  <thead>\n",
       "    <tr style=\"text-align: right;\">\n",
       "      <th>debt</th>\n",
       "      <th>0</th>\n",
       "      <th>1</th>\n",
       "      <th>debt_percentage</th>\n",
       "    </tr>\n",
       "    <tr>\n",
       "      <th>purpose_category</th>\n",
       "      <th></th>\n",
       "      <th></th>\n",
       "      <th></th>\n",
       "    </tr>\n",
       "  </thead>\n",
       "  <tbody>\n",
       "    <tr>\n",
       "      <th>операции с автомобилем</th>\n",
       "      <td>3879</td>\n",
       "      <td>400</td>\n",
       "      <td>9.347978</td>\n",
       "    </tr>\n",
       "    <tr>\n",
       "      <th>получение образования</th>\n",
       "      <td>3619</td>\n",
       "      <td>369</td>\n",
       "      <td>9.252758</td>\n",
       "    </tr>\n",
       "    <tr>\n",
       "      <th>проведение свадьбы</th>\n",
       "      <td>2130</td>\n",
       "      <td>183</td>\n",
       "      <td>7.911803</td>\n",
       "    </tr>\n",
       "    <tr>\n",
       "      <th>операции с недвижимостью</th>\n",
       "      <td>9971</td>\n",
       "      <td>780</td>\n",
       "      <td>7.255139</td>\n",
       "    </tr>\n",
       "  </tbody>\n",
       "</table>\n",
       "</div>"
      ],
      "text/plain": [
       "debt                         0    1  debt_percentage\n",
       "purpose_category                                    \n",
       "операции с автомобилем    3879  400         9.347978\n",
       "получение образования     3619  369         9.252758\n",
       "проведение свадьбы        2130  183         7.911803\n",
       "операции с недвижимостью  9971  780         7.255139"
      ]
     },
     "execution_count": 45,
     "metadata": {},
     "output_type": "execute_result"
    }
   ],
   "source": [
    "purpose_debt_pivot['debt_percentage'] = purpose_debt_pivot[1]/(purpose_debt_pivot[0]+purpose_debt_pivot[1])*100\n",
    "purpose_debt_pivot.sort_values(by='debt_percentage', ascending=False)"
   ]
  },
  {
   "cell_type": "markdown",
   "id": "73541702",
   "metadata": {},
   "source": [
    "**Вывод:** Наименьшая доля несвоевременных выплат по кредиту наблюдается в тех случаях, когда кредит берется на операции с недвижимостью. Возможное объяснение: как правило, кредит на операции с недвижимостью берется на долгий срок, а также требует начичия у клиента определенного кочичества собственных средств. В таких случаях заемщики более тщательно оценивают свои финансовые возможности при перед получением кредита и реже допускают просрочки.\n",
    "Более высокий процент просрочек наблюдается при совершении операций с автомобилем и при получении кредита на образование."
   ]
  },
  {
   "cell_type": "markdown",
   "id": "a4a3329a",
   "metadata": {},
   "source": [
    "* *(дополнительные рассуждения: экспериментальные)* \n",
    "Здесь также можно попробовать применить критерий согласия хи-квадрат. Добавляем в таблицу `purpose_debt_pivot` столбцы, применяя уже готовые функции `count_p_value` и `significance`."
   ]
  },
  {
   "cell_type": "code",
   "execution_count": 46,
   "id": "587fa642",
   "metadata": {},
   "outputs": [
    {
     "data": {
      "text/html": [
       "<div>\n",
       "<style scoped>\n",
       "    .dataframe tbody tr th:only-of-type {\n",
       "        vertical-align: middle;\n",
       "    }\n",
       "\n",
       "    .dataframe tbody tr th {\n",
       "        vertical-align: top;\n",
       "    }\n",
       "\n",
       "    .dataframe thead th {\n",
       "        text-align: right;\n",
       "    }\n",
       "</style>\n",
       "<table border=\"1\" class=\"dataframe\">\n",
       "  <thead>\n",
       "    <tr style=\"text-align: right;\">\n",
       "      <th>debt</th>\n",
       "      <th>0</th>\n",
       "      <th>1</th>\n",
       "      <th>debt_percentage</th>\n",
       "      <th>p_value</th>\n",
       "      <th>significance</th>\n",
       "    </tr>\n",
       "    <tr>\n",
       "      <th>purpose_category</th>\n",
       "      <th></th>\n",
       "      <th></th>\n",
       "      <th></th>\n",
       "      <th></th>\n",
       "      <th></th>\n",
       "    </tr>\n",
       "  </thead>\n",
       "  <tbody>\n",
       "    <tr>\n",
       "      <th>операции с автомобилем</th>\n",
       "      <td>3879</td>\n",
       "      <td>400</td>\n",
       "      <td>9.347978</td>\n",
       "      <td>0.001118</td>\n",
       "      <td>1</td>\n",
       "    </tr>\n",
       "    <tr>\n",
       "      <th>операции с недвижимостью</th>\n",
       "      <td>9971</td>\n",
       "      <td>780</td>\n",
       "      <td>7.255139</td>\n",
       "      <td>0.000004</td>\n",
       "      <td>1</td>\n",
       "    </tr>\n",
       "    <tr>\n",
       "      <th>получение образования</th>\n",
       "      <td>3619</td>\n",
       "      <td>369</td>\n",
       "      <td>9.252758</td>\n",
       "      <td>0.004062</td>\n",
       "      <td>1</td>\n",
       "    </tr>\n",
       "    <tr>\n",
       "      <th>проведение свадьбы</th>\n",
       "      <td>2130</td>\n",
       "      <td>183</td>\n",
       "      <td>7.911803</td>\n",
       "      <td>0.728397</td>\n",
       "      <td>0</td>\n",
       "    </tr>\n",
       "  </tbody>\n",
       "</table>\n",
       "</div>"
      ],
      "text/plain": [
       "debt                         0    1  debt_percentage   p_value  significance\n",
       "purpose_category                                                            \n",
       "операции с автомобилем    3879  400         9.347978  0.001118             1\n",
       "операции с недвижимостью  9971  780         7.255139  0.000004             1\n",
       "получение образования     3619  369         9.252758  0.004062             1\n",
       "проведение свадьбы        2130  183         7.911803  0.728397             0"
      ]
     },
     "execution_count": 46,
     "metadata": {},
     "output_type": "execute_result"
    }
   ],
   "source": [
    "purpose_debt_pivot['p_value'] = purpose_debt_pivot.apply(count_p_value, axis=1)\n",
    "purpose_debt_pivot['significance'] = purpose_debt_pivot.apply(significance, axis=1)\n",
    "\n",
    "purpose_debt_pivot"
   ]
  },
  {
   "cell_type": "markdown",
   "id": "5808ed94",
   "metadata": {},
   "source": [
    "*Вывод дополнительный:* подтверждается гипотеза о большей вероятности возврата кредита в долг в случаях, если цель кредита – операции с жильем, и меньшей – если кредит взят на покупку автомобиля или получение образования."
   ]
  },
  {
   "cell_type": "markdown",
   "id": "d78820fd",
   "metadata": {},
   "source": [
    "### Приведите возможные причины появления пропусков в исходных данных."
   ]
  },
  {
   "cell_type": "markdown",
   "id": "037094bc",
   "metadata": {},
   "source": [
    "*Ответ:* Изначально пропуски присутствовали в двух столбцах: `days_employed` и `total_income`. Интересно, что пропусков в обоих случаях было одинаковое количество – 2174. Возможно, при отсутствии информации в одном столбце, второй автоматически оставался незаполненным (например, учитывается доход только при наличии официального трудоустройства/стажа). Загрузим исходный  датесет еще раз и попробуем определить, являются ли пропуски случайными. "
   ]
  },
  {
   "cell_type": "code",
   "execution_count": 47,
   "id": "677b968a",
   "metadata": {},
   "outputs": [],
   "source": [
    "try:\n",
    "    data_raw = pd.read_csv('/datasets/data.csv')\n",
    "except:\n",
    "    data_raw = pd.read_csv('https://code.s3.yandex.net/datasets/data.csv')\n"
   ]
  },
  {
   "cell_type": "markdown",
   "id": "2176c68b",
   "metadata": {},
   "source": [
    "Гипотеза о том, что пропуски в двух столбцах каким-то образом связаны, в целом подтверждаются (см. ниже вывод первых 20 строк с пропусками). При этом  причины появления пропусков неочевидны: это клиенты различного пола и возраста, с разным уровнем образования, семейным положением, типом дохода, целью получения кредита и т.д. О связи с официальным трудоустройством также сложно говорить (например, в выборке есть госслужащие)."
   ]
  },
  {
   "cell_type": "code",
   "execution_count": 48,
   "id": "a8830c2d",
   "metadata": {},
   "outputs": [
    {
     "data": {
      "text/html": [
       "<div>\n",
       "<style scoped>\n",
       "    .dataframe tbody tr th:only-of-type {\n",
       "        vertical-align: middle;\n",
       "    }\n",
       "\n",
       "    .dataframe tbody tr th {\n",
       "        vertical-align: top;\n",
       "    }\n",
       "\n",
       "    .dataframe thead th {\n",
       "        text-align: right;\n",
       "    }\n",
       "</style>\n",
       "<table border=\"1\" class=\"dataframe\">\n",
       "  <thead>\n",
       "    <tr style=\"text-align: right;\">\n",
       "      <th></th>\n",
       "      <th>children</th>\n",
       "      <th>days_employed</th>\n",
       "      <th>dob_years</th>\n",
       "      <th>education</th>\n",
       "      <th>education_id</th>\n",
       "      <th>family_status</th>\n",
       "      <th>family_status_id</th>\n",
       "      <th>gender</th>\n",
       "      <th>income_type</th>\n",
       "      <th>debt</th>\n",
       "      <th>total_income</th>\n",
       "      <th>purpose</th>\n",
       "    </tr>\n",
       "  </thead>\n",
       "  <tbody>\n",
       "    <tr>\n",
       "      <th>12</th>\n",
       "      <td>0</td>\n",
       "      <td>NaN</td>\n",
       "      <td>65</td>\n",
       "      <td>среднее</td>\n",
       "      <td>1</td>\n",
       "      <td>гражданский брак</td>\n",
       "      <td>1</td>\n",
       "      <td>M</td>\n",
       "      <td>пенсионер</td>\n",
       "      <td>0</td>\n",
       "      <td>NaN</td>\n",
       "      <td>сыграть свадьбу</td>\n",
       "    </tr>\n",
       "    <tr>\n",
       "      <th>26</th>\n",
       "      <td>0</td>\n",
       "      <td>NaN</td>\n",
       "      <td>41</td>\n",
       "      <td>среднее</td>\n",
       "      <td>1</td>\n",
       "      <td>женат / замужем</td>\n",
       "      <td>0</td>\n",
       "      <td>M</td>\n",
       "      <td>госслужащий</td>\n",
       "      <td>0</td>\n",
       "      <td>NaN</td>\n",
       "      <td>образование</td>\n",
       "    </tr>\n",
       "    <tr>\n",
       "      <th>29</th>\n",
       "      <td>0</td>\n",
       "      <td>NaN</td>\n",
       "      <td>63</td>\n",
       "      <td>среднее</td>\n",
       "      <td>1</td>\n",
       "      <td>Не женат / не замужем</td>\n",
       "      <td>4</td>\n",
       "      <td>F</td>\n",
       "      <td>пенсионер</td>\n",
       "      <td>0</td>\n",
       "      <td>NaN</td>\n",
       "      <td>строительство жилой недвижимости</td>\n",
       "    </tr>\n",
       "    <tr>\n",
       "      <th>41</th>\n",
       "      <td>0</td>\n",
       "      <td>NaN</td>\n",
       "      <td>50</td>\n",
       "      <td>среднее</td>\n",
       "      <td>1</td>\n",
       "      <td>женат / замужем</td>\n",
       "      <td>0</td>\n",
       "      <td>F</td>\n",
       "      <td>госслужащий</td>\n",
       "      <td>0</td>\n",
       "      <td>NaN</td>\n",
       "      <td>сделка с подержанным автомобилем</td>\n",
       "    </tr>\n",
       "    <tr>\n",
       "      <th>55</th>\n",
       "      <td>0</td>\n",
       "      <td>NaN</td>\n",
       "      <td>54</td>\n",
       "      <td>среднее</td>\n",
       "      <td>1</td>\n",
       "      <td>гражданский брак</td>\n",
       "      <td>1</td>\n",
       "      <td>F</td>\n",
       "      <td>пенсионер</td>\n",
       "      <td>1</td>\n",
       "      <td>NaN</td>\n",
       "      <td>сыграть свадьбу</td>\n",
       "    </tr>\n",
       "    <tr>\n",
       "      <th>65</th>\n",
       "      <td>0</td>\n",
       "      <td>NaN</td>\n",
       "      <td>21</td>\n",
       "      <td>среднее</td>\n",
       "      <td>1</td>\n",
       "      <td>Не женат / не замужем</td>\n",
       "      <td>4</td>\n",
       "      <td>M</td>\n",
       "      <td>компаньон</td>\n",
       "      <td>0</td>\n",
       "      <td>NaN</td>\n",
       "      <td>операции с коммерческой недвижимостью</td>\n",
       "    </tr>\n",
       "    <tr>\n",
       "      <th>67</th>\n",
       "      <td>0</td>\n",
       "      <td>NaN</td>\n",
       "      <td>52</td>\n",
       "      <td>высшее</td>\n",
       "      <td>0</td>\n",
       "      <td>женат / замужем</td>\n",
       "      <td>0</td>\n",
       "      <td>F</td>\n",
       "      <td>пенсионер</td>\n",
       "      <td>0</td>\n",
       "      <td>NaN</td>\n",
       "      <td>покупка жилья для семьи</td>\n",
       "    </tr>\n",
       "    <tr>\n",
       "      <th>72</th>\n",
       "      <td>1</td>\n",
       "      <td>NaN</td>\n",
       "      <td>32</td>\n",
       "      <td>высшее</td>\n",
       "      <td>0</td>\n",
       "      <td>женат / замужем</td>\n",
       "      <td>0</td>\n",
       "      <td>M</td>\n",
       "      <td>госслужащий</td>\n",
       "      <td>0</td>\n",
       "      <td>NaN</td>\n",
       "      <td>операции с коммерческой недвижимостью</td>\n",
       "    </tr>\n",
       "    <tr>\n",
       "      <th>82</th>\n",
       "      <td>2</td>\n",
       "      <td>NaN</td>\n",
       "      <td>50</td>\n",
       "      <td>высшее</td>\n",
       "      <td>0</td>\n",
       "      <td>женат / замужем</td>\n",
       "      <td>0</td>\n",
       "      <td>F</td>\n",
       "      <td>сотрудник</td>\n",
       "      <td>0</td>\n",
       "      <td>NaN</td>\n",
       "      <td>жилье</td>\n",
       "    </tr>\n",
       "    <tr>\n",
       "      <th>83</th>\n",
       "      <td>0</td>\n",
       "      <td>NaN</td>\n",
       "      <td>52</td>\n",
       "      <td>среднее</td>\n",
       "      <td>1</td>\n",
       "      <td>женат / замужем</td>\n",
       "      <td>0</td>\n",
       "      <td>M</td>\n",
       "      <td>сотрудник</td>\n",
       "      <td>0</td>\n",
       "      <td>NaN</td>\n",
       "      <td>жилье</td>\n",
       "    </tr>\n",
       "    <tr>\n",
       "      <th>90</th>\n",
       "      <td>2</td>\n",
       "      <td>NaN</td>\n",
       "      <td>35</td>\n",
       "      <td>высшее</td>\n",
       "      <td>0</td>\n",
       "      <td>женат / замужем</td>\n",
       "      <td>0</td>\n",
       "      <td>F</td>\n",
       "      <td>сотрудник</td>\n",
       "      <td>0</td>\n",
       "      <td>NaN</td>\n",
       "      <td>операции с жильем</td>\n",
       "    </tr>\n",
       "    <tr>\n",
       "      <th>94</th>\n",
       "      <td>1</td>\n",
       "      <td>NaN</td>\n",
       "      <td>34</td>\n",
       "      <td>высшее</td>\n",
       "      <td>0</td>\n",
       "      <td>гражданский брак</td>\n",
       "      <td>1</td>\n",
       "      <td>F</td>\n",
       "      <td>компаньон</td>\n",
       "      <td>0</td>\n",
       "      <td>NaN</td>\n",
       "      <td>на проведение свадьбы</td>\n",
       "    </tr>\n",
       "    <tr>\n",
       "      <th>96</th>\n",
       "      <td>0</td>\n",
       "      <td>NaN</td>\n",
       "      <td>44</td>\n",
       "      <td>СРЕДНЕЕ</td>\n",
       "      <td>1</td>\n",
       "      <td>женат / замужем</td>\n",
       "      <td>0</td>\n",
       "      <td>F</td>\n",
       "      <td>сотрудник</td>\n",
       "      <td>0</td>\n",
       "      <td>NaN</td>\n",
       "      <td>покупка жилой недвижимости</td>\n",
       "    </tr>\n",
       "    <tr>\n",
       "      <th>97</th>\n",
       "      <td>0</td>\n",
       "      <td>NaN</td>\n",
       "      <td>47</td>\n",
       "      <td>высшее</td>\n",
       "      <td>0</td>\n",
       "      <td>женат / замужем</td>\n",
       "      <td>0</td>\n",
       "      <td>F</td>\n",
       "      <td>сотрудник</td>\n",
       "      <td>0</td>\n",
       "      <td>NaN</td>\n",
       "      <td>профильное образование</td>\n",
       "    </tr>\n",
       "    <tr>\n",
       "      <th>120</th>\n",
       "      <td>0</td>\n",
       "      <td>NaN</td>\n",
       "      <td>46</td>\n",
       "      <td>среднее</td>\n",
       "      <td>1</td>\n",
       "      <td>женат / замужем</td>\n",
       "      <td>0</td>\n",
       "      <td>F</td>\n",
       "      <td>сотрудник</td>\n",
       "      <td>0</td>\n",
       "      <td>NaN</td>\n",
       "      <td>высшее образование</td>\n",
       "    </tr>\n",
       "    <tr>\n",
       "      <th>121</th>\n",
       "      <td>0</td>\n",
       "      <td>NaN</td>\n",
       "      <td>29</td>\n",
       "      <td>высшее</td>\n",
       "      <td>0</td>\n",
       "      <td>женат / замужем</td>\n",
       "      <td>0</td>\n",
       "      <td>F</td>\n",
       "      <td>компаньон</td>\n",
       "      <td>0</td>\n",
       "      <td>NaN</td>\n",
       "      <td>автомобиль</td>\n",
       "    </tr>\n",
       "    <tr>\n",
       "      <th>135</th>\n",
       "      <td>0</td>\n",
       "      <td>NaN</td>\n",
       "      <td>27</td>\n",
       "      <td>среднее</td>\n",
       "      <td>1</td>\n",
       "      <td>женат / замужем</td>\n",
       "      <td>0</td>\n",
       "      <td>M</td>\n",
       "      <td>компаньон</td>\n",
       "      <td>0</td>\n",
       "      <td>NaN</td>\n",
       "      <td>жилье</td>\n",
       "    </tr>\n",
       "    <tr>\n",
       "      <th>141</th>\n",
       "      <td>0</td>\n",
       "      <td>NaN</td>\n",
       "      <td>39</td>\n",
       "      <td>среднее</td>\n",
       "      <td>1</td>\n",
       "      <td>гражданский брак</td>\n",
       "      <td>1</td>\n",
       "      <td>M</td>\n",
       "      <td>сотрудник</td>\n",
       "      <td>0</td>\n",
       "      <td>NaN</td>\n",
       "      <td>свадьба</td>\n",
       "    </tr>\n",
       "    <tr>\n",
       "      <th>145</th>\n",
       "      <td>0</td>\n",
       "      <td>NaN</td>\n",
       "      <td>62</td>\n",
       "      <td>среднее</td>\n",
       "      <td>1</td>\n",
       "      <td>женат / замужем</td>\n",
       "      <td>0</td>\n",
       "      <td>M</td>\n",
       "      <td>пенсионер</td>\n",
       "      <td>0</td>\n",
       "      <td>NaN</td>\n",
       "      <td>строительство недвижимости</td>\n",
       "    </tr>\n",
       "    <tr>\n",
       "      <th>174</th>\n",
       "      <td>0</td>\n",
       "      <td>NaN</td>\n",
       "      <td>55</td>\n",
       "      <td>высшее</td>\n",
       "      <td>0</td>\n",
       "      <td>вдовец / вдова</td>\n",
       "      <td>2</td>\n",
       "      <td>F</td>\n",
       "      <td>компаньон</td>\n",
       "      <td>0</td>\n",
       "      <td>NaN</td>\n",
       "      <td>свой автомобиль</td>\n",
       "    </tr>\n",
       "  </tbody>\n",
       "</table>\n",
       "</div>"
      ],
      "text/plain": [
       "     children  days_employed  dob_years education  education_id  \\\n",
       "12          0            NaN         65   среднее             1   \n",
       "26          0            NaN         41   среднее             1   \n",
       "29          0            NaN         63   среднее             1   \n",
       "41          0            NaN         50   среднее             1   \n",
       "55          0            NaN         54   среднее             1   \n",
       "65          0            NaN         21   среднее             1   \n",
       "67          0            NaN         52    высшее             0   \n",
       "72          1            NaN         32    высшее             0   \n",
       "82          2            NaN         50    высшее             0   \n",
       "83          0            NaN         52   среднее             1   \n",
       "90          2            NaN         35    высшее             0   \n",
       "94          1            NaN         34    высшее             0   \n",
       "96          0            NaN         44   СРЕДНЕЕ             1   \n",
       "97          0            NaN         47    высшее             0   \n",
       "120         0            NaN         46   среднее             1   \n",
       "121         0            NaN         29    высшее             0   \n",
       "135         0            NaN         27   среднее             1   \n",
       "141         0            NaN         39   среднее             1   \n",
       "145         0            NaN         62   среднее             1   \n",
       "174         0            NaN         55    высшее             0   \n",
       "\n",
       "             family_status  family_status_id gender  income_type  debt  \\\n",
       "12        гражданский брак                 1      M    пенсионер     0   \n",
       "26         женат / замужем                 0      M  госслужащий     0   \n",
       "29   Не женат / не замужем                 4      F    пенсионер     0   \n",
       "41         женат / замужем                 0      F  госслужащий     0   \n",
       "55        гражданский брак                 1      F    пенсионер     1   \n",
       "65   Не женат / не замужем                 4      M    компаньон     0   \n",
       "67         женат / замужем                 0      F    пенсионер     0   \n",
       "72         женат / замужем                 0      M  госслужащий     0   \n",
       "82         женат / замужем                 0      F    сотрудник     0   \n",
       "83         женат / замужем                 0      M    сотрудник     0   \n",
       "90         женат / замужем                 0      F    сотрудник     0   \n",
       "94        гражданский брак                 1      F    компаньон     0   \n",
       "96         женат / замужем                 0      F    сотрудник     0   \n",
       "97         женат / замужем                 0      F    сотрудник     0   \n",
       "120        женат / замужем                 0      F    сотрудник     0   \n",
       "121        женат / замужем                 0      F    компаньон     0   \n",
       "135        женат / замужем                 0      M    компаньон     0   \n",
       "141       гражданский брак                 1      M    сотрудник     0   \n",
       "145        женат / замужем                 0      M    пенсионер     0   \n",
       "174         вдовец / вдова                 2      F    компаньон     0   \n",
       "\n",
       "     total_income                                purpose  \n",
       "12            NaN                        сыграть свадьбу  \n",
       "26            NaN                            образование  \n",
       "29            NaN       строительство жилой недвижимости  \n",
       "41            NaN       сделка с подержанным автомобилем  \n",
       "55            NaN                        сыграть свадьбу  \n",
       "65            NaN  операции с коммерческой недвижимостью  \n",
       "67            NaN                покупка жилья для семьи  \n",
       "72            NaN  операции с коммерческой недвижимостью  \n",
       "82            NaN                                  жилье  \n",
       "83            NaN                                  жилье  \n",
       "90            NaN                      операции с жильем  \n",
       "94            NaN                  на проведение свадьбы  \n",
       "96            NaN             покупка жилой недвижимости  \n",
       "97            NaN                 профильное образование  \n",
       "120           NaN                     высшее образование  \n",
       "121           NaN                             автомобиль  \n",
       "135           NaN                                  жилье  \n",
       "141           NaN                                свадьба  \n",
       "145           NaN             строительство недвижимости  \n",
       "174           NaN                        свой автомобиль  "
      ]
     },
     "execution_count": 48,
     "metadata": {},
     "output_type": "execute_result"
    }
   ],
   "source": [
    "data_na = data_raw[data_raw['days_employed'].isna()]\n",
    "data_na.head(20)"
   ]
  },
  {
   "cell_type": "code",
   "execution_count": 49,
   "id": "4f6ed3f6",
   "metadata": {},
   "outputs": [
    {
     "data": {
      "text/plain": [
       "сотрудник          1105\n",
       "компаньон           508\n",
       "пенсионер           413\n",
       "госслужащий         147\n",
       "предприниматель       1\n",
       "Name: income_type, dtype: int64"
      ]
     },
     "execution_count": 49,
     "metadata": {},
     "output_type": "execute_result"
    }
   ],
   "source": [
    "data_na['income_type'].value_counts()"
   ]
  },
  {
   "cell_type": "markdown",
   "id": "a0bbd892",
   "metadata": {},
   "source": [
    "### Объясните, почему заполнить пропуски медианным значением — лучшее решение для количественных переменных."
   ]
  },
  {
   "cell_type": "markdown",
   "id": "4499b4d7",
   "metadata": {},
   "source": [
    "*Ответ:* медианное значение более корректно показывает среднюю величину при большом разбросе количественных показателей в выборке и при наличии значительных выбросов. В случае с количеством дней стажа и уровнем дохода среднее арифметическое и медиана могут существенно различаться.\n",
    "\n",
    "Приведем максимальные и минимальные значения в столбцах `days_employed` и `total_income`. Поскольку в задании 13 тип данных в `total_income` был заменен на целочисленный, значения из данного столбца выводятся в виде целого числа. \n",
    "\n",
    "Минимальное значение в столбце `total_income` на два порядка меньше, чем максимальное, что подтверждает большой разброс значений. Кроме того, количество заемщиков с низким (E) и очень высоким доходом (А) невелико (см. раздел 3.2).\n",
    "\n",
    "В столбце `days_employed` как минимальное, так и максимальное значение выглядят неправдоподобно. Использование среднего арифметического в качестве средней величины в таком случае может привести к искаженному представлению о данных."
   ]
  },
  {
   "cell_type": "code",
   "execution_count": 50,
   "id": "d5dc6987",
   "metadata": {},
   "outputs": [
    {
     "name": "stdout",
     "output_type": "stream",
     "text": [
      "total_income min = 20667 max = 2265604\n",
      "days_employed min = 24.14163324048118 max = 401755.40047533\n"
     ]
    }
   ],
   "source": [
    "print('total_income', 'min =', data['total_income'].min(), 'max =', data['total_income'].max())\n",
    "print('days_employed', 'min =', data['days_employed'].min(), 'max =', data['days_employed'].max())"
   ]
  },
  {
   "cell_type": "markdown",
   "id": "68637c23",
   "metadata": {},
   "source": [
    "## Общий вывод"
   ]
  },
  {
   "cell_type": "markdown",
   "id": "d597a7e6",
   "metadata": {},
   "source": [
    "На основе статистики о платёжеспособности клиентов была исследована возможное влияние различных факторов на факт возврата кредита в срок.\n",
    "\n",
    "В ходе проекта были реализованы следующие **этапы**:\n",
    "1. данные загружены и изучены;\n",
    "2. проведена предобработка данных (удаление пропусков, обработка аномальных значений, изменение типов данных, обработка дубликатов, категоризация данных);\n",
    "3. осуществлен анализ зависимости между фактом возврата кредита в срок и такими параметрами как количество детей, семейное положение, уровень дохода, цель кредита.\n",
    "\n",
    "\n",
    "**Анализ показывает**, что для всех рассмотренных признаков данных наблюдается зависимость между принадлежностью заемщиков к определенным группам возвратом кредита в срок:\n",
    "* *в зависимости от количества детей*: бездетные заемщики чаще отдают кредит в срок, чем клиенты с 1-2 детьми;\n",
    "* *в зависимости от семейного положения*: заемщики, состоящие (или ранее состоявшие) в браке чаще отдают кредит в срок, чем клиенты, не регистрировавшие отношения;\n",
    "* *в зависимости от уровня дохода*: заемщики с высоким уровнем дохода чаще возвращают кредит в срок\n",
    "* *в зависимости от целей кредита*: заемщики, берущие кредит на опрерации с недвижимостью, чаще возвращают кредит в срок, чем клиенты, берущие кредит на другие цели\n",
    "\n",
    "Таким образом, идеальным заемщиком является клиент банка, состоящий в официальном браке, но не имеющий детей, имеющий высокий уровень дохода и берущий кредит с целью приобретения недвижимости."
   ]
  },
  {
   "cell_type": "code",
   "execution_count": null,
   "id": "f617fa4a",
   "metadata": {},
   "outputs": [],
   "source": []
  }
 ],
 "metadata": {
  "ExecuteTimeLog": [
   {
    "duration": 55,
    "start_time": "2023-01-18T08:01:27.963Z"
   },
   {
    "duration": 14,
    "start_time": "2023-01-18T08:01:28.390Z"
   },
   {
    "duration": 780,
    "start_time": "2023-01-18T08:01:37.788Z"
   },
   {
    "duration": 32,
    "start_time": "2023-01-18T08:01:38.570Z"
   },
   {
    "duration": 24,
    "start_time": "2023-01-18T08:01:38.604Z"
   },
   {
    "duration": 10,
    "start_time": "2023-01-18T08:01:39.454Z"
   },
   {
    "duration": 35,
    "start_time": "2023-01-18T08:01:39.998Z"
   },
   {
    "duration": 25,
    "start_time": "2023-01-18T08:01:40.202Z"
   },
   {
    "duration": 4,
    "start_time": "2023-01-18T08:01:40.912Z"
   },
   {
    "duration": 10,
    "start_time": "2023-01-18T08:01:41.356Z"
   },
   {
    "duration": 5,
    "start_time": "2023-01-18T08:01:42.056Z"
   },
   {
    "duration": 8,
    "start_time": "2023-01-18T08:01:42.650Z"
   },
   {
    "duration": 5,
    "start_time": "2023-01-18T08:01:43.216Z"
   },
   {
    "duration": 36,
    "start_time": "2023-01-18T08:01:44.064Z"
   },
   {
    "duration": 12,
    "start_time": "2023-01-18T08:01:44.600Z"
   },
   {
    "duration": 8,
    "start_time": "2023-01-18T08:01:45.445Z"
   },
   {
    "duration": 13,
    "start_time": "2023-01-18T08:01:46.296Z"
   },
   {
    "duration": 22,
    "start_time": "2023-01-18T08:01:46.906Z"
   },
   {
    "duration": 23,
    "start_time": "2023-01-18T08:01:47.179Z"
   },
   {
    "duration": 6,
    "start_time": "2023-01-18T08:01:48.038Z"
   },
   {
    "duration": 13,
    "start_time": "2023-01-18T08:01:48.317Z"
   },
   {
    "duration": 6,
    "start_time": "2023-01-18T08:01:48.897Z"
   },
   {
    "duration": 5,
    "start_time": "2023-01-18T08:01:49.457Z"
   },
   {
    "duration": 23,
    "start_time": "2023-01-18T08:01:49.732Z"
   },
   {
    "duration": 460,
    "start_time": "2023-01-18T08:01:50.679Z"
   },
   {
    "duration": 19,
    "start_time": "2023-01-18T08:01:51.296Z"
   },
   {
    "duration": 26,
    "start_time": "2023-01-18T08:01:52.179Z"
   },
   {
    "duration": 12,
    "start_time": "2023-01-18T08:01:52.772Z"
   },
   {
    "duration": 7,
    "start_time": "2023-01-18T08:01:53.334Z"
   },
   {
    "duration": 18,
    "start_time": "2023-01-18T08:01:53.874Z"
   },
   {
    "duration": 58,
    "start_time": "2023-01-18T08:02:01.023Z"
   },
   {
    "duration": 41,
    "start_time": "2023-01-18T08:02:01.446Z"
   },
   {
    "duration": 5,
    "start_time": "2023-01-18T08:02:03.799Z"
   },
   {
    "duration": 11,
    "start_time": "2023-01-18T08:10:27.277Z"
   },
   {
    "duration": 8,
    "start_time": "2023-01-18T08:10:27.763Z"
   },
   {
    "duration": 38,
    "start_time": "2023-01-18T08:10:28.514Z"
   },
   {
    "duration": 5,
    "start_time": "2023-01-18T08:10:28.984Z"
   },
   {
    "duration": 23,
    "start_time": "2023-01-18T08:10:29.923Z"
   },
   {
    "duration": 5,
    "start_time": "2023-01-18T08:10:33.078Z"
   },
   {
    "duration": 19,
    "start_time": "2023-01-18T08:10:33.862Z"
   }
  ],
  "kernelspec": {
   "display_name": "Python 3 (ipykernel)",
   "language": "python",
   "name": "python3"
  },
  "language_info": {
   "codemirror_mode": {
    "name": "ipython",
    "version": 3
   },
   "file_extension": ".py",
   "mimetype": "text/x-python",
   "name": "python",
   "nbconvert_exporter": "python",
   "pygments_lexer": "ipython3",
   "version": "3.9.15"
  },
  "toc": {
   "base_numbering": 1,
   "nav_menu": {
    "height": "375px",
    "width": "807px"
   },
   "number_sections": true,
   "sideBar": true,
   "skip_h1_title": true,
   "title_cell": "Оглавление",
   "title_sidebar": "Оглавление",
   "toc_cell": true,
   "toc_position": {
    "height": "calc(100% - 180px)",
    "left": "10px",
    "top": "150px",
    "width": "310.275726px"
   },
   "toc_section_display": true,
   "toc_window_display": true
  }
 },
 "nbformat": 4,
 "nbformat_minor": 5
}
