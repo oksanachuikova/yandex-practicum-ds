{
 "cells": [
  {
   "cell_type": "markdown",
   "metadata": {},
   "source": [
    "# Яндекс Музыка\n",
    "\n",
    "Сравнение Москвы и Петербурга окружено мифами. Например:\n",
    " * Москва — мегаполис, подчинённый жёсткому ритму рабочей недели;\n",
    " * Петербург — культурная столица, со своими вкусами.\n",
    "\n",
    "На данных Яндекс Музыки сравним поведение пользователей двух столиц.\n",
    "\n",
    "**Цель исследования** — проверить три гипотезы:\n",
    "1. Активность пользователей зависит от **дня недели**. Причём в Москве и Петербурге это проявляется по-разному.\n",
    "2. В **понедельник** утром в Москве преобладают одни **жанры**, а в Петербурге — другие. Так же и вечером **пятницы** преобладают разные жанры — в зависимости от города. \n",
    "3. Москва и Петербург предпочитают разные жанры музыки. В Москве чаще слушают **поп-музыку**, в Петербурге — **русский рэп**.\n",
    "\n",
    "**Ход исследования**\n",
    "\n",
    "Данные о поведении пользователей получим из файла `yandex_music_project.csv`. О качестве данных ничего не известно. Поэтому перед проверкой гипотез понадобится обзор данных. \n",
    "\n",
    "Проверим данные на ошибки и оценим их влияние на исследование. Затем, на этапе предобработки будем искать возможность исправить самые критичные ошибки данных.\n",
    " \n",
    "Таким образом, исследование пройдёт в **три этапа**:\n",
    " 1. Обзор данных.\n",
    " 2. Предобработка данных.\n",
    " 3. Проверка гипотез."
   ]
  },
  {
   "cell_type": "markdown",
   "metadata": {},
   "source": [
    "## Обзор данных\n",
    "\n",
    "Составьте первое представление о данных Яндекс Музыки.\n"
   ]
  },
  {
   "cell_type": "markdown",
   "metadata": {},
   "source": [
    "Импортируем библитеку `pandas`. Прочитаем файл `yandex_music_project.csv` из папки `/datasets` и сохраним его в переменной `df`:"
   ]
  },
  {
   "cell_type": "code",
   "execution_count": 1,
   "metadata": {},
   "outputs": [],
   "source": [
    "import pandas as pd\n",
    "\n",
    "\n",
    "try:\n",
    "    df = pd.read_csv('/datasets/yandex_music_project.csv')\n",
    "except:\n",
    "    df = pd.read_csv('https://code.s3.yandex.net/datasets/yandex_music_project.csv')"
   ]
  },
  {
   "cell_type": "markdown",
   "metadata": {},
   "source": [
    "Выведем на экран первые десять строк таблицы:"
   ]
  },
  {
   "cell_type": "code",
   "execution_count": 2,
   "metadata": {},
   "outputs": [
    {
     "data": {
      "text/html": [
       "<div>\n",
       "<style scoped>\n",
       "    .dataframe tbody tr th:only-of-type {\n",
       "        vertical-align: middle;\n",
       "    }\n",
       "\n",
       "    .dataframe tbody tr th {\n",
       "        vertical-align: top;\n",
       "    }\n",
       "\n",
       "    .dataframe thead th {\n",
       "        text-align: right;\n",
       "    }\n",
       "</style>\n",
       "<table border=\"1\" class=\"dataframe\">\n",
       "  <thead>\n",
       "    <tr style=\"text-align: right;\">\n",
       "      <th></th>\n",
       "      <th>userID</th>\n",
       "      <th>Track</th>\n",
       "      <th>artist</th>\n",
       "      <th>genre</th>\n",
       "      <th>City</th>\n",
       "      <th>time</th>\n",
       "      <th>Day</th>\n",
       "    </tr>\n",
       "  </thead>\n",
       "  <tbody>\n",
       "    <tr>\n",
       "      <th>0</th>\n",
       "      <td>FFB692EC</td>\n",
       "      <td>Kamigata To Boots</td>\n",
       "      <td>The Mass Missile</td>\n",
       "      <td>rock</td>\n",
       "      <td>Saint-Petersburg</td>\n",
       "      <td>20:28:33</td>\n",
       "      <td>Wednesday</td>\n",
       "    </tr>\n",
       "    <tr>\n",
       "      <th>1</th>\n",
       "      <td>55204538</td>\n",
       "      <td>Delayed Because of Accident</td>\n",
       "      <td>Andreas Rönnberg</td>\n",
       "      <td>rock</td>\n",
       "      <td>Moscow</td>\n",
       "      <td>14:07:09</td>\n",
       "      <td>Friday</td>\n",
       "    </tr>\n",
       "    <tr>\n",
       "      <th>2</th>\n",
       "      <td>20EC38</td>\n",
       "      <td>Funiculì funiculà</td>\n",
       "      <td>Mario Lanza</td>\n",
       "      <td>pop</td>\n",
       "      <td>Saint-Petersburg</td>\n",
       "      <td>20:58:07</td>\n",
       "      <td>Wednesday</td>\n",
       "    </tr>\n",
       "    <tr>\n",
       "      <th>3</th>\n",
       "      <td>A3DD03C9</td>\n",
       "      <td>Dragons in the Sunset</td>\n",
       "      <td>Fire + Ice</td>\n",
       "      <td>folk</td>\n",
       "      <td>Saint-Petersburg</td>\n",
       "      <td>08:37:09</td>\n",
       "      <td>Monday</td>\n",
       "    </tr>\n",
       "    <tr>\n",
       "      <th>4</th>\n",
       "      <td>E2DC1FAE</td>\n",
       "      <td>Soul People</td>\n",
       "      <td>Space Echo</td>\n",
       "      <td>dance</td>\n",
       "      <td>Moscow</td>\n",
       "      <td>08:34:34</td>\n",
       "      <td>Monday</td>\n",
       "    </tr>\n",
       "    <tr>\n",
       "      <th>5</th>\n",
       "      <td>842029A1</td>\n",
       "      <td>Преданная</td>\n",
       "      <td>IMPERVTOR</td>\n",
       "      <td>rusrap</td>\n",
       "      <td>Saint-Petersburg</td>\n",
       "      <td>13:09:41</td>\n",
       "      <td>Friday</td>\n",
       "    </tr>\n",
       "    <tr>\n",
       "      <th>6</th>\n",
       "      <td>4CB90AA5</td>\n",
       "      <td>True</td>\n",
       "      <td>Roman Messer</td>\n",
       "      <td>dance</td>\n",
       "      <td>Moscow</td>\n",
       "      <td>13:00:07</td>\n",
       "      <td>Wednesday</td>\n",
       "    </tr>\n",
       "    <tr>\n",
       "      <th>7</th>\n",
       "      <td>F03E1C1F</td>\n",
       "      <td>Feeling This Way</td>\n",
       "      <td>Polina Griffith</td>\n",
       "      <td>dance</td>\n",
       "      <td>Moscow</td>\n",
       "      <td>20:47:49</td>\n",
       "      <td>Wednesday</td>\n",
       "    </tr>\n",
       "    <tr>\n",
       "      <th>8</th>\n",
       "      <td>8FA1D3BE</td>\n",
       "      <td>И вновь продолжается бой</td>\n",
       "      <td>NaN</td>\n",
       "      <td>ruspop</td>\n",
       "      <td>Moscow</td>\n",
       "      <td>09:17:40</td>\n",
       "      <td>Friday</td>\n",
       "    </tr>\n",
       "    <tr>\n",
       "      <th>9</th>\n",
       "      <td>E772D5C0</td>\n",
       "      <td>Pessimist</td>\n",
       "      <td>NaN</td>\n",
       "      <td>dance</td>\n",
       "      <td>Saint-Petersburg</td>\n",
       "      <td>21:20:49</td>\n",
       "      <td>Wednesday</td>\n",
       "    </tr>\n",
       "  </tbody>\n",
       "</table>\n",
       "</div>"
      ],
      "text/plain": [
       "     userID                        Track            artist   genre  \\\n",
       "0  FFB692EC            Kamigata To Boots  The Mass Missile    rock   \n",
       "1  55204538  Delayed Because of Accident  Andreas Rönnberg    rock   \n",
       "2    20EC38            Funiculì funiculà       Mario Lanza     pop   \n",
       "3  A3DD03C9        Dragons in the Sunset        Fire + Ice    folk   \n",
       "4  E2DC1FAE                  Soul People        Space Echo   dance   \n",
       "5  842029A1                    Преданная         IMPERVTOR  rusrap   \n",
       "6  4CB90AA5                         True      Roman Messer   dance   \n",
       "7  F03E1C1F             Feeling This Way   Polina Griffith   dance   \n",
       "8  8FA1D3BE     И вновь продолжается бой               NaN  ruspop   \n",
       "9  E772D5C0                    Pessimist               NaN   dance   \n",
       "\n",
       "             City        time        Day  \n",
       "0  Saint-Petersburg  20:28:33  Wednesday  \n",
       "1            Moscow  14:07:09     Friday  \n",
       "2  Saint-Petersburg  20:58:07  Wednesday  \n",
       "3  Saint-Petersburg  08:37:09     Monday  \n",
       "4            Moscow  08:34:34     Monday  \n",
       "5  Saint-Petersburg  13:09:41     Friday  \n",
       "6            Moscow  13:00:07  Wednesday  \n",
       "7            Moscow  20:47:49  Wednesday  \n",
       "8            Moscow  09:17:40     Friday  \n",
       "9  Saint-Petersburg  21:20:49  Wednesday  "
      ]
     },
     "execution_count": 2,
     "metadata": {},
     "output_type": "execute_result"
    }
   ],
   "source": [
    "df.head(10)"
   ]
  },
  {
   "cell_type": "markdown",
   "metadata": {},
   "source": [
    "Получим общую информацию о таблице c помощью метода `info()`."
   ]
  },
  {
   "cell_type": "code",
   "execution_count": 3,
   "metadata": {},
   "outputs": [
    {
     "name": "stdout",
     "output_type": "stream",
     "text": [
      "<class 'pandas.core.frame.DataFrame'>\n",
      "RangeIndex: 65079 entries, 0 to 65078\n",
      "Data columns (total 7 columns):\n",
      " #   Column    Non-Null Count  Dtype \n",
      "---  ------    --------------  ----- \n",
      " 0     userID  65079 non-null  object\n",
      " 1   Track     63848 non-null  object\n",
      " 2   artist    57876 non-null  object\n",
      " 3   genre     63881 non-null  object\n",
      " 4     City    65079 non-null  object\n",
      " 5   time      65079 non-null  object\n",
      " 6   Day       65079 non-null  object\n",
      "dtypes: object(7)\n",
      "memory usage: 3.5+ MB\n"
     ]
    }
   ],
   "source": [
    "df.info()"
   ]
  },
  {
   "cell_type": "markdown",
   "metadata": {},
   "source": [
    "В таблице семь столбцов. Тип данных во всех столбцах — `object`.\n",
    "\n",
    "Согласно документации к данным:\n",
    "* `userID` — идентификатор пользователя;\n",
    "* `Track` — название трека;  \n",
    "* `artist` — имя исполнителя;\n",
    "* `genre` — название жанра;\n",
    "* `City` — город пользователя;\n",
    "* `time` — время начала прослушивания;\n",
    "* `Day` — день недели.\n",
    "\n",
    "Количество значений в столбцах различается: в данных есть пропущенные значения."
   ]
  },
  {
   "cell_type": "markdown",
   "metadata": {},
   "source": [
    "В названиях колонок видны нарушения стиля:\n",
    "\n",
    "* Строчные буквы сочетаются с прописными.\n",
    "* Встречаются пробелы.\n",
    "* в названиях столбцов нет нижних подчёркиваний."
   ]
  },
  {
   "cell_type": "markdown",
   "metadata": {},
   "source": [
    "**Выводы**\n",
    "\n",
    "В каждой строке таблицы — данные о прослушанном треке. Часть колонок описывает саму композицию: название трека, исполнителя и жанр. Остальные данные рассказывают о пользователе: из какого он города, когда он слушал музыку. \n",
    "\n",
    "Предварительно можно сделать предположение, что данных достаточно для проверки гипотез. Однако в данных есть пропуски, не все названия колонок соответствуют хорошему стилю.\n",
    "\n",
    "Перед тем как проводить анализ, устраним проблемы в данных."
   ]
  },
  {
   "cell_type": "markdown",
   "metadata": {},
   "source": [
    "## Предобработка данных\n",
    "Исправим стиль в заголовках столбцов, исключим пропуски. Затем проверим данные на дубликаты."
   ]
  },
  {
   "cell_type": "markdown",
   "metadata": {},
   "source": [
    "### Стиль заголовков"
   ]
  },
  {
   "cell_type": "markdown",
   "metadata": {},
   "source": [
    "Выведем на экран названия столбцов:"
   ]
  },
  {
   "cell_type": "code",
   "execution_count": 4,
   "metadata": {},
   "outputs": [
    {
     "data": {
      "text/plain": [
       "Index(['  userID', 'Track', 'artist', 'genre', '  City  ', 'time', 'Day'], dtype='object')"
      ]
     },
     "execution_count": 4,
     "metadata": {},
     "output_type": "execute_result"
    }
   ],
   "source": [
    "df.columns"
   ]
  },
  {
   "cell_type": "markdown",
   "metadata": {},
   "source": [
    "Приведем названия в соответствие с хорошим стилем:\n",
    "* несколько слов в названии запишем в «змеином_регистре»,\n",
    "* все символы сделаем строчными,\n",
    "* устраним пробелы.\n",
    "\n",
    "Для этого переименуем колонки следующим образом:\n",
    "* `'  userID'` → `'user_id'`;\n",
    "* `'Track'` → `'track'`;\n",
    "* `'  City  '` → `'city'`;\n",
    "* `'Day'` → `'day'`."
   ]
  },
  {
   "cell_type": "code",
   "execution_count": 5,
   "metadata": {},
   "outputs": [],
   "source": [
    "df = df.rename(columns={'  userID' : 'user_id', 'Track' : 'track', '  City  ' : 'city', 'Day' : 'day'})"
   ]
  },
  {
   "cell_type": "markdown",
   "metadata": {},
   "source": [
    "Проверим результат. Для этого ещё раз выведем на экран названия столбцов:"
   ]
  },
  {
   "cell_type": "code",
   "execution_count": 6,
   "metadata": {},
   "outputs": [
    {
     "data": {
      "text/plain": [
       "Index(['user_id', 'track', 'artist', 'genre', 'city', 'time', 'day'], dtype='object')"
      ]
     },
     "execution_count": 6,
     "metadata": {},
     "output_type": "execute_result"
    }
   ],
   "source": [
    "df.columns"
   ]
  },
  {
   "cell_type": "markdown",
   "metadata": {},
   "source": [
    "### Пропуски значений"
   ]
  },
  {
   "cell_type": "markdown",
   "metadata": {},
   "source": [
    "Сначала посчитаем, сколько в таблице пропущенных значений. Для этого используем комбинацию методов `isna()` и `sum()`."
   ]
  },
  {
   "cell_type": "code",
   "execution_count": 7,
   "metadata": {},
   "outputs": [
    {
     "data": {
      "text/plain": [
       "user_id       0\n",
       "track      1231\n",
       "artist     7203\n",
       "genre      1198\n",
       "city          0\n",
       "time          0\n",
       "day           0\n",
       "dtype: int64"
      ]
     },
     "execution_count": 7,
     "metadata": {},
     "output_type": "execute_result"
    }
   ],
   "source": [
    "df.isna().sum()"
   ]
  },
  {
   "cell_type": "markdown",
   "metadata": {},
   "source": [
    "Не все пропущенные значения влияют на исследование. Так, пропуски в `track` и `artist` не так важны для нашей работы. Можно заменить их на некоторое категориальное значение (`'unknown'`).\n",
    "\n",
    "Однако пропуски в `genre` могут помешать сравнению музыкальных вкусов в Москве и Санкт-Петербурге. Мы не имеем возможности установить причину пропусков и восстановить данные, поэтому\n",
    "* заполним и эти пропуски категориальным значением;\n",
    "* оценим, насколько они повредят расчётам. "
   ]
  },
  {
   "cell_type": "markdown",
   "metadata": {},
   "source": [
    "Заменим пропущенные значения в столбцах `track`, `artist` и `genre` на строку `'unknown'`. Для этого создадим список `columns_to_replace`, переберем его элементы циклом `for` и для каждого столбца выполним замену пропущенных значений:"
   ]
  },
  {
   "cell_type": "code",
   "execution_count": 8,
   "metadata": {},
   "outputs": [],
   "source": [
    "columns_to_replace = ['track', 'artist', 'genre']\n",
    "for column in columns_to_replace:\n",
    "    df[column] = df[column].fillna('unknown')"
   ]
  },
  {
   "cell_type": "markdown",
   "metadata": {},
   "source": [
    "Убедимся, что в таблице не осталось пропусков. Для этого ещё раз посчитаем пропущенные значения."
   ]
  },
  {
   "cell_type": "code",
   "execution_count": 9,
   "metadata": {},
   "outputs": [
    {
     "data": {
      "text/plain": [
       "user_id    0\n",
       "track      0\n",
       "artist     0\n",
       "genre      0\n",
       "city       0\n",
       "time       0\n",
       "day        0\n",
       "dtype: int64"
      ]
     },
     "execution_count": 9,
     "metadata": {},
     "output_type": "execute_result"
    }
   ],
   "source": [
    "df.isna().sum()"
   ]
  },
  {
   "cell_type": "markdown",
   "metadata": {},
   "source": [
    "### Обработка дубликатов"
   ]
  },
  {
   "cell_type": "markdown",
   "metadata": {},
   "source": [
    "Посчитаем явные дубликаты в таблице."
   ]
  },
  {
   "cell_type": "code",
   "execution_count": 10,
   "metadata": {},
   "outputs": [
    {
     "data": {
      "text/plain": [
       "3826"
      ]
     },
     "execution_count": 10,
     "metadata": {},
     "output_type": "execute_result"
    }
   ],
   "source": [
    "df.duplicated().sum()"
   ]
  },
  {
   "cell_type": "markdown",
   "metadata": {},
   "source": [
    "Удалим явные дубликаты."
   ]
  },
  {
   "cell_type": "code",
   "execution_count": 11,
   "metadata": {},
   "outputs": [],
   "source": [
    "df = df.drop_duplicates()"
   ]
  },
  {
   "cell_type": "markdown",
   "metadata": {},
   "source": [
    "Ещё раз посчитаем явные дубликаты в таблице — убедимся, что полностью от них избавились."
   ]
  },
  {
   "cell_type": "code",
   "execution_count": 12,
   "metadata": {},
   "outputs": [
    {
     "data": {
      "text/plain": [
       "0"
      ]
     },
     "execution_count": 12,
     "metadata": {},
     "output_type": "execute_result"
    }
   ],
   "source": [
    "df.duplicated().sum()"
   ]
  },
  {
   "cell_type": "markdown",
   "metadata": {},
   "source": [
    "Теперь избавимся от неявных дубликатов в колонке `genre`. Например, название одного и того же жанра может быть записано немного по-разному. Такие ошибки повлияют на результат исследования."
   ]
  },
  {
   "cell_type": "markdown",
   "metadata": {},
   "source": [
    "Выведем на экран список уникальных названий жанров, отсортированный в алфавитном порядке. Для этого:\n",
    "1. извлечем нужный столбец датафрейма; \n",
    "2. применим к нему метод сортировки;\n",
    "3. для отсортированного столбца вызовем метод, который вернёт уникальные значения из столбца."
   ]
  },
  {
   "cell_type": "code",
   "execution_count": 13,
   "metadata": {},
   "outputs": [
    {
     "data": {
      "text/plain": [
       "array(['acid', 'acoustic', 'action', 'adult', 'africa', 'afrikaans',\n",
       "       'alternative', 'alternativepunk', 'ambient', 'americana',\n",
       "       'animated', 'anime', 'arabesk', 'arabic', 'arena',\n",
       "       'argentinetango', 'art', 'audiobook', 'author', 'avantgarde',\n",
       "       'axé', 'baile', 'balkan', 'beats', 'bigroom', 'black', 'bluegrass',\n",
       "       'blues', 'bollywood', 'bossa', 'brazilian', 'breakbeat', 'breaks',\n",
       "       'broadway', 'cantautori', 'cantopop', 'canzone', 'caribbean',\n",
       "       'caucasian', 'celtic', 'chamber', 'chanson', 'children', 'chill',\n",
       "       'chinese', 'choral', 'christian', 'christmas', 'classical',\n",
       "       'classicmetal', 'club', 'colombian', 'comedy', 'conjazz',\n",
       "       'contemporary', 'country', 'cuban', 'dance', 'dancehall',\n",
       "       'dancepop', 'dark', 'death', 'deep', 'deutschrock', 'deutschspr',\n",
       "       'dirty', 'disco', 'dnb', 'documentary', 'downbeat', 'downtempo',\n",
       "       'drum', 'dub', 'dubstep', 'eastern', 'easy', 'electronic',\n",
       "       'electropop', 'emo', 'entehno', 'epicmetal', 'estrada', 'ethnic',\n",
       "       'eurofolk', 'european', 'experimental', 'extrememetal', 'fado',\n",
       "       'fairytail', 'film', 'fitness', 'flamenco', 'folk', 'folklore',\n",
       "       'folkmetal', 'folkrock', 'folktronica', 'forró', 'frankreich',\n",
       "       'französisch', 'french', 'funk', 'future', 'gangsta', 'garage',\n",
       "       'german', 'ghazal', 'gitarre', 'glitch', 'gospel', 'gothic',\n",
       "       'grime', 'grunge', 'gypsy', 'handsup', \"hard'n'heavy\", 'hardcore',\n",
       "       'hardstyle', 'hardtechno', 'hip', 'hip-hop', 'hiphop',\n",
       "       'historisch', 'holiday', 'hop', 'horror', 'house', 'hymn', 'idm',\n",
       "       'independent', 'indian', 'indie', 'indipop', 'industrial',\n",
       "       'inspirational', 'instrumental', 'international', 'irish', 'jam',\n",
       "       'japanese', 'jazz', 'jewish', 'jpop', 'jungle', 'k-pop',\n",
       "       'karadeniz', 'karaoke', 'kayokyoku', 'korean', 'laiko', 'latin',\n",
       "       'latino', 'leftfield', 'local', 'lounge', 'loungeelectronic',\n",
       "       'lovers', 'malaysian', 'mandopop', 'marschmusik', 'meditative',\n",
       "       'mediterranean', 'melodic', 'metal', 'metalcore', 'mexican',\n",
       "       'middle', 'minimal', 'miscellaneous', 'modern', 'mood', 'mpb',\n",
       "       'muslim', 'native', 'neoklassik', 'neue', 'new', 'newage',\n",
       "       'newwave', 'nu', 'nujazz', 'numetal', 'oceania', 'old', 'opera',\n",
       "       'orchestral', 'other', 'piano', 'podcasts', 'pop', 'popdance',\n",
       "       'popelectronic', 'popeurodance', 'poprussian', 'post',\n",
       "       'posthardcore', 'postrock', 'power', 'progmetal', 'progressive',\n",
       "       'psychedelic', 'punjabi', 'punk', 'quebecois', 'ragga', 'ram',\n",
       "       'rancheras', 'rap', 'rave', 'reggae', 'reggaeton', 'regional',\n",
       "       'relax', 'religious', 'retro', 'rhythm', 'rnb', 'rnr', 'rock',\n",
       "       'rockabilly', 'rockalternative', 'rockindie', 'rockother',\n",
       "       'romance', 'roots', 'ruspop', 'rusrap', 'rusrock', 'russian',\n",
       "       'salsa', 'samba', 'scenic', 'schlager', 'self', 'sertanejo',\n",
       "       'shanson', 'shoegazing', 'showtunes', 'singer', 'ska', 'skarock',\n",
       "       'slow', 'smooth', 'soft', 'soul', 'soulful', 'sound', 'soundtrack',\n",
       "       'southern', 'specialty', 'speech', 'spiritual', 'sport',\n",
       "       'stonerrock', 'surf', 'swing', 'synthpop', 'synthrock',\n",
       "       'sängerportrait', 'tango', 'tanzorchester', 'taraftar', 'tatar',\n",
       "       'tech', 'techno', 'teen', 'thrash', 'top', 'traditional',\n",
       "       'tradjazz', 'trance', 'tribal', 'trip', 'triphop', 'tropical',\n",
       "       'türk', 'türkçe', 'ukrrock', 'unknown', 'urban', 'uzbek',\n",
       "       'variété', 'vi', 'videogame', 'vocal', 'western', 'world',\n",
       "       'worldbeat', 'ïîï', 'электроника'], dtype=object)"
      ]
     },
     "execution_count": 13,
     "metadata": {},
     "output_type": "execute_result"
    }
   ],
   "source": [
    "df['genre'].sort_values().unique()"
   ]
  },
  {
   "cell_type": "markdown",
   "metadata": {},
   "source": [
    "В списке видим  следующие неявные дубликаты названия `hiphop`:\n",
    "* *hip*,\n",
    "* *hop*,\n",
    "* *hip-hop*.\n",
    "\n",
    "Чтобы очистить от них таблицу используем метод `replace()` с двумя аргументами: списком строк-дубликатов (включащий *hip*, *hop* и *hip-hop*) и строкой с правильным значением. Исправим колонку `genre` в таблице `df`: заменим каждое значение из списка дубликатов на верное. Заменим `hip`, `hop` и `hip-hop` в таблице на значение `hiphop`:"
   ]
  },
  {
   "cell_type": "code",
   "execution_count": 15,
   "metadata": {
    "scrolled": true
   },
   "outputs": [],
   "source": [
    "df['genre'] = df['genre'].replace('hip', \"hiphop\")\n",
    "df['genre'] = df['genre'].replace('hop', \"hiphop\")\n",
    "df['genre'] = df['genre'].replace('hip-hop', \"hiphop\")"
   ]
  },
  {
   "cell_type": "markdown",
   "metadata": {},
   "source": [
    "Проверим, что заменили неправильные названия `hip`, `hop`, `hip-hop` на `hiphop`.\n",
    "\n",
    "Выведем отсортированный список уникальных значений столбца `genre`:"
   ]
  },
  {
   "cell_type": "code",
   "execution_count": 16,
   "metadata": {
    "scrolled": true
   },
   "outputs": [
    {
     "data": {
      "text/plain": [
       "array(['acid', 'acoustic', 'action', 'adult', 'africa', 'afrikaans',\n",
       "       'alternative', 'alternativepunk', 'ambient', 'americana',\n",
       "       'animated', 'anime', 'arabesk', 'arabic', 'arena',\n",
       "       'argentinetango', 'art', 'audiobook', 'author', 'avantgarde',\n",
       "       'axé', 'baile', 'balkan', 'beats', 'bigroom', 'black', 'bluegrass',\n",
       "       'blues', 'bollywood', 'bossa', 'brazilian', 'breakbeat', 'breaks',\n",
       "       'broadway', 'cantautori', 'cantopop', 'canzone', 'caribbean',\n",
       "       'caucasian', 'celtic', 'chamber', 'chanson', 'children', 'chill',\n",
       "       'chinese', 'choral', 'christian', 'christmas', 'classical',\n",
       "       'classicmetal', 'club', 'colombian', 'comedy', 'conjazz',\n",
       "       'contemporary', 'country', 'cuban', 'dance', 'dancehall',\n",
       "       'dancepop', 'dark', 'death', 'deep', 'deutschrock', 'deutschspr',\n",
       "       'dirty', 'disco', 'dnb', 'documentary', 'downbeat', 'downtempo',\n",
       "       'drum', 'dub', 'dubstep', 'eastern', 'easy', 'electronic',\n",
       "       'electropop', 'emo', 'entehno', 'epicmetal', 'estrada', 'ethnic',\n",
       "       'eurofolk', 'european', 'experimental', 'extrememetal', 'fado',\n",
       "       'fairytail', 'film', 'fitness', 'flamenco', 'folk', 'folklore',\n",
       "       'folkmetal', 'folkrock', 'folktronica', 'forró', 'frankreich',\n",
       "       'französisch', 'french', 'funk', 'future', 'gangsta', 'garage',\n",
       "       'german', 'ghazal', 'gitarre', 'glitch', 'gospel', 'gothic',\n",
       "       'grime', 'grunge', 'gypsy', 'handsup', \"hard'n'heavy\", 'hardcore',\n",
       "       'hardstyle', 'hardtechno', 'hiphop', 'historisch', 'holiday',\n",
       "       'horror', 'house', 'hymn', 'idm', 'independent', 'indian', 'indie',\n",
       "       'indipop', 'industrial', 'inspirational', 'instrumental',\n",
       "       'international', 'irish', 'jam', 'japanese', 'jazz', 'jewish',\n",
       "       'jpop', 'jungle', 'k-pop', 'karadeniz', 'karaoke', 'kayokyoku',\n",
       "       'korean', 'laiko', 'latin', 'latino', 'leftfield', 'local',\n",
       "       'lounge', 'loungeelectronic', 'lovers', 'malaysian', 'mandopop',\n",
       "       'marschmusik', 'meditative', 'mediterranean', 'melodic', 'metal',\n",
       "       'metalcore', 'mexican', 'middle', 'minimal', 'miscellaneous',\n",
       "       'modern', 'mood', 'mpb', 'muslim', 'native', 'neoklassik', 'neue',\n",
       "       'new', 'newage', 'newwave', 'nu', 'nujazz', 'numetal', 'oceania',\n",
       "       'old', 'opera', 'orchestral', 'other', 'piano', 'podcasts', 'pop',\n",
       "       'popdance', 'popelectronic', 'popeurodance', 'poprussian', 'post',\n",
       "       'posthardcore', 'postrock', 'power', 'progmetal', 'progressive',\n",
       "       'psychedelic', 'punjabi', 'punk', 'quebecois', 'ragga', 'ram',\n",
       "       'rancheras', 'rap', 'rave', 'reggae', 'reggaeton', 'regional',\n",
       "       'relax', 'religious', 'retro', 'rhythm', 'rnb', 'rnr', 'rock',\n",
       "       'rockabilly', 'rockalternative', 'rockindie', 'rockother',\n",
       "       'romance', 'roots', 'ruspop', 'rusrap', 'rusrock', 'russian',\n",
       "       'salsa', 'samba', 'scenic', 'schlager', 'self', 'sertanejo',\n",
       "       'shanson', 'shoegazing', 'showtunes', 'singer', 'ska', 'skarock',\n",
       "       'slow', 'smooth', 'soft', 'soul', 'soulful', 'sound', 'soundtrack',\n",
       "       'southern', 'specialty', 'speech', 'spiritual', 'sport',\n",
       "       'stonerrock', 'surf', 'swing', 'synthpop', 'synthrock',\n",
       "       'sängerportrait', 'tango', 'tanzorchester', 'taraftar', 'tatar',\n",
       "       'tech', 'techno', 'teen', 'thrash', 'top', 'traditional',\n",
       "       'tradjazz', 'trance', 'tribal', 'trip', 'triphop', 'tropical',\n",
       "       'türk', 'türkçe', 'ukrrock', 'unknown', 'urban', 'uzbek',\n",
       "       'variété', 'vi', 'videogame', 'vocal', 'western', 'world',\n",
       "       'worldbeat', 'ïîï', 'электроника'], dtype=object)"
      ]
     },
     "execution_count": 16,
     "metadata": {},
     "output_type": "execute_result"
    }
   ],
   "source": [
    "df['genre'].sort_values().unique()"
   ]
  },
  {
   "cell_type": "markdown",
   "metadata": {},
   "source": [
    "**Выводы**\n",
    "\n",
    "На этапе предобработки данных были обнаружены и исправлены три проблемы:\n",
    "\n",
    "- исправлены нарушения в стиле заголовков: в названиях столбцов устранены пробелы, заглавные буквы заменены на строчные, добавлены нижние подчеркивания для соответствия со \"змеиным\" стилем;\n",
    "- устранены пропущенные значения путем замены на категориальное значение `'unknown'`,\n",
    "- устранены явные и неявные дубликаты, без дубликатов исследование станет более точным.\n",
    "\n",
    "Теперь можно перейти к проверке гипотез. "
   ]
  },
  {
   "cell_type": "markdown",
   "metadata": {},
   "source": [
    "## Проверка гипотез"
   ]
  },
  {
   "cell_type": "markdown",
   "metadata": {},
   "source": [
    "### Сравнение поведения пользователей двух столиц"
   ]
  },
  {
   "cell_type": "markdown",
   "metadata": {},
   "source": [
    "Первая гипотеза утверждает, что пользователи по-разному слушают музыку в Москве и Санкт-Петербурге. Проверим это предположение по данным о трёх днях недели — понедельнике, среде и пятнице. Для этого:\n",
    "\n",
    "* разделим пользователей Москвы и Санкт-Петербурга;\n",
    "* сравним, сколько треков послушала каждая группа пользователей в понедельник, среду и пятницу."
   ]
  },
  {
   "cell_type": "markdown",
   "metadata": {},
   "source": [
    "Сначала выполним каждый из расчётов по отдельности. \n",
    "\n",
    "Оценим активность пользователей в каждом городе. Для этого группируем данные по городу и посчитаем прослушивания в каждой группе."
   ]
  },
  {
   "cell_type": "code",
   "execution_count": 17,
   "metadata": {},
   "outputs": [
    {
     "data": {
      "text/plain": [
       "city\n",
       "Moscow              42741\n",
       "Saint-Petersburg    18512\n",
       "Name: city, dtype: int64"
      ]
     },
     "execution_count": 17,
     "metadata": {},
     "output_type": "execute_result"
    }
   ],
   "source": [
    "df.groupby('city')['city'].count()"
   ]
  },
  {
   "cell_type": "markdown",
   "metadata": {},
   "source": [
    "Можно заметить, что в Москве прослушиваний больше, чем в Петербурге. Из этого не следует, что московские пользователи чаще слушают музыку. Просто самих пользователей в Москве больше."
   ]
  },
  {
   "cell_type": "markdown",
   "metadata": {},
   "source": [
    "Теперь сгруппируем данные по дню недели и посчитаем прослушивания в понедельник, среду и пятницу. В данных есть информация о прослушиваниях только за эти дни."
   ]
  },
  {
   "cell_type": "code",
   "execution_count": 18,
   "metadata": {},
   "outputs": [
    {
     "data": {
      "text/plain": [
       "day\n",
       "Friday       21840\n",
       "Monday       21354\n",
       "Wednesday    18059\n",
       "Name: day, dtype: int64"
      ]
     },
     "execution_count": 18,
     "metadata": {},
     "output_type": "execute_result"
    }
   ],
   "source": [
    "df.groupby('day')['day'].count()"
   ]
  },
  {
   "cell_type": "markdown",
   "metadata": {},
   "source": [
    "В среднем пользователи из двух городов менее активны по средам. Но картина может измениться, если рассмотреть каждый город в отдельности."
   ]
  },
  {
   "cell_type": "markdown",
   "metadata": {},
   "source": [
    "Посмотрели, как работает группировка по городу и по дням недели. Теперь напишем функцию, которая объединит два эти расчёта.\n",
    "\n",
    "Создадим функцию `number_tracks()`, которая посчитает прослушивания для заданного дня и города. В качестве аргументов она будет принимать два параметра:\n",
    "* день недели,\n",
    "* название города.\n",
    "\n",
    "В данной функции сохраним в переменную строки исходной таблицы, у которых значение:\n",
    "  * в колонке `day` равно параметру `day`,\n",
    "  * в колонке `city` равно параметру `city`.\n",
    "\n",
    "Для этого применим последовательную фильтрацию с логической индексацией.\n",
    "\n",
    "Затем посчитаем значения в столбце `user_id` получившейся таблицы. Результат сохраним в новую переменную. Вернем эту переменную из функции."
   ]
  },
  {
   "cell_type": "code",
   "execution_count": 19,
   "metadata": {},
   "outputs": [],
   "source": [
    "def number_tracks(day, city): \n",
    "    track_list = df[df['day'] == day]\n",
    "    track_list = track_list[track_list['city'] == city]\n",
    "    track_list_count = track_list['user_id'].count()\n",
    "    return track_list_count"
   ]
  },
  {
   "cell_type": "markdown",
   "metadata": {},
   "source": [
    "Вызовем `number_tracks()` шесть раз, меняя значение параметров — так, чтобы получить данные для каждого города в каждый из трёх дней."
   ]
  },
  {
   "cell_type": "markdown",
   "metadata": {},
   "source": [
    "Количество прослушиваний в Москве по понедельникам."
   ]
  },
  {
   "cell_type": "code",
   "execution_count": 20,
   "metadata": {},
   "outputs": [
    {
     "data": {
      "text/plain": [
       "15740"
      ]
     },
     "execution_count": 20,
     "metadata": {},
     "output_type": "execute_result"
    }
   ],
   "source": [
    "number_tracks('Monday', 'Moscow')"
   ]
  },
  {
   "cell_type": "markdown",
   "metadata": {},
   "source": [
    "Количество прослушиваний в Санкт-Петербурге по понедельникам."
   ]
  },
  {
   "cell_type": "code",
   "execution_count": 21,
   "metadata": {},
   "outputs": [
    {
     "data": {
      "text/plain": [
       "5614"
      ]
     },
     "execution_count": 21,
     "metadata": {},
     "output_type": "execute_result"
    }
   ],
   "source": [
    "number_tracks('Monday', 'Saint-Petersburg')"
   ]
  },
  {
   "cell_type": "markdown",
   "metadata": {},
   "source": [
    "Количество прослушиваний в Москве по средам."
   ]
  },
  {
   "cell_type": "code",
   "execution_count": 22,
   "metadata": {},
   "outputs": [
    {
     "data": {
      "text/plain": [
       "11056"
      ]
     },
     "execution_count": 22,
     "metadata": {},
     "output_type": "execute_result"
    }
   ],
   "source": [
    "number_tracks('Wednesday', 'Moscow')"
   ]
  },
  {
   "cell_type": "markdown",
   "metadata": {},
   "source": [
    "Количество прослушиваний в Санкт-Петербурге по средам"
   ]
  },
  {
   "cell_type": "code",
   "execution_count": 23,
   "metadata": {},
   "outputs": [
    {
     "data": {
      "text/plain": [
       "7003"
      ]
     },
     "execution_count": 23,
     "metadata": {},
     "output_type": "execute_result"
    }
   ],
   "source": [
    "number_tracks('Wednesday', 'Saint-Petersburg')"
   ]
  },
  {
   "cell_type": "markdown",
   "metadata": {},
   "source": [
    "Количество прослушиваний в Москве по пятницам."
   ]
  },
  {
   "cell_type": "code",
   "execution_count": 24,
   "metadata": {},
   "outputs": [
    {
     "data": {
      "text/plain": [
       "15945"
      ]
     },
     "execution_count": 24,
     "metadata": {},
     "output_type": "execute_result"
    }
   ],
   "source": [
    "number_tracks('Friday', 'Moscow')"
   ]
  },
  {
   "cell_type": "markdown",
   "metadata": {},
   "source": [
    "Количество прослушиваний в Санкт-Петербурге по пятницам."
   ]
  },
  {
   "cell_type": "code",
   "execution_count": 25,
   "metadata": {},
   "outputs": [
    {
     "data": {
      "text/plain": [
       "5895"
      ]
     },
     "execution_count": 25,
     "metadata": {},
     "output_type": "execute_result"
    }
   ],
   "source": [
    "number_tracks('Friday', 'Saint-Petersburg')"
   ]
  },
  {
   "cell_type": "markdown",
   "metadata": {},
   "source": [
    "Создадим объект `pd.DataFrame`, где\n",
    "* **названия колонок** — `['city', 'monday', 'wednesday', 'friday']`;\n",
    "* **данные** — результаты, которые получили с помощью `number_tracks`."
   ]
  },
  {
   "cell_type": "code",
   "execution_count": 26,
   "metadata": {},
   "outputs": [
    {
     "data": {
      "text/html": [
       "<div>\n",
       "<style scoped>\n",
       "    .dataframe tbody tr th:only-of-type {\n",
       "        vertical-align: middle;\n",
       "    }\n",
       "\n",
       "    .dataframe tbody tr th {\n",
       "        vertical-align: top;\n",
       "    }\n",
       "\n",
       "    .dataframe thead th {\n",
       "        text-align: right;\n",
       "    }\n",
       "</style>\n",
       "<table border=\"1\" class=\"dataframe\">\n",
       "  <thead>\n",
       "    <tr style=\"text-align: right;\">\n",
       "      <th></th>\n",
       "      <th>city</th>\n",
       "      <th>monday</th>\n",
       "      <th>wednesday</th>\n",
       "      <th>friday</th>\n",
       "    </tr>\n",
       "  </thead>\n",
       "  <tbody>\n",
       "    <tr>\n",
       "      <th>0</th>\n",
       "      <td>Moscow</td>\n",
       "      <td>15740</td>\n",
       "      <td>11056</td>\n",
       "      <td>15945</td>\n",
       "    </tr>\n",
       "    <tr>\n",
       "      <th>1</th>\n",
       "      <td>Saint-Petersburg</td>\n",
       "      <td>5614</td>\n",
       "      <td>7003</td>\n",
       "      <td>5895</td>\n",
       "    </tr>\n",
       "  </tbody>\n",
       "</table>\n",
       "</div>"
      ],
      "text/plain": [
       "               city  monday  wednesday  friday\n",
       "0            Moscow   15740      11056   15945\n",
       "1  Saint-Petersburg    5614       7003    5895"
      ]
     },
     "execution_count": 26,
     "metadata": {},
     "output_type": "execute_result"
    }
   ],
   "source": [
    "columns = ['city', 'monday', 'wednesday', 'friday']\n",
    "data = [\n",
    "    ['Moscow', 15740, 11056, 15945],\n",
    "    ['Saint-Petersburg', 5614, 7003, 5895]\n",
    "]\n",
    "tracks_by_city_day = pd.DataFrame(data=data, columns=columns)\n",
    "tracks_by_city_day"
   ]
  },
  {
   "cell_type": "markdown",
   "metadata": {},
   "source": [
    "**Выводы**\n",
    "\n",
    "Данные показывают разницу поведения пользователей:\n",
    "\n",
    "- В **Москве** пик прослушиваний приходится на понедельник и пятницу, а в среду заметен спад.\n",
    "- В **Петербурге**, наоборот, больше слушают музыку по средам. Активность в понедельник и пятницу здесь почти в равной мере уступает среде.\n",
    "\n",
    "Значит, данные говорят в пользу первой гипотезы."
   ]
  },
  {
   "cell_type": "markdown",
   "metadata": {},
   "source": [
    "### Музыка в начале и в конце недели"
   ]
  },
  {
   "cell_type": "markdown",
   "metadata": {},
   "source": [
    "Согласно второй гипотезе, утром в понедельник в Москве преобладают одни жанры, а в Петербурге — другие. Так же и вечером пятницы преобладают разные жанры — в зависимости от города."
   ]
  },
  {
   "cell_type": "markdown",
   "metadata": {},
   "source": [
    "Сохраним таблицы с данными в две переменные:\n",
    "* по Москве — в `moscow_general`;\n",
    "* по Санкт-Петербургу — в `spb_general`."
   ]
  },
  {
   "cell_type": "code",
   "execution_count": 27,
   "metadata": {},
   "outputs": [],
   "source": [
    "moscow_general = df[df['city'] == 'Moscow']\n",
    "spb_general = df[df['city'] == 'Saint-Petersburg']"
   ]
  },
  {
   "cell_type": "markdown",
   "metadata": {},
   "source": [
    "Создадим функцию `genre_weekday()` с четырьмя аргументами:\n",
    "* таблица (датафрейм) с данными,\n",
    "* день недели,\n",
    "* начальная временная метка в формате 'hh:mm', \n",
    "* последняя временная метка в формате 'hh:mm'.\n",
    "\n",
    "Функция вернет информацию о топ-10 жанров тех треков, которые прослушивали в указанный день, в промежутке между двумя отметками времени."
   ]
  },
  {
   "cell_type": "code",
   "execution_count": 28,
   "metadata": {},
   "outputs": [],
   "source": [
    "def genre_weekday(df, day, time1, time2):\n",
    "    genre_df = df[df['day'] == day]\n",
    "    genre_df = genre_df[genre_df['time'] < time2]\n",
    "    genre_df = genre_df[genre_df['time'] > time1]\n",
    "    genre_df_grouped = genre_df.groupby('genre')['genre'].count()\n",
    "    genre_df_sorted = genre_df_grouped.sort_values(ascending=False)\n",
    "    return genre_df_sorted[:10]"
   ]
  },
  {
   "cell_type": "markdown",
   "metadata": {},
   "source": [
    "Cравним результаты функции `genre_weekday()` для Москвы и Санкт-Петербурга в понедельник утром (с 7:00 до 11:00) и в пятницу вечером (с 17:00 до 23:00)"
   ]
  },
  {
   "cell_type": "markdown",
   "metadata": {},
   "source": [
    "Вызов функции для утра понедельника в Москве (вместо `df` — таблица `moscow_general`)."
   ]
  },
  {
   "cell_type": "code",
   "execution_count": 29,
   "metadata": {
    "scrolled": true
   },
   "outputs": [
    {
     "data": {
      "text/plain": [
       "genre\n",
       "pop            781\n",
       "dance          549\n",
       "electronic     480\n",
       "rock           474\n",
       "hiphop         286\n",
       "ruspop         186\n",
       "world          181\n",
       "rusrap         175\n",
       "alternative    164\n",
       "unknown        161\n",
       "Name: genre, dtype: int64"
      ]
     },
     "execution_count": 29,
     "metadata": {},
     "output_type": "execute_result"
    }
   ],
   "source": [
    "genre_weekday(moscow_general, 'Monday', '07:00', '11:00')"
   ]
  },
  {
   "cell_type": "markdown",
   "metadata": {},
   "source": [
    "Вызов функции для утра понедельника в Петербурге (вместо `df` — таблица `spb_general`)."
   ]
  },
  {
   "cell_type": "code",
   "execution_count": 30,
   "metadata": {},
   "outputs": [
    {
     "data": {
      "text/plain": [
       "genre\n",
       "pop            218\n",
       "dance          182\n",
       "rock           162\n",
       "electronic     147\n",
       "hiphop          80\n",
       "ruspop          64\n",
       "alternative     58\n",
       "rusrap          55\n",
       "jazz            44\n",
       "classical       40\n",
       "Name: genre, dtype: int64"
      ]
     },
     "execution_count": 30,
     "metadata": {},
     "output_type": "execute_result"
    }
   ],
   "source": [
    "genre_weekday(spb_general, 'Monday', '07:00', '11:00')"
   ]
  },
  {
   "cell_type": "markdown",
   "metadata": {},
   "source": [
    "Вызов функции для вечера пятницы в Москве."
   ]
  },
  {
   "cell_type": "code",
   "execution_count": 31,
   "metadata": {},
   "outputs": [
    {
     "data": {
      "text/plain": [
       "genre\n",
       "pop            713\n",
       "rock           517\n",
       "dance          495\n",
       "electronic     482\n",
       "hiphop         273\n",
       "world          208\n",
       "ruspop         170\n",
       "alternative    163\n",
       "classical      163\n",
       "rusrap         142\n",
       "Name: genre, dtype: int64"
      ]
     },
     "execution_count": 31,
     "metadata": {},
     "output_type": "execute_result"
    }
   ],
   "source": [
    "genre_weekday(moscow_general, 'Friday', '17:00', '23:00')"
   ]
  },
  {
   "cell_type": "markdown",
   "metadata": {},
   "source": [
    "Вызов функции для вечера пятницы в Петербурге."
   ]
  },
  {
   "cell_type": "code",
   "execution_count": 32,
   "metadata": {},
   "outputs": [
    {
     "data": {
      "text/plain": [
       "genre\n",
       "pop            256\n",
       "electronic     216\n",
       "rock           216\n",
       "dance          210\n",
       "hiphop          97\n",
       "alternative     63\n",
       "jazz            61\n",
       "classical       60\n",
       "rusrap          59\n",
       "world           54\n",
       "Name: genre, dtype: int64"
      ]
     },
     "execution_count": 32,
     "metadata": {},
     "output_type": "execute_result"
    }
   ],
   "source": [
    "genre_weekday(spb_general, 'Friday', '17:00', '23:00')"
   ]
  },
  {
   "cell_type": "markdown",
   "metadata": {},
   "source": [
    "**Выводы**\n",
    "\n",
    "Если сравнить топ-10 жанров в понедельник утром, можно сделать такие выводы:\n",
    "\n",
    "1. В Москве и Петербурге слушают похожую музыку. Единственное отличие — в московский рейтинг вошёл жанр “world”, а в петербургский — джаз и классика.\n",
    "\n",
    "2. В Москве пропущенных значений оказалось так много, что значение `'unknown'` заняло десятое место среди самых популярных жанров. Значит, пропущенные значения занимают существенную долю в данных и угрожают достоверности исследования.\n",
    "\n",
    "Вечер пятницы не меняет эту картину. Некоторые жанры поднимаются немного выше, другие спускаются, но в целом топ-10 остаётся тем же самым.\n",
    "\n",
    "Таким образом, вторая гипотеза подтвердилась лишь частично:\n",
    "* Пользователи слушают похожую музыку в начале недели и в конце.\n",
    "* Разница между Москвой и Петербургом не слишком выражена. В Москве чаще слушают русскую популярную музыку, в Петербурге — джаз.\n",
    "\n",
    "Однако пропуски в данных ставят под сомнение этот результат. В Москве их так много, что рейтинг топ-10 мог бы выглядеть иначе, если бы не утерянные  данные о жанрах."
   ]
  },
  {
   "cell_type": "markdown",
   "metadata": {},
   "source": [
    "### Жанровые предпочтения в Москве и Петербурге\n",
    "\n",
    "Гипотеза: Петербург — столица рэпа, музыку этого жанра там слушают чаще, чем в Москве.  А Москва — город контрастов, в котором, тем не менее, преобладает поп-музыка."
   ]
  },
  {
   "cell_type": "markdown",
   "metadata": {},
   "source": [
    "Сгруппируем таблицу `moscow_general` по жанру и посчитайте прослушивания треков каждого жанра методом `count()`. Затем отсортируем результат в порядке убывания и сохраним его в таблице `moscow_genres`."
   ]
  },
  {
   "cell_type": "code",
   "execution_count": 33,
   "metadata": {},
   "outputs": [],
   "source": [
    "moscow_genres = moscow_general.groupby('genre')['genre'].count().sort_values(ascending=False)"
   ]
  },
  {
   "cell_type": "markdown",
   "metadata": {},
   "source": [
    "Выведем на экран первые десять строк `moscow_genres`."
   ]
  },
  {
   "cell_type": "code",
   "execution_count": 34,
   "metadata": {},
   "outputs": [
    {
     "data": {
      "text/plain": [
       "genre\n",
       "pop            5892\n",
       "dance          4435\n",
       "rock           3965\n",
       "electronic     3786\n",
       "hiphop         2096\n",
       "classical      1616\n",
       "world          1432\n",
       "alternative    1379\n",
       "ruspop         1372\n",
       "rusrap         1161\n",
       "Name: genre, dtype: int64"
      ]
     },
     "execution_count": 34,
     "metadata": {},
     "output_type": "execute_result"
    }
   ],
   "source": [
    "moscow_genres.head(10)"
   ]
  },
  {
   "cell_type": "markdown",
   "metadata": {},
   "source": [
    "Теперь повторим то же и для Петербурга.\n",
    "\n",
    "Сгруппируем таблицу `spb_general` по жанру. Посчитаем прослушивания треков каждого жанра. Результат отсортируем в порядке убывания и сохраним в таблице `spb_genres`."
   ]
  },
  {
   "cell_type": "code",
   "execution_count": 35,
   "metadata": {
    "scrolled": true
   },
   "outputs": [],
   "source": [
    "spb_genres = spb_general.groupby('genre')['genre'].count().sort_values(ascending=False)"
   ]
  },
  {
   "cell_type": "markdown",
   "metadata": {},
   "source": [
    "Выведем на экран первые десять строк `spb_genres`."
   ]
  },
  {
   "cell_type": "code",
   "execution_count": 36,
   "metadata": {
    "scrolled": false
   },
   "outputs": [
    {
     "data": {
      "text/plain": [
       "genre\n",
       "pop            2431\n",
       "dance          1932\n",
       "rock           1879\n",
       "electronic     1736\n",
       "hiphop          960\n",
       "alternative     649\n",
       "classical       646\n",
       "rusrap          564\n",
       "ruspop          538\n",
       "world           515\n",
       "Name: genre, dtype: int64"
      ]
     },
     "execution_count": 36,
     "metadata": {},
     "output_type": "execute_result"
    }
   ],
   "source": [
    "spb_genres.head(10)"
   ]
  },
  {
   "cell_type": "markdown",
   "metadata": {},
   "source": [
    "**Выводы**\n",
    "\n",
    "Гипотеза частично подтвердилась:\n",
    "* Поп-музыка — самый популярный жанр в Москве, как и предполагала гипотеза. Более того, в топ-10 жанров встречается близкий жанр — русская популярная музыка.\n",
    "* Вопреки ожиданиям, рэп одинаково популярен в Москве и Петербурге. "
   ]
  },
  {
   "cell_type": "markdown",
   "metadata": {},
   "source": [
    "## Итоги исследования"
   ]
  },
  {
   "cell_type": "markdown",
   "metadata": {},
   "source": [
    "В ходе исследования были проверены три гипотезы и было установлено, что:\n",
    "\n",
    "1. День недели по-разному влияет на активность пользователей в Москве и Петербурге. \n",
    "\n",
    "Первая гипотеза полностью подтвердилась.\n",
    "\n",
    "2. Музыкальные предпочтения не сильно меняются в течение недели — будь то Москва или Петербург. Небольшие различия заметны в начале недели, по понедельникам:\n",
    "* в Москве слушают музыку жанра “world”,\n",
    "* в Петербурге — джаз и классику.\n",
    "\n",
    "Таким образом, вторая гипотеза подтвердилась лишь отчасти. Этот результат мог оказаться иным, если бы не пропуски в данных.\n",
    "\n",
    "3. Во вкусах пользователей Москвы и Петербурга больше общего чем различий. Вопреки ожиданиям, предпочтения жанров в Петербурге напоминают московские.\n",
    "\n",
    "Третья гипотеза не подтвердилась. Если различия в предпочтениях и существуют, на основной массе пользователей они незаметны."
   ]
  }
 ],
 "metadata": {
  "ExecuteTimeLog": [
   {
    "duration": 885,
    "start_time": "2023-02-04T11:10:34.352Z"
   },
   {
    "duration": 1577,
    "start_time": "2023-02-18T14:39:37.147Z"
   },
   {
    "duration": 24,
    "start_time": "2023-02-18T14:40:59.961Z"
   },
   {
    "duration": 2259,
    "start_time": "2023-02-18T14:41:39.518Z"
   },
   {
    "duration": 94,
    "start_time": "2023-02-18T14:42:41.776Z"
   },
   {
    "duration": 169,
    "start_time": "2023-02-18T14:43:35.696Z"
   },
   {
    "duration": 174,
    "start_time": "2023-02-18T14:44:04.337Z"
   },
   {
    "duration": 181,
    "start_time": "2023-02-18T14:45:08.061Z"
   },
   {
    "duration": 164,
    "start_time": "2023-02-18T14:45:12.282Z"
   },
   {
    "duration": 6,
    "start_time": "2023-02-18T14:45:24.644Z"
   },
   {
    "duration": 383,
    "start_time": "2023-02-18T14:45:35.568Z"
   },
   {
    "duration": 225,
    "start_time": "2023-02-18T14:45:47.680Z"
   },
   {
    "duration": 154,
    "start_time": "2023-02-18T15:03:05.683Z"
   },
   {
    "duration": 6,
    "start_time": "2023-02-18T15:03:08.494Z"
   },
   {
    "duration": 263,
    "start_time": "2023-02-18T15:03:08.830Z"
   },
   {
    "duration": 172,
    "start_time": "2023-02-18T15:03:36.317Z"
   },
   {
    "duration": 9,
    "start_time": "2023-02-18T15:05:22.959Z"
   },
   {
    "duration": 10,
    "start_time": "2023-02-18T15:06:48.291Z"
   },
   {
    "duration": 60,
    "start_time": "2023-02-18T15:08:33.983Z"
   },
   {
    "duration": 405,
    "start_time": "2023-02-18T15:09:50.383Z"
   },
   {
    "duration": 45,
    "start_time": "2023-02-18T17:15:20.502Z"
   },
   {
    "duration": 45,
    "start_time": "2023-02-18T17:16:22.919Z"
   },
   {
    "duration": 127,
    "start_time": "2023-02-18T17:17:12.007Z"
   },
   {
    "duration": 130,
    "start_time": "2023-02-18T17:17:43.186Z"
   },
   {
    "duration": 15,
    "start_time": "2023-02-18T17:17:44.255Z"
   },
   {
    "duration": 2178,
    "start_time": "2023-02-18T17:17:44.946Z"
   },
   {
    "duration": 76,
    "start_time": "2023-02-18T17:17:47.137Z"
   },
   {
    "duration": 185,
    "start_time": "2023-02-18T17:17:47.215Z"
   },
   {
    "duration": 170,
    "start_time": "2023-02-18T17:17:47.402Z"
   },
   {
    "duration": 5,
    "start_time": "2023-02-18T17:17:47.573Z"
   },
   {
    "duration": 437,
    "start_time": "2023-02-18T17:17:47.810Z"
   },
   {
    "duration": 204,
    "start_time": "2023-02-18T17:17:48.249Z"
   },
   {
    "duration": 177,
    "start_time": "2023-02-18T17:17:48.463Z"
   },
   {
    "duration": 6,
    "start_time": "2023-02-18T17:17:51.819Z"
   },
   {
    "duration": 10,
    "start_time": "2023-02-18T17:17:53.167Z"
   },
   {
    "duration": 61,
    "start_time": "2023-02-18T17:17:54.539Z"
   },
   {
    "duration": 91,
    "start_time": "2023-02-18T17:17:58.328Z"
   },
   {
    "duration": 74,
    "start_time": "2023-02-18T17:19:40.013Z"
   },
   {
    "duration": 54,
    "start_time": "2023-02-18T18:25:14.860Z"
   },
   {
    "duration": 133,
    "start_time": "2023-02-18T18:25:40.801Z"
   },
   {
    "duration": 14,
    "start_time": "2023-02-18T18:25:41.632Z"
   },
   {
    "duration": 2547,
    "start_time": "2023-02-18T18:25:42.160Z"
   },
   {
    "duration": 83,
    "start_time": "2023-02-18T18:25:46.706Z"
   },
   {
    "duration": 184,
    "start_time": "2023-02-18T18:25:46.792Z"
   },
   {
    "duration": 176,
    "start_time": "2023-02-18T18:25:49.269Z"
   },
   {
    "duration": 6,
    "start_time": "2023-02-18T18:25:49.447Z"
   },
   {
    "duration": 279,
    "start_time": "2023-02-18T18:25:49.455Z"
   },
   {
    "duration": 216,
    "start_time": "2023-02-18T18:25:49.736Z"
   },
   {
    "duration": 193,
    "start_time": "2023-02-18T18:25:49.955Z"
   },
   {
    "duration": 8,
    "start_time": "2023-02-18T18:25:50.150Z"
   },
   {
    "duration": 18,
    "start_time": "2023-02-18T18:25:50.160Z"
   },
   {
    "duration": 89,
    "start_time": "2023-02-18T18:25:50.180Z"
   },
   {
    "duration": 74,
    "start_time": "2023-02-18T18:25:53.275Z"
   },
   {
    "duration": 978,
    "start_time": "2023-02-19T16:53:11.789Z"
   },
   {
    "duration": 24,
    "start_time": "2023-02-19T16:53:15.130Z"
   },
   {
    "duration": 1979,
    "start_time": "2023-02-19T16:53:16.717Z"
   },
   {
    "duration": 70,
    "start_time": "2023-02-19T16:53:18.981Z"
   },
   {
    "duration": 133,
    "start_time": "2023-02-19T16:53:20.673Z"
   },
   {
    "duration": 199,
    "start_time": "2023-02-19T16:53:22.361Z"
   },
   {
    "duration": 4,
    "start_time": "2023-02-19T16:53:24.410Z"
   },
   {
    "duration": 216,
    "start_time": "2023-02-19T16:53:26.136Z"
   },
   {
    "duration": 231,
    "start_time": "2023-02-19T16:53:27.855Z"
   },
   {
    "duration": 157,
    "start_time": "2023-02-19T16:53:29.459Z"
   },
   {
    "duration": 7,
    "start_time": "2023-02-19T16:53:36.566Z"
   },
   {
    "duration": 9,
    "start_time": "2023-02-19T16:53:43.084Z"
   },
   {
    "duration": 242,
    "start_time": "2023-02-19T17:07:21.226Z"
   },
   {
    "duration": 73,
    "start_time": "2023-02-19T17:08:25.905Z"
   },
   {
    "duration": 65,
    "start_time": "2023-02-19T17:09:33.084Z"
   },
   {
    "duration": 13,
    "start_time": "2023-02-19T17:11:35.343Z"
   },
   {
    "duration": 10,
    "start_time": "2023-02-19T17:12:01.198Z"
   },
   {
    "duration": 53,
    "start_time": "2023-02-19T17:12:17.656Z"
   },
   {
    "duration": 12,
    "start_time": "2023-02-19T17:12:42.836Z"
   },
   {
    "duration": 9,
    "start_time": "2023-02-19T17:13:47.521Z"
   },
   {
    "duration": 7,
    "start_time": "2023-02-19T17:14:07.834Z"
   },
   {
    "duration": 8,
    "start_time": "2023-02-19T17:15:30.454Z"
   },
   {
    "duration": 53,
    "start_time": "2023-02-19T17:16:34.240Z"
   },
   {
    "duration": 11,
    "start_time": "2023-02-19T17:16:56.618Z"
   },
   {
    "duration": 1560,
    "start_time": "2023-02-19T17:20:13.797Z"
   },
   {
    "duration": 1613,
    "start_time": "2023-02-19T17:20:37.941Z"
   },
   {
    "duration": 415,
    "start_time": "2023-02-19T17:30:33.672Z"
   },
   {
    "duration": 547,
    "start_time": "2023-02-19T17:31:27.574Z"
   },
   {
    "duration": 431,
    "start_time": "2023-02-19T17:32:36.108Z"
   },
   {
    "duration": 408,
    "start_time": "2023-02-19T17:33:55.935Z"
   },
   {
    "duration": 517,
    "start_time": "2023-02-19T17:34:12.985Z"
   },
   {
    "duration": 408,
    "start_time": "2023-02-19T17:34:19.626Z"
   },
   {
    "duration": 431,
    "start_time": "2023-02-19T17:35:24.017Z"
   },
   {
    "duration": 653,
    "start_time": "2023-02-19T17:38:11.779Z"
   },
   {
    "duration": 539,
    "start_time": "2023-02-19T17:39:28.733Z"
   },
   {
    "duration": 3,
    "start_time": "2023-02-19T17:57:01.765Z"
   },
   {
    "duration": 1076,
    "start_time": "2023-02-19T18:30:32.485Z"
   },
   {
    "duration": 393,
    "start_time": "2023-02-19T18:30:55.866Z"
   },
   {
    "duration": 111,
    "start_time": "2023-02-19T18:31:26.536Z"
   },
   {
    "duration": 15,
    "start_time": "2023-02-19T18:31:28.131Z"
   },
   {
    "duration": 1872,
    "start_time": "2023-02-19T18:31:29.108Z"
   },
   {
    "duration": 157,
    "start_time": "2023-02-19T18:31:32.154Z"
   },
   {
    "duration": 137,
    "start_time": "2023-02-19T18:31:35.839Z"
   },
   {
    "duration": 136,
    "start_time": "2023-02-19T18:31:37.100Z"
   },
   {
    "duration": 5,
    "start_time": "2023-02-19T18:31:37.649Z"
   },
   {
    "duration": 211,
    "start_time": "2023-02-19T18:31:38.619Z"
   },
   {
    "duration": 195,
    "start_time": "2023-02-19T18:31:39.463Z"
   },
   {
    "duration": 154,
    "start_time": "2023-02-19T18:31:40.261Z"
   },
   {
    "duration": 7,
    "start_time": "2023-02-19T18:31:47.019Z"
   },
   {
    "duration": 10,
    "start_time": "2023-02-19T18:31:50.995Z"
   },
   {
    "duration": 59,
    "start_time": "2023-02-19T18:31:52.509Z"
   },
   {
    "duration": 14,
    "start_time": "2023-02-19T18:31:54.219Z"
   },
   {
    "duration": 11,
    "start_time": "2023-02-19T18:31:54.754Z"
   },
   {
    "duration": 14,
    "start_time": "2023-02-19T18:31:55.751Z"
   },
   {
    "duration": 8,
    "start_time": "2023-02-19T18:31:57.056Z"
   },
   {
    "duration": 7,
    "start_time": "2023-02-19T18:31:58.090Z"
   },
   {
    "duration": 11,
    "start_time": "2023-02-19T18:31:59.133Z"
   },
   {
    "duration": 56,
    "start_time": "2023-02-19T18:32:00.461Z"
   },
   {
    "duration": 8,
    "start_time": "2023-02-19T18:32:01.923Z"
   },
   {
    "duration": 1684,
    "start_time": "2023-02-19T18:32:06.053Z"
   },
   {
    "duration": 595,
    "start_time": "2023-02-19T18:32:19.721Z"
   },
   {
    "duration": 558,
    "start_time": "2023-02-19T18:32:21.463Z"
   },
   {
    "duration": 3,
    "start_time": "2023-02-19T18:32:22.689Z"
   },
   {
    "duration": 334,
    "start_time": "2023-02-19T18:32:34.549Z"
   },
   {
    "duration": 325,
    "start_time": "2023-02-19T18:33:26.335Z"
   },
   {
    "duration": 106,
    "start_time": "2023-02-19T18:34:20.893Z"
   },
   {
    "duration": 13,
    "start_time": "2023-02-19T18:34:21.627Z"
   },
   {
    "duration": 1999,
    "start_time": "2023-02-19T18:34:22.273Z"
   },
   {
    "duration": 107,
    "start_time": "2023-02-19T18:34:24.276Z"
   },
   {
    "duration": 149,
    "start_time": "2023-02-19T18:34:24.385Z"
   },
   {
    "duration": 146,
    "start_time": "2023-02-19T18:34:24.536Z"
   },
   {
    "duration": 5,
    "start_time": "2023-02-19T18:34:24.683Z"
   },
   {
    "duration": 216,
    "start_time": "2023-02-19T18:34:24.795Z"
   },
   {
    "duration": 178,
    "start_time": "2023-02-19T18:34:25.071Z"
   },
   {
    "duration": 147,
    "start_time": "2023-02-19T18:34:25.366Z"
   },
   {
    "duration": 6,
    "start_time": "2023-02-19T18:34:27.974Z"
   },
   {
    "duration": 9,
    "start_time": "2023-02-19T18:34:28.851Z"
   },
   {
    "duration": 191,
    "start_time": "2023-02-19T18:34:29.692Z"
   },
   {
    "duration": 14,
    "start_time": "2023-02-19T18:34:34.373Z"
   },
   {
    "duration": 12,
    "start_time": "2023-02-19T18:34:34.853Z"
   },
   {
    "duration": 13,
    "start_time": "2023-02-19T18:34:35.901Z"
   },
   {
    "duration": 7,
    "start_time": "2023-02-19T18:34:37.674Z"
   },
   {
    "duration": 9,
    "start_time": "2023-02-19T18:34:39.870Z"
   },
   {
    "duration": 10,
    "start_time": "2023-02-19T18:34:40.902Z"
   },
   {
    "duration": 54,
    "start_time": "2023-02-19T18:34:43.485Z"
   },
   {
    "duration": 10,
    "start_time": "2023-02-19T18:34:44.216Z"
   },
   {
    "duration": 1662,
    "start_time": "2023-02-19T18:35:30.627Z"
   },
   {
    "duration": 423,
    "start_time": "2023-02-19T18:37:03.615Z"
   },
   {
    "duration": 594,
    "start_time": "2023-02-19T18:37:32.700Z"
   },
   {
    "duration": 317,
    "start_time": "2023-02-19T18:38:34.029Z"
   },
   {
    "duration": 316,
    "start_time": "2023-02-19T18:39:11.800Z"
   },
   {
    "duration": 45,
    "start_time": "2023-02-19T18:44:17.480Z"
   },
   {
    "duration": 463,
    "start_time": "2023-02-19T18:45:29.579Z"
   },
   {
    "duration": 362,
    "start_time": "2023-02-19T18:46:14.322Z"
   },
   {
    "duration": 300,
    "start_time": "2023-02-19T19:03:02.522Z"
   },
   {
    "duration": 299,
    "start_time": "2023-02-19T19:03:39.843Z"
   },
   {
    "duration": 302,
    "start_time": "2023-02-19T19:03:54.606Z"
   },
   {
    "duration": 294,
    "start_time": "2023-02-19T19:05:21.230Z"
   },
   {
    "duration": 825,
    "start_time": "2023-02-24T22:07:50.805Z"
   },
   {
    "duration": 25,
    "start_time": "2023-02-24T22:07:51.639Z"
   },
   {
    "duration": 2361,
    "start_time": "2023-02-24T22:07:51.666Z"
   },
   {
    "duration": 80,
    "start_time": "2023-02-24T22:07:54.039Z"
   },
   {
    "duration": 185,
    "start_time": "2023-02-24T22:07:54.121Z"
   },
   {
    "duration": 180,
    "start_time": "2023-02-24T22:07:54.309Z"
   },
   {
    "duration": 6,
    "start_time": "2023-02-24T22:07:54.490Z"
   },
   {
    "duration": 294,
    "start_time": "2023-02-24T22:07:54.497Z"
   },
   {
    "duration": 316,
    "start_time": "2023-02-24T22:07:54.793Z"
   },
   {
    "duration": 206,
    "start_time": "2023-02-24T22:07:55.112Z"
   },
   {
    "duration": 23,
    "start_time": "2023-02-24T22:07:55.320Z"
   },
   {
    "duration": 15,
    "start_time": "2023-02-24T22:07:55.344Z"
   },
   {
    "duration": 94,
    "start_time": "2023-02-24T22:07:55.361Z"
   },
   {
    "duration": 16,
    "start_time": "2023-02-24T22:07:55.457Z"
   },
   {
    "duration": 11,
    "start_time": "2023-02-24T22:07:55.475Z"
   },
   {
    "duration": 14,
    "start_time": "2023-02-24T22:07:55.488Z"
   },
   {
    "duration": 8,
    "start_time": "2023-02-24T22:07:55.503Z"
   },
   {
    "duration": 15,
    "start_time": "2023-02-24T22:07:55.542Z"
   },
   {
    "duration": 13,
    "start_time": "2023-02-24T22:07:55.559Z"
   },
   {
    "duration": 95,
    "start_time": "2023-02-24T22:07:55.574Z"
   },
   {
    "duration": 9,
    "start_time": "2023-02-24T22:07:55.671Z"
   },
   {
    "duration": 2309,
    "start_time": "2023-02-24T22:07:55.681Z"
   },
   {
    "duration": 582,
    "start_time": "2023-02-24T22:07:57.992Z"
   },
   {
    "duration": 947,
    "start_time": "2023-02-24T22:07:58.576Z"
   },
   {
    "duration": 634,
    "start_time": "2023-02-24T22:07:59.525Z"
   },
   {
    "duration": 468,
    "start_time": "2023-02-24T22:08:00.161Z"
   },
   {
    "duration": 492,
    "start_time": "2023-02-24T22:08:00.631Z"
   },
   {
    "duration": 227,
    "start_time": "2023-02-24T22:08:01.128Z"
   },
   {
    "duration": 473,
    "start_time": "2023-02-24T22:08:01.357Z"
   },
   {
    "duration": 356,
    "start_time": "2023-02-24T22:08:01.839Z"
   },
   {
    "duration": 261,
    "start_time": "2023-02-24T22:08:02.197Z"
   },
   {
    "duration": 268,
    "start_time": "2023-02-24T22:08:02.460Z"
   },
   {
    "duration": 299,
    "start_time": "2023-02-24T22:08:02.729Z"
   },
   {
    "duration": 267,
    "start_time": "2023-02-24T22:08:03.029Z"
   },
   {
    "duration": 160,
    "start_time": "2023-02-24T22:08:03.298Z"
   },
   {
    "duration": 157,
    "start_time": "2023-02-24T22:08:03.460Z"
   },
   {
    "duration": 276,
    "start_time": "2023-02-24T22:08:03.620Z"
   },
   {
    "duration": 193,
    "start_time": "2023-02-24T22:08:03.898Z"
   },
   {
    "duration": 203,
    "start_time": "2023-02-24T22:08:04.093Z"
   },
   {
    "duration": 205,
    "start_time": "2023-02-24T22:08:04.299Z"
   },
   {
    "duration": 225,
    "start_time": "2023-02-24T22:08:04.506Z"
   },
   {
    "duration": 166,
    "start_time": "2023-02-24T22:08:04.733Z"
   },
   {
    "duration": 157,
    "start_time": "2023-02-24T22:08:04.901Z"
   },
   {
    "duration": 692,
    "start_time": "2023-02-24T22:08:05.061Z"
   },
   {
    "duration": 243,
    "start_time": "2023-02-24T22:08:05.755Z"
   },
   {
    "duration": 366,
    "start_time": "2023-02-24T22:08:06.000Z"
   },
   {
    "duration": 197,
    "start_time": "2023-02-24T22:08:06.368Z"
   },
   {
    "duration": 196,
    "start_time": "2023-02-24T22:08:06.567Z"
   },
   {
    "duration": 237,
    "start_time": "2023-02-24T22:08:06.765Z"
   },
   {
    "duration": 235,
    "start_time": "2023-02-24T22:08:07.004Z"
   },
   {
    "duration": 191,
    "start_time": "2023-02-24T22:08:07.249Z"
   },
   {
    "duration": 188,
    "start_time": "2023-02-24T22:08:07.444Z"
   },
   {
    "duration": 270,
    "start_time": "2023-02-24T22:08:07.633Z"
   },
   {
    "duration": 267,
    "start_time": "2023-02-24T22:08:07.905Z"
   },
   {
    "duration": 185,
    "start_time": "2023-02-24T22:08:08.174Z"
   },
   {
    "duration": 195,
    "start_time": "2023-02-24T22:08:08.361Z"
   },
   {
    "duration": 194,
    "start_time": "2023-02-24T22:08:08.558Z"
   },
   {
    "duration": 229,
    "start_time": "2023-02-24T22:08:08.754Z"
   },
   {
    "duration": 207,
    "start_time": "2023-02-24T22:08:08.986Z"
   },
   {
    "duration": 172,
    "start_time": "2023-02-24T22:08:09.195Z"
   },
   {
    "duration": 200,
    "start_time": "2023-02-24T22:08:09.369Z"
   },
   {
    "duration": 185,
    "start_time": "2023-02-24T22:08:09.571Z"
   },
   {
    "duration": 200,
    "start_time": "2023-02-24T22:08:09.758Z"
   },
   {
    "duration": 179,
    "start_time": "2023-02-24T22:08:09.959Z"
   },
   {
    "duration": 318,
    "start_time": "2023-02-24T22:08:10.145Z"
   },
   {
    "duration": 193,
    "start_time": "2023-02-24T22:08:10.465Z"
   },
   {
    "duration": 36,
    "start_time": "2023-02-24T22:08:10.660Z"
   },
   {
    "duration": 427,
    "start_time": "2023-02-24T22:08:10.698Z"
   },
   {
    "duration": 25,
    "start_time": "2023-02-24T22:08:11.126Z"
   },
   {
    "duration": 16,
    "start_time": "2023-02-24T22:14:06.314Z"
   },
   {
    "duration": 113,
    "start_time": "2023-02-24T22:14:09.879Z"
   },
   {
    "duration": 449,
    "start_time": "2023-02-24T22:16:48.335Z"
   },
   {
    "duration": 103,
    "start_time": "2023-02-24T22:17:00.011Z"
   },
   {
    "duration": 440,
    "start_time": "2023-02-24T22:17:03.866Z"
   },
   {
    "duration": 107,
    "start_time": "2023-02-25T08:19:42.288Z"
   },
   {
    "duration": 1064,
    "start_time": "2023-02-25T08:20:08.434Z"
   },
   {
    "duration": 17,
    "start_time": "2023-02-25T08:20:14.788Z"
   },
   {
    "duration": 2450,
    "start_time": "2023-02-25T08:20:20.416Z"
   },
   {
    "duration": 2693,
    "start_time": "2023-02-25T08:21:39.011Z"
   },
   {
    "duration": 122,
    "start_time": "2023-02-25T08:21:55.051Z"
   },
   {
    "duration": 203,
    "start_time": "2023-02-25T08:22:00.164Z"
   },
   {
    "duration": 235,
    "start_time": "2023-02-25T08:22:03.704Z"
   },
   {
    "duration": 7,
    "start_time": "2023-02-25T08:22:05.773Z"
   },
   {
    "duration": 399,
    "start_time": "2023-02-25T08:22:07.489Z"
   },
   {
    "duration": 369,
    "start_time": "2023-02-25T08:22:11.798Z"
   },
   {
    "duration": 230,
    "start_time": "2023-02-25T08:22:14.675Z"
   },
   {
    "duration": 11,
    "start_time": "2023-02-25T08:22:32.882Z"
   },
   {
    "duration": 18,
    "start_time": "2023-02-25T08:22:58.054Z"
   },
   {
    "duration": 28,
    "start_time": "2023-02-25T08:25:51.668Z"
   },
   {
    "duration": 138,
    "start_time": "2023-02-25T08:25:53.745Z"
   },
   {
    "duration": 209,
    "start_time": "2023-02-25T08:26:25.475Z"
   },
   {
    "duration": 36,
    "start_time": "2023-02-25T08:26:26.695Z"
   },
   {
    "duration": 2427,
    "start_time": "2023-02-25T08:26:27.671Z"
   },
   {
    "duration": 139,
    "start_time": "2023-02-25T08:26:30.100Z"
   },
   {
    "duration": 291,
    "start_time": "2023-02-25T08:26:30.780Z"
   },
   {
    "duration": 252,
    "start_time": "2023-02-25T08:26:31.634Z"
   },
   {
    "duration": 6,
    "start_time": "2023-02-25T08:26:32.095Z"
   },
   {
    "duration": 429,
    "start_time": "2023-02-25T08:26:32.935Z"
   },
   {
    "duration": 247,
    "start_time": "2023-02-25T08:26:35.275Z"
   },
   {
    "duration": 285,
    "start_time": "2023-02-25T08:26:35.801Z"
   },
   {
    "duration": 15,
    "start_time": "2023-02-25T08:26:38.436Z"
   },
   {
    "duration": 11,
    "start_time": "2023-02-25T08:26:41.082Z"
   },
   {
    "duration": 97,
    "start_time": "2023-02-25T08:26:44.086Z"
   },
   {
    "duration": 44,
    "start_time": "2023-02-25T08:26:50.903Z"
   },
   {
    "duration": 58,
    "start_time": "2023-02-25T08:26:56.768Z"
   },
   {
    "duration": 22,
    "start_time": "2023-02-25T08:27:03.582Z"
   },
   {
    "duration": 19,
    "start_time": "2023-02-25T08:31:34.600Z"
   },
   {
    "duration": 21,
    "start_time": "2023-02-25T08:31:37.596Z"
   },
   {
    "duration": 15,
    "start_time": "2023-02-25T08:32:40.236Z"
   },
   {
    "duration": 233,
    "start_time": "2023-02-25T08:33:24.672Z"
   },
   {
    "duration": 41,
    "start_time": "2023-02-25T08:33:24.906Z"
   },
   {
    "duration": 2951,
    "start_time": "2023-02-25T08:33:24.959Z"
   },
   {
    "duration": 105,
    "start_time": "2023-02-25T08:33:27.914Z"
   },
   {
    "duration": 220,
    "start_time": "2023-02-25T08:33:28.026Z"
   },
   {
    "duration": 348,
    "start_time": "2023-02-25T08:33:28.254Z"
   },
   {
    "duration": 9,
    "start_time": "2023-02-25T08:33:28.609Z"
   },
   {
    "duration": 516,
    "start_time": "2023-02-25T08:33:28.625Z"
   },
   {
    "duration": 315,
    "start_time": "2023-02-25T08:33:29.150Z"
   },
   {
    "duration": 249,
    "start_time": "2023-02-25T08:33:29.468Z"
   },
   {
    "duration": 8,
    "start_time": "2023-02-25T08:33:29.720Z"
   },
   {
    "duration": 78,
    "start_time": "2023-02-25T08:33:29.730Z"
   },
   {
    "duration": 227,
    "start_time": "2023-02-25T08:33:29.810Z"
   },
   {
    "duration": 133,
    "start_time": "2023-02-25T08:33:30.039Z"
   },
   {
    "duration": 178,
    "start_time": "2023-02-25T08:33:30.182Z"
   },
   {
    "duration": 201,
    "start_time": "2023-02-25T08:33:30.370Z"
   },
   {
    "duration": 21,
    "start_time": "2023-02-25T08:38:26.481Z"
   },
   {
    "duration": 27,
    "start_time": "2023-02-25T08:38:40.469Z"
   },
   {
    "duration": 33,
    "start_time": "2023-02-25T08:38:47.573Z"
   },
   {
    "duration": 20,
    "start_time": "2023-02-25T08:42:03.348Z"
   },
   {
    "duration": 25,
    "start_time": "2023-02-25T08:42:05.304Z"
   },
   {
    "duration": 22,
    "start_time": "2023-02-25T08:42:12.828Z"
   },
   {
    "duration": 163,
    "start_time": "2023-02-25T08:42:16.538Z"
   },
   {
    "duration": 11,
    "start_time": "2023-02-25T08:42:40.601Z"
   },
   {
    "duration": 2308,
    "start_time": "2023-02-25T08:42:55.280Z"
   },
   {
    "duration": 219,
    "start_time": "2023-02-25T08:43:59.689Z"
   },
   {
    "duration": 33,
    "start_time": "2023-02-25T08:43:59.920Z"
   },
   {
    "duration": 2994,
    "start_time": "2023-02-25T08:43:59.955Z"
   },
   {
    "duration": 116,
    "start_time": "2023-02-25T08:44:02.955Z"
   },
   {
    "duration": 338,
    "start_time": "2023-02-25T08:44:03.081Z"
   },
   {
    "duration": 290,
    "start_time": "2023-02-25T08:44:03.425Z"
   },
   {
    "duration": 22,
    "start_time": "2023-02-25T08:44:03.721Z"
   },
   {
    "duration": 808,
    "start_time": "2023-02-25T08:44:03.748Z"
   },
   {
    "duration": 305,
    "start_time": "2023-02-25T08:44:04.558Z"
   },
   {
    "duration": 327,
    "start_time": "2023-02-25T08:44:04.867Z"
   },
   {
    "duration": 7,
    "start_time": "2023-02-25T08:44:05.196Z"
   },
   {
    "duration": 144,
    "start_time": "2023-02-25T08:44:05.204Z"
   },
   {
    "duration": 247,
    "start_time": "2023-02-25T08:44:05.350Z"
   },
   {
    "duration": 24,
    "start_time": "2023-02-25T08:44:05.598Z"
   },
   {
    "duration": 95,
    "start_time": "2023-02-25T08:44:05.624Z"
   },
   {
    "duration": 100,
    "start_time": "2023-02-25T08:44:05.731Z"
   },
   {
    "duration": 138,
    "start_time": "2023-02-25T08:44:05.833Z"
   },
   {
    "duration": 53,
    "start_time": "2023-02-25T08:44:05.982Z"
   },
   {
    "duration": 64,
    "start_time": "2023-02-25T08:44:06.041Z"
   },
   {
    "duration": 85,
    "start_time": "2023-02-25T08:44:06.107Z"
   },
   {
    "duration": 149,
    "start_time": "2023-02-25T08:44:06.194Z"
   },
   {
    "duration": 11,
    "start_time": "2023-02-25T08:44:06.345Z"
   },
   {
    "duration": 3268,
    "start_time": "2023-02-25T08:54:24.467Z"
   },
   {
    "duration": 127,
    "start_time": "2023-02-25T08:55:03.668Z"
   },
   {
    "duration": 167,
    "start_time": "2023-02-25T08:55:18.538Z"
   },
   {
    "duration": 44,
    "start_time": "2023-02-25T08:55:18.707Z"
   },
   {
    "duration": 2875,
    "start_time": "2023-02-25T08:55:18.752Z"
   },
   {
    "duration": 273,
    "start_time": "2023-02-25T08:55:21.628Z"
   },
   {
    "duration": 285,
    "start_time": "2023-02-25T08:55:21.904Z"
   },
   {
    "duration": 189,
    "start_time": "2023-02-25T08:55:22.191Z"
   },
   {
    "duration": 6,
    "start_time": "2023-02-25T08:55:22.387Z"
   },
   {
    "duration": 270,
    "start_time": "2023-02-25T08:55:22.395Z"
   },
   {
    "duration": 228,
    "start_time": "2023-02-25T08:55:22.668Z"
   },
   {
    "duration": 267,
    "start_time": "2023-02-25T08:55:22.898Z"
   },
   {
    "duration": 21,
    "start_time": "2023-02-25T08:55:23.167Z"
   },
   {
    "duration": 104,
    "start_time": "2023-02-25T08:55:23.191Z"
   },
   {
    "duration": 152,
    "start_time": "2023-02-25T08:55:23.306Z"
   },
   {
    "duration": 26,
    "start_time": "2023-02-25T08:55:23.473Z"
   },
   {
    "duration": 15,
    "start_time": "2023-02-25T08:55:23.500Z"
   },
   {
    "duration": 60,
    "start_time": "2023-02-25T08:55:23.517Z"
   },
   {
    "duration": 54,
    "start_time": "2023-02-25T08:55:23.585Z"
   },
   {
    "duration": 54,
    "start_time": "2023-02-25T08:55:23.642Z"
   },
   {
    "duration": 8,
    "start_time": "2023-02-25T08:55:23.697Z"
   },
   {
    "duration": 81,
    "start_time": "2023-02-25T08:55:23.707Z"
   },
   {
    "duration": 97,
    "start_time": "2023-02-25T08:55:23.789Z"
   },
   {
    "duration": 9,
    "start_time": "2023-02-25T08:55:23.889Z"
   },
   {
    "duration": 2573,
    "start_time": "2023-02-25T08:55:32.333Z"
   },
   {
    "duration": 787,
    "start_time": "2023-02-25T08:58:49.480Z"
   },
   {
    "duration": 733,
    "start_time": "2023-02-25T08:59:15.382Z"
   },
   {
    "duration": 607,
    "start_time": "2023-02-25T08:59:23.701Z"
   },
   {
    "duration": 713,
    "start_time": "2023-02-25T08:59:38.149Z"
   },
   {
    "duration": 544,
    "start_time": "2023-02-25T08:59:58.359Z"
   },
   {
    "duration": 362,
    "start_time": "2023-02-25T09:00:16.586Z"
   },
   {
    "duration": 737,
    "start_time": "2023-02-25T09:10:03.528Z"
   },
   {
    "duration": 523,
    "start_time": "2023-02-25T09:11:27.079Z"
   },
   {
    "duration": 155,
    "start_time": "2023-02-25T09:17:19.335Z"
   },
   {
    "duration": 14,
    "start_time": "2023-02-25T09:17:19.492Z"
   },
   {
    "duration": 2239,
    "start_time": "2023-02-25T09:17:19.524Z"
   },
   {
    "duration": 279,
    "start_time": "2023-02-25T09:17:21.764Z"
   },
   {
    "duration": 177,
    "start_time": "2023-02-25T09:17:22.060Z"
   },
   {
    "duration": 213,
    "start_time": "2023-02-25T09:17:22.238Z"
   },
   {
    "duration": 8,
    "start_time": "2023-02-25T09:17:22.452Z"
   },
   {
    "duration": 317,
    "start_time": "2023-02-25T09:17:22.467Z"
   },
   {
    "duration": 216,
    "start_time": "2023-02-25T09:17:22.786Z"
   },
   {
    "duration": 260,
    "start_time": "2023-02-25T09:17:23.020Z"
   },
   {
    "duration": 53,
    "start_time": "2023-02-25T09:17:23.282Z"
   },
   {
    "duration": 63,
    "start_time": "2023-02-25T09:17:23.336Z"
   },
   {
    "duration": 89,
    "start_time": "2023-02-25T09:17:23.401Z"
   },
   {
    "duration": 13,
    "start_time": "2023-02-25T09:17:23.493Z"
   },
   {
    "duration": 38,
    "start_time": "2023-02-25T09:17:23.507Z"
   },
   {
    "duration": 34,
    "start_time": "2023-02-25T09:17:23.546Z"
   },
   {
    "duration": 23,
    "start_time": "2023-02-25T09:17:23.581Z"
   },
   {
    "duration": 41,
    "start_time": "2023-02-25T09:17:23.606Z"
   },
   {
    "duration": 30,
    "start_time": "2023-02-25T09:17:23.659Z"
   },
   {
    "duration": 17,
    "start_time": "2023-02-25T09:17:23.691Z"
   },
   {
    "duration": 160,
    "start_time": "2023-02-25T09:17:23.709Z"
   },
   {
    "duration": 8,
    "start_time": "2023-02-25T09:17:23.872Z"
   },
   {
    "duration": 2230,
    "start_time": "2023-02-25T09:17:23.881Z"
   },
   {
    "duration": 523,
    "start_time": "2023-02-25T09:17:26.112Z"
   },
   {
    "duration": 946,
    "start_time": "2023-02-25T09:17:26.636Z"
   },
   {
    "duration": 684,
    "start_time": "2023-02-25T09:17:27.584Z"
   },
   {
    "duration": 517,
    "start_time": "2023-02-25T09:17:28.270Z"
   },
   {
    "duration": 491,
    "start_time": "2023-02-25T09:17:28.788Z"
   },
   {
    "duration": 214,
    "start_time": "2023-02-25T09:17:29.281Z"
   },
   {
    "duration": 454,
    "start_time": "2023-02-25T09:17:29.497Z"
   },
   {
    "duration": 45,
    "start_time": "2023-02-25T09:32:41.452Z"
   },
   {
    "duration": 73,
    "start_time": "2023-02-25T09:33:04.078Z"
   },
   {
    "duration": 131,
    "start_time": "2023-02-25T09:33:09.952Z"
   },
   {
    "duration": 14,
    "start_time": "2023-02-25T09:33:10.085Z"
   },
   {
    "duration": 2242,
    "start_time": "2023-02-25T09:33:10.100Z"
   },
   {
    "duration": 75,
    "start_time": "2023-02-25T09:33:12.348Z"
   },
   {
    "duration": 167,
    "start_time": "2023-02-25T09:33:12.426Z"
   },
   {
    "duration": 273,
    "start_time": "2023-02-25T09:33:12.595Z"
   },
   {
    "duration": 5,
    "start_time": "2023-02-25T09:33:12.870Z"
   },
   {
    "duration": 302,
    "start_time": "2023-02-25T09:33:12.877Z"
   },
   {
    "duration": 291,
    "start_time": "2023-02-25T09:33:13.181Z"
   },
   {
    "duration": 382,
    "start_time": "2023-02-25T09:33:13.473Z"
   },
   {
    "duration": 8,
    "start_time": "2023-02-25T09:33:13.864Z"
   },
   {
    "duration": 12,
    "start_time": "2023-02-25T09:33:13.874Z"
   },
   {
    "duration": 80,
    "start_time": "2023-02-25T09:33:13.888Z"
   },
   {
    "duration": 13,
    "start_time": "2023-02-25T09:33:13.970Z"
   },
   {
    "duration": 11,
    "start_time": "2023-02-25T09:33:13.985Z"
   },
   {
    "duration": 39,
    "start_time": "2023-02-25T09:33:13.998Z"
   },
   {
    "duration": 56,
    "start_time": "2023-02-25T09:33:14.040Z"
   },
   {
    "duration": 7,
    "start_time": "2023-02-25T09:33:14.098Z"
   },
   {
    "duration": 60,
    "start_time": "2023-02-25T09:33:14.107Z"
   },
   {
    "duration": 14,
    "start_time": "2023-02-25T09:33:14.169Z"
   },
   {
    "duration": 137,
    "start_time": "2023-02-25T09:33:14.186Z"
   },
   {
    "duration": 9,
    "start_time": "2023-02-25T09:33:14.325Z"
   },
   {
    "duration": 2244,
    "start_time": "2023-02-25T09:33:14.336Z"
   },
   {
    "duration": 605,
    "start_time": "2023-02-25T09:33:16.581Z"
   },
   {
    "duration": 739,
    "start_time": "2023-02-25T09:33:17.188Z"
   },
   {
    "duration": 597,
    "start_time": "2023-02-25T09:33:17.940Z"
   },
   {
    "duration": 445,
    "start_time": "2023-02-25T09:33:18.548Z"
   },
   {
    "duration": 491,
    "start_time": "2023-02-25T09:33:18.995Z"
   },
   {
    "duration": 404,
    "start_time": "2023-02-25T09:33:19.487Z"
   },
   {
    "duration": 364,
    "start_time": "2023-02-25T09:33:19.893Z"
   },
   {
    "duration": 58,
    "start_time": "2023-02-25T09:33:28.141Z"
   },
   {
    "duration": 53,
    "start_time": "2023-02-25T09:33:46.741Z"
   },
   {
    "duration": 113,
    "start_time": "2023-02-25T09:33:55.681Z"
   },
   {
    "duration": 55,
    "start_time": "2023-02-25T09:34:09.562Z"
   },
   {
    "duration": 161,
    "start_time": "2023-02-25T09:35:00.404Z"
   },
   {
    "duration": 16,
    "start_time": "2023-02-25T09:35:00.567Z"
   },
   {
    "duration": 2262,
    "start_time": "2023-02-25T09:35:00.585Z"
   },
   {
    "duration": 287,
    "start_time": "2023-02-25T09:35:02.853Z"
   },
   {
    "duration": 221,
    "start_time": "2023-02-25T09:35:03.141Z"
   },
   {
    "duration": 184,
    "start_time": "2023-02-25T09:35:03.367Z"
   },
   {
    "duration": 6,
    "start_time": "2023-02-25T09:35:03.555Z"
   },
   {
    "duration": 294,
    "start_time": "2023-02-25T09:35:03.563Z"
   },
   {
    "duration": 193,
    "start_time": "2023-02-25T09:35:03.859Z"
   },
   {
    "duration": 192,
    "start_time": "2023-02-25T09:35:04.055Z"
   },
   {
    "duration": 11,
    "start_time": "2023-02-25T09:35:04.249Z"
   },
   {
    "duration": 14,
    "start_time": "2023-02-25T09:35:04.262Z"
   },
   {
    "duration": 68,
    "start_time": "2023-02-25T09:35:04.278Z"
   },
   {
    "duration": 15,
    "start_time": "2023-02-25T09:35:04.348Z"
   },
   {
    "duration": 14,
    "start_time": "2023-02-25T09:35:04.364Z"
   },
   {
    "duration": 42,
    "start_time": "2023-02-25T09:35:04.380Z"
   },
   {
    "duration": 32,
    "start_time": "2023-02-25T09:35:04.437Z"
   },
   {
    "duration": 22,
    "start_time": "2023-02-25T09:35:04.472Z"
   },
   {
    "duration": 12,
    "start_time": "2023-02-25T09:35:04.497Z"
   },
   {
    "duration": 49,
    "start_time": "2023-02-25T09:35:04.517Z"
   },
   {
    "duration": 85,
    "start_time": "2023-02-25T09:35:04.568Z"
   },
   {
    "duration": 10,
    "start_time": "2023-02-25T09:35:04.654Z"
   },
   {
    "duration": 2142,
    "start_time": "2023-02-25T09:35:04.666Z"
   },
   {
    "duration": 647,
    "start_time": "2023-02-25T09:35:06.832Z"
   },
   {
    "duration": 670,
    "start_time": "2023-02-25T09:35:07.481Z"
   },
   {
    "duration": 567,
    "start_time": "2023-02-25T09:35:08.156Z"
   },
   {
    "duration": 464,
    "start_time": "2023-02-25T09:35:08.724Z"
   },
   {
    "duration": 700,
    "start_time": "2023-02-25T09:35:09.192Z"
   },
   {
    "duration": 189,
    "start_time": "2023-02-25T09:35:09.893Z"
   },
   {
    "duration": 460,
    "start_time": "2023-02-25T09:35:10.083Z"
   },
   {
    "duration": 83,
    "start_time": "2023-02-25T09:35:19.502Z"
   },
   {
    "duration": 277,
    "start_time": "2023-02-25T09:35:43.904Z"
   },
   {
    "duration": 328,
    "start_time": "2023-02-25T09:35:52.787Z"
   },
   {
    "duration": 398,
    "start_time": "2023-02-25T09:36:25.474Z"
   },
   {
    "duration": 425,
    "start_time": "2023-02-25T09:36:52.998Z"
   },
   {
    "duration": 388,
    "start_time": "2023-02-25T09:37:13.294Z"
   },
   {
    "duration": 453,
    "start_time": "2023-02-25T09:41:59.602Z"
   },
   {
    "duration": 329,
    "start_time": "2023-02-25T09:42:02.836Z"
   },
   {
    "duration": 305,
    "start_time": "2023-02-25T09:42:46.077Z"
   },
   {
    "duration": 275,
    "start_time": "2023-02-25T09:43:14.197Z"
   },
   {
    "duration": 146,
    "start_time": "2023-02-25T09:43:45.846Z"
   },
   {
    "duration": 220,
    "start_time": "2023-02-25T09:44:23.655Z"
   },
   {
    "duration": 141,
    "start_time": "2023-02-25T09:45:12.529Z"
   },
   {
    "duration": 176,
    "start_time": "2023-02-25T09:45:45.337Z"
   },
   {
    "duration": 210,
    "start_time": "2023-02-25T09:46:11.975Z"
   },
   {
    "duration": 520,
    "start_time": "2023-02-25T09:46:59.274Z"
   },
   {
    "duration": 247,
    "start_time": "2023-02-25T09:47:34.404Z"
   },
   {
    "duration": 206,
    "start_time": "2023-02-25T09:48:15.173Z"
   },
   {
    "duration": 239,
    "start_time": "2023-02-25T09:48:18.076Z"
   },
   {
    "duration": 1557,
    "start_time": "2023-02-25T09:54:23.537Z"
   },
   {
    "duration": 1707,
    "start_time": "2023-02-25T09:54:54.268Z"
   },
   {
    "duration": 1163,
    "start_time": "2023-02-25T09:55:29.880Z"
   },
   {
    "duration": 350,
    "start_time": "2023-02-25T10:41:13.638Z"
   },
   {
    "duration": 253,
    "start_time": "2023-02-25T10:41:18.478Z"
   },
   {
    "duration": 335,
    "start_time": "2023-02-25T10:41:21.816Z"
   },
   {
    "duration": 220,
    "start_time": "2023-02-25T10:41:23.682Z"
   },
   {
    "duration": 298,
    "start_time": "2023-02-25T10:41:28.193Z"
   },
   {
    "duration": 267,
    "start_time": "2023-02-25T10:41:29.669Z"
   },
   {
    "duration": 211,
    "start_time": "2023-02-25T10:41:31.389Z"
   },
   {
    "duration": 209,
    "start_time": "2023-02-25T10:41:33.444Z"
   },
   {
    "duration": 298,
    "start_time": "2023-02-25T10:41:38.430Z"
   },
   {
    "duration": 260,
    "start_time": "2023-02-25T10:41:40.140Z"
   },
   {
    "duration": 198,
    "start_time": "2023-02-25T10:41:42.563Z"
   },
   {
    "duration": 219,
    "start_time": "2023-02-25T10:41:44.385Z"
   },
   {
    "duration": 240,
    "start_time": "2023-02-25T10:41:56.373Z"
   },
   {
    "duration": 190,
    "start_time": "2023-02-25T10:41:59.776Z"
   },
   {
    "duration": 231,
    "start_time": "2023-02-25T10:42:05.100Z"
   },
   {
    "duration": 261,
    "start_time": "2023-02-25T10:42:07.243Z"
   },
   {
    "duration": 246,
    "start_time": "2023-02-25T10:42:20.701Z"
   },
   {
    "duration": 205,
    "start_time": "2023-02-25T10:42:24.094Z"
   },
   {
    "duration": 205,
    "start_time": "2023-02-25T10:42:31.662Z"
   },
   {
    "duration": 196,
    "start_time": "2023-02-25T10:42:33.267Z"
   },
   {
    "duration": 199,
    "start_time": "2023-02-25T10:42:39.167Z"
   },
   {
    "duration": 230,
    "start_time": "2023-02-25T10:42:40.795Z"
   },
   {
    "duration": 403,
    "start_time": "2023-02-25T10:51:45.696Z"
   },
   {
    "duration": 165,
    "start_time": "2023-02-25T10:55:47.092Z"
   },
   {
    "duration": 35,
    "start_time": "2023-02-25T11:01:56.239Z"
   },
   {
    "duration": 413,
    "start_time": "2023-02-25T11:04:41.564Z"
   },
   {
    "duration": 437,
    "start_time": "2023-02-25T11:05:15.186Z"
   },
   {
    "duration": 8,
    "start_time": "2023-02-25T11:06:55.769Z"
   },
   {
    "duration": 135,
    "start_time": "2023-02-25T11:13:31.761Z"
   },
   {
    "duration": 21,
    "start_time": "2023-02-25T11:13:31.897Z"
   },
   {
    "duration": 2416,
    "start_time": "2023-02-25T11:13:31.920Z"
   },
   {
    "duration": 91,
    "start_time": "2023-02-25T11:13:34.338Z"
   },
   {
    "duration": 196,
    "start_time": "2023-02-25T11:13:34.430Z"
   },
   {
    "duration": 172,
    "start_time": "2023-02-25T11:13:34.627Z"
   },
   {
    "duration": 5,
    "start_time": "2023-02-25T11:13:34.800Z"
   },
   {
    "duration": 595,
    "start_time": "2023-02-25T11:13:34.807Z"
   },
   {
    "duration": 217,
    "start_time": "2023-02-25T11:13:35.404Z"
   },
   {
    "duration": 178,
    "start_time": "2023-02-25T11:13:35.624Z"
   },
   {
    "duration": 14,
    "start_time": "2023-02-25T11:13:35.804Z"
   },
   {
    "duration": 47,
    "start_time": "2023-02-25T11:13:35.819Z"
   },
   {
    "duration": 71,
    "start_time": "2023-02-25T11:13:35.868Z"
   },
   {
    "duration": 23,
    "start_time": "2023-02-25T11:13:35.940Z"
   },
   {
    "duration": 13,
    "start_time": "2023-02-25T11:13:35.964Z"
   },
   {
    "duration": 13,
    "start_time": "2023-02-25T11:13:35.979Z"
   },
   {
    "duration": 50,
    "start_time": "2023-02-25T11:13:35.994Z"
   },
   {
    "duration": 28,
    "start_time": "2023-02-25T11:13:36.046Z"
   },
   {
    "duration": 8,
    "start_time": "2023-02-25T11:13:36.075Z"
   },
   {
    "duration": 36,
    "start_time": "2023-02-25T11:13:36.084Z"
   },
   {
    "duration": 121,
    "start_time": "2023-02-25T11:13:36.122Z"
   },
   {
    "duration": 20,
    "start_time": "2023-02-25T11:13:36.245Z"
   },
   {
    "duration": 2463,
    "start_time": "2023-02-25T11:13:36.267Z"
   },
   {
    "duration": 565,
    "start_time": "2023-02-25T11:13:38.732Z"
   },
   {
    "duration": 680,
    "start_time": "2023-02-25T11:13:39.299Z"
   },
   {
    "duration": 626,
    "start_time": "2023-02-25T11:13:39.981Z"
   },
   {
    "duration": 463,
    "start_time": "2023-02-25T11:13:40.623Z"
   },
   {
    "duration": 513,
    "start_time": "2023-02-25T11:13:41.089Z"
   },
   {
    "duration": 219,
    "start_time": "2023-02-25T11:13:41.604Z"
   },
   {
    "duration": 395,
    "start_time": "2023-02-25T11:13:41.825Z"
   },
   {
    "duration": 448,
    "start_time": "2023-02-25T11:13:42.222Z"
   },
   {
    "duration": 292,
    "start_time": "2023-02-25T11:13:42.671Z"
   },
   {
    "duration": 601,
    "start_time": "2023-02-25T11:13:42.967Z"
   },
   {
    "duration": 322,
    "start_time": "2023-02-25T11:13:43.570Z"
   },
   {
    "duration": 275,
    "start_time": "2023-02-25T11:13:43.894Z"
   },
   {
    "duration": 144,
    "start_time": "2023-02-25T11:13:44.170Z"
   },
   {
    "duration": 133,
    "start_time": "2023-02-25T11:13:44.316Z"
   },
   {
    "duration": 152,
    "start_time": "2023-02-25T11:13:44.451Z"
   },
   {
    "duration": 195,
    "start_time": "2023-02-25T11:13:44.605Z"
   },
   {
    "duration": 186,
    "start_time": "2023-02-25T11:13:44.802Z"
   },
   {
    "duration": 217,
    "start_time": "2023-02-25T11:13:44.990Z"
   },
   {
    "duration": 260,
    "start_time": "2023-02-25T11:13:45.209Z"
   },
   {
    "duration": 192,
    "start_time": "2023-02-25T11:13:45.471Z"
   },
   {
    "duration": 140,
    "start_time": "2023-02-25T11:13:45.665Z"
   },
   {
    "duration": 902,
    "start_time": "2023-02-25T11:13:45.807Z"
   },
   {
    "duration": 304,
    "start_time": "2023-02-25T11:13:46.724Z"
   },
   {
    "duration": 240,
    "start_time": "2023-02-25T11:13:47.030Z"
   },
   {
    "duration": 218,
    "start_time": "2023-02-25T11:13:47.271Z"
   },
   {
    "duration": 181,
    "start_time": "2023-02-25T11:13:47.490Z"
   },
   {
    "duration": 235,
    "start_time": "2023-02-25T11:13:47.672Z"
   },
   {
    "duration": 246,
    "start_time": "2023-02-25T11:13:47.909Z"
   },
   {
    "duration": 188,
    "start_time": "2023-02-25T11:13:48.157Z"
   },
   {
    "duration": 184,
    "start_time": "2023-02-25T11:13:48.347Z"
   },
   {
    "duration": 253,
    "start_time": "2023-02-25T11:13:48.532Z"
   },
   {
    "duration": 219,
    "start_time": "2023-02-25T11:13:48.789Z"
   },
   {
    "duration": 176,
    "start_time": "2023-02-25T11:13:49.009Z"
   },
   {
    "duration": 209,
    "start_time": "2023-02-25T11:13:49.187Z"
   },
   {
    "duration": 182,
    "start_time": "2023-02-25T11:13:49.398Z"
   },
   {
    "duration": 209,
    "start_time": "2023-02-25T11:13:49.581Z"
   },
   {
    "duration": 180,
    "start_time": "2023-02-25T11:13:49.791Z"
   },
   {
    "duration": 190,
    "start_time": "2023-02-25T11:13:49.973Z"
   },
   {
    "duration": 515,
    "start_time": "2023-02-25T11:13:50.165Z"
   },
   {
    "duration": 188,
    "start_time": "2023-02-25T11:13:50.681Z"
   },
   {
    "duration": 179,
    "start_time": "2023-02-25T11:13:50.871Z"
   },
   {
    "duration": 154,
    "start_time": "2023-02-25T11:13:51.051Z"
   },
   {
    "duration": 190,
    "start_time": "2023-02-25T11:13:51.206Z"
   },
   {
    "duration": 183,
    "start_time": "2023-02-25T11:13:51.398Z"
   },
   {
    "duration": 185,
    "start_time": "2023-02-25T11:13:51.582Z"
   },
   {
    "duration": 30,
    "start_time": "2023-02-25T11:13:51.771Z"
   },
   {
    "duration": 461,
    "start_time": "2023-02-25T11:13:51.803Z"
   },
   {
    "duration": 8,
    "start_time": "2023-02-25T11:13:52.266Z"
   },
   {
    "duration": 749,
    "start_time": "2023-02-25T13:30:59.271Z"
   },
   {
    "duration": 13,
    "start_time": "2023-02-25T13:31:00.022Z"
   },
   {
    "duration": 2078,
    "start_time": "2023-02-25T13:31:00.037Z"
   },
   {
    "duration": 93,
    "start_time": "2023-02-25T13:31:02.117Z"
   },
   {
    "duration": 156,
    "start_time": "2023-02-25T13:31:02.212Z"
   },
   {
    "duration": 150,
    "start_time": "2023-02-25T13:31:02.369Z"
   },
   {
    "duration": 5,
    "start_time": "2023-02-25T13:31:02.521Z"
   },
   {
    "duration": 251,
    "start_time": "2023-02-25T13:31:02.527Z"
   },
   {
    "duration": 272,
    "start_time": "2023-02-25T13:31:02.780Z"
   },
   {
    "duration": 175,
    "start_time": "2023-02-25T13:31:03.054Z"
   },
   {
    "duration": 7,
    "start_time": "2023-02-25T13:31:03.231Z"
   },
   {
    "duration": 8,
    "start_time": "2023-02-25T13:31:03.240Z"
   },
   {
    "duration": 82,
    "start_time": "2023-02-25T13:31:03.250Z"
   },
   {
    "duration": 12,
    "start_time": "2023-02-25T13:31:03.334Z"
   },
   {
    "duration": 11,
    "start_time": "2023-02-25T13:31:03.347Z"
   },
   {
    "duration": 19,
    "start_time": "2023-02-25T13:31:03.359Z"
   },
   {
    "duration": 36,
    "start_time": "2023-02-25T13:31:03.379Z"
   },
   {
    "duration": 7,
    "start_time": "2023-02-25T13:31:03.416Z"
   },
   {
    "duration": 7,
    "start_time": "2023-02-25T13:31:03.424Z"
   },
   {
    "duration": 10,
    "start_time": "2023-02-25T13:31:03.432Z"
   },
   {
    "duration": 74,
    "start_time": "2023-02-25T13:31:03.443Z"
   },
   {
    "duration": 7,
    "start_time": "2023-02-25T13:31:03.520Z"
   },
   {
    "duration": 1882,
    "start_time": "2023-02-25T13:31:03.529Z"
   },
   {
    "duration": 465,
    "start_time": "2023-02-25T13:31:05.412Z"
   },
   {
    "duration": 681,
    "start_time": "2023-02-25T13:31:05.879Z"
   },
   {
    "duration": 597,
    "start_time": "2023-02-25T13:31:06.561Z"
   },
   {
    "duration": 449,
    "start_time": "2023-02-25T13:31:07.159Z"
   },
   {
    "duration": 503,
    "start_time": "2023-02-25T13:31:07.613Z"
   },
   {
    "duration": 167,
    "start_time": "2023-02-25T13:31:08.117Z"
   },
   {
    "duration": 316,
    "start_time": "2023-02-25T13:31:08.286Z"
   },
   {
    "duration": 368,
    "start_time": "2023-02-25T13:31:08.604Z"
   },
   {
    "duration": 310,
    "start_time": "2023-02-25T13:31:08.974Z"
   },
   {
    "duration": 227,
    "start_time": "2023-02-25T13:31:09.285Z"
   },
   {
    "duration": 269,
    "start_time": "2023-02-25T13:31:09.514Z"
   },
   {
    "duration": 207,
    "start_time": "2023-02-25T13:31:09.785Z"
   },
   {
    "duration": 141,
    "start_time": "2023-02-25T13:31:09.993Z"
   },
   {
    "duration": 131,
    "start_time": "2023-02-25T13:31:10.135Z"
   },
   {
    "duration": 136,
    "start_time": "2023-02-25T13:31:10.268Z"
   },
   {
    "duration": 164,
    "start_time": "2023-02-25T13:31:10.406Z"
   },
   {
    "duration": 240,
    "start_time": "2023-02-25T13:31:10.571Z"
   },
   {
    "duration": 162,
    "start_time": "2023-02-25T13:31:10.813Z"
   },
   {
    "duration": 207,
    "start_time": "2023-02-25T13:31:10.977Z"
   },
   {
    "duration": 147,
    "start_time": "2023-02-25T13:31:11.186Z"
   },
   {
    "duration": 142,
    "start_time": "2023-02-25T13:31:11.335Z"
   },
   {
    "duration": 830,
    "start_time": "2023-02-25T13:31:11.479Z"
   },
   {
    "duration": 213,
    "start_time": "2023-02-25T13:31:12.310Z"
   },
   {
    "duration": 188,
    "start_time": "2023-02-25T13:31:12.524Z"
   },
   {
    "duration": 179,
    "start_time": "2023-02-25T13:31:12.714Z"
   },
   {
    "duration": 162,
    "start_time": "2023-02-25T13:31:12.895Z"
   },
   {
    "duration": 224,
    "start_time": "2023-02-25T13:31:13.059Z"
   },
   {
    "duration": 189,
    "start_time": "2023-02-25T13:31:13.284Z"
   },
   {
    "duration": 160,
    "start_time": "2023-02-25T13:31:13.474Z"
   },
   {
    "duration": 162,
    "start_time": "2023-02-25T13:31:13.635Z"
   },
   {
    "duration": 200,
    "start_time": "2023-02-25T13:31:13.803Z"
   },
   {
    "duration": 182,
    "start_time": "2023-02-25T13:31:14.005Z"
   },
   {
    "duration": 158,
    "start_time": "2023-02-25T13:31:14.188Z"
   },
   {
    "duration": 159,
    "start_time": "2023-02-25T13:31:14.348Z"
   },
   {
    "duration": 162,
    "start_time": "2023-02-25T13:31:14.508Z"
   },
   {
    "duration": 235,
    "start_time": "2023-02-25T13:31:14.672Z"
   },
   {
    "duration": 149,
    "start_time": "2023-02-25T13:31:14.909Z"
   },
   {
    "duration": 164,
    "start_time": "2023-02-25T13:31:15.060Z"
   },
   {
    "duration": 183,
    "start_time": "2023-02-25T13:31:15.226Z"
   },
   {
    "duration": 193,
    "start_time": "2023-02-25T13:31:15.411Z"
   },
   {
    "duration": 174,
    "start_time": "2023-02-25T13:31:15.605Z"
   },
   {
    "duration": 159,
    "start_time": "2023-02-25T13:31:15.780Z"
   },
   {
    "duration": 152,
    "start_time": "2023-02-25T13:31:15.941Z"
   },
   {
    "duration": 166,
    "start_time": "2023-02-25T13:31:16.095Z"
   },
   {
    "duration": 151,
    "start_time": "2023-02-25T13:31:16.263Z"
   },
   {
    "duration": 31,
    "start_time": "2023-02-25T13:31:16.416Z"
   },
   {
    "duration": 444,
    "start_time": "2023-02-25T13:31:16.448Z"
   },
   {
    "duration": 12,
    "start_time": "2023-02-25T13:31:16.894Z"
   }
  ],
  "kernelspec": {
   "display_name": "Python 3 (ipykernel)",
   "language": "python",
   "name": "python3"
  },
  "language_info": {
   "codemirror_mode": {
    "name": "ipython",
    "version": 3
   },
   "file_extension": ".py",
   "mimetype": "text/x-python",
   "name": "python",
   "nbconvert_exporter": "python",
   "pygments_lexer": "ipython3",
   "version": "3.9.15"
  },
  "toc": {
   "base_numbering": 1,
   "nav_menu": {
    "height": "226px",
    "width": "212px"
   },
   "number_sections": true,
   "sideBar": true,
   "skip_h1_title": true,
   "title_cell": "Table of Contents",
   "title_sidebar": "Contents",
   "toc_cell": false,
   "toc_position": {
    "height": "calc(100% - 180px)",
    "left": "10px",
    "top": "150px",
    "width": "282.1875px"
   },
   "toc_section_display": true,
   "toc_window_display": true
  }
 },
 "nbformat": 4,
 "nbformat_minor": 2
}
