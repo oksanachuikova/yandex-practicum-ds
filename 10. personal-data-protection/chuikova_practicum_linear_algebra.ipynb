{
 "cells": [
  {
   "cell_type": "markdown",
   "metadata": {},
   "source": [
    "# Защита персональных данных клиентов"
   ]
  },
  {
   "cell_type": "markdown",
   "metadata": {
    "toc": true
   },
   "source": [
    "<h1>Содержание<span class=\"tocSkip\"></span></h1>\n",
    "<div class=\"toc\"><ul class=\"toc-item\"><li><span><a href=\"#Загрузка-данных\" data-toc-modified-id=\"Загрузка-данных-1\"><span class=\"toc-item-num\">1&nbsp;&nbsp;</span>Загрузка данных</a></span></li><li><span><a href=\"#Умножение-матриц\" data-toc-modified-id=\"Умножение-матриц-2\"><span class=\"toc-item-num\">2&nbsp;&nbsp;</span>Умножение матриц</a></span></li><li><span><a href=\"#Алгоритм-преобразования\" data-toc-modified-id=\"Алгоритм-преобразования-3\"><span class=\"toc-item-num\">3&nbsp;&nbsp;</span>Алгоритм преобразования</a></span></li><li><span><a href=\"#Проверка-алгоритма\" data-toc-modified-id=\"Проверка-алгоритма-4\"><span class=\"toc-item-num\">4&nbsp;&nbsp;</span>Проверка алгоритма</a></span></li><li><span><a href=\"#Итоги\" data-toc-modified-id=\"Итоги-5\"><span class=\"toc-item-num\">5&nbsp;&nbsp;</span>Итоги</a></span></li></ul></div>"
   ]
  },
  {
   "cell_type": "markdown",
   "metadata": {},
   "source": [
    "Вам нужно защитить данные клиентов страховой компании «Хоть потоп». Разработайте такой метод преобразования данных, чтобы по ним было сложно восстановить персональную информацию. Обоснуйте корректность его работы.\n",
    "\n",
    "Нужно защитить данные, чтобы при преобразовании качество моделей машинного обучения не ухудшилось. Подбирать наилучшую модель не требуется.\n",
    "\n",
    "\n",
    "**Описание данных**\n",
    "\n",
    "Набор данных находится в файле `/datasets/insurance.csv`.\n",
    "* **Признаки**: пол, возраст и зарплата застрахованного, количество членов его семьи.\n",
    "* **Целевой признак**: количество страховых выплат клиенту за последние 5 лет.\n",
    "\n",
    "\n",
    "**Этапы работы:**\n",
    "* загрузка и обзор данных;\n",
    "* ответ на вопрос и обоснование решения: \"Признаки умножают на обратимую матрицу. Изменится ли качество линейной регрессии?\";\n",
    "* разработка алгоритма преобразования данных для решения задачи и обоснование, почему качество линейной регрессии не поменяется;\n",
    "* проверка работы алгоритма.\n"
   ]
  },
  {
   "cell_type": "markdown",
   "metadata": {},
   "source": [
    "## Загрузка данных"
   ]
  },
  {
   "cell_type": "markdown",
   "metadata": {},
   "source": [
    "Импортируем библиотеки и модули, которые потребуются для выполнения проекта."
   ]
  },
  {
   "cell_type": "code",
   "execution_count": 1,
   "metadata": {},
   "outputs": [],
   "source": [
    "import pandas as pd\n",
    "import numpy as np\n",
    "import matplotlib.pyplot as plt\n",
    "\n",
    "from sklearn.metrics import r2_score\n",
    "from sklearn.model_selection import train_test_split\n",
    "from sklearn.linear_model import LinearRegression\n",
    "from sklearn.preprocessing import StandardScaler\n",
    "\n",
    "import warnings\n",
    "warnings.filterwarnings(\"ignore\")"
   ]
  },
  {
   "cell_type": "markdown",
   "metadata": {},
   "source": [
    "Загрузим и изучим данные."
   ]
  },
  {
   "cell_type": "code",
   "execution_count": 2,
   "metadata": {},
   "outputs": [],
   "source": [
    "try:\n",
    "    data = pd.read_csv('datasets/insurance.csv')\n",
    "except:\n",
    "    data = pd.read_csv('https://code.s3.yandex.net/datasets/insurance.csv')"
   ]
  },
  {
   "cell_type": "code",
   "execution_count": 3,
   "metadata": {
    "scrolled": true
   },
   "outputs": [
    {
     "data": {
      "text/html": [
       "<div>\n",
       "<style scoped>\n",
       "    .dataframe tbody tr th:only-of-type {\n",
       "        vertical-align: middle;\n",
       "    }\n",
       "\n",
       "    .dataframe tbody tr th {\n",
       "        vertical-align: top;\n",
       "    }\n",
       "\n",
       "    .dataframe thead th {\n",
       "        text-align: right;\n",
       "    }\n",
       "</style>\n",
       "<table border=\"1\" class=\"dataframe\">\n",
       "  <thead>\n",
       "    <tr style=\"text-align: right;\">\n",
       "      <th></th>\n",
       "      <th>Пол</th>\n",
       "      <th>Возраст</th>\n",
       "      <th>Зарплата</th>\n",
       "      <th>Члены семьи</th>\n",
       "      <th>Страховые выплаты</th>\n",
       "    </tr>\n",
       "  </thead>\n",
       "  <tbody>\n",
       "    <tr>\n",
       "      <th>0</th>\n",
       "      <td>1</td>\n",
       "      <td>41.0</td>\n",
       "      <td>49600.0</td>\n",
       "      <td>1</td>\n",
       "      <td>0</td>\n",
       "    </tr>\n",
       "    <tr>\n",
       "      <th>1</th>\n",
       "      <td>0</td>\n",
       "      <td>46.0</td>\n",
       "      <td>38000.0</td>\n",
       "      <td>1</td>\n",
       "      <td>1</td>\n",
       "    </tr>\n",
       "    <tr>\n",
       "      <th>2</th>\n",
       "      <td>0</td>\n",
       "      <td>29.0</td>\n",
       "      <td>21000.0</td>\n",
       "      <td>0</td>\n",
       "      <td>0</td>\n",
       "    </tr>\n",
       "    <tr>\n",
       "      <th>3</th>\n",
       "      <td>0</td>\n",
       "      <td>21.0</td>\n",
       "      <td>41700.0</td>\n",
       "      <td>2</td>\n",
       "      <td>0</td>\n",
       "    </tr>\n",
       "    <tr>\n",
       "      <th>4</th>\n",
       "      <td>1</td>\n",
       "      <td>28.0</td>\n",
       "      <td>26100.0</td>\n",
       "      <td>0</td>\n",
       "      <td>0</td>\n",
       "    </tr>\n",
       "  </tbody>\n",
       "</table>\n",
       "</div>"
      ],
      "text/plain": [
       "   Пол  Возраст  Зарплата  Члены семьи  Страховые выплаты\n",
       "0    1     41.0   49600.0            1                  0\n",
       "1    0     46.0   38000.0            1                  1\n",
       "2    0     29.0   21000.0            0                  0\n",
       "3    0     21.0   41700.0            2                  0\n",
       "4    1     28.0   26100.0            0                  0"
      ]
     },
     "execution_count": 3,
     "metadata": {},
     "output_type": "execute_result"
    }
   ],
   "source": [
    "data.head()"
   ]
  },
  {
   "cell_type": "markdown",
   "metadata": {},
   "source": [
    "Выведем на экран информацию о датасете методом `info()`. Как можно видеть, данные во всех столбцах имеют численный формат, пропуски отсутствуют. "
   ]
  },
  {
   "cell_type": "code",
   "execution_count": 4,
   "metadata": {
    "scrolled": false
   },
   "outputs": [
    {
     "name": "stdout",
     "output_type": "stream",
     "text": [
      "<class 'pandas.core.frame.DataFrame'>\n",
      "RangeIndex: 5000 entries, 0 to 4999\n",
      "Data columns (total 5 columns):\n",
      " #   Column             Non-Null Count  Dtype  \n",
      "---  ------             --------------  -----  \n",
      " 0   Пол                5000 non-null   int64  \n",
      " 1   Возраст            5000 non-null   float64\n",
      " 2   Зарплата           5000 non-null   float64\n",
      " 3   Члены семьи        5000 non-null   int64  \n",
      " 4   Страховые выплаты  5000 non-null   int64  \n",
      "dtypes: float64(2), int64(3)\n",
      "memory usage: 195.4 KB\n"
     ]
    }
   ],
   "source": [
    "data.info()"
   ]
  },
  {
   "cell_type": "code",
   "execution_count": 5,
   "metadata": {
    "scrolled": true
   },
   "outputs": [
    {
     "data": {
      "text/plain": [
       "array([41., 46., 29., 21., 28., 43., 39., 25., 36., 32., 38., 23., 40.,\n",
       "       34., 26., 42., 27., 33., 47., 30., 19., 31., 22., 20., 24., 18.,\n",
       "       37., 48., 45., 44., 52., 49., 35., 56., 65., 55., 57., 54., 50.,\n",
       "       53., 51., 58., 59., 60., 61., 62.])"
      ]
     },
     "execution_count": 5,
     "metadata": {},
     "output_type": "execute_result"
    }
   ],
   "source": [
    "data['Возраст'].unique()"
   ]
  },
  {
   "cell_type": "code",
   "execution_count": 6,
   "metadata": {},
   "outputs": [
    {
     "data": {
      "text/plain": [
       "array([49600., 38000., 21000., 41700., 26100., 41000., 39700., 38600.,\n",
       "       49700., 51700., 36600., 29300., 39500., 55000., 43700., 23300.,\n",
       "       48900., 33200., 36900., 43500., 36100., 26600., 48700., 40400.,\n",
       "       38400., 34600., 34800., 36800., 42200., 46300., 30300., 51000.,\n",
       "       28100., 64800., 30400., 45300., 38300., 49500., 19400., 40200.,\n",
       "       31700., 69200., 33100., 31600., 34500., 38700., 39600., 42400.,\n",
       "       34900., 30500., 24200., 49900., 14300., 47000., 44800., 43800.,\n",
       "       42700., 35400., 57200., 29600., 37400., 48100., 33700., 61800.,\n",
       "       39400., 15600., 52600., 37600., 52500., 32700., 51600., 60900.,\n",
       "       41800., 47400., 26500., 45900., 35700., 34300., 26700., 25700.,\n",
       "       33300., 31100., 31500., 42100., 37300., 42500., 27300., 46800.,\n",
       "       33500., 44300., 41600., 53900., 40100., 44600., 45000., 32000.,\n",
       "       38200., 33000., 38500., 51800., 33800., 46400., 43200., 31800.,\n",
       "       50200., 35100., 30700., 45800., 49300., 42800., 33600., 50300.,\n",
       "       34000., 36400., 44900., 43600., 54600., 52800., 29700., 39000.,\n",
       "       44100., 31900., 37700., 35200., 43100., 51300., 47500., 40800.,\n",
       "       26800., 64900., 35900., 31200., 39900., 43300., 33900., 40700.,\n",
       "       44700., 53400., 30600., 56000., 35600., 55200., 40600., 48300.,\n",
       "       50800., 41200., 44200., 44400., 40500., 39800., 16600., 48400.,\n",
       "       25100., 23100., 32100., 31000., 42900., 46700., 26000., 55900.,\n",
       "       52000., 41500., 49400., 60300., 45600., 49000., 37500., 21900.,\n",
       "       45100., 47900., 54300., 32400., 41300., 44500., 23200., 37900.,\n",
       "       48000., 52100., 45700., 29900., 42600., 45200., 36000., 46500.,\n",
       "       23800., 30200., 24400., 32800., 29000., 43400., 51500., 61700.,\n",
       "       45400., 50700., 36200., 41900., 27900., 47200., 48800., 55100.,\n",
       "       48200., 35500., 35000., 43900., 40000., 22000., 40300., 36300.,\n",
       "       49800., 25600., 42300., 54900., 25500., 32900., 36700., 38900.,\n",
       "       24700., 28800., 22900., 47300., 14500., 28700., 44000., 34100.,\n",
       "       53000., 59300., 28500., 47100., 41400., 58900., 17500., 54200.,\n",
       "       43000., 29800., 20000., 13800., 27500., 67700., 28000., 37100.,\n",
       "        8900., 14600., 56200., 38800., 27700., 50500., 58400., 34700.,\n",
       "       34400., 49100., 50900., 28200., 61500., 32500., 25900.,  9800.,\n",
       "       28300., 41100., 62000., 32600., 37200., 53800., 24000., 53600.,\n",
       "       54800., 59600., 20200., 21700., 29200., 38100., 20700., 32300.,\n",
       "       21200., 62100., 54000., 24500., 51900., 47800., 56100., 55300.,\n",
       "       58100., 28900., 39100., 58000., 27200., 24600., 30100., 57100.,\n",
       "       60100., 22200., 47700., 24900., 37800., 52700., 34200., 18700.,\n",
       "       42000., 26300., 22600., 30900., 35800., 30800., 51100., 53300.,\n",
       "       46200., 24100., 54700., 51200., 62300., 51400., 40900., 23400.,\n",
       "       35300., 55800., 33400., 21300., 30000., 56700., 46900.,  5300.,\n",
       "       39200., 57500., 31300., 53700., 21600., 50000., 36500., 16400.,\n",
       "       15900., 65100., 59900., 63200., 26200., 61200., 48500., 32200.,\n",
       "       29100., 50100., 22700., 28600., 23500., 23700., 19600., 17800.,\n",
       "       50600., 57900., 22500., 22100., 58300., 64100., 25000., 60400.,\n",
       "       59100., 37000., 62400., 29500., 25800., 25400., 26900., 21500.,\n",
       "       52200., 46600., 57300., 46100., 19300., 18900., 31400., 28400.,\n",
       "       29400., 17600., 13900., 52400., 11300., 46000., 60500., 58700.,\n",
       "       58200., 24800., 63700., 60600., 20400., 26400., 55600., 57000.,\n",
       "       45500., 48600., 57600., 52900., 62800., 17000., 56500., 52300.,\n",
       "       18400., 63300., 12900., 27000., 55700., 39300., 27800., 18300.,\n",
       "       56300., 59800., 24300., 14400., 13400., 17900., 47600., 54500.,\n",
       "       54400., 23900., 13000., 19900., 55400., 22800., 61000., 57400.,\n",
       "       23000., 20500., 53200., 18100., 25300., 59500., 18200., 50400.,\n",
       "       21100., 20900., 27400., 17300., 60700., 70600., 17700., 19700.,\n",
       "       49200., 63100., 59200., 14700., 53100., 21800., 68000., 16500.,\n",
       "       71400., 10000., 55500., 54100., 56400., 20600., 66300., 18800.,\n",
       "       11000., 66100., 27100., 57800., 53500., 19200., 58500., 64000.,\n",
       "       63600., 23600., 25200., 19100., 18600., 57700., 62700., 56600.,\n",
       "       21400., 58800., 68400., 17100., 13300., 68500., 56900., 64400.,\n",
       "       27600., 67200., 16200., 58600., 62200., 16000., 79000., 22300.,\n",
       "       11200., 71600., 61300., 70500., 67100., 59000., 13500., 16700.,\n",
       "       15700., 60000., 17400., 63400., 61900., 65200., 62600., 14100.,\n",
       "       20100., 63800., 15100., 70000., 60200., 20300., 65900., 15200.,\n",
       "       63500., 13200., 68900., 12200.,  6000., 74800., 59700., 10800.,\n",
       "       19000., 10600., 69400., 15000., 75200., 62500., 16300., 20800.,\n",
       "        7400., 65300., 61400., 56800.])"
      ]
     },
     "execution_count": 6,
     "metadata": {},
     "output_type": "execute_result"
    }
   ],
   "source": [
    "data['Зарплата'].unique()"
   ]
  },
  {
   "cell_type": "markdown",
   "metadata": {},
   "source": [
    "В столбцах `'Возраст'` и `'Зарплата'` отсутствуют дробные значения, поэтому можно заменить тип данных на целочисленный."
   ]
  },
  {
   "cell_type": "code",
   "execution_count": 7,
   "metadata": {},
   "outputs": [],
   "source": [
    "data[['Возраст', 'Зарплата']] = data[['Возраст', 'Зарплата']].astype('int')"
   ]
  },
  {
   "cell_type": "code",
   "execution_count": 8,
   "metadata": {},
   "outputs": [
    {
     "name": "stdout",
     "output_type": "stream",
     "text": [
      "<class 'pandas.core.frame.DataFrame'>\n",
      "RangeIndex: 5000 entries, 0 to 4999\n",
      "Data columns (total 5 columns):\n",
      " #   Column             Non-Null Count  Dtype\n",
      "---  ------             --------------  -----\n",
      " 0   Пол                5000 non-null   int64\n",
      " 1   Возраст            5000 non-null   int64\n",
      " 2   Зарплата           5000 non-null   int64\n",
      " 3   Члены семьи        5000 non-null   int64\n",
      " 4   Страховые выплаты  5000 non-null   int64\n",
      "dtypes: int64(5)\n",
      "memory usage: 195.4 KB\n"
     ]
    }
   ],
   "source": [
    "data.info()"
   ]
  },
  {
   "cell_type": "markdown",
   "metadata": {},
   "source": [
    "Посмотрим на распределение значений, для этого выведем  на экран описательную статистику методом `'describe()'` и построим гистограммы частот (количество корзин возьмем равное количеству лет дееспособного возраста - с 18 до 65 лет). "
   ]
  },
  {
   "cell_type": "code",
   "execution_count": 9,
   "metadata": {},
   "outputs": [
    {
     "data": {
      "text/html": [
       "<div>\n",
       "<style scoped>\n",
       "    .dataframe tbody tr th:only-of-type {\n",
       "        vertical-align: middle;\n",
       "    }\n",
       "\n",
       "    .dataframe tbody tr th {\n",
       "        vertical-align: top;\n",
       "    }\n",
       "\n",
       "    .dataframe thead th {\n",
       "        text-align: right;\n",
       "    }\n",
       "</style>\n",
       "<table border=\"1\" class=\"dataframe\">\n",
       "  <thead>\n",
       "    <tr style=\"text-align: right;\">\n",
       "      <th></th>\n",
       "      <th>Пол</th>\n",
       "      <th>Возраст</th>\n",
       "      <th>Зарплата</th>\n",
       "      <th>Члены семьи</th>\n",
       "      <th>Страховые выплаты</th>\n",
       "    </tr>\n",
       "  </thead>\n",
       "  <tbody>\n",
       "    <tr>\n",
       "      <th>count</th>\n",
       "      <td>5000.000000</td>\n",
       "      <td>5000.000000</td>\n",
       "      <td>5000.000000</td>\n",
       "      <td>5000.000000</td>\n",
       "      <td>5000.000000</td>\n",
       "    </tr>\n",
       "    <tr>\n",
       "      <th>mean</th>\n",
       "      <td>0.499000</td>\n",
       "      <td>30.952800</td>\n",
       "      <td>39916.359400</td>\n",
       "      <td>1.194200</td>\n",
       "      <td>0.148000</td>\n",
       "    </tr>\n",
       "    <tr>\n",
       "      <th>std</th>\n",
       "      <td>0.500049</td>\n",
       "      <td>8.440807</td>\n",
       "      <td>9900.082063</td>\n",
       "      <td>1.091387</td>\n",
       "      <td>0.463183</td>\n",
       "    </tr>\n",
       "    <tr>\n",
       "      <th>min</th>\n",
       "      <td>0.000000</td>\n",
       "      <td>18.000000</td>\n",
       "      <td>5300.000000</td>\n",
       "      <td>0.000000</td>\n",
       "      <td>0.000000</td>\n",
       "    </tr>\n",
       "    <tr>\n",
       "      <th>25%</th>\n",
       "      <td>0.000000</td>\n",
       "      <td>24.000000</td>\n",
       "      <td>33300.000000</td>\n",
       "      <td>0.000000</td>\n",
       "      <td>0.000000</td>\n",
       "    </tr>\n",
       "    <tr>\n",
       "      <th>50%</th>\n",
       "      <td>0.000000</td>\n",
       "      <td>30.000000</td>\n",
       "      <td>40200.000000</td>\n",
       "      <td>1.000000</td>\n",
       "      <td>0.000000</td>\n",
       "    </tr>\n",
       "    <tr>\n",
       "      <th>75%</th>\n",
       "      <td>1.000000</td>\n",
       "      <td>37.000000</td>\n",
       "      <td>46600.000000</td>\n",
       "      <td>2.000000</td>\n",
       "      <td>0.000000</td>\n",
       "    </tr>\n",
       "    <tr>\n",
       "      <th>max</th>\n",
       "      <td>1.000000</td>\n",
       "      <td>65.000000</td>\n",
       "      <td>79000.000000</td>\n",
       "      <td>6.000000</td>\n",
       "      <td>5.000000</td>\n",
       "    </tr>\n",
       "  </tbody>\n",
       "</table>\n",
       "</div>"
      ],
      "text/plain": [
       "               Пол      Возраст      Зарплата  Члены семьи  Страховые выплаты\n",
       "count  5000.000000  5000.000000   5000.000000  5000.000000        5000.000000\n",
       "mean      0.499000    30.952800  39916.359400     1.194200           0.148000\n",
       "std       0.500049     8.440807   9900.082063     1.091387           0.463183\n",
       "min       0.000000    18.000000   5300.000000     0.000000           0.000000\n",
       "25%       0.000000    24.000000  33300.000000     0.000000           0.000000\n",
       "50%       0.000000    30.000000  40200.000000     1.000000           0.000000\n",
       "75%       1.000000    37.000000  46600.000000     2.000000           0.000000\n",
       "max       1.000000    65.000000  79000.000000     6.000000           5.000000"
      ]
     },
     "execution_count": 9,
     "metadata": {},
     "output_type": "execute_result"
    }
   ],
   "source": [
    "data.describe()"
   ]
  },
  {
   "cell_type": "code",
   "execution_count": 10,
   "metadata": {
    "scrolled": true
   },
   "outputs": [
    {
     "data": {
      "image/png": "[encoded data removed]",
      "text/plain": [
       "<Figure size 1080x720 with 6 Axes>"
      ]
     },
     "metadata": {
      "needs_background": "light"
     },
     "output_type": "display_data"
    }
   ],
   "source": [
    "data.hist(figsize=(15,10), bins=48);"
   ]
  },
  {
   "cell_type": "code",
   "execution_count": 11,
   "metadata": {},
   "outputs": [
    {
     "data": {
      "image/png": "[encoded data removed]",
      "text/plain": [
       "<Figure size 432x288 with 1 Axes>"
      ]
     },
     "metadata": {
      "needs_background": "light"
     },
     "output_type": "display_data"
    }
   ],
   "source": [
    "data['Пол'].value_counts().plot(kind='bar', xlabel='Пол', ylabel='Количество клиентов');"
   ]
  },
  {
   "cell_type": "markdown",
   "metadata": {},
   "source": [
    "Распределение данных выглядит нормально. \n",
    "1) В столбце \"Пол\" два значения, распределены примерно в одинаковых долях.\n",
    "2) По распределению в столбце возраст видно, что количество клиентов старше 35 лет постепенно уменьшается.\n",
    "3) Распределение в столбце \"Зарплата\" почти соответствует нормальному. Средняя (и медианная) зарплата составляет около 40 тыс., непосредственно перед этим значением на гистограмме наблюдается сниженное по сравнению с ожидаемым значение, что может объясняться тем, 40 тыс. - психологический порог, ниже которого зарплата воспринимается как низкая, поэтому зарплату немного ниже 40 тыс. по возможности \"дотягивают\" до этого порогового значения.\n",
    "4) Распределение значений в столбце \"Члены семьи\" выглядит правдоподобно. Чаще всего страховку оофрмляют клиенты, не имеющие семьи или имеющие 1-2 членов семьи. \n",
    "5) По распределению значений в столбце \"Страховые выплаты\" видно, что чаще всего выплат не требуется. Среди клиентов, получивших выплаты, больше всего страхователей, получивших выплату один раз. Максимальное число выплат одному клиенту - 5.\n"
   ]
  },
  {
   "cell_type": "markdown",
   "metadata": {},
   "source": [
    "Проверим данные на наличие полных дубликатов. "
   ]
  },
  {
   "cell_type": "code",
   "execution_count": 12,
   "metadata": {
    "scrolled": true
   },
   "outputs": [
    {
     "data": {
      "text/plain": [
       "153"
      ]
     },
     "execution_count": 12,
     "metadata": {},
     "output_type": "execute_result"
    }
   ],
   "source": [
    "data.duplicated().sum()"
   ]
  },
  {
   "cell_type": "markdown",
   "metadata": {},
   "source": [
    "Данные содержат дубликаты. Поскольку в данных нет идентифицирующей информации, мы не можем сказать вызвано ли это ошибками или случайным совпадением (разнообразие значений признаков не очень велико, поэтому такое в принципе возможно). Наличие дубликатов не влияет на цель - разработку алгоритма для защиты персональных данных – поэтому не будем их удалять."
   ]
  },
  {
   "cell_type": "markdown",
   "metadata": {},
   "source": [
    "**Выводы по шагу 1**\n",
    "\n",
    "* Данные загружены и изучены.\n",
    "* В столбцах `'Возраст'` и `'Зарплата'` тип данных изменен на целочисленный.\n",
    "* Проведена предварительная оценка качества данных: отсутствуют существенные выбросы и неправдоподобные значения, есть дубликаты, наличие которых не влияет на конечную цель."
   ]
  },
  {
   "cell_type": "markdown",
   "metadata": {},
   "source": [
    "## Умножение матриц"
   ]
  },
  {
   "cell_type": "markdown",
   "metadata": {},
   "source": [
    "Ответим на вопрос и обоснуем решение.\n",
    "\n",
    "**Признаки умножают на обратимую матрицу. Изменится ли качество линейной регрессии? (Её можно обучить заново.)**\n",
    "\n",
    "*a. Изменится. Приведите примеры матриц.*\n",
    "\n",
    "*b. Не изменится. Укажите, как связаны параметры линейной регрессии в исходной задаче и в преобразованной.* "
   ]
  },
  {
   "cell_type": "markdown",
   "metadata": {},
   "source": [
    "В этом задании вы можете записывать формулы в *Jupyter Notebook.*\n",
    "\n",
    "Чтобы записать формулу внутри текста, окружите её символами доллара \\\\$; если снаружи —  двойными символами \\\\$\\\\$. Эти формулы записываются на языке вёрстки *LaTeX.* \n",
    "\n",
    "Для примера мы записали формулы линейной регрессии. Можете их скопировать и отредактировать, чтобы решить задачу.\n",
    "\n",
    "Работать в *LaTeX* необязательно."
   ]
  },
  {
   "cell_type": "markdown",
   "metadata": {},
   "source": [
    "Обозначения:\n",
    "\n",
    "- $X$ — матрица признаков (нулевой столбец состоит из единиц)\n",
    "\n",
    "- $y$ — вектор целевого признака\n",
    "\n",
    "- $P$ — матрица, на которую умножаются признаки\n",
    "\n",
    "- $w$ — вектор весов линейной регрессии (нулевой элемент равен сдвигу)"
   ]
  },
  {
   "cell_type": "markdown",
   "metadata": {},
   "source": [
    "Предсказания:\n",
    "\n",
    "$$\n",
    "a = Xw\n",
    "$$\n",
    "\n",
    "Задача обучения:\n",
    "\n",
    "$$\n",
    "w = \\arg\\min_w MSE(Xw, y)\n",
    "$$\n",
    "\n",
    "Формула обучения:\n",
    "\n",
    "$$\n",
    "w = (X^T X)^{-1} X^T y\n",
    "$$"
   ]
  },
  {
   "cell_type": "markdown",
   "metadata": {},
   "source": [
    "**Ответ:** При умножении признаков на обратимую матрицу качество линейной регрессии не изменится. \n",
    "\n",
    "**Обоснование:** Обоснуем отвем методом преобразования формулы обучения.\n",
    "\n",
    "Исходная матрица признаков - *X*, матрица, на которую умножаются признаки, – $P$, тогда преобразованная матрица – $XP$. Умножим матрицу признаков на обратимую матрицу: подставим в формулы $XP$ вместо $Х$ и определим значение предсказаний (*$a_{1}$* ) и вектор весов (*$w_{1}$*).\n",
    "\n",
    "Предсказания:\n",
    "$$\n",
    "a_{1} = XPw_{1}\n",
    "$$\n",
    "\n",
    "Формула обучения:\n",
    "$$\n",
    "w_{1} = ((XP)^T (XP))^{-1} (XP)^T y\n",
    "$$\n",
    "\n",
    "\n",
    "\n",
    "Преобразуем формулу обучения.\n",
    "\n",
    "Согласно свойству транспонированных матриц, $(AB)^T = B^T A^T$, тогда\n",
    "\n",
    "$$\n",
    "w_{1} = (P^T X^T (XP))^{-1} P^T X^T  y\n",
    "$$\n",
    "\n",
    "Согласно свойству ассоциативности $A(ВС) = (AВ)С$, тогда\n",
    "\n",
    "$$\n",
    "w_{1} = (P^T(X^TX) P)^{-1} P^T X^T  y\n",
    "$$\n",
    "\n",
    "Согласно свойству обратных матриц, $(AB)^{-1}=B^{-1}A^{-1}$, тогда\n",
    "\n",
    "$$\n",
    "w_{1} = P^{-1}(X^T X)^{-1}(P^T)^{-1} P^T X^T y\n",
    "$$\n",
    "\n",
    "При умножении матрицы на обратную получаем единичную матрицу *E*, тогда \n",
    "\n",
    "$$\n",
    "P^T (P^T)^{-1} = (P^T)^{-1} P^T = E\n",
    "$$\n",
    "\n",
    "$$\n",
    "w_{1} = P^{-1}(X^T X)^{-1} E X^T y\n",
    "$$\n",
    "\n",
    "При умножении любой матрицы на единичную матрицу получаем ту же самую матрицу, тогда\n",
    "\n",
    "$$\n",
    "w_{1} = P^{-1}(X^T X)^{-1} X^T y\n",
    "$$\n",
    "\n",
    "\n",
    "Поскольку $w = (X^T X)^{-1} X^T y$, можем подставить $w$ в формулу выше:\n",
    "\n",
    "$$\n",
    "w_{1} =  P^{-1}w\n",
    "$$\n",
    "\n",
    "Подставим правую часть полученной выше формулы $w_{1}$ в формулу предсказаний $a_{1}$\n",
    "\n",
    "$$\n",
    "a_{1} = XPw_{1}\n",
    "$$\n",
    "\n",
    "$$\n",
    "a_{1} = XPP^{-1}w\n",
    "$$\n",
    "\n",
    "Согласно свойству обратных матриц, $PP^{-1} = E$, при умножении на $E$ получаем ту же матрицу:\n",
    "\n",
    "$$\n",
    "a_{1} = XEw = Xw\n",
    "$$\n",
    "\n",
    "Согласно условию, вектор предсказаний $a = Xw$, то есть\n",
    "\n",
    "$$\n",
    "a_{1} = a\n",
    "$$ "
   ]
  },
  {
   "cell_type": "markdown",
   "metadata": {},
   "source": [
    "**Вывод по шагу 2**\n",
    "\n",
    "При умножении признаков на обратимую матрицу предсказания модели не изменятся."
   ]
  },
  {
   "cell_type": "markdown",
   "metadata": {},
   "source": [
    "## Алгоритм преобразования"
   ]
  },
  {
   "cell_type": "markdown",
   "metadata": {},
   "source": [
    "**Алгоритм**\n",
    "\n",
    "Для защиты персональных данных клиентов умножим матрицу признаков на случайную обратимую матрицу. Для этого выполним следующие шаги:\n",
    "1) Сгенерируем случайную обратимую матрицу необходимого размера. Обратимая матрица по определению квадратная, поэтому ее размер будет $n*n$, при этом умножение матриц возможно только в случае, если количество столбцов первой матрицы равно количеству строк второй, поэтому $n$ равно количеству признаков (столбцов).\n",
    "2) Проверим матрицу на обратимость\n",
    "3) Умножим матрицу признаков на полученную случайную матрицу."
   ]
  },
  {
   "cell_type": "markdown",
   "metadata": {},
   "source": [
    "**Обоснование**\n",
    "\n",
    "На предыдущем шаге мы доказали, что при умножении модели на обратимую матрицу предсказания модели не изменятся. Это свойство можно использовать для создания алгоритма преобразования данных, который позволит защитить персональные данные клиентов.  "
   ]
  },
  {
   "cell_type": "markdown",
   "metadata": {},
   "source": [
    "Проверим, что вектор предсказаний не меняется при умножении матрицы признаков на случайную обратимую матрицу. Будем использовать формулы из предыдущего шага:\n",
    "\n",
    "$$\n",
    "a = Xw\n",
    "$$\n",
    "\n",
    "$$\n",
    "w = (X^T X)^{-1} X^T y\n",
    "$$"
   ]
  },
  {
   "cell_type": "markdown",
   "metadata": {},
   "source": [
    "Разделим данные на признаки и целевой признак"
   ]
  },
  {
   "cell_type": "code",
   "execution_count": 13,
   "metadata": {},
   "outputs": [],
   "source": [
    "features = data.drop(['Страховые выплаты'], axis=1)\n",
    "target = data['Страховые выплаты']"
   ]
  },
  {
   "cell_type": "markdown",
   "metadata": {},
   "source": [
    "Напишем функцию для расчета вектора весов и предсказаний, которая выведет на экран первые значения предсказаний, описательную статистику и гистограмму частот."
   ]
  },
  {
   "cell_type": "code",
   "execution_count": 14,
   "metadata": {
    "scrolled": true
   },
   "outputs": [],
   "source": [
    "def predictions_overview(features, target):\n",
    "    w = np.linalg.inv(features.T.dot(features)).dot(features.T).dot(target)\n",
    "    a = features @ w\n",
    "    display(a.head())\n",
    "    display(a.describe())\n",
    "    a.hist(bins=100)\n",
    "    return a"
   ]
  },
  {
   "cell_type": "code",
   "execution_count": 15,
   "metadata": {},
   "outputs": [
    {
     "data": {
      "text/plain": [
       "0    0.282873\n",
       "1    0.580514\n",
       "2    0.429481\n",
       "3   -0.091957\n",
       "4    0.301713\n",
       "dtype: float64"
      ]
     },
     "metadata": {},
     "output_type": "display_data"
    },
    {
     "data": {
      "text/plain": [
       "count    5000.000000\n",
       "mean        0.175827\n",
       "std         0.236730\n",
       "min        -0.488522\n",
       "25%        -0.002407\n",
       "50%         0.160437\n",
       "75%         0.336215\n",
       "max         1.280797\n",
       "dtype: float64"
      ]
     },
     "metadata": {},
     "output_type": "display_data"
    },
    {
     "data": {
      "image/png": "[encoded data removed]",
      "text/plain": [
       "<Figure size 432x288 with 1 Axes>"
      ]
     },
     "metadata": {
      "needs_background": "light"
     },
     "output_type": "display_data"
    }
   ],
   "source": [
    "a = predictions_overview(features, target)"
   ]
  },
  {
   "cell_type": "markdown",
   "metadata": {},
   "source": [
    "Сгенерируем случайную матрицу нужного размера (количество признаков - 4) и проверим ее на обратимость."
   ]
  },
  {
   "cell_type": "code",
   "execution_count": 16,
   "metadata": {},
   "outputs": [],
   "source": [
    "random_matrix = np.random.normal(size = (4, 4))\n",
    "random_matrix\n",
    "\n",
    "try:\n",
    "    inverse_matrix = np.linalg.inv(random_matrix)\n",
    "except:\n",
    "    print('Матрица необратима')"
   ]
  },
  {
   "cell_type": "markdown",
   "metadata": {},
   "source": [
    "Умножим признаки на обратимую матрицу"
   ]
  },
  {
   "cell_type": "code",
   "execution_count": 17,
   "metadata": {},
   "outputs": [],
   "source": [
    "features_converted = features @ random_matrix"
   ]
  },
  {
   "cell_type": "code",
   "execution_count": 18,
   "metadata": {},
   "outputs": [
    {
     "data": {
      "text/plain": [
       "0    0.282872\n",
       "1    0.580513\n",
       "2    0.429481\n",
       "3   -0.091958\n",
       "4    0.301713\n",
       "dtype: float64"
      ]
     },
     "metadata": {},
     "output_type": "display_data"
    },
    {
     "data": {
      "text/plain": [
       "count    5000.000000\n",
       "mean        0.175827\n",
       "std         0.236730\n",
       "min        -0.488522\n",
       "25%        -0.002407\n",
       "50%         0.160436\n",
       "75%         0.336215\n",
       "max         1.280796\n",
       "dtype: float64"
      ]
     },
     "metadata": {},
     "output_type": "display_data"
    },
    {
     "data": {
      "image/png": "[encoded data removed]",
      "text/plain": [
       "<Figure size 432x288 with 1 Axes>"
      ]
     },
     "metadata": {
      "needs_background": "light"
     },
     "output_type": "display_data"
    }
   ],
   "source": [
    "a1 = predictions_overview(features_converted, target)"
   ]
  },
  {
   "cell_type": "markdown",
   "metadata": {},
   "source": [
    "Рассчитаем вектор разниц между предсказаниями до и после умножения признаков на обратимую матрицу, выведем наибольшее значение и суммируем элементы вектора."
   ]
  },
  {
   "cell_type": "code",
   "execution_count": 19,
   "metadata": {},
   "outputs": [
    {
     "name": "stdout",
     "output_type": "stream",
     "text": [
      "Максимальная разница: -3.9180906297175966e-07\n",
      "Сумма различий: 0.0006036088339026482\n"
     ]
    }
   ],
   "source": [
    "difference = a - a1\n",
    "print('Максимальная разница:', difference.min())\n",
    "print('Сумма различий:', difference.sum())"
   ]
  },
  {
   "cell_type": "markdown",
   "metadata": {},
   "source": [
    "Проверим возможность восстановления зашифрованных данных. Для этого преобразованные признаки умножим на матрицу, обратную сгененированной случайной матрице (то есть полученную выше при проверке на обратимость `inverse_matrix`). Полученные результаты приведем к целым числам и найдем сумму различий между исходными и восстановленными признаками."
   ]
  },
  {
   "cell_type": "code",
   "execution_count": 20,
   "metadata": {
    "scrolled": true
   },
   "outputs": [
    {
     "name": "stdout",
     "output_type": "stream",
     "text": [
      "Cумма различий между исходными и восстановленными признаками \n",
      " Пол            0\n",
      "Возраст        0\n",
      "Зарплата       0\n",
      "Члены семьи    0\n",
      "dtype: int64\n"
     ]
    }
   ],
   "source": [
    "features_returned = features_converted @ inverse_matrix\n",
    "features_returned = features_returned.round(0).astype('int')\n",
    "features_returned.columns = ['Пол', 'Возраст', 'Зарплата', 'Члены семьи']\n",
    "print(f\"Cумма различий между исходными и восстановленными признаками \\n {(features_returned - features).sum()}\")"
   ]
  },
  {
   "cell_type": "markdown",
   "metadata": {},
   "source": [
    "Восстановленные признаки не отличаются от исходных."
   ]
  },
  {
   "cell_type": "markdown",
   "metadata": {},
   "source": [
    "**Вывод по шагу 3**\n",
    "\n",
    "Для защиты персональных данных клиентов предложен алгоритм, предполагающий умножение матрицы признаков на случайную обратимую матрицу. Это возможно, поскольку при таком умножении предсказания модели не изменятся. Исходные данные можно восстановить путем умножения на обратную матрицу."
   ]
  },
  {
   "cell_type": "markdown",
   "metadata": {},
   "source": [
    "## Проверка алгоритма"
   ]
  },
  {
   "cell_type": "markdown",
   "metadata": {},
   "source": [
    "**1. Проверим работу алгоритма, используя случайную матрицу (`random_matrix`), сгенерированную на предыдущем шаге и проверенную на обратимость, и преобразованные признаки (`features_converted`).**"
   ]
  },
  {
   "cell_type": "markdown",
   "metadata": {},
   "source": [
    "Напишем функцию для обучения линейной регрессии и вычисления значения метрики R2."
   ]
  },
  {
   "cell_type": "code",
   "execution_count": 21,
   "metadata": {},
   "outputs": [],
   "source": [
    "def r2(features, target, for_data):\n",
    "    model = LinearRegression()\n",
    "    model.fit(features, target)\n",
    "    predictions = model.predict(features)\n",
    "    print(f\"R2 {for_data}: {r2_score(target, predictions)}\")"
   ]
  },
  {
   "cell_type": "markdown",
   "metadata": {},
   "source": [
    "Обучим модель линейной регрессии на данных до преобразования и вычислим метрику R2."
   ]
  },
  {
   "cell_type": "code",
   "execution_count": 22,
   "metadata": {},
   "outputs": [
    {
     "name": "stdout",
     "output_type": "stream",
     "text": [
      "R2 для исходных данных: 0.42494550308169177\n"
     ]
    }
   ],
   "source": [
    "r2(features, target, 'для исходных данных')"
   ]
  },
  {
   "cell_type": "markdown",
   "metadata": {},
   "source": [
    "Обучим модель линейной регрессии на преобразованных данных и вычислим метрику R2."
   ]
  },
  {
   "cell_type": "code",
   "execution_count": 23,
   "metadata": {},
   "outputs": [
    {
     "name": "stdout",
     "output_type": "stream",
     "text": [
      "R2 для преобразованных данных: 0.4249455030817081\n"
     ]
    }
   ],
   "source": [
    "r2(features_converted, target, 'для преобразованных данных')"
   ]
  },
  {
   "cell_type": "markdown",
   "metadata": {},
   "source": [
    "Разница между значениями метрики R2 для модели, обученной на исходных признаках и признаках, умноженных на обратимую матрицу, ничтожно мала."
   ]
  },
  {
   "cell_type": "markdown",
   "metadata": {},
   "source": [
    "**2. Проверим работу алгоритма на тестовой выборке (с масштабированием и без).**"
   ]
  },
  {
   "cell_type": "markdown",
   "metadata": {},
   "source": [
    "Напишем функцию для вычисления значения метрики R2 на тестовой выборке."
   ]
  },
  {
   "cell_type": "code",
   "execution_count": 24,
   "metadata": {},
   "outputs": [],
   "source": [
    "def r2_test(features_train, features_test, target_train, target_test, for_data):\n",
    "    model = LinearRegression()\n",
    "    model.fit(features_train, target_train)\n",
    "    predictions = model.predict(features_test)\n",
    "    print(f\"R2 {for_data}: {r2_score(target_test, predictions)}\")"
   ]
  },
  {
   "cell_type": "markdown",
   "metadata": {},
   "source": [
    "Напишем функцию для масштабирования признаков методом стандартизации данных."
   ]
  },
  {
   "cell_type": "code",
   "execution_count": 25,
   "metadata": {},
   "outputs": [],
   "source": [
    "def standard_scaler(features_train, features_test):\n",
    "    numeric = features_train.columns\n",
    "    scaler = StandardScaler()\n",
    "    features_train[numeric] = scaler.fit_transform(features_train[numeric])\n",
    "    features_test[numeric] = scaler.transform(features_test[numeric])\n",
    "    return features_train, features_test"
   ]
  },
  {
   "cell_type": "markdown",
   "metadata": {},
   "source": [
    "***Для исходных данных***"
   ]
  },
  {
   "cell_type": "markdown",
   "metadata": {},
   "source": [
    "Разделим исходные данные на обучающую и тестовую выборки в соотношении 3:1."
   ]
  },
  {
   "cell_type": "code",
   "execution_count": 26,
   "metadata": {},
   "outputs": [],
   "source": [
    "features_train, features_test, target_train, target_test = train_test_split(\n",
    "    features, target, test_size=0.25, random_state=12345)"
   ]
  },
  {
   "cell_type": "markdown",
   "metadata": {},
   "source": [
    "*Обучим модель и определим значение метрики R2 на тестовой выборке (без масштабирования).*"
   ]
  },
  {
   "cell_type": "code",
   "execution_count": 27,
   "metadata": {},
   "outputs": [
    {
     "name": "stdout",
     "output_type": "stream",
     "text": [
      "R2 для исходных данных на тестовой выборке: 0.4352275684083322\n"
     ]
    }
   ],
   "source": [
    "r2_test(features_train, features_test, target_train, target_test, \n",
    "        'для исходных данных на тестовой выборке')"
   ]
  },
  {
   "cell_type": "markdown",
   "metadata": {},
   "source": [
    "Масштабируем признаки до преобразования."
   ]
  },
  {
   "cell_type": "code",
   "execution_count": 28,
   "metadata": {},
   "outputs": [],
   "source": [
    "features_train_scaled, features_test_scaled = standard_scaler(features_train, features_test)"
   ]
  },
  {
   "cell_type": "markdown",
   "metadata": {},
   "source": [
    "*Обучим модель и определим значение метрики R2 на тестовой выборке (с масштабированием).*"
   ]
  },
  {
   "cell_type": "code",
   "execution_count": 29,
   "metadata": {},
   "outputs": [
    {
     "name": "stdout",
     "output_type": "stream",
     "text": [
      "R2 для исходных данных на тестовой выборке (с масштабированием): 0.43522756840833376\n"
     ]
    }
   ],
   "source": [
    "r2_test(features_train_scaled, features_test_scaled, target_train, target_test, \n",
    "        'для исходных данных на тестовой выборке (с масштабированием)')"
   ]
  },
  {
   "cell_type": "markdown",
   "metadata": {},
   "source": [
    "***Для преобразованных данных***"
   ]
  },
  {
   "cell_type": "markdown",
   "metadata": {},
   "source": [
    "Разделим преобразованные данные на обучающую и тестовую выборки в соотношении 3:1"
   ]
  },
  {
   "cell_type": "code",
   "execution_count": 30,
   "metadata": {},
   "outputs": [],
   "source": [
    "features_train_converted, features_test_converted = train_test_split(\n",
    "    features_converted, test_size=0.25, random_state=12345)"
   ]
  },
  {
   "cell_type": "markdown",
   "metadata": {},
   "source": [
    "*Обучим модель и определим значение метрики R2 на тестовой выборке.*"
   ]
  },
  {
   "cell_type": "code",
   "execution_count": 31,
   "metadata": {},
   "outputs": [
    {
     "name": "stdout",
     "output_type": "stream",
     "text": [
      "R2 для преобразованных данных на тестовой выборке: 0.43522756840818244\n"
     ]
    }
   ],
   "source": [
    "r2_test(features_train_converted, features_test_converted, target_train, target_test, \n",
    "        'для преобразованных данных на тестовой выборке')"
   ]
  },
  {
   "cell_type": "markdown",
   "metadata": {},
   "source": [
    "Масштабируем преобразованные признаки."
   ]
  },
  {
   "cell_type": "code",
   "execution_count": 32,
   "metadata": {},
   "outputs": [],
   "source": [
    "features_train_converted_scaled, features_test_converted_scaled = standard_scaler(\n",
    "    features_train_converted, features_test_converted)"
   ]
  },
  {
   "cell_type": "markdown",
   "metadata": {},
   "source": [
    "*Обучим модель и определим значение метрики R2 на тестовой выборке (с масштабированием).*"
   ]
  },
  {
   "cell_type": "code",
   "execution_count": 33,
   "metadata": {},
   "outputs": [
    {
     "name": "stdout",
     "output_type": "stream",
     "text": [
      "R2 для преобразованных данных на тестовой выборке (с масштабированием): 0.43522756840829213\n"
     ]
    }
   ],
   "source": [
    "r2_test(features_train_converted_scaled, features_test_converted_scaled, target_train, target_test, \n",
    "        'для преобразованных данных на тестовой выборке (с масштабированием)')"
   ]
  },
  {
   "cell_type": "markdown",
   "metadata": {},
   "source": [
    "Разница между всеми значениями метрики R2 на тестовой выборке (для исходных и преобразованных признаков с масштабированием и без) ничножно мала."
   ]
  },
  {
   "cell_type": "markdown",
   "metadata": {},
   "source": [
    "**Вывод по шагу 4**\n",
    "\n",
    "Работа алгоритма проверена путем определения значения метрики R2 на исходных и преобразованных признаках. Было показано, что различие значений метрики R2 для модели обученной на данных до преобразования и данных, преобразованных путем умножения признаков на случайную обратимую матрицу, несущественно."
   ]
  },
  {
   "cell_type": "markdown",
   "metadata": {},
   "source": [
    "## Итоги"
   ]
  },
  {
   "cell_type": "markdown",
   "metadata": {},
   "source": [
    "Был предложен метод преобразования данных, который позволит защитить данные клиентов страховой компании «Хоть потоп», при этом качество моделей машинного обучения не ухудшилось. \n",
    "\n",
    "В ходе работы были выполнены следующие действия:\n",
    "\n",
    "* Данные загружены и изучены.\n",
    "* Дан ответ на вопрос: \"Признаки умножают на обратимую матрицу. Изменится ли качество линейной регрессии?\" Путем преобразования формулы обучения было доказано, что качество линейной регрессии не поменяется.\n",
    "* Предложен алгоритм преобразования данных, предполагающий умножение матрицы признаков на случайную обратимую матрицу, проверена возможность восстановления исходных значений признаков.\n",
    "* Работа алгоритма проверена путем определения значения метрики R2 на исходных и преобразованных признаках.\n",
    "\n",
    "**Общий вывод**: \n",
    "Алгоритм защиты  данных, предполагающий умножение матрицы признаков на случайную обратимую матрицу, позволяет преобразовать данные таким образом, что персональные данные клиентов оказываются зашифрованы, при этом качество линейной регрессии (как одной из моделей машинного обучения) не меняется."
   ]
  }
 ],
 "metadata": {
  "ExecuteTimeLog": [
   {
    "duration": 9393,
    "start_time": "2023-05-31T10:03:23.722Z"
   },
   {
    "duration": 802,
    "start_time": "2023-05-31T10:03:33.116Z"
   },
   {
    "duration": 108,
    "start_time": "2023-05-31T10:03:33.919Z"
   },
   {
    "duration": 12,
    "start_time": "2023-05-31T10:03:34.029Z"
   },
   {
    "duration": 75,
    "start_time": "2023-05-31T10:03:34.042Z"
   },
   {
    "duration": 105,
    "start_time": "2023-05-31T10:03:34.119Z"
   },
   {
    "duration": 197,
    "start_time": "2023-05-31T10:03:34.226Z"
   },
   {
    "duration": 192,
    "start_time": "2023-05-31T10:03:34.424Z"
   },
   {
    "duration": 294,
    "start_time": "2023-05-31T10:03:34.621Z"
   },
   {
    "duration": 10794,
    "start_time": "2023-05-31T10:03:34.921Z"
   },
   {
    "duration": 7,
    "start_time": "2023-05-31T10:03:45.816Z"
   },
   {
    "duration": 302,
    "start_time": "2023-05-31T10:03:45.916Z"
   },
   {
    "duration": 298,
    "start_time": "2023-05-31T10:03:46.220Z"
   },
   {
    "duration": 2901,
    "start_time": "2023-05-31T10:03:46.520Z"
   },
   {
    "duration": 94,
    "start_time": "2023-05-31T10:03:49.426Z"
   },
   {
    "duration": 494,
    "start_time": "2023-05-31T10:03:49.523Z"
   },
   {
    "duration": 2797,
    "start_time": "2023-05-31T10:03:50.018Z"
   },
   {
    "duration": 7,
    "start_time": "2023-05-31T10:03:52.915Z"
   },
   {
    "duration": 693,
    "start_time": "2023-05-31T10:03:52.924Z"
   },
   {
    "duration": 501,
    "start_time": "2023-05-31T10:03:53.618Z"
   },
   {
    "duration": 397,
    "start_time": "2023-05-31T10:03:54.121Z"
   },
   {
    "duration": 295,
    "start_time": "2023-05-31T10:03:54.522Z"
   },
   {
    "duration": 398,
    "start_time": "2023-05-31T10:03:54.820Z"
   },
   {
    "duration": 400,
    "start_time": "2023-05-31T10:03:55.219Z"
   },
   {
    "duration": 503,
    "start_time": "2023-05-31T10:03:55.620Z"
   },
   {
    "duration": 398,
    "start_time": "2023-05-31T10:03:56.126Z"
   },
   {
    "duration": 498,
    "start_time": "2023-05-31T10:03:56.525Z"
   },
   {
    "duration": 11,
    "start_time": "2023-05-31T10:03:57.120Z"
   },
   {
    "duration": 507,
    "start_time": "2023-05-31T10:03:57.217Z"
   },
   {
    "duration": 409,
    "start_time": "2023-05-31T10:03:57.816Z"
   },
   {
    "duration": 204,
    "start_time": "2023-05-31T10:03:58.317Z"
   },
   {
    "duration": 1562,
    "start_time": "2023-06-01T08:07:46.449Z"
   },
   {
    "duration": 191,
    "start_time": "2023-06-01T08:07:48.013Z"
   },
   {
    "duration": 11,
    "start_time": "2023-06-01T08:07:48.206Z"
   },
   {
    "duration": 16,
    "start_time": "2023-06-01T08:07:48.218Z"
   },
   {
    "duration": 7,
    "start_time": "2023-06-01T08:07:48.236Z"
   },
   {
    "duration": 9,
    "start_time": "2023-06-01T08:07:48.245Z"
   },
   {
    "duration": 5,
    "start_time": "2023-06-01T08:07:48.256Z"
   },
   {
    "duration": 10,
    "start_time": "2023-06-01T08:07:48.262Z"
   },
   {
    "duration": 20,
    "start_time": "2023-06-01T08:07:48.277Z"
   },
   {
    "duration": 789,
    "start_time": "2023-06-01T08:07:48.299Z"
   },
   {
    "duration": 178,
    "start_time": "2023-06-01T08:07:49.090Z"
   },
   {
    "duration": 6,
    "start_time": "2023-06-01T08:07:49.277Z"
   },
   {
    "duration": 3,
    "start_time": "2023-06-01T08:07:49.285Z"
   },
   {
    "duration": 3,
    "start_time": "2023-06-01T08:07:49.291Z"
   },
   {
    "duration": 421,
    "start_time": "2023-06-01T08:07:49.295Z"
   },
   {
    "duration": 3,
    "start_time": "2023-06-01T08:07:49.718Z"
   },
   {
    "duration": 4,
    "start_time": "2023-06-01T08:07:49.723Z"
   },
   {
    "duration": 464,
    "start_time": "2023-06-01T08:07:49.729Z"
   },
   {
    "duration": 7,
    "start_time": "2023-06-01T08:07:50.195Z"
   },
   {
    "duration": 9,
    "start_time": "2023-06-01T08:07:50.203Z"
   },
   {
    "duration": 4,
    "start_time": "2023-06-01T08:07:50.213Z"
   },
   {
    "duration": 60,
    "start_time": "2023-06-01T08:07:50.218Z"
   },
   {
    "duration": 99,
    "start_time": "2023-06-01T08:07:50.280Z"
   },
   {
    "duration": 3,
    "start_time": "2023-06-01T08:07:50.381Z"
   },
   {
    "duration": 6,
    "start_time": "2023-06-01T08:07:50.385Z"
   },
   {
    "duration": 91,
    "start_time": "2023-06-01T08:07:50.392Z"
   },
   {
    "duration": 7,
    "start_time": "2023-06-01T08:07:50.484Z"
   },
   {
    "duration": 13,
    "start_time": "2023-06-01T08:07:50.493Z"
   },
   {
    "duration": 8,
    "start_time": "2023-06-01T08:07:50.507Z"
   },
   {
    "duration": 5,
    "start_time": "2023-06-01T08:07:50.516Z"
   },
   {
    "duration": 9,
    "start_time": "2023-06-01T08:07:50.522Z"
   },
   {
    "duration": 45,
    "start_time": "2023-06-01T08:07:50.533Z"
   },
   {
    "duration": 8,
    "start_time": "2023-06-01T08:07:50.580Z"
   }
  ],
  "kernelspec": {
   "display_name": "Python 3 (ipykernel)",
   "language": "python",
   "name": "python3"
  },
  "language_info": {
   "codemirror_mode": {
    "name": "ipython",
    "version": 3
   },
   "file_extension": ".py",
   "mimetype": "text/x-python",
   "name": "python",
   "nbconvert_exporter": "python",
   "pygments_lexer": "ipython3",
   "version": "3.9.15"
  },
  "toc": {
   "base_numbering": 1,
   "nav_menu": {},
   "number_sections": true,
   "sideBar": true,
   "skip_h1_title": true,
   "title_cell": "Содержание",
   "title_sidebar": "Contents",
   "toc_cell": true,
   "toc_position": {
    "height": "calc(100% - 180px)",
    "left": "10px",
    "top": "150px",
    "width": "201.617645px"
   },
   "toc_section_display": true,
   "toc_window_display": true
  }
 },
 "nbformat": 4,
 "nbformat_minor": 2
}
