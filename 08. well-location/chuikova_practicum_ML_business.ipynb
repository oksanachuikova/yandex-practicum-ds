{
 "cells": [
  {
   "cell_type": "markdown",
   "metadata": {},
   "source": [
    "# Выбор локации для скважины"
   ]
  },
  {
   "cell_type": "markdown",
   "metadata": {},
   "source": [
    "Допустим, вы работаете в добывающей компании «ГлавРосГосНефть». Нужно решить, где бурить новую скважину.\n",
    "\n",
    "Вам предоставлены пробы нефти в трёх регионах: в каждом 10 000 месторождений, где измерили качество нефти и объём её запасов. Постройте модель машинного обучения, которая поможет определить регион, где добыча принесёт наибольшую прибыль. Проанализируйте возможную прибыль и риски техникой *Bootstrap.*\n",
    "\n",
    "**Шаги для выбора локации:**\n",
    "\n",
    "- В избранном регионе ищут месторождения, для каждого определяют значения признаков;\n",
    "- Строят модель и оценивают объём запасов;\n",
    "- Выбирают месторождения с самым высокими оценками значений. Количество месторождений зависит от бюджета компании и стоимости разработки одной скважины;\n",
    "- Прибыль равна суммарной прибыли отобранных месторождений.\n",
    "\n",
    "**Описание данных**\n",
    "* Данные геологоразведки трёх регионов находятся в файлах: \n",
    "    * /datasets/geo_data_0.csv. \n",
    "    * /datasets/geo_data_1.csv. \n",
    "    * /datasets/geo_data_2.csv. \n",
    "* Признаки:\n",
    "    * `id` — уникальный идентификатор скважины;\n",
    "    * `f0`, `f1`, `f2` — три признака точек (неважно, что они означают, но сами признаки значимы);\n",
    "* Целевой признак:\n",
    "    * `product` — объём запасов в скважине (тыс. баррелей).\n",
    "    \n",
    "**Условия задачи:**\n",
    "* Для обучения модели подходит только линейная регрессия (остальные — недостаточно предсказуемые).\n",
    "* При разведке региона исследуют 500 точек, из которых с помощью машинного обучения выбирают 200 лучших для разработки.\n",
    "* Бюджет на разработку скважин в регионе — 10 млрд рублей.\n",
    "* При нынешних ценах один баррель сырья приносит 450 рублей дохода. Доход с каждой единицы продукта составляет 450 тыс. рублей, поскольку объём указан в тысячах баррелей.\n",
    "* После оценки рисков нужно оставить лишь те регионы, в которых вероятность убытков меньше 2.5%. Среди них выбирают регион с наибольшей средней прибылью.\n",
    "\n",
    "Данные синтетические: детали контрактов и характеристики месторождений не разглашаются.\n",
    "\n",
    "**Этапы работы:**\n",
    "* Загрузка и подготовка данных. \n",
    "* Обучение и проверка модели для каждого региона.\n",
    "* Подготовка к расчёту прибыли.\n",
    "* Расчет прибыли и рисков для каждого региона."
   ]
  },
  {
   "cell_type": "markdown",
   "metadata": {},
   "source": [
    "## Загрузка и подготовка данных"
   ]
  },
  {
   "cell_type": "markdown",
   "metadata": {},
   "source": [
    "Импортируем библиотеки и модули, которые потребуются для выполнения проекта"
   ]
  },
  {
   "cell_type": "code",
   "execution_count": 1,
   "metadata": {},
   "outputs": [],
   "source": [
    "import pandas as pd\n",
    "import numpy as np\n",
    "import matplotlib.pyplot as plt\n",
    "import seaborn as sns\n",
    "\n",
    "from sklearn.model_selection import train_test_split\n",
    "from sklearn.preprocessing import StandardScaler\n",
    "from sklearn.linear_model import LinearRegression\n",
    "from sklearn.metrics import mean_squared_error\n",
    "\n",
    "from numpy.random import RandomState\n",
    "\n",
    "\n",
    "import warnings\n",
    "warnings.filterwarnings('ignore')"
   ]
  },
  {
   "cell_type": "markdown",
   "metadata": {},
   "source": [
    "Данные геологоразведки трёх регионов находятся в файлах. Сохраним данные в трех переменных."
   ]
  },
  {
   "cell_type": "code",
   "execution_count": 2,
   "metadata": {},
   "outputs": [],
   "source": [
    "try:\n",
    "    data_0 = pd.read_csv('datasets/geo_data_0.csv')\n",
    "    data_1 = pd.read_csv('datasets/geo_data_1.csv')\n",
    "    data_2 = pd.read_csv('datasets/geo_data_2.csv')\n",
    "except:\n",
    "    data_0 = pd.read_csv('https://code.s3.yandex.net/datasets/geo_data_0.csv')\n",
    "    data_1 = pd.read_csv('https://code.s3.yandex.net/datasets/geo_data_1.csv')\n",
    "    data_2 = pd.read_csv('https://code.s3.yandex.net/datasets/geo_data_2.csv')"
   ]
  },
  {
   "cell_type": "markdown",
   "metadata": {},
   "source": [
    "### Обзор данных"
   ]
  },
  {
   "cell_type": "markdown",
   "metadata": {},
   "source": [
    "Для каждого датасета выведем на экран выведем на экран пять первых строк датасета, информацию о датасете методом `info()`, описательную статистику методом `describe()`, гистограммы частот для числовых данных, матрицу корреляции  и количество полных дубликатов. В дальнейшем для однотипных действий с датасетами также по возможности будем писать функции."
   ]
  },
  {
   "cell_type": "code",
   "execution_count": 3,
   "metadata": {},
   "outputs": [],
   "source": [
    "def data_overview(data):\n",
    "    display(data.head())\n",
    "    display(data.info())\n",
    "    display(data.describe())\n",
    "    \n",
    "    data.hist(figsize=(12,7), bins=100)\n",
    "    plt.show()\n",
    "    \n",
    "    sns.heatmap(data.corr(), annot=True, cmap='coolwarm')\n",
    "    plt.show()\n",
    "    \n",
    "    print('Количество полных дубликатов:', data.duplicated().sum()) \n",
    "    return"
   ]
  },
  {
   "cell_type": "code",
   "execution_count": 4,
   "metadata": {
    "scrolled": true
   },
   "outputs": [
    {
     "data": {
      "text/html": [
       "<div>\n",
       "<style scoped>\n",
       "    .dataframe tbody tr th:only-of-type {\n",
       "        vertical-align: middle;\n",
       "    }\n",
       "\n",
       "    .dataframe tbody tr th {\n",
       "        vertical-align: top;\n",
       "    }\n",
       "\n",
       "    .dataframe thead th {\n",
       "        text-align: right;\n",
       "    }\n",
       "</style>\n",
       "<table border=\"1\" class=\"dataframe\">\n",
       "  <thead>\n",
       "    <tr style=\"text-align: right;\">\n",
       "      <th></th>\n",
       "      <th>id</th>\n",
       "      <th>f0</th>\n",
       "      <th>f1</th>\n",
       "      <th>f2</th>\n",
       "      <th>product</th>\n",
       "    </tr>\n",
       "  </thead>\n",
       "  <tbody>\n",
       "    <tr>\n",
       "      <th>0</th>\n",
       "      <td>txEyH</td>\n",
       "      <td>0.705745</td>\n",
       "      <td>-0.497823</td>\n",
       "      <td>1.221170</td>\n",
       "      <td>105.280062</td>\n",
       "    </tr>\n",
       "    <tr>\n",
       "      <th>1</th>\n",
       "      <td>2acmU</td>\n",
       "      <td>1.334711</td>\n",
       "      <td>-0.340164</td>\n",
       "      <td>4.365080</td>\n",
       "      <td>73.037750</td>\n",
       "    </tr>\n",
       "    <tr>\n",
       "      <th>2</th>\n",
       "      <td>409Wp</td>\n",
       "      <td>1.022732</td>\n",
       "      <td>0.151990</td>\n",
       "      <td>1.419926</td>\n",
       "      <td>85.265647</td>\n",
       "    </tr>\n",
       "    <tr>\n",
       "      <th>3</th>\n",
       "      <td>iJLyR</td>\n",
       "      <td>-0.032172</td>\n",
       "      <td>0.139033</td>\n",
       "      <td>2.978566</td>\n",
       "      <td>168.620776</td>\n",
       "    </tr>\n",
       "    <tr>\n",
       "      <th>4</th>\n",
       "      <td>Xdl7t</td>\n",
       "      <td>1.988431</td>\n",
       "      <td>0.155413</td>\n",
       "      <td>4.751769</td>\n",
       "      <td>154.036647</td>\n",
       "    </tr>\n",
       "  </tbody>\n",
       "</table>\n",
       "</div>"
      ],
      "text/plain": [
       "      id        f0        f1        f2     product\n",
       "0  txEyH  0.705745 -0.497823  1.221170  105.280062\n",
       "1  2acmU  1.334711 -0.340164  4.365080   73.037750\n",
       "2  409Wp  1.022732  0.151990  1.419926   85.265647\n",
       "3  iJLyR -0.032172  0.139033  2.978566  168.620776\n",
       "4  Xdl7t  1.988431  0.155413  4.751769  154.036647"
      ]
     },
     "metadata": {},
     "output_type": "display_data"
    },
    {
     "name": "stdout",
     "output_type": "stream",
     "text": [
      "<class 'pandas.core.frame.DataFrame'>\n",
      "RangeIndex: 100000 entries, 0 to 99999\n",
      "Data columns (total 5 columns):\n",
      " #   Column   Non-Null Count   Dtype  \n",
      "---  ------   --------------   -----  \n",
      " 0   id       100000 non-null  object \n",
      " 1   f0       100000 non-null  float64\n",
      " 2   f1       100000 non-null  float64\n",
      " 3   f2       100000 non-null  float64\n",
      " 4   product  100000 non-null  float64\n",
      "dtypes: float64(4), object(1)\n",
      "memory usage: 3.8+ MB\n"
     ]
    },
    {
     "data": {
      "text/plain": [
       "None"
      ]
     },
     "metadata": {},
     "output_type": "display_data"
    },
    {
     "data": {
      "text/html": [
       "<div>\n",
       "<style scoped>\n",
       "    .dataframe tbody tr th:only-of-type {\n",
       "        vertical-align: middle;\n",
       "    }\n",
       "\n",
       "    .dataframe tbody tr th {\n",
       "        vertical-align: top;\n",
       "    }\n",
       "\n",
       "    .dataframe thead th {\n",
       "        text-align: right;\n",
       "    }\n",
       "</style>\n",
       "<table border=\"1\" class=\"dataframe\">\n",
       "  <thead>\n",
       "    <tr style=\"text-align: right;\">\n",
       "      <th></th>\n",
       "      <th>f0</th>\n",
       "      <th>f1</th>\n",
       "      <th>f2</th>\n",
       "      <th>product</th>\n",
       "    </tr>\n",
       "  </thead>\n",
       "  <tbody>\n",
       "    <tr>\n",
       "      <th>count</th>\n",
       "      <td>100000.000000</td>\n",
       "      <td>100000.000000</td>\n",
       "      <td>100000.000000</td>\n",
       "      <td>100000.000000</td>\n",
       "    </tr>\n",
       "    <tr>\n",
       "      <th>mean</th>\n",
       "      <td>0.500419</td>\n",
       "      <td>0.250143</td>\n",
       "      <td>2.502647</td>\n",
       "      <td>92.500000</td>\n",
       "    </tr>\n",
       "    <tr>\n",
       "      <th>std</th>\n",
       "      <td>0.871832</td>\n",
       "      <td>0.504433</td>\n",
       "      <td>3.248248</td>\n",
       "      <td>44.288691</td>\n",
       "    </tr>\n",
       "    <tr>\n",
       "      <th>min</th>\n",
       "      <td>-1.408605</td>\n",
       "      <td>-0.848218</td>\n",
       "      <td>-12.088328</td>\n",
       "      <td>0.000000</td>\n",
       "    </tr>\n",
       "    <tr>\n",
       "      <th>25%</th>\n",
       "      <td>-0.072580</td>\n",
       "      <td>-0.200881</td>\n",
       "      <td>0.287748</td>\n",
       "      <td>56.497507</td>\n",
       "    </tr>\n",
       "    <tr>\n",
       "      <th>50%</th>\n",
       "      <td>0.502360</td>\n",
       "      <td>0.250252</td>\n",
       "      <td>2.515969</td>\n",
       "      <td>91.849972</td>\n",
       "    </tr>\n",
       "    <tr>\n",
       "      <th>75%</th>\n",
       "      <td>1.073581</td>\n",
       "      <td>0.700646</td>\n",
       "      <td>4.715088</td>\n",
       "      <td>128.564089</td>\n",
       "    </tr>\n",
       "    <tr>\n",
       "      <th>max</th>\n",
       "      <td>2.362331</td>\n",
       "      <td>1.343769</td>\n",
       "      <td>16.003790</td>\n",
       "      <td>185.364347</td>\n",
       "    </tr>\n",
       "  </tbody>\n",
       "</table>\n",
       "</div>"
      ],
      "text/plain": [
       "                  f0             f1             f2        product\n",
       "count  100000.000000  100000.000000  100000.000000  100000.000000\n",
       "mean        0.500419       0.250143       2.502647      92.500000\n",
       "std         0.871832       0.504433       3.248248      44.288691\n",
       "min        -1.408605      -0.848218     -12.088328       0.000000\n",
       "25%        -0.072580      -0.200881       0.287748      56.497507\n",
       "50%         0.502360       0.250252       2.515969      91.849972\n",
       "75%         1.073581       0.700646       4.715088     128.564089\n",
       "max         2.362331       1.343769      16.003790     185.364347"
      ]
     },
     "metadata": {},
     "output_type": "display_data"
    },
    {
     "data": {
      "image/png": "[encoded data removed]",
      "text/plain": [
       "<Figure size 1200x700 with 4 Axes>"
      ]
     },
     "metadata": {},
     "output_type": "display_data"
    },
    {
     "data": {
      "image/png": "[encoded data removed]",
      "text/plain": [
       "<Figure size 640x480 with 2 Axes>"
      ]
     },
     "metadata": {},
     "output_type": "display_data"
    },
    {
     "name": "stdout",
     "output_type": "stream",
     "text": [
      "Количество полных дубликатов: 0\n"
     ]
    }
   ],
   "source": [
    "data_overview(data_0)"
   ]
  },
  {
   "cell_type": "code",
   "execution_count": 5,
   "metadata": {
    "scrolled": true
   },
   "outputs": [
    {
     "data": {
      "text/html": [
       "<div>\n",
       "<style scoped>\n",
       "    .dataframe tbody tr th:only-of-type {\n",
       "        vertical-align: middle;\n",
       "    }\n",
       "\n",
       "    .dataframe tbody tr th {\n",
       "        vertical-align: top;\n",
       "    }\n",
       "\n",
       "    .dataframe thead th {\n",
       "        text-align: right;\n",
       "    }\n",
       "</style>\n",
       "<table border=\"1\" class=\"dataframe\">\n",
       "  <thead>\n",
       "    <tr style=\"text-align: right;\">\n",
       "      <th></th>\n",
       "      <th>id</th>\n",
       "      <th>f0</th>\n",
       "      <th>f1</th>\n",
       "      <th>f2</th>\n",
       "      <th>product</th>\n",
       "    </tr>\n",
       "  </thead>\n",
       "  <tbody>\n",
       "    <tr>\n",
       "      <th>0</th>\n",
       "      <td>kBEdx</td>\n",
       "      <td>-15.001348</td>\n",
       "      <td>-8.276000</td>\n",
       "      <td>-0.005876</td>\n",
       "      <td>3.179103</td>\n",
       "    </tr>\n",
       "    <tr>\n",
       "      <th>1</th>\n",
       "      <td>62mP7</td>\n",
       "      <td>14.272088</td>\n",
       "      <td>-3.475083</td>\n",
       "      <td>0.999183</td>\n",
       "      <td>26.953261</td>\n",
       "    </tr>\n",
       "    <tr>\n",
       "      <th>2</th>\n",
       "      <td>vyE1P</td>\n",
       "      <td>6.263187</td>\n",
       "      <td>-5.948386</td>\n",
       "      <td>5.001160</td>\n",
       "      <td>134.766305</td>\n",
       "    </tr>\n",
       "    <tr>\n",
       "      <th>3</th>\n",
       "      <td>KcrkZ</td>\n",
       "      <td>-13.081196</td>\n",
       "      <td>-11.506057</td>\n",
       "      <td>4.999415</td>\n",
       "      <td>137.945408</td>\n",
       "    </tr>\n",
       "    <tr>\n",
       "      <th>4</th>\n",
       "      <td>AHL4O</td>\n",
       "      <td>12.702195</td>\n",
       "      <td>-8.147433</td>\n",
       "      <td>5.004363</td>\n",
       "      <td>134.766305</td>\n",
       "    </tr>\n",
       "  </tbody>\n",
       "</table>\n",
       "</div>"
      ],
      "text/plain": [
       "      id         f0         f1        f2     product\n",
       "0  kBEdx -15.001348  -8.276000 -0.005876    3.179103\n",
       "1  62mP7  14.272088  -3.475083  0.999183   26.953261\n",
       "2  vyE1P   6.263187  -5.948386  5.001160  134.766305\n",
       "3  KcrkZ -13.081196 -11.506057  4.999415  137.945408\n",
       "4  AHL4O  12.702195  -8.147433  5.004363  134.766305"
      ]
     },
     "metadata": {},
     "output_type": "display_data"
    },
    {
     "name": "stdout",
     "output_type": "stream",
     "text": [
      "<class 'pandas.core.frame.DataFrame'>\n",
      "RangeIndex: 100000 entries, 0 to 99999\n",
      "Data columns (total 5 columns):\n",
      " #   Column   Non-Null Count   Dtype  \n",
      "---  ------   --------------   -----  \n",
      " 0   id       100000 non-null  object \n",
      " 1   f0       100000 non-null  float64\n",
      " 2   f1       100000 non-null  float64\n",
      " 3   f2       100000 non-null  float64\n",
      " 4   product  100000 non-null  float64\n",
      "dtypes: float64(4), object(1)\n",
      "memory usage: 3.8+ MB\n"
     ]
    },
    {
     "data": {
      "text/plain": [
       "None"
      ]
     },
     "metadata": {},
     "output_type": "display_data"
    },
    {
     "data": {
      "text/html": [
       "<div>\n",
       "<style scoped>\n",
       "    .dataframe tbody tr th:only-of-type {\n",
       "        vertical-align: middle;\n",
       "    }\n",
       "\n",
       "    .dataframe tbody tr th {\n",
       "        vertical-align: top;\n",
       "    }\n",
       "\n",
       "    .dataframe thead th {\n",
       "        text-align: right;\n",
       "    }\n",
       "</style>\n",
       "<table border=\"1\" class=\"dataframe\">\n",
       "  <thead>\n",
       "    <tr style=\"text-align: right;\">\n",
       "      <th></th>\n",
       "      <th>f0</th>\n",
       "      <th>f1</th>\n",
       "      <th>f2</th>\n",
       "      <th>product</th>\n",
       "    </tr>\n",
       "  </thead>\n",
       "  <tbody>\n",
       "    <tr>\n",
       "      <th>count</th>\n",
       "      <td>100000.000000</td>\n",
       "      <td>100000.000000</td>\n",
       "      <td>100000.000000</td>\n",
       "      <td>100000.000000</td>\n",
       "    </tr>\n",
       "    <tr>\n",
       "      <th>mean</th>\n",
       "      <td>1.141296</td>\n",
       "      <td>-4.796579</td>\n",
       "      <td>2.494541</td>\n",
       "      <td>68.825000</td>\n",
       "    </tr>\n",
       "    <tr>\n",
       "      <th>std</th>\n",
       "      <td>8.965932</td>\n",
       "      <td>5.119872</td>\n",
       "      <td>1.703572</td>\n",
       "      <td>45.944423</td>\n",
       "    </tr>\n",
       "    <tr>\n",
       "      <th>min</th>\n",
       "      <td>-31.609576</td>\n",
       "      <td>-26.358598</td>\n",
       "      <td>-0.018144</td>\n",
       "      <td>0.000000</td>\n",
       "    </tr>\n",
       "    <tr>\n",
       "      <th>25%</th>\n",
       "      <td>-6.298551</td>\n",
       "      <td>-8.267985</td>\n",
       "      <td>1.000021</td>\n",
       "      <td>26.953261</td>\n",
       "    </tr>\n",
       "    <tr>\n",
       "      <th>50%</th>\n",
       "      <td>1.153055</td>\n",
       "      <td>-4.813172</td>\n",
       "      <td>2.011479</td>\n",
       "      <td>57.085625</td>\n",
       "    </tr>\n",
       "    <tr>\n",
       "      <th>75%</th>\n",
       "      <td>8.621015</td>\n",
       "      <td>-1.332816</td>\n",
       "      <td>3.999904</td>\n",
       "      <td>107.813044</td>\n",
       "    </tr>\n",
       "    <tr>\n",
       "      <th>max</th>\n",
       "      <td>29.421755</td>\n",
       "      <td>18.734063</td>\n",
       "      <td>5.019721</td>\n",
       "      <td>137.945408</td>\n",
       "    </tr>\n",
       "  </tbody>\n",
       "</table>\n",
       "</div>"
      ],
      "text/plain": [
       "                  f0             f1             f2        product\n",
       "count  100000.000000  100000.000000  100000.000000  100000.000000\n",
       "mean        1.141296      -4.796579       2.494541      68.825000\n",
       "std         8.965932       5.119872       1.703572      45.944423\n",
       "min       -31.609576     -26.358598      -0.018144       0.000000\n",
       "25%        -6.298551      -8.267985       1.000021      26.953261\n",
       "50%         1.153055      -4.813172       2.011479      57.085625\n",
       "75%         8.621015      -1.332816       3.999904     107.813044\n",
       "max        29.421755      18.734063       5.019721     137.945408"
      ]
     },
     "metadata": {},
     "output_type": "display_data"
    },
    {
     "data": {
      "image/png": "[encoded data removed]",
      "text/plain": [
       "<Figure size 1200x700 with 4 Axes>"
      ]
     },
     "metadata": {},
     "output_type": "display_data"
    },
    {
     "data": {
      "image/png": "[encoded data removed]",
      "text/plain": [
       "<Figure size 640x480 with 2 Axes>"
      ]
     },
     "metadata": {},
     "output_type": "display_data"
    },
    {
     "name": "stdout",
     "output_type": "stream",
     "text": [
      "Количество полных дубликатов: 0\n"
     ]
    }
   ],
   "source": [
    "data_overview(data_1)"
   ]
  },
  {
   "cell_type": "code",
   "execution_count": 6,
   "metadata": {},
   "outputs": [
    {
     "data": {
      "text/html": [
       "<div>\n",
       "<style scoped>\n",
       "    .dataframe tbody tr th:only-of-type {\n",
       "        vertical-align: middle;\n",
       "    }\n",
       "\n",
       "    .dataframe tbody tr th {\n",
       "        vertical-align: top;\n",
       "    }\n",
       "\n",
       "    .dataframe thead th {\n",
       "        text-align: right;\n",
       "    }\n",
       "</style>\n",
       "<table border=\"1\" class=\"dataframe\">\n",
       "  <thead>\n",
       "    <tr style=\"text-align: right;\">\n",
       "      <th></th>\n",
       "      <th>id</th>\n",
       "      <th>f0</th>\n",
       "      <th>f1</th>\n",
       "      <th>f2</th>\n",
       "      <th>product</th>\n",
       "    </tr>\n",
       "  </thead>\n",
       "  <tbody>\n",
       "    <tr>\n",
       "      <th>0</th>\n",
       "      <td>fwXo0</td>\n",
       "      <td>-1.146987</td>\n",
       "      <td>0.963328</td>\n",
       "      <td>-0.828965</td>\n",
       "      <td>27.758673</td>\n",
       "    </tr>\n",
       "    <tr>\n",
       "      <th>1</th>\n",
       "      <td>WJtFt</td>\n",
       "      <td>0.262778</td>\n",
       "      <td>0.269839</td>\n",
       "      <td>-2.530187</td>\n",
       "      <td>56.069697</td>\n",
       "    </tr>\n",
       "    <tr>\n",
       "      <th>2</th>\n",
       "      <td>ovLUW</td>\n",
       "      <td>0.194587</td>\n",
       "      <td>0.289035</td>\n",
       "      <td>-5.586433</td>\n",
       "      <td>62.871910</td>\n",
       "    </tr>\n",
       "    <tr>\n",
       "      <th>3</th>\n",
       "      <td>q6cA6</td>\n",
       "      <td>2.236060</td>\n",
       "      <td>-0.553760</td>\n",
       "      <td>0.930038</td>\n",
       "      <td>114.572842</td>\n",
       "    </tr>\n",
       "    <tr>\n",
       "      <th>4</th>\n",
       "      <td>WPMUX</td>\n",
       "      <td>-0.515993</td>\n",
       "      <td>1.716266</td>\n",
       "      <td>5.899011</td>\n",
       "      <td>149.600746</td>\n",
       "    </tr>\n",
       "  </tbody>\n",
       "</table>\n",
       "</div>"
      ],
      "text/plain": [
       "      id        f0        f1        f2     product\n",
       "0  fwXo0 -1.146987  0.963328 -0.828965   27.758673\n",
       "1  WJtFt  0.262778  0.269839 -2.530187   56.069697\n",
       "2  ovLUW  0.194587  0.289035 -5.586433   62.871910\n",
       "3  q6cA6  2.236060 -0.553760  0.930038  114.572842\n",
       "4  WPMUX -0.515993  1.716266  5.899011  149.600746"
      ]
     },
     "metadata": {},
     "output_type": "display_data"
    },
    {
     "name": "stdout",
     "output_type": "stream",
     "text": [
      "<class 'pandas.core.frame.DataFrame'>\n",
      "RangeIndex: 100000 entries, 0 to 99999\n",
      "Data columns (total 5 columns):\n",
      " #   Column   Non-Null Count   Dtype  \n",
      "---  ------   --------------   -----  \n",
      " 0   id       100000 non-null  object \n",
      " 1   f0       100000 non-null  float64\n",
      " 2   f1       100000 non-null  float64\n",
      " 3   f2       100000 non-null  float64\n",
      " 4   product  100000 non-null  float64\n",
      "dtypes: float64(4), object(1)\n",
      "memory usage: 3.8+ MB\n"
     ]
    },
    {
     "data": {
      "text/plain": [
       "None"
      ]
     },
     "metadata": {},
     "output_type": "display_data"
    },
    {
     "data": {
      "text/html": [
       "<div>\n",
       "<style scoped>\n",
       "    .dataframe tbody tr th:only-of-type {\n",
       "        vertical-align: middle;\n",
       "    }\n",
       "\n",
       "    .dataframe tbody tr th {\n",
       "        vertical-align: top;\n",
       "    }\n",
       "\n",
       "    .dataframe thead th {\n",
       "        text-align: right;\n",
       "    }\n",
       "</style>\n",
       "<table border=\"1\" class=\"dataframe\">\n",
       "  <thead>\n",
       "    <tr style=\"text-align: right;\">\n",
       "      <th></th>\n",
       "      <th>f0</th>\n",
       "      <th>f1</th>\n",
       "      <th>f2</th>\n",
       "      <th>product</th>\n",
       "    </tr>\n",
       "  </thead>\n",
       "  <tbody>\n",
       "    <tr>\n",
       "      <th>count</th>\n",
       "      <td>100000.000000</td>\n",
       "      <td>100000.000000</td>\n",
       "      <td>100000.000000</td>\n",
       "      <td>100000.000000</td>\n",
       "    </tr>\n",
       "    <tr>\n",
       "      <th>mean</th>\n",
       "      <td>0.002023</td>\n",
       "      <td>-0.002081</td>\n",
       "      <td>2.495128</td>\n",
       "      <td>95.000000</td>\n",
       "    </tr>\n",
       "    <tr>\n",
       "      <th>std</th>\n",
       "      <td>1.732045</td>\n",
       "      <td>1.730417</td>\n",
       "      <td>3.473445</td>\n",
       "      <td>44.749921</td>\n",
       "    </tr>\n",
       "    <tr>\n",
       "      <th>min</th>\n",
       "      <td>-8.760004</td>\n",
       "      <td>-7.084020</td>\n",
       "      <td>-11.970335</td>\n",
       "      <td>0.000000</td>\n",
       "    </tr>\n",
       "    <tr>\n",
       "      <th>25%</th>\n",
       "      <td>-1.162288</td>\n",
       "      <td>-1.174820</td>\n",
       "      <td>0.130359</td>\n",
       "      <td>59.450441</td>\n",
       "    </tr>\n",
       "    <tr>\n",
       "      <th>50%</th>\n",
       "      <td>0.009424</td>\n",
       "      <td>-0.009482</td>\n",
       "      <td>2.484236</td>\n",
       "      <td>94.925613</td>\n",
       "    </tr>\n",
       "    <tr>\n",
       "      <th>75%</th>\n",
       "      <td>1.158535</td>\n",
       "      <td>1.163678</td>\n",
       "      <td>4.858794</td>\n",
       "      <td>130.595027</td>\n",
       "    </tr>\n",
       "    <tr>\n",
       "      <th>max</th>\n",
       "      <td>7.238262</td>\n",
       "      <td>7.844801</td>\n",
       "      <td>16.739402</td>\n",
       "      <td>190.029838</td>\n",
       "    </tr>\n",
       "  </tbody>\n",
       "</table>\n",
       "</div>"
      ],
      "text/plain": [
       "                  f0             f1             f2        product\n",
       "count  100000.000000  100000.000000  100000.000000  100000.000000\n",
       "mean        0.002023      -0.002081       2.495128      95.000000\n",
       "std         1.732045       1.730417       3.473445      44.749921\n",
       "min        -8.760004      -7.084020     -11.970335       0.000000\n",
       "25%        -1.162288      -1.174820       0.130359      59.450441\n",
       "50%         0.009424      -0.009482       2.484236      94.925613\n",
       "75%         1.158535       1.163678       4.858794     130.595027\n",
       "max         7.238262       7.844801      16.739402     190.029838"
      ]
     },
     "metadata": {},
     "output_type": "display_data"
    },
    {
     "data": {
      "image/png": "[encoded data removed]",
      "text/plain": [
       "<Figure size 1200x700 with 4 Axes>"
      ]
     },
     "metadata": {},
     "output_type": "display_data"
    },
    {
     "data": {
      "image/png": "[encoded data removed]",
      "text/plain": [
       "<Figure size 640x480 with 2 Axes>"
      ]
     },
     "metadata": {},
     "output_type": "display_data"
    },
    {
     "name": "stdout",
     "output_type": "stream",
     "text": [
      "Количество полных дубликатов: 0\n"
     ]
    }
   ],
   "source": [
    "data_overview(data_2)"
   ]
  },
  {
   "cell_type": "markdown",
   "metadata": {},
   "source": [
    "**Обзор данных:**\n",
    "* Все три датасета одинаковы по размеру – содержат по 100000 записей.\n",
    "* Три столбца (`f0`, `f1` и `f2`) имеют числовой формат, один (`id`) – тип object. Пропуски в данных отсутствуют.\n",
    "* Во всех трех регионах наблюдается наибольшая между целевым признаком и признаком `f2`.\n",
    "* Среднее и медиана объемов запасов нефти выше всего в регионе 2 (`data_2`, оба значения около 95), несколько ниже в регионе 1 (`data_0`, 91-92), значения признака `product` распределены похожим образом (см. гистограммы частот). Ниже всего показатели среднего и медианы для региона 1 (`data_1`), разница между средним и медианой больше, чем для других регионов (среднее – 69, медиана – 57).\n",
    "* Из трех признаков (`f0`, `f1` и `f2`) наиболее наиболее высокую положительную корреляцию с `product` показывает `f2`.\n",
    "\n",
    "**Подготовка данных** к обучению. Для каждого датасета:\n",
    "* удалим столбец `id`, содержащий идентификационные дынные, не являющиеся значением признака.\n",
    "* разделим данные для на обучающую и валидационную выборки в соотношении 75:25.\n",
    "* по условиям все признаки (`f0`, `f1` и `f2`) одинаково значимы, масштабируем признаки."
   ]
  },
  {
   "cell_type": "markdown",
   "metadata": {},
   "source": [
    "### Удалим столбец `id`"
   ]
  },
  {
   "cell_type": "markdown",
   "metadata": {},
   "source": [
    "Функция для удаления cтолбца."
   ]
  },
  {
   "cell_type": "code",
   "execution_count": 7,
   "metadata": {},
   "outputs": [],
   "source": [
    "def drop_column(data, column):\n",
    "    return data.drop(column, axis = 1)"
   ]
  },
  {
   "cell_type": "markdown",
   "metadata": {},
   "source": [
    "Удалим столбец `id`."
   ]
  },
  {
   "cell_type": "code",
   "execution_count": 8,
   "metadata": {},
   "outputs": [],
   "source": [
    "data_0 = drop_column(data_0, 'id')\n",
    "data_1 = drop_column(data_1, 'id')\n",
    "data_2 = drop_column(data_2, 'id')"
   ]
  },
  {
   "cell_type": "code",
   "execution_count": 9,
   "metadata": {},
   "outputs": [
    {
     "data": {
      "text/html": [
       "<div>\n",
       "<style scoped>\n",
       "    .dataframe tbody tr th:only-of-type {\n",
       "        vertical-align: middle;\n",
       "    }\n",
       "\n",
       "    .dataframe tbody tr th {\n",
       "        vertical-align: top;\n",
       "    }\n",
       "\n",
       "    .dataframe thead th {\n",
       "        text-align: right;\n",
       "    }\n",
       "</style>\n",
       "<table border=\"1\" class=\"dataframe\">\n",
       "  <thead>\n",
       "    <tr style=\"text-align: right;\">\n",
       "      <th></th>\n",
       "      <th>f0</th>\n",
       "      <th>f1</th>\n",
       "      <th>f2</th>\n",
       "      <th>product</th>\n",
       "    </tr>\n",
       "  </thead>\n",
       "  <tbody>\n",
       "    <tr>\n",
       "      <th>0</th>\n",
       "      <td>0.705745</td>\n",
       "      <td>-0.497823</td>\n",
       "      <td>1.221170</td>\n",
       "      <td>105.280062</td>\n",
       "    </tr>\n",
       "    <tr>\n",
       "      <th>1</th>\n",
       "      <td>1.334711</td>\n",
       "      <td>-0.340164</td>\n",
       "      <td>4.365080</td>\n",
       "      <td>73.037750</td>\n",
       "    </tr>\n",
       "    <tr>\n",
       "      <th>2</th>\n",
       "      <td>1.022732</td>\n",
       "      <td>0.151990</td>\n",
       "      <td>1.419926</td>\n",
       "      <td>85.265647</td>\n",
       "    </tr>\n",
       "    <tr>\n",
       "      <th>3</th>\n",
       "      <td>-0.032172</td>\n",
       "      <td>0.139033</td>\n",
       "      <td>2.978566</td>\n",
       "      <td>168.620776</td>\n",
       "    </tr>\n",
       "    <tr>\n",
       "      <th>4</th>\n",
       "      <td>1.988431</td>\n",
       "      <td>0.155413</td>\n",
       "      <td>4.751769</td>\n",
       "      <td>154.036647</td>\n",
       "    </tr>\n",
       "  </tbody>\n",
       "</table>\n",
       "</div>"
      ],
      "text/plain": [
       "         f0        f1        f2     product\n",
       "0  0.705745 -0.497823  1.221170  105.280062\n",
       "1  1.334711 -0.340164  4.365080   73.037750\n",
       "2  1.022732  0.151990  1.419926   85.265647\n",
       "3 -0.032172  0.139033  2.978566  168.620776\n",
       "4  1.988431  0.155413  4.751769  154.036647"
      ]
     },
     "execution_count": 9,
     "metadata": {},
     "output_type": "execute_result"
    }
   ],
   "source": [
    "data_0.head()"
   ]
  },
  {
   "cell_type": "markdown",
   "metadata": {},
   "source": [
    "Cтолбец `id` удален."
   ]
  },
  {
   "cell_type": "markdown",
   "metadata": {},
   "source": [
    "### Разделим данные на обучающую и валидационную выборки (75:25)"
   ]
  },
  {
   "cell_type": "markdown",
   "metadata": {},
   "source": [
    "1. Целевой признак – значение в столбце `product`. Cоздадим переменные для признаков (`features`) и целевого признака (`target`). Напишем для этого функцию."
   ]
  },
  {
   "cell_type": "code",
   "execution_count": 10,
   "metadata": {},
   "outputs": [],
   "source": [
    "def features_target_split(data, target):\n",
    "    features = drop_column(data, target) # применяем ранее написанную функцию drop_column\n",
    "    target = data[target]\n",
    "    return features, target"
   ]
  },
  {
   "cell_type": "code",
   "execution_count": 11,
   "metadata": {},
   "outputs": [],
   "source": [
    "features_0, target_0 = features_target_split(data_0, 'product')\n",
    "features_1, target_1 = features_target_split(data_1, 'product')\n",
    "features_2, target_2 = features_target_split(data_2, 'product')"
   ]
  },
  {
   "cell_type": "code",
   "execution_count": 12,
   "metadata": {},
   "outputs": [
    {
     "name": "stdout",
     "output_type": "stream",
     "text": [
      "(100000, 3)\n",
      "(100000,)\n"
     ]
    }
   ],
   "source": [
    "# выведем на экран размеры таблиц\n",
    "print(features_0.shape)\n",
    "print(target_0.shape)"
   ]
  },
  {
   "cell_type": "markdown",
   "metadata": {},
   "source": [
    "2. Разобьем данные обучающую и валидационную выборки в соотношении 75:25. Напишем для этого функцию."
   ]
  },
  {
   "cell_type": "code",
   "execution_count": 13,
   "metadata": {},
   "outputs": [],
   "source": [
    "def train_valid_split(features, target):\n",
    "    features_train, features_valid, target_train, target_valid = train_test_split(\n",
    "    features, target, test_size=0.25, random_state=12345)\n",
    "    return features_train, features_valid, target_train, target_valid"
   ]
  },
  {
   "cell_type": "code",
   "execution_count": 14,
   "metadata": {},
   "outputs": [],
   "source": [
    "features_train_0, features_valid_0, target_train_0, target_valid_0 = train_valid_split(features_0, target_0)\n",
    "features_train_1, features_valid_1, target_train_1, target_valid_1 = train_valid_split(features_1, target_1)\n",
    "features_train_2, features_valid_2, target_train_2, target_valid_2 = train_valid_split(features_2, target_2)"
   ]
  },
  {
   "cell_type": "code",
   "execution_count": 15,
   "metadata": {},
   "outputs": [
    {
     "name": "stdout",
     "output_type": "stream",
     "text": [
      "(75000, 3)\n",
      "(75000,)\n",
      "(25000, 3)\n",
      "(25000,)\n"
     ]
    }
   ],
   "source": [
    "# выведем на экран размеры таблиц, которые хранятся в переменных\n",
    "print(features_train_0.shape)\n",
    "print(target_train_0.shape)\n",
    "print(features_valid_0.shape)\n",
    "print(target_valid_0.shape)"
   ]
  },
  {
   "cell_type": "markdown",
   "metadata": {},
   "source": [
    "3. Масштабируем количественные методом стандартизации данных"
   ]
  },
  {
   "cell_type": "code",
   "execution_count": 16,
   "metadata": {},
   "outputs": [],
   "source": [
    "def standard_scaler(features_train, features_valid):\n",
    "    numeric = features_train.columns\n",
    "    scaler = StandardScaler()\n",
    "    scaler.fit(features_train[numeric])\n",
    "    features_train[numeric] = scaler.transform(features_train[numeric])\n",
    "    features_valid[numeric] = scaler.transform(features_valid[numeric])\n",
    "    return features_train, features_valid"
   ]
  },
  {
   "cell_type": "code",
   "execution_count": 17,
   "metadata": {},
   "outputs": [],
   "source": [
    "features_train_0, features_valid_0 = standard_scaler(features_train_0, features_valid_0)\n",
    "features_train_1, features_valid_1 = standard_scaler(features_train_1, features_valid_1)\n",
    "features_train_2, features_valid_2 = standard_scaler(features_train_2, features_valid_2)"
   ]
  },
  {
   "cell_type": "code",
   "execution_count": 18,
   "metadata": {},
   "outputs": [
    {
     "data": {
      "text/html": [
       "<div>\n",
       "<style scoped>\n",
       "    .dataframe tbody tr th:only-of-type {\n",
       "        vertical-align: middle;\n",
       "    }\n",
       "\n",
       "    .dataframe tbody tr th {\n",
       "        vertical-align: top;\n",
       "    }\n",
       "\n",
       "    .dataframe thead th {\n",
       "        text-align: right;\n",
       "    }\n",
       "</style>\n",
       "<table border=\"1\" class=\"dataframe\">\n",
       "  <thead>\n",
       "    <tr style=\"text-align: right;\">\n",
       "      <th></th>\n",
       "      <th>f0</th>\n",
       "      <th>f1</th>\n",
       "      <th>f2</th>\n",
       "    </tr>\n",
       "  </thead>\n",
       "  <tbody>\n",
       "    <tr>\n",
       "      <th>27212</th>\n",
       "      <td>-0.544828</td>\n",
       "      <td>1.390264</td>\n",
       "      <td>-0.094959</td>\n",
       "    </tr>\n",
       "    <tr>\n",
       "      <th>7866</th>\n",
       "      <td>1.455912</td>\n",
       "      <td>-0.480422</td>\n",
       "      <td>1.209567</td>\n",
       "    </tr>\n",
       "    <tr>\n",
       "      <th>62041</th>\n",
       "      <td>0.260460</td>\n",
       "      <td>0.825069</td>\n",
       "      <td>-0.204865</td>\n",
       "    </tr>\n",
       "    <tr>\n",
       "      <th>70185</th>\n",
       "      <td>-1.837105</td>\n",
       "      <td>0.010321</td>\n",
       "      <td>-0.147634</td>\n",
       "    </tr>\n",
       "    <tr>\n",
       "      <th>82230</th>\n",
       "      <td>-1.299243</td>\n",
       "      <td>0.987558</td>\n",
       "      <td>1.273181</td>\n",
       "    </tr>\n",
       "  </tbody>\n",
       "</table>\n",
       "</div>"
      ],
      "text/plain": [
       "             f0        f1        f2\n",
       "27212 -0.544828  1.390264 -0.094959\n",
       "7866   1.455912 -0.480422  1.209567\n",
       "62041  0.260460  0.825069 -0.204865\n",
       "70185 -1.837105  0.010321 -0.147634\n",
       "82230 -1.299243  0.987558  1.273181"
      ]
     },
     "metadata": {},
     "output_type": "display_data"
    },
    {
     "data": {
      "text/html": [
       "<div>\n",
       "<style scoped>\n",
       "    .dataframe tbody tr th:only-of-type {\n",
       "        vertical-align: middle;\n",
       "    }\n",
       "\n",
       "    .dataframe tbody tr th {\n",
       "        vertical-align: top;\n",
       "    }\n",
       "\n",
       "    .dataframe thead th {\n",
       "        text-align: right;\n",
       "    }\n",
       "</style>\n",
       "<table border=\"1\" class=\"dataframe\">\n",
       "  <thead>\n",
       "    <tr style=\"text-align: right;\">\n",
       "      <th></th>\n",
       "      <th>f0</th>\n",
       "      <th>f1</th>\n",
       "      <th>f2</th>\n",
       "    </tr>\n",
       "  </thead>\n",
       "  <tbody>\n",
       "    <tr>\n",
       "      <th>71751</th>\n",
       "      <td>0.517917</td>\n",
       "      <td>-0.610097</td>\n",
       "      <td>-0.126226</td>\n",
       "    </tr>\n",
       "    <tr>\n",
       "      <th>80493</th>\n",
       "      <td>0.568391</td>\n",
       "      <td>-0.086063</td>\n",
       "      <td>-0.814914</td>\n",
       "    </tr>\n",
       "    <tr>\n",
       "      <th>2655</th>\n",
       "      <td>0.805688</td>\n",
       "      <td>-1.613289</td>\n",
       "      <td>-1.341342</td>\n",
       "    </tr>\n",
       "    <tr>\n",
       "      <th>53233</th>\n",
       "      <td>0.222503</td>\n",
       "      <td>-1.355437</td>\n",
       "      <td>-0.597275</td>\n",
       "    </tr>\n",
       "    <tr>\n",
       "      <th>91141</th>\n",
       "      <td>-0.087941</td>\n",
       "      <td>1.433113</td>\n",
       "      <td>-0.544588</td>\n",
       "    </tr>\n",
       "  </tbody>\n",
       "</table>\n",
       "</div>"
      ],
      "text/plain": [
       "             f0        f1        f2\n",
       "71751  0.517917 -0.610097 -0.126226\n",
       "80493  0.568391 -0.086063 -0.814914\n",
       "2655   0.805688 -1.613289 -1.341342\n",
       "53233  0.222503 -1.355437 -0.597275\n",
       "91141 -0.087941  1.433113 -0.544588"
      ]
     },
     "execution_count": 18,
     "metadata": {},
     "output_type": "execute_result"
    }
   ],
   "source": [
    "display(features_train_0.head())\n",
    "features_valid_0.head()"
   ]
  },
  {
   "cell_type": "markdown",
   "metadata": {},
   "source": [
    "### Выводы по разделу 1"
   ]
  },
  {
   "cell_type": "markdown",
   "metadata": {},
   "source": [
    "1. Данные загружены и изучены.\n",
    "2. Пропуски и дубликаты отсутствуют.\n",
    "3. Удален столбец `id`, данные в котором не являются признаком.\n",
    "4. Данные разделены на обучающую и валидационную выборки в соотношении 75:25.\n",
    "5. Данные разделены на выборки, количественные признаки `f0`, `f1`, `f2` масштабированы.\n",
    "\n",
    "Данные подготовлены, можно приступать к обучению."
   ]
  },
  {
   "cell_type": "markdown",
   "metadata": {},
   "source": [
    "## Обучение и проверка модели"
   ]
  },
  {
   "cell_type": "markdown",
   "metadata": {},
   "source": [
    "Для обучения модели подходит только линейная регрессия. Напишем функцию, которая вернет предсказания на валидационной выборке и выведет на экран средний запас предсказанного сырья и RMSE модели."
   ]
  },
  {
   "cell_type": "code",
   "execution_count": 19,
   "metadata": {},
   "outputs": [],
   "source": [
    "def lin_regress(features_train, target_train, features_valid, target_valid): \n",
    "    model = LinearRegression()\n",
    "    model.fit(features_train, target_train)\n",
    "    predicted_valid = pd.Series(model.predict(features_valid), index=target_valid.index)\n",
    "    print('Средний объем предсказанного сырья, тыс. баррелей:', predicted_valid.mean())\n",
    "    print('RMSE модели:', mean_squared_error(target_valid, predicted_valid) ** 0.5)\n",
    "    return predicted_valid"
   ]
  },
  {
   "cell_type": "markdown",
   "metadata": {},
   "source": [
    "### Регион 0"
   ]
  },
  {
   "cell_type": "code",
   "execution_count": 20,
   "metadata": {
    "scrolled": true
   },
   "outputs": [
    {
     "name": "stdout",
     "output_type": "stream",
     "text": [
      "Средний объем предсказанного сырья, тыс. баррелей: 92.59256778438035\n",
      "RMSE модели: 37.5794217150813\n"
     ]
    }
   ],
   "source": [
    "predicted_valid_0 = lin_regress(features_train_0, target_train_0, features_valid_0, target_valid_0)"
   ]
  },
  {
   "cell_type": "markdown",
   "metadata": {},
   "source": [
    "### Регион 1"
   ]
  },
  {
   "cell_type": "code",
   "execution_count": 21,
   "metadata": {},
   "outputs": [
    {
     "name": "stdout",
     "output_type": "stream",
     "text": [
      "Средний объем предсказанного сырья, тыс. баррелей: 68.728546895446\n",
      "RMSE модели: 0.893099286775617\n"
     ]
    }
   ],
   "source": [
    "predicted_valid_1 = lin_regress(features_train_1, target_train_1, features_valid_1, target_valid_1)"
   ]
  },
  {
   "cell_type": "markdown",
   "metadata": {},
   "source": [
    "### Регион 2"
   ]
  },
  {
   "cell_type": "code",
   "execution_count": 22,
   "metadata": {
    "scrolled": true
   },
   "outputs": [
    {
     "name": "stdout",
     "output_type": "stream",
     "text": [
      "Средний объем предсказанного сырья, тыс. баррелей: 94.96504596800489\n",
      "RMSE модели: 40.02970873393434\n"
     ]
    }
   ],
   "source": [
    "predicted_valid_2 = lin_regress(features_train_2, target_train_2, features_valid_2, target_valid_2)"
   ]
  },
  {
   "cell_type": "markdown",
   "metadata": {},
   "source": [
    "### Сохраним правильные ответы и предсказания в одну таблицу"
   ]
  },
  {
   "cell_type": "code",
   "execution_count": 23,
   "metadata": {},
   "outputs": [],
   "source": [
    "def target_predictions_table(target_valid, predicted_valid):\n",
    "    target_predictions_table= pd.DataFrame({'target': target_valid.tolist(), \n",
    "                                            'predictions': predicted_valid})\n",
    "    return target_predictions_table"
   ]
  },
  {
   "cell_type": "code",
   "execution_count": 24,
   "metadata": {},
   "outputs": [],
   "source": [
    "target_predictions_table_0 = target_predictions_table(target_valid_0, predicted_valid_0)\n",
    "target_predictions_table_1 = target_predictions_table(target_valid_1, predicted_valid_1)\n",
    "target_predictions_table_2 = target_predictions_table(target_valid_2, predicted_valid_2)"
   ]
  },
  {
   "cell_type": "code",
   "execution_count": 25,
   "metadata": {},
   "outputs": [
    {
     "data": {
      "text/html": [
       "<div>\n",
       "<style scoped>\n",
       "    .dataframe tbody tr th:only-of-type {\n",
       "        vertical-align: middle;\n",
       "    }\n",
       "\n",
       "    .dataframe tbody tr th {\n",
       "        vertical-align: top;\n",
       "    }\n",
       "\n",
       "    .dataframe thead th {\n",
       "        text-align: right;\n",
       "    }\n",
       "</style>\n",
       "<table border=\"1\" class=\"dataframe\">\n",
       "  <thead>\n",
       "    <tr style=\"text-align: right;\">\n",
       "      <th></th>\n",
       "      <th>target</th>\n",
       "      <th>predictions</th>\n",
       "    </tr>\n",
       "  </thead>\n",
       "  <tbody>\n",
       "    <tr>\n",
       "      <th>71751</th>\n",
       "      <td>10.038645</td>\n",
       "      <td>95.894952</td>\n",
       "    </tr>\n",
       "    <tr>\n",
       "      <th>80493</th>\n",
       "      <td>114.551489</td>\n",
       "      <td>77.572583</td>\n",
       "    </tr>\n",
       "    <tr>\n",
       "      <th>2655</th>\n",
       "      <td>132.603635</td>\n",
       "      <td>77.892640</td>\n",
       "    </tr>\n",
       "    <tr>\n",
       "      <th>53233</th>\n",
       "      <td>169.072125</td>\n",
       "      <td>90.175134</td>\n",
       "    </tr>\n",
       "    <tr>\n",
       "      <th>91141</th>\n",
       "      <td>122.325180</td>\n",
       "      <td>70.510088</td>\n",
       "    </tr>\n",
       "  </tbody>\n",
       "</table>\n",
       "</div>"
      ],
      "text/plain": [
       "           target  predictions\n",
       "71751   10.038645    95.894952\n",
       "80493  114.551489    77.572583\n",
       "2655   132.603635    77.892640\n",
       "53233  169.072125    90.175134\n",
       "91141  122.325180    70.510088"
      ]
     },
     "execution_count": 25,
     "metadata": {},
     "output_type": "execute_result"
    }
   ],
   "source": [
    "target_predictions_table_0.head()"
   ]
  },
  {
   "cell_type": "markdown",
   "metadata": {},
   "source": [
    "### Выводы по разделу 2"
   ]
  },
  {
   "cell_type": "markdown",
   "metadata": {},
   "source": [
    "1. Данные разбиты на выборки на предыдущем этапе работы.\n",
    "2. Модели обучены. Предсказания на валидационной  выборке сохранены в переменных `predicted_valid_0`, `predicted_valid_1`и `predicted_valid_2`. Правильные ответы на валидационной выборке соответственно хнанятся в переменных `target_valid_0`, `target_valid_1`и `target_valid_2`. Данные сохранены в таблицах `target_predictions_table_0`, `target_predictions_table_1`, `target_predictions_table_2`\n",
    "3. Средние предсказанные значения близки к средним реальным значениям (см. обзор данных в разделе 1). Регион 1 показывает самое низкое значение (68,73 тыс. баррелей), в то время как для региона 0 и региона 2 эти дначения выше (92.59 и 94.97 тыс. баррелей соответственно).\n",
    "4. Предсказания модели линейной регрессии для регион 1 наиболее точные: определяется лучшее (наименьшее) значение RMSE (0.89). Для регионов 0 и 2 значения RMSE значительно выше (около 37.58 и 40.03 соответственно)."
   ]
  },
  {
   "cell_type": "markdown",
   "metadata": {},
   "source": [
    "## Подготовка к расчёту прибыли"
   ]
  },
  {
   "cell_type": "markdown",
   "metadata": {},
   "source": [
    "1. Рассчитаем достаточный объём сырья для безубыточной разработки новой скважины и сравним полученный объём сырья со средним запасом в каждом регионе. \n",
    "\n",
    "По условиям задачи ири разведке региона исследуют 500 точек, из которых выбирают 200 лучших для разработки. Бюджет на разработку скважин в регионе — 10 млрд рублей. Доход с каждой единицы продукта составляет 450 тыс. рублей.\n",
    "После оценки рисков нужно оставить лишь те регионы, в которых вероятность убытков меньше 2.5%. Среди них выбирают регион с наибольшей средней прибылью.\n",
    "\n",
    "Ключевые значения для расчётов сохраним в отдельных переменных.\n",
    "* `budget` -  бюджет на разработку скважин в регионе (по условиям задачи равен 10 млрд. рублей)\n",
    "* `income_per_unit` – доход с каждой единицы продукта (по условиям задачи 450 тыс. рублей)\n",
    "* `sample_wells` – количество точек, исследуемых при разведке региона (по условиям задачи 500)\n",
    "* `best_wells` – количество точек, выбранных для разработки (по условиям задачи 200)\n",
    "* `max_probability_of_losses` – максимально допустимая вероятность убытков по региону (по условиям задачи 2,5%)"
   ]
  },
  {
   "cell_type": "code",
   "execution_count": 27,
   "metadata": {},
   "outputs": [],
   "source": [
    "BUDGET = 10_000_000_000\n",
    "INCOME_PER_UNIT = 450_000\n",
    "SAMPLE_WELLS = 500\n",
    "BEST_WELLLS = 200"
   ]
  },
  {
   "cell_type": "markdown",
   "metadata": {},
   "source": [
    "Достаточный объем сырья для для безубыточной разработки новой скважины рассчитаем по формуле (при делении бюджета на количество разрабатываемых скважин получаем стоимость разработки одной скважины и, соответственно, сумма которую нужно \"вернуть\" для безубыточной разработки; полученную величину разделим на доход с тыс. баррелей, т.е. узнаем, сколько тыс. баррелей нужно, чтобы возместить расходы на разработку):\n",
    "\n",
    "    бюджет региона / количество разрабатываемых скважин / доход с единицы продукта"
   ]
  },
  {
   "cell_type": "code",
   "execution_count": 28,
   "metadata": {},
   "outputs": [
    {
     "name": "stdout",
     "output_type": "stream",
     "text": [
      "Достаточный объём сырья для безубыточной разработки новой скважины: 111.11111111111111\n"
     ]
    }
   ],
   "source": [
    "print('Достаточный объём сырья для безубыточной разработки новой скважины:', BUDGET/BEST_WELLLS/INCOME_PER_UNIT)"
   ]
  },
  {
   "cell_type": "markdown",
   "metadata": {},
   "source": [
    "### Вывод по разделу 3"
   ]
  },
  {
   "cell_type": "markdown",
   "metadata": {},
   "source": [
    "Достаточный объем сырья для безубыточной разработки новой скважины составляет 111.11 тыс. баррелей. Напомним, что средний запас (реальный и предсказанный) по регионам составляет около 92 тыс. баррелей для региона 0, 68 тыс. баррелей для региона 1 и 95 тыс. баррелей для региона 2. Таким образом, средние показатели по всем трем регионам оказываются ниже, чем достаточный объем сырья, необходимый для безубыточной разработки, т.е. при случайном выборы скважин для разработки есть вероятность убытков."
   ]
  },
  {
   "cell_type": "markdown",
   "metadata": {},
   "source": [
    "## Расчёт прибыли и рисков "
   ]
  },
  {
   "cell_type": "markdown",
   "metadata": {},
   "source": [
    "### Напишем функцию для расчета прибыли по выбранным скважинам и предсказаниям модели"
   ]
  },
  {
   "cell_type": "code",
   "execution_count": 29,
   "metadata": {},
   "outputs": [],
   "source": [
    "def revenue(target, predictions, count):\n",
    "    predictions_sorted = predictions.sort_values(ascending=False)\n",
    "    target_selected = target[predictions_sorted.index][:count]\n",
    "    return target_selected.sum() * INCOME_PER_UNIT - BUDGET"
   ]
  },
  {
   "cell_type": "markdown",
   "metadata": {},
   "source": [
    "### Посчитаем риски и прибыль для каждого региона"
   ]
  },
  {
   "cell_type": "code",
   "execution_count": 30,
   "metadata": {},
   "outputs": [],
   "source": [
    "def bootstrap_revenue_loss(predictions, target):\n",
    "    state = np.random.RandomState(12345)\n",
    "    \n",
    "    values = []\n",
    "    for i in range(1000):\n",
    "        target_sample = target.sample(n=SAMPLE_WELLS, replace=True, random_state=state)\n",
    "        predictions_sample = predictions[target_sample.index]\n",
    "        values.append(revenue(target_sample, predictions_sample, BEST_WELLLS))\n",
    "\n",
    "    values = pd.Series(values)\n",
    "    loss_probability = (values<0).mean()\n",
    "    lower = values.quantile(0.025)\n",
    "    upper = values.quantile(0.975)\n",
    "        \n",
    "    mean = values.mean()\n",
    "    print(\"Средняя выручка региона:\", mean)\n",
    "    print(\"95% доверительный интервал\", lower, upper)\n",
    "    print(\"Вероятность убытков\", loss_probability)\n",
    "    return"
   ]
  },
  {
   "cell_type": "markdown",
   "metadata": {},
   "source": [
    "#### Регион 0"
   ]
  },
  {
   "cell_type": "code",
   "execution_count": 31,
   "metadata": {
    "scrolled": true
   },
   "outputs": [
    {
     "name": "stdout",
     "output_type": "stream",
     "text": [
      "Средняя выручка региона: 425938526.91059244\n",
      "95% доверительный интервал -102090094.83793654 947976353.3583689\n",
      "Вероятность убытков 0.06\n"
     ]
    }
   ],
   "source": [
    "bootstrap_revenue_loss(target_predictions_table_0['predictions'], target_predictions_table_0['target'])"
   ]
  },
  {
   "cell_type": "markdown",
   "metadata": {},
   "source": [
    "#### Регион 1"
   ]
  },
  {
   "cell_type": "code",
   "execution_count": 32,
   "metadata": {
    "scrolled": true
   },
   "outputs": [
    {
     "name": "stdout",
     "output_type": "stream",
     "text": [
      "Средняя выручка региона: 515222773.4432899\n",
      "95% доверительный интервал 68873225.37050176 931547591.2570494\n",
      "Вероятность убытков 0.01\n"
     ]
    }
   ],
   "source": [
    "bootstrap_revenue_loss(target_predictions_table_1['predictions'], target_predictions_table_1['target'])"
   ]
  },
  {
   "cell_type": "markdown",
   "metadata": {},
   "source": [
    "#### Регион 2"
   ]
  },
  {
   "cell_type": "code",
   "execution_count": 33,
   "metadata": {},
   "outputs": [
    {
     "name": "stdout",
     "output_type": "stream",
     "text": [
      "Средняя выручка региона: 435008362.7827556\n",
      "95% доверительный интервал -128880547.32978901 969706954.1802661\n",
      "Вероятность убытков 0.064\n"
     ]
    }
   ],
   "source": [
    "bootstrap_revenue_loss(target_predictions_table_2['predictions'], target_predictions_table_2['target'])"
   ]
  },
  {
   "cell_type": "markdown",
   "metadata": {},
   "source": [
    "### Вывод по разделу 4"
   ]
  },
  {
   "cell_type": "markdown",
   "metadata": {},
   "source": [
    "При применении техники *Bootstrap* наивысшее значение средней прибыли показывает регион 1, также это единственный регион, для которого вероятность убытков менее требуемых 2.5%. Таким образом, несмотря на то, что средние запасы сырья в регионе 1 меньше, чем в других двух регионах, именно его следует предложить для разработкии."
   ]
  },
  {
   "cell_type": "markdown",
   "metadata": {},
   "source": [
    "## Итоги"
   ]
  },
  {
   "cell_type": "markdown",
   "metadata": {},
   "source": [
    "На основании данныхо  пробах нефти в трёх регионах построена модель машинного обучения, которая поможет определить регион, где добыча принесёт наибольшую прибыль. Возможная прибыль и риски проанализированы техникой *Bootstrap*. В ходе работы были выполнены следующие действия:\n",
    "\n",
    "* данные загружены и подготовлены;\n",
    "* для каждого региона обучена и проверена модель;\n",
    "* осуществлена подготовка к расчёту прибыли;\n",
    "* рассчитаны прибыль и риски для каждого региона.\n",
    "\n",
    "**Общий вывод**: \n",
    "В результате исследования предложите для разработки скважин регион предложен регион 1, поскольку для него получено наибольшее значение средней прибыли и нпименьшая вероятность убытков. "
   ]
  }
 ],
 "metadata": {
  "ExecuteTimeLog": [
   {
    "duration": 2335,
    "start_time": "2023-04-30T19:49:06.127Z"
   },
   {
    "duration": 850,
    "start_time": "2023-04-30T19:49:08.465Z"
   },
   {
    "duration": 5,
    "start_time": "2023-04-30T19:49:09.317Z"
   },
   {
    "duration": 1647,
    "start_time": "2023-04-30T19:49:09.326Z"
   },
   {
    "duration": 1480,
    "start_time": "2023-04-30T19:49:10.975Z"
   },
   {
    "duration": 1615,
    "start_time": "2023-04-30T19:49:12.457Z"
   },
   {
    "duration": 4,
    "start_time": "2023-04-30T19:49:14.073Z"
   },
   {
    "duration": 27,
    "start_time": "2023-04-30T19:49:14.078Z"
   },
   {
    "duration": 12,
    "start_time": "2023-04-30T19:49:14.106Z"
   },
   {
    "duration": 5,
    "start_time": "2023-04-30T19:49:14.122Z"
   },
   {
    "duration": 19,
    "start_time": "2023-04-30T19:49:14.129Z"
   },
   {
    "duration": 6,
    "start_time": "2023-04-30T19:49:14.150Z"
   },
   {
    "duration": 32,
    "start_time": "2023-04-30T19:49:14.158Z"
   },
   {
    "duration": 37,
    "start_time": "2023-04-30T19:49:14.193Z"
   },
   {
    "duration": 5,
    "start_time": "2023-04-30T19:49:14.232Z"
   },
   {
    "duration": 7,
    "start_time": "2023-04-30T19:49:14.239Z"
   },
   {
    "duration": 68,
    "start_time": "2023-04-30T19:49:14.248Z"
   },
   {
    "duration": 16,
    "start_time": "2023-04-30T19:49:14.318Z"
   },
   {
    "duration": 4,
    "start_time": "2023-04-30T19:49:14.336Z"
   },
   {
    "duration": 49,
    "start_time": "2023-04-30T19:49:14.343Z"
   },
   {
    "duration": 108,
    "start_time": "2023-04-30T19:49:14.393Z"
   },
   {
    "duration": 187,
    "start_time": "2023-04-30T19:49:14.503Z"
   },
   {
    "duration": 11,
    "start_time": "2023-04-30T19:49:14.693Z"
   },
   {
    "duration": 19,
    "start_time": "2023-04-30T19:49:14.789Z"
   },
   {
    "duration": 15,
    "start_time": "2023-04-30T19:49:14.810Z"
   },
   {
    "duration": 4,
    "start_time": "2023-04-30T19:49:14.828Z"
   },
   {
    "duration": 11,
    "start_time": "2023-04-30T19:49:14.834Z"
   },
   {
    "duration": 4,
    "start_time": "2023-04-30T19:49:14.849Z"
   },
   {
    "duration": 36,
    "start_time": "2023-04-30T19:49:14.855Z"
   },
   {
    "duration": 1550,
    "start_time": "2023-04-30T19:49:14.893Z"
   },
   {
    "duration": 1505,
    "start_time": "2023-04-30T19:49:16.445Z"
   },
   {
    "duration": 1476,
    "start_time": "2023-04-30T19:49:17.952Z"
   },
   {
    "duration": 2301,
    "start_time": "2023-04-30T19:59:24.710Z"
   },
   {
    "duration": 871,
    "start_time": "2023-04-30T19:59:27.013Z"
   },
   {
    "duration": 6,
    "start_time": "2023-04-30T19:59:27.886Z"
   },
   {
    "duration": 1590,
    "start_time": "2023-04-30T19:59:27.895Z"
   },
   {
    "duration": 1581,
    "start_time": "2023-04-30T19:59:29.490Z"
   },
   {
    "duration": 1673,
    "start_time": "2023-04-30T19:59:31.074Z"
   },
   {
    "duration": 4,
    "start_time": "2023-04-30T19:59:32.749Z"
   },
   {
    "duration": 20,
    "start_time": "2023-04-30T19:59:32.754Z"
   },
   {
    "duration": 21,
    "start_time": "2023-04-30T19:59:32.776Z"
   },
   {
    "duration": 5,
    "start_time": "2023-04-30T19:59:32.800Z"
   },
   {
    "duration": 18,
    "start_time": "2023-04-30T19:59:32.806Z"
   },
   {
    "duration": 7,
    "start_time": "2023-04-30T19:59:32.826Z"
   },
   {
    "duration": 19,
    "start_time": "2023-04-30T19:59:32.835Z"
   },
   {
    "duration": 41,
    "start_time": "2023-04-30T19:59:32.856Z"
   },
   {
    "duration": 4,
    "start_time": "2023-04-30T19:59:32.899Z"
   },
   {
    "duration": 17,
    "start_time": "2023-04-30T19:59:32.905Z"
   },
   {
    "duration": 47,
    "start_time": "2023-04-30T19:59:32.924Z"
   },
   {
    "duration": 33,
    "start_time": "2023-04-30T19:59:32.973Z"
   },
   {
    "duration": 4,
    "start_time": "2023-04-30T19:59:33.008Z"
   },
   {
    "duration": 79,
    "start_time": "2023-04-30T19:59:33.014Z"
   },
   {
    "duration": 104,
    "start_time": "2023-04-30T19:59:33.096Z"
   },
   {
    "duration": 189,
    "start_time": "2023-04-30T19:59:33.202Z"
   },
   {
    "duration": 4,
    "start_time": "2023-04-30T19:59:33.393Z"
   },
   {
    "duration": 97,
    "start_time": "2023-04-30T19:59:33.399Z"
   },
   {
    "duration": 12,
    "start_time": "2023-04-30T19:59:33.498Z"
   },
   {
    "duration": 15,
    "start_time": "2023-04-30T19:59:33.512Z"
   },
   {
    "duration": 5,
    "start_time": "2023-04-30T19:59:33.529Z"
   },
   {
    "duration": 5,
    "start_time": "2023-04-30T19:59:33.537Z"
   },
   {
    "duration": 7,
    "start_time": "2023-04-30T19:59:33.544Z"
   },
   {
    "duration": 1515,
    "start_time": "2023-04-30T19:59:33.554Z"
   },
   {
    "duration": 1518,
    "start_time": "2023-04-30T19:59:35.070Z"
   },
   {
    "duration": 1508,
    "start_time": "2023-04-30T19:59:36.590Z"
   },
   {
    "duration": 1609,
    "start_time": "2023-04-30T20:11:36.453Z"
   },
   {
    "duration": 1772,
    "start_time": "2023-04-30T20:11:39.005Z"
   },
   {
    "duration": 4,
    "start_time": "2023-04-30T20:11:41.836Z"
   },
   {
    "duration": 1491,
    "start_time": "2023-04-30T20:11:42.171Z"
   },
   {
    "duration": 1362,
    "start_time": "2023-04-30T20:11:43.663Z"
   },
   {
    "duration": 1405,
    "start_time": "2023-04-30T20:11:45.027Z"
   },
   {
    "duration": 4,
    "start_time": "2023-04-30T20:11:46.435Z"
   },
   {
    "duration": 17,
    "start_time": "2023-04-30T20:11:46.441Z"
   },
   {
    "duration": 28,
    "start_time": "2023-04-30T20:11:46.459Z"
   },
   {
    "duration": 3,
    "start_time": "2023-04-30T20:11:47.948Z"
   },
   {
    "duration": 10,
    "start_time": "2023-04-30T20:11:48.456Z"
   },
   {
    "duration": 3,
    "start_time": "2023-04-30T20:11:48.771Z"
   },
   {
    "duration": 3,
    "start_time": "2023-04-30T20:11:49.914Z"
   },
   {
    "duration": 31,
    "start_time": "2023-04-30T20:11:50.243Z"
   },
   {
    "duration": 5,
    "start_time": "2023-04-30T20:11:50.503Z"
   },
   {
    "duration": 4,
    "start_time": "2023-04-30T20:11:51.404Z"
   },
   {
    "duration": 39,
    "start_time": "2023-04-30T20:11:51.677Z"
   },
   {
    "duration": 15,
    "start_time": "2023-04-30T20:11:52.020Z"
   },
   {
    "duration": 4,
    "start_time": "2023-04-30T20:11:53.877Z"
   },
   {
    "duration": 27,
    "start_time": "2023-04-30T20:11:54.662Z"
   },
   {
    "duration": 18,
    "start_time": "2023-04-30T20:11:55.335Z"
   },
   {
    "duration": 15,
    "start_time": "2023-04-30T20:11:56.269Z"
   },
   {
    "duration": 3,
    "start_time": "2023-04-30T20:11:57.873Z"
   },
   {
    "duration": 13,
    "start_time": "2023-04-30T20:11:58.482Z"
   },
   {
    "duration": 7,
    "start_time": "2023-04-30T20:11:59.066Z"
   },
   {
    "duration": 4,
    "start_time": "2023-04-30T20:13:23.802Z"
   },
   {
    "duration": 3,
    "start_time": "2023-04-30T20:14:12.836Z"
   },
   {
    "duration": 4,
    "start_time": "2023-04-30T20:16:12.644Z"
   },
   {
    "duration": 3,
    "start_time": "2023-04-30T20:16:41.100Z"
   },
   {
    "duration": 5,
    "start_time": "2023-04-30T20:17:18.584Z"
   },
   {
    "duration": 1443,
    "start_time": "2023-04-30T20:17:22.821Z"
   },
   {
    "duration": 1374,
    "start_time": "2023-04-30T20:17:27.882Z"
   },
   {
    "duration": 1362,
    "start_time": "2023-04-30T20:17:31.763Z"
   }
  ],
  "kernelspec": {
   "display_name": "Python 3 (ipykernel)",
   "language": "python",
   "name": "python3"
  },
  "language_info": {
   "codemirror_mode": {
    "name": "ipython",
    "version": 3
   },
   "file_extension": ".py",
   "mimetype": "text/x-python",
   "name": "python",
   "nbconvert_exporter": "python",
   "pygments_lexer": "ipython3",
   "version": "3.9.15"
  },
  "toc": {
   "base_numbering": 1,
   "nav_menu": {},
   "number_sections": true,
   "sideBar": true,
   "skip_h1_title": true,
   "title_cell": "Table of Contents",
   "title_sidebar": "Contents",
   "toc_cell": false,
   "toc_position": {
    "height": "calc(100% - 180px)",
    "left": "10px",
    "top": "150px",
    "width": "245.390625px"
   },
   "toc_section_display": true,
   "toc_window_display": true
  }
 },
 "nbformat": 4,
 "nbformat_minor": 2
}
